{
 "cells": [
  {
   "cell_type": "code",
   "execution_count": 1,
   "id": "08c8b4c7-1997-4be8-861f-d3e5ae038e3b",
   "metadata": {},
   "outputs": [],
   "source": [
    "import torch\n",
    "from torch.utils.data import Dataset\n",
    "from PIL import Image\n",
    "import PIL\n",
    "import os\n",
    "import argparse\n",
    "import torchvision\n",
    "import matplotlib.pyplot as plt\n",
    "import pandas as pd\n",
    "import torchvision.transforms.functional as TF\n",
    "from torchvision import transforms\n",
    "import random\n",
    "import cv2\n",
    "\n",
    "import torch.optim as optim\n",
    "from torch.optim import lr_scheduler\n",
    "import time\n",
    "from collections import defaultdict\n",
    "from tqdm import tqdm\n",
    "import torch.nn.functional as F\n",
    "from data.cbis_ddsm import CBIS_DDSM, get_loaders\n"
   ]
  },
  {
   "cell_type": "code",
   "execution_count": 2,
   "id": "1d7aea3f-e8cb-4698-b94e-89f0960e4024",
   "metadata": {},
   "outputs": [],
   "source": [
    "def compute_iou(y_true, y_pred):\n",
    "    \n",
    "    intersection = (y_true * y_pred).sum()\n",
    "    union = y_true.sum() + y_pred.sum() - intersection\n",
    "    x = (intersection + 1e-15) / (union + 1e-15)\n",
    "    x = x.astype(np.float32)\n",
    "    \n",
    "    return x"
   ]
  },
  {
   "cell_type": "markdown",
   "id": "e698828f-a05d-4f03-9dae-b14f8fae41e4",
   "metadata": {
    "tags": []
   },
   "source": [
    "\n",
    "## Define UNet Module"
   ]
  },
  {
   "cell_type": "code",
   "execution_count": 3,
   "id": "99434192-e236-4248-b987-07cfc4a1550a",
   "metadata": {},
   "outputs": [],
   "source": [
    "# code from https://colab.research.google.com/github/usuyama/pytorch-unet/blob/master/pytorch_unet_resnet18_colab.ipynb#scrollTo=b8EJl0hcC5DH\n",
    "\n",
    "import torch.nn as nn\n",
    "import torchvision.models\n",
    "\n",
    "\n",
    "def convrelu(in_channels, out_channels, kernel, padding):\n",
    "    return nn.Sequential(\n",
    "        nn.Conv2d(in_channels, out_channels, kernel, padding=padding),\n",
    "        nn.ReLU(inplace=True),\n",
    "    )\n",
    "\n",
    "\n",
    "class ResNetUNet(nn.Module):\n",
    "    \n",
    "    \n",
    "    def __init__(self, n_class):\n",
    "        \n",
    "        super().__init__()\n",
    "\n",
    "        self.base_model = torchvision.models.resnet18(pretrained=True)\n",
    "        self.base_layers = list(self.base_model.children())\n",
    "\n",
    "        self.layer0 = nn.Sequential(*self.base_layers[:3]) # size=(N, 64, x.H/2, x.W/2)\n",
    "        self.layer0_1x1 = convrelu(64, 64, 1, 0)\n",
    "        self.layer1 = nn.Sequential(*self.base_layers[3:5]) # size=(N, 64, x.H/4, x.W/4)\n",
    "        self.layer1_1x1 = convrelu(64, 64, 1, 0)\n",
    "        self.layer2 = self.base_layers[5]  # size=(N, 128, x.H/8, x.W/8)\n",
    "        self.layer2_1x1 = convrelu(128, 128, 1, 0)\n",
    "        self.layer3 = self.base_layers[6]  # size=(N, 256, x.H/16, x.W/16)\n",
    "        self.layer3_1x1 = convrelu(256, 256, 1, 0)\n",
    "        self.layer4 = self.base_layers[7]  # size=(N, 512, x.H/32, x.W/32)\n",
    "        self.layer4_1x1 = convrelu(512, 512, 1, 0)\n",
    "\n",
    "        self.upsample = nn.Upsample(scale_factor=2, mode='bilinear', align_corners=True)\n",
    "\n",
    "        self.conv_up3 = convrelu(256 + 512, 512, 3, 1)\n",
    "        self.conv_up2 = convrelu(128 + 512, 256, 3, 1)\n",
    "        self.conv_up1 = convrelu(64 + 256, 256, 3, 1)\n",
    "        self.conv_up0 = convrelu(64 + 256, 128, 3, 1)\n",
    "\n",
    "        self.conv_original_size0 = convrelu(3, 64, 3, 1)\n",
    "        self.conv_original_size1 = convrelu(64, 64, 3, 1)\n",
    "        self.conv_original_size2 = convrelu(64 + 128, 64, 3, 1)\n",
    "\n",
    "        self.conv_last = nn.Conv2d(64, n_class, 1)\n",
    "\n",
    "    def forward(self, input):\n",
    "        x_original = self.conv_original_size0(input)\n",
    "        x_original = self.conv_original_size1(x_original)\n",
    "\n",
    "        layer0 = self.layer0(input)\n",
    "        layer1 = self.layer1(layer0)\n",
    "        layer2 = self.layer2(layer1)\n",
    "        layer3 = self.layer3(layer2)\n",
    "        layer4 = self.layer4(layer3)\n",
    "\n",
    "        layer4 = self.layer4_1x1(layer4)\n",
    "        x = self.upsample(layer4)\n",
    "        layer3 = self.layer3_1x1(layer3)\n",
    "        # import pdb; pdb.set_trace()\n",
    "        x = torch.cat([x, layer3], dim=1)\n",
    "        x = self.conv_up3(x)\n",
    "\n",
    "        x = self.upsample(x)\n",
    "        layer2 = self.layer2_1x1(layer2)\n",
    "        x = torch.cat([x, layer2], dim=1)\n",
    "        x = self.conv_up2(x)\n",
    "\n",
    "        x = self.upsample(x)\n",
    "        layer1 = self.layer1_1x1(layer1)\n",
    "        x = torch.cat([x, layer1], dim=1)\n",
    "        x = self.conv_up1(x)\n",
    "\n",
    "        x = self.upsample(x)\n",
    "        layer0 = self.layer0_1x1(layer0)\n",
    "        x = torch.cat([x, layer0], dim=1)\n",
    "        x = self.conv_up0(x)\n",
    "\n",
    "        x = self.upsample(x)\n",
    "        x = torch.cat([x, x_original], dim=1)\n",
    "        x = self.conv_original_size2(x)\n",
    "\n",
    "        out = self.conv_last(x)\n",
    "\n",
    "        return out"
   ]
  },
  {
   "cell_type": "markdown",
   "id": "f846ddb4-7754-4e90-9ef8-07f9e0ed8f6b",
   "metadata": {
    "tags": []
   },
   "source": [
    "## Define Dataset and Dataloader"
   ]
  },
  {
   "cell_type": "markdown",
   "id": "e4fb02a9-0239-453a-b840-a935b04ae247",
   "metadata": {},
   "source": [
    "## Load Model"
   ]
  },
  {
   "cell_type": "code",
   "execution_count": 4,
   "id": "1d7fa907-faf7-4776-b6e0-27715e68e2fb",
   "metadata": {},
   "outputs": [
    {
     "name": "stdout",
     "output_type": "stream",
     "text": [
      "device name NVIDIA GeForce GTX 1080 Ti\n"
     ]
    }
   ],
   "source": [
    "\n",
    "if not torch.cuda.is_available():\n",
    "  raise Exception(\"GPU not availalbe. CPU training will be too slow.\")\n",
    "\n",
    "print(\"device name\", torch.cuda.get_device_name(0))"
   ]
  },
  {
   "cell_type": "code",
   "execution_count": 5,
   "id": "b477896d-af25-470c-8922-d967cc11d960",
   "metadata": {},
   "outputs": [
    {
     "name": "stdout",
     "output_type": "stream",
     "text": [
      "device cuda\n"
     ]
    }
   ],
   "source": [
    "device = torch.device('cuda' if torch.cuda.is_available() else 'cpu')\n",
    "print('device', device)\n"
   ]
  },
  {
   "cell_type": "markdown",
   "id": "e2dd47e8-8c32-4809-bf4e-c546611fa598",
   "metadata": {},
   "source": [
    "## Define the main training loop"
   ]
  },
  {
   "cell_type": "code",
   "execution_count": 93,
   "id": "d4045174-7349-4840-a09f-5149dab1b9e7",
   "metadata": {},
   "outputs": [],
   "source": [
    "def dice_loss(pred, target, smooth = 1.):\n",
    "    pred = pred.contiguous()\n",
    "    target = target.contiguous()    \n",
    "\n",
    "    intersection = (pred * target).sum(dim=2).sum(dim=2)\n",
    "    \n",
    "    loss = (1 - ((2. * intersection + smooth) / (pred.sum(dim=2).sum(dim=2) + target.sum(dim=2).sum(dim=2) + smooth)))\n",
    "    \n",
    "    return loss.mean()\n",
    "\n",
    "def dice_score(input: torch.Tensor, target: torch.Tensor, eps: float=1e-8) -> torch.Tensor:\n",
    "    \"\"\"input and target should be FloatTensor where the first dimension is the batch.\"\"\"\n",
    "    intersection = (input * target).flatten(1).sum(1)\n",
    "    sum_both = input.flatten(1).sum(1) + target.flatten(1).sum(1)\n",
    "    return (2 * intersection + eps) / (sum_both + eps)\n",
    "\n",
    "def calc_loss(pred, target, metrics, bce_weight=0.5):\n",
    "    bce = F.binary_cross_entropy_with_logits(pred, target)\n",
    "\n",
    "    pred = torch.sigmoid(pred)\n",
    "    dice = dice_loss(pred, target)\n",
    "\n",
    "    loss = bce * bce_weight + dice * (1 - bce_weight)\n",
    "\n",
    "    metrics['bce'] += bce.data.cpu().numpy() * target.size(0)\n",
    "    metrics['dice'] += dice.data.cpu().numpy() * target.size(0)\n",
    "    metrics['loss'] += loss.data.cpu().numpy() * target.size(0)\n",
    "\n",
    "    return loss\n",
    "\n",
    "def print_metrics(metrics, epoch_samples):\n",
    "    outputs = []\n",
    "    for k in metrics.keys():\n",
    "        outputs.append(\"{}: {:4f}\".format(k, metrics[k] / epoch_samples))\n",
    "\n",
    "    print(\"Metrics: {}\".format(\", \".join(outputs)))\n",
    "\n",
    "\n",
    "def test_model(model, testloader):\n",
    "    \n",
    "    model.eval()\n",
    "    \n",
    "    metrics = defaultdict(float)\n",
    "    num_samples =0 \n",
    "    val_dices = []\n",
    "    with torch.no_grad():\n",
    "        \n",
    "        for i, batch in enumerate(tqdm(testloader)):\n",
    "\n",
    "            inputs, mask = batch['image'], batch['mask']\n",
    "            mask = mask.mean(1,keepdim=True)  #transform from [batch_size, 3, size, size] to [batch,size, 1, size, size]\n",
    "            inputs = inputs.to(device)\n",
    "            mask = mask.to(device)\n",
    "\n",
    "            outputs = model(inputs)\n",
    "            loss = calc_loss(outputs, mask, metrics)\n",
    "            pred = torch.sigmoid(my_output)\n",
    "            val_dices.append(dice_score(pred, mask)) # dice score return a tensor of length batch_size\n",
    "            \n",
    "            # statistics\n",
    "            num_samples += inputs.size(0)\n",
    "    val_dice_score = torch.cat(val_dices, 0).mean().item()\n",
    "    \n",
    "    print_metrics(metrics, num_samples)\n",
    "    iou = val_dice_score/float(2-val_dice_score)\n",
    "    print(\"\\nDice Score: {}. Iou: {}\".format(val_dice_score,iou))\n",
    "    return val_dice_score, iou\n",
    "\n",
    "    \n",
    "    "
   ]
  },
  {
   "cell_type": "code",
   "execution_count": 18,
   "id": "c6333f08-4358-438b-b6b9-f897e5d807b9",
   "metadata": {},
   "outputs": [],
   "source": [
    "### Parameters\n",
    "\n",
    "num_epochs = 30\n",
    "bce_weight = 0.5\n",
    "lr = 1e-4\n",
    "\n",
    "\n",
    "num_class = 1 #binary problem  \n",
    "model = ResNetUNet(num_class).to(device)\n",
    "\n",
    "# freeze backbone layers\n",
    "for l in model.base_layers:\n",
    "    for param in l.parameters():\n",
    "        param.requires_grad = False\n",
    "        \n",
    "        \n",
    "optimizer = optim.Adam(filter(lambda p: p.requires_grad, model.parameters()), lr=lr)\n",
    "scheduler = lr_scheduler.StepLR(optimizer, step_size=8, gamma=0.1)\n",
    "\n",
    "\n",
    "\n",
    "args={\n",
    "    'data_path': \"/datasets/mamografia/CBIS-DDSM_organized/images/preprocessed\",\n",
    "    \"batch_size\": 8,\n",
    "    \"size1\": 270,\n",
    "    \"size\": 256\n",
    "}\n",
    "\n",
    "# save_log_file = \"segmentation_bs{}_size{}_ep{}_lr{}_bcew{}_log.csv\".format(args[\"batch_size\"], args[\"size\"],num_epochs, lr, bce_weight)\n",
    "save_log_path = \"output/segmentation/bs{}_size{}_ep{}_lr{}_bcew{}/\".format(args[\"batch_size\"], args[\"size\"],num_epochs, lr, bce_weight)\n",
    "os.makedirs(save_log_path, exist_ok=True)\n",
    "\n",
    "train_loader, test_loader = get_loaders(args)"
   ]
  },
  {
   "cell_type": "code",
   "execution_count": 19,
   "id": "567d2a97-30d2-4cfc-abc6-5a40d6fcb366",
   "metadata": {},
   "outputs": [
    {
     "name": "stdout",
     "output_type": "stream",
     "text": [
      "Epoch 0/29\n",
      "----------\n",
      "Epoch 0 - Training...\n",
      "\n"
     ]
    },
    {
     "name": "stderr",
     "output_type": "stream",
     "text": [
      "100%|██████████| 154/154 [13:42<00:00,  5.34s/it]\n"
     ]
    },
    {
     "name": "stdout",
     "output_type": "stream",
     "text": [
      "Testing...\n"
     ]
    },
    {
     "name": "stderr",
     "output_type": "stream",
     "text": [
      "100%|██████████| 46/46 [03:10<00:00,  4.14s/it]\n"
     ]
    },
    {
     "name": "stdout",
     "output_type": "stream",
     "text": [
      "Metrics: bce: 0.036908, dice: 0.830133, loss: 0.433520\n",
      "\n",
      "Dice Score: 0.001018537557683885. Iou: 0.0005095282656795906\n",
      "16m 53s\n",
      "Epoch 1/29\n",
      "----------\n",
      "Epoch 1 - Training...\n",
      "\n"
     ]
    },
    {
     "name": "stderr",
     "output_type": "stream",
     "text": [
      "100%|██████████| 154/154 [11:11<00:00,  4.36s/it]\n"
     ]
    },
    {
     "name": "stdout",
     "output_type": "stream",
     "text": [
      "Testing...\n"
     ]
    },
    {
     "name": "stderr",
     "output_type": "stream",
     "text": [
      "100%|██████████| 46/46 [03:04<00:00,  4.00s/it]\n"
     ]
    },
    {
     "name": "stdout",
     "output_type": "stream",
     "text": [
      "Metrics: bce: 0.038646, dice: 0.686860, loss: 0.362753\n",
      "\n",
      "Dice Score: 0.000871628406457603. Iou: 0.0004360042200605716\n",
      "14m 16s\n",
      "Epoch 2/29\n",
      "----------\n",
      "Epoch 2 - Training...\n",
      "\n"
     ]
    },
    {
     "name": "stderr",
     "output_type": "stream",
     "text": [
      "100%|██████████| 154/154 [10:45<00:00,  4.19s/it]\n"
     ]
    },
    {
     "name": "stdout",
     "output_type": "stream",
     "text": [
      "Testing...\n"
     ]
    },
    {
     "name": "stderr",
     "output_type": "stream",
     "text": [
      "100%|██████████| 46/46 [03:15<00:00,  4.25s/it]\n"
     ]
    },
    {
     "name": "stdout",
     "output_type": "stream",
     "text": [
      "Metrics: bce: 0.038782, dice: 0.667232, loss: 0.353007\n",
      "\n",
      "Dice Score: 0.0007649756735190749. Iou: 0.00038263418968301953\n",
      "14m 1s\n",
      "Epoch 3/29\n",
      "----------\n",
      "Epoch 3 - Training...\n",
      "\n"
     ]
    },
    {
     "name": "stderr",
     "output_type": "stream",
     "text": [
      "100%|██████████| 154/154 [12:09<00:00,  4.74s/it]\n"
     ]
    },
    {
     "name": "stdout",
     "output_type": "stream",
     "text": [
      "Testing...\n"
     ]
    },
    {
     "name": "stderr",
     "output_type": "stream",
     "text": [
      "100%|██████████| 46/46 [04:35<00:00,  5.99s/it]\n"
     ]
    },
    {
     "name": "stdout",
     "output_type": "stream",
     "text": [
      "Metrics: bce: 0.040378, dice: 0.661251, loss: 0.350814\n",
      "\n",
      "Dice Score: 0.00022373703541234136. Iou: 0.00011188103367156695\n",
      "16m 46s\n",
      "Epoch 4/29\n",
      "----------\n",
      "Epoch 4 - Training...\n",
      "\n"
     ]
    },
    {
     "name": "stderr",
     "output_type": "stream",
     "text": [
      "100%|██████████| 154/154 [12:38<00:00,  4.93s/it]\n"
     ]
    },
    {
     "name": "stdout",
     "output_type": "stream",
     "text": [
      "Testing...\n"
     ]
    },
    {
     "name": "stderr",
     "output_type": "stream",
     "text": [
      "100%|██████████| 46/46 [04:03<00:00,  5.29s/it]\n"
     ]
    },
    {
     "name": "stdout",
     "output_type": "stream",
     "text": [
      "Metrics: bce: 0.038134, dice: 0.642298, loss: 0.340216\n",
      "\n",
      "Dice Score: 0.0003637447371147573. Iou: 0.00018190545213281155\n",
      "16m 42s\n",
      "Epoch 5/29\n",
      "----------\n",
      "Epoch 5 - Training...\n",
      "\n"
     ]
    },
    {
     "name": "stderr",
     "output_type": "stream",
     "text": [
      "100%|██████████| 154/154 [12:10<00:00,  4.75s/it]\n"
     ]
    },
    {
     "name": "stdout",
     "output_type": "stream",
     "text": [
      "Testing...\n"
     ]
    },
    {
     "name": "stderr",
     "output_type": "stream",
     "text": [
      "100%|██████████| 46/46 [04:19<00:00,  5.64s/it]\n"
     ]
    },
    {
     "name": "stdout",
     "output_type": "stream",
     "text": [
      "Metrics: bce: 0.036996, dice: 0.666495, loss: 0.351745\n",
      "\n",
      "Dice Score: 0.0016915933229029179. Iou: 0.0008465126390154146\n",
      "16m 31s\n",
      "Epoch 6/29\n",
      "----------\n",
      "Epoch 6 - Training...\n",
      "\n"
     ]
    },
    {
     "name": "stderr",
     "output_type": "stream",
     "text": [
      "100%|██████████| 154/154 [12:09<00:00,  4.74s/it]\n"
     ]
    },
    {
     "name": "stdout",
     "output_type": "stream",
     "text": [
      "Testing...\n"
     ]
    },
    {
     "name": "stderr",
     "output_type": "stream",
     "text": [
      "100%|██████████| 46/46 [04:05<00:00,  5.34s/it]\n"
     ]
    },
    {
     "name": "stdout",
     "output_type": "stream",
     "text": [
      "Metrics: bce: 0.036607, dice: 0.640589, loss: 0.338598\n",
      "\n",
      "Dice Score: 0.0013034215662628412. Iou: 0.0006521357870559109\n",
      "16m 15s\n",
      "Epoch 7/29\n",
      "----------\n",
      "Epoch 7 - Training...\n",
      "\n"
     ]
    },
    {
     "name": "stderr",
     "output_type": "stream",
     "text": [
      "100%|██████████| 154/154 [12:23<00:00,  4.83s/it]\n"
     ]
    },
    {
     "name": "stdout",
     "output_type": "stream",
     "text": [
      "Testing...\n"
     ]
    },
    {
     "name": "stderr",
     "output_type": "stream",
     "text": [
      "100%|██████████| 46/46 [03:33<00:00,  4.64s/it]\n"
     ]
    },
    {
     "name": "stdout",
     "output_type": "stream",
     "text": [
      "Metrics: bce: 0.034479, dice: 0.613354, loss: 0.323916\n",
      "\n",
      "Dice Score: 0.0006668715504929423. Iou: 0.0003335469917462452\n",
      "15m 57s\n",
      "Epoch 8/29\n",
      "----------\n",
      "Epoch 8 - Training...\n",
      "\n"
     ]
    },
    {
     "name": "stderr",
     "output_type": "stream",
     "text": [
      "100%|██████████| 154/154 [10:13<00:00,  3.99s/it]\n"
     ]
    },
    {
     "name": "stdout",
     "output_type": "stream",
     "text": [
      "Testing...\n"
     ]
    },
    {
     "name": "stderr",
     "output_type": "stream",
     "text": [
      "100%|██████████| 46/46 [02:18<00:00,  3.02s/it]\n"
     ]
    },
    {
     "name": "stdout",
     "output_type": "stream",
     "text": [
      "Metrics: bce: 0.033457, dice: 0.616342, loss: 0.324899\n",
      "\n",
      "Dice Score: 0.000882981694303453. Iou: 0.00044168584741067476\n",
      "12m 33s\n",
      "Epoch 9/29\n",
      "----------\n",
      "Epoch 9 - Training...\n",
      "\n"
     ]
    },
    {
     "name": "stderr",
     "output_type": "stream",
     "text": [
      "100%|██████████| 154/154 [10:29<00:00,  4.09s/it]\n"
     ]
    },
    {
     "name": "stdout",
     "output_type": "stream",
     "text": [
      "Testing...\n"
     ]
    },
    {
     "name": "stderr",
     "output_type": "stream",
     "text": [
      "100%|██████████| 46/46 [02:38<00:00,  3.45s/it]\n"
     ]
    },
    {
     "name": "stdout",
     "output_type": "stream",
     "text": [
      "Metrics: bce: 0.033794, dice: 0.615550, loss: 0.324672\n",
      "\n",
      "Dice Score: 0.000930275593418628. Iou: 0.0004653542505601088\n",
      "13m 8s\n",
      "Epoch 10/29\n",
      "----------\n",
      "Epoch 10 - Training...\n",
      "\n"
     ]
    },
    {
     "name": "stderr",
     "output_type": "stream",
     "text": [
      "100%|██████████| 154/154 [11:09<00:00,  4.35s/it]\n"
     ]
    },
    {
     "name": "stdout",
     "output_type": "stream",
     "text": [
      "Testing...\n"
     ]
    },
    {
     "name": "stderr",
     "output_type": "stream",
     "text": [
      "100%|██████████| 46/46 [03:06<00:00,  4.06s/it]\n"
     ]
    },
    {
     "name": "stdout",
     "output_type": "stream",
     "text": [
      "Metrics: bce: 0.033690, dice: 0.610786, loss: 0.322238\n",
      "\n",
      "Dice Score: 0.0005766001995652914. Iou: 0.00028838324069971506\n",
      "14m 16s\n",
      "Epoch 11/29\n",
      "----------\n",
      "Epoch 11 - Training...\n",
      "\n"
     ]
    },
    {
     "name": "stderr",
     "output_type": "stream",
     "text": [
      "100%|██████████| 154/154 [10:13<00:00,  3.98s/it]\n"
     ]
    },
    {
     "name": "stdout",
     "output_type": "stream",
     "text": [
      "Testing...\n"
     ]
    },
    {
     "name": "stderr",
     "output_type": "stream",
     "text": [
      "100%|██████████| 46/46 [03:24<00:00,  4.45s/it]\n"
     ]
    },
    {
     "name": "stdout",
     "output_type": "stream",
     "text": [
      "Metrics: bce: 0.034363, dice: 0.620422, loss: 0.327393\n",
      "\n",
      "Dice Score: 0.0011416106717661023. Iou: 0.0005711313406998127\n",
      "13m 38s\n",
      "Epoch 12/29\n",
      "----------\n",
      "Epoch 12 - Training...\n",
      "\n"
     ]
    },
    {
     "name": "stderr",
     "output_type": "stream",
     "text": [
      "100%|██████████| 154/154 [09:44<00:00,  3.79s/it]\n"
     ]
    },
    {
     "name": "stdout",
     "output_type": "stream",
     "text": [
      "Testing...\n"
     ]
    },
    {
     "name": "stderr",
     "output_type": "stream",
     "text": [
      "100%|██████████| 46/46 [03:21<00:00,  4.37s/it]\n"
     ]
    },
    {
     "name": "stdout",
     "output_type": "stream",
     "text": [
      "Metrics: bce: 0.033962, dice: 0.613695, loss: 0.323828\n",
      "\n",
      "Dice Score: 0.0009197506005875766. Iou: 0.0004600868828872173\n",
      "13m 6s\n",
      "Epoch 13/29\n",
      "----------\n",
      "Epoch 13 - Training...\n",
      "\n"
     ]
    },
    {
     "name": "stderr",
     "output_type": "stream",
     "text": [
      "100%|██████████| 154/154 [09:59<00:00,  3.90s/it]\n"
     ]
    },
    {
     "name": "stdout",
     "output_type": "stream",
     "text": [
      "Testing...\n"
     ]
    },
    {
     "name": "stderr",
     "output_type": "stream",
     "text": [
      "100%|██████████| 46/46 [03:18<00:00,  4.31s/it]\n"
     ]
    },
    {
     "name": "stdout",
     "output_type": "stream",
     "text": [
      "Metrics: bce: 0.034017, dice: 0.608200, loss: 0.321109\n",
      "\n",
      "Dice Score: 0.0007627576705999672. Iou: 0.00038152434060864356\n",
      "13m 18s\n",
      "Epoch 14/29\n",
      "----------\n",
      "Epoch 14 - Training...\n",
      "\n"
     ]
    },
    {
     "name": "stderr",
     "output_type": "stream",
     "text": [
      "100%|██████████| 154/154 [10:24<00:00,  4.05s/it]\n"
     ]
    },
    {
     "name": "stdout",
     "output_type": "stream",
     "text": [
      "Testing...\n"
     ]
    },
    {
     "name": "stderr",
     "output_type": "stream",
     "text": [
      "100%|██████████| 46/46 [03:25<00:00,  4.47s/it]\n"
     ]
    },
    {
     "name": "stdout",
     "output_type": "stream",
     "text": [
      "Metrics: bce: 0.034734, dice: 0.610991, loss: 0.322862\n",
      "\n",
      "Dice Score: 0.0006010448560118675. Iou: 0.0003006127688851287\n",
      "13m 50s\n",
      "Epoch 15/29\n",
      "----------\n",
      "Epoch 15 - Training...\n",
      "\n"
     ]
    },
    {
     "name": "stderr",
     "output_type": "stream",
     "text": [
      "100%|██████████| 154/154 [10:26<00:00,  4.07s/it]\n"
     ]
    },
    {
     "name": "stdout",
     "output_type": "stream",
     "text": [
      "Testing...\n"
     ]
    },
    {
     "name": "stderr",
     "output_type": "stream",
     "text": [
      "100%|██████████| 46/46 [02:51<00:00,  3.72s/it]\n"
     ]
    },
    {
     "name": "stdout",
     "output_type": "stream",
     "text": [
      "Metrics: bce: 0.034933, dice: 0.611328, loss: 0.323130\n",
      "\n",
      "Dice Score: 0.0004178884846623987. Iou: 0.0002089879091515334\n",
      "13m 18s\n",
      "Epoch 16/29\n",
      "----------\n",
      "Epoch 16 - Training...\n",
      "\n"
     ]
    },
    {
     "name": "stderr",
     "output_type": "stream",
     "text": [
      "100%|██████████| 154/154 [10:51<00:00,  4.23s/it]\n"
     ]
    },
    {
     "name": "stdout",
     "output_type": "stream",
     "text": [
      "Testing...\n"
     ]
    },
    {
     "name": "stderr",
     "output_type": "stream",
     "text": [
      "100%|██████████| 46/46 [02:25<00:00,  3.16s/it]\n"
     ]
    },
    {
     "name": "stdout",
     "output_type": "stream",
     "text": [
      "Metrics: bce: 0.033762, dice: 0.609826, loss: 0.321794\n",
      "\n",
      "Dice Score: 0.0007267785840667784. Iou: 0.0003635213918145997\n",
      "13m 17s\n",
      "Epoch 17/29\n",
      "----------\n",
      "Epoch 17 - Training...\n",
      "\n"
     ]
    },
    {
     "name": "stderr",
     "output_type": "stream",
     "text": [
      "100%|██████████| 154/154 [10:57<00:00,  4.27s/it]\n"
     ]
    },
    {
     "name": "stdout",
     "output_type": "stream",
     "text": [
      "Testing...\n"
     ]
    },
    {
     "name": "stderr",
     "output_type": "stream",
     "text": [
      "100%|██████████| 46/46 [02:37<00:00,  3.42s/it]\n"
     ]
    },
    {
     "name": "stdout",
     "output_type": "stream",
     "text": [
      "Metrics: bce: 0.033923, dice: 0.610499, loss: 0.322211\n",
      "\n",
      "Dice Score: 0.0009129802347160876. Iou: 0.0004566985957536166\n",
      "13m 35s\n",
      "Epoch 18/29\n",
      "----------\n",
      "Epoch 18 - Training...\n",
      "\n"
     ]
    },
    {
     "name": "stderr",
     "output_type": "stream",
     "text": [
      "100%|██████████| 154/154 [10:33<00:00,  4.11s/it]\n"
     ]
    },
    {
     "name": "stdout",
     "output_type": "stream",
     "text": [
      "Testing...\n"
     ]
    },
    {
     "name": "stderr",
     "output_type": "stream",
     "text": [
      "100%|██████████| 46/46 [02:57<00:00,  3.86s/it]\n"
     ]
    },
    {
     "name": "stdout",
     "output_type": "stream",
     "text": [
      "Metrics: bce: 0.033922, dice: 0.608494, loss: 0.321208\n",
      "\n",
      "Dice Score: 0.0007699530688114464. Iou: 0.00038512479841593106\n",
      "13m 31s\n",
      "Epoch 19/29\n",
      "----------\n",
      "Epoch 19 - Training...\n",
      "\n"
     ]
    },
    {
     "name": "stderr",
     "output_type": "stream",
     "text": [
      "100%|██████████| 154/154 [09:57<00:00,  3.88s/it]\n"
     ]
    },
    {
     "name": "stdout",
     "output_type": "stream",
     "text": [
      "Testing...\n"
     ]
    },
    {
     "name": "stderr",
     "output_type": "stream",
     "text": [
      "100%|██████████| 46/46 [03:23<00:00,  4.43s/it]\n"
     ]
    },
    {
     "name": "stdout",
     "output_type": "stream",
     "text": [
      "Metrics: bce: 0.033992, dice: 0.609081, loss: 0.321537\n",
      "\n",
      "Dice Score: 0.0006462724995799363. Iou: 0.0003232407005777323\n",
      "13m 21s\n",
      "Epoch 20/29\n",
      "----------\n",
      "Epoch 20 - Training...\n",
      "\n"
     ]
    },
    {
     "name": "stderr",
     "output_type": "stream",
     "text": [
      "100%|██████████| 154/154 [10:10<00:00,  3.97s/it]\n"
     ]
    },
    {
     "name": "stdout",
     "output_type": "stream",
     "text": [
      "Testing...\n"
     ]
    },
    {
     "name": "stderr",
     "output_type": "stream",
     "text": [
      "100%|██████████| 46/46 [03:36<00:00,  4.72s/it]\n"
     ]
    },
    {
     "name": "stdout",
     "output_type": "stream",
     "text": [
      "Metrics: bce: 0.033716, dice: 0.609575, loss: 0.321646\n",
      "\n",
      "Dice Score: 0.000731153239030391. Iou: 0.00036571031465574915\n",
      "13m 48s\n",
      "Epoch 21/29\n",
      "----------\n",
      "Epoch 21 - Training...\n",
      "\n"
     ]
    },
    {
     "name": "stderr",
     "output_type": "stream",
     "text": [
      "100%|██████████| 154/154 [09:54<00:00,  3.86s/it]\n"
     ]
    },
    {
     "name": "stdout",
     "output_type": "stream",
     "text": [
      "Testing...\n"
     ]
    },
    {
     "name": "stderr",
     "output_type": "stream",
     "text": [
      "100%|██████████| 46/46 [03:31<00:00,  4.59s/it]\n"
     ]
    },
    {
     "name": "stdout",
     "output_type": "stream",
     "text": [
      "Metrics: bce: 0.034056, dice: 0.610549, loss: 0.322302\n",
      "\n",
      "Dice Score: 0.0006994650466367602. Iou: 0.00034985487894798983\n",
      "13m 26s\n",
      "Epoch 22/29\n",
      "----------\n",
      "Epoch 22 - Training...\n",
      "\n"
     ]
    },
    {
     "name": "stderr",
     "output_type": "stream",
     "text": [
      "100%|██████████| 154/154 [10:02<00:00,  3.91s/it]\n"
     ]
    },
    {
     "name": "stdout",
     "output_type": "stream",
     "text": [
      "Testing...\n"
     ]
    },
    {
     "name": "stderr",
     "output_type": "stream",
     "text": [
      "100%|██████████| 46/46 [03:13<00:00,  4.21s/it]\n"
     ]
    },
    {
     "name": "stdout",
     "output_type": "stream",
     "text": [
      "Metrics: bce: 0.034112, dice: 0.610042, loss: 0.322077\n",
      "\n",
      "Dice Score: 0.0007272765506058931. Iou: 0.00036377055620060935\n",
      "13m 16s\n",
      "Epoch 23/29\n",
      "----------\n",
      "Epoch 23 - Training...\n",
      "\n"
     ]
    },
    {
     "name": "stderr",
     "output_type": "stream",
     "text": [
      "100%|██████████| 154/154 [10:27<00:00,  4.07s/it]\n"
     ]
    },
    {
     "name": "stdout",
     "output_type": "stream",
     "text": [
      "Testing...\n"
     ]
    },
    {
     "name": "stderr",
     "output_type": "stream",
     "text": [
      "100%|██████████| 46/46 [02:38<00:00,  3.45s/it]\n"
     ]
    },
    {
     "name": "stdout",
     "output_type": "stream",
     "text": [
      "Metrics: bce: 0.033825, dice: 0.610717, loss: 0.322271\n",
      "\n",
      "Dice Score: 0.0007900039781816304. Iou: 0.00039515807731736085\n",
      "13m 6s\n",
      "Epoch 24/29\n",
      "----------\n",
      "Epoch 24 - Training...\n",
      "\n"
     ]
    },
    {
     "name": "stderr",
     "output_type": "stream",
     "text": [
      "100%|██████████| 154/154 [10:06<00:00,  3.94s/it]\n"
     ]
    },
    {
     "name": "stdout",
     "output_type": "stream",
     "text": [
      "Testing...\n"
     ]
    },
    {
     "name": "stderr",
     "output_type": "stream",
     "text": [
      "100%|██████████| 46/46 [02:24<00:00,  3.15s/it]\n"
     ]
    },
    {
     "name": "stdout",
     "output_type": "stream",
     "text": [
      "Metrics: bce: 0.033893, dice: 0.609886, loss: 0.321890\n",
      "\n",
      "Dice Score: 0.0007267208420671523. Iou: 0.0003634924998213538\n",
      "12m 32s\n",
      "Epoch 25/29\n",
      "----------\n",
      "Epoch 25 - Training...\n",
      "\n"
     ]
    },
    {
     "name": "stderr",
     "output_type": "stream",
     "text": [
      "100%|██████████| 154/154 [10:31<00:00,  4.10s/it]\n"
     ]
    },
    {
     "name": "stdout",
     "output_type": "stream",
     "text": [
      "Testing...\n"
     ]
    },
    {
     "name": "stderr",
     "output_type": "stream",
     "text": [
      "100%|██████████| 46/46 [02:37<00:00,  3.43s/it]\n"
     ]
    },
    {
     "name": "stdout",
     "output_type": "stream",
     "text": [
      "Metrics: bce: 0.033942, dice: 0.607778, loss: 0.320860\n",
      "\n",
      "Dice Score: 0.0006824551383033395. Iou: 0.00034134404515044083\n",
      "13m 10s\n",
      "Epoch 26/29\n",
      "----------\n",
      "Epoch 26 - Training...\n",
      "\n"
     ]
    },
    {
     "name": "stderr",
     "output_type": "stream",
     "text": [
      "100%|██████████| 154/154 [10:01<00:00,  3.90s/it]\n"
     ]
    },
    {
     "name": "stdout",
     "output_type": "stream",
     "text": [
      "Testing...\n"
     ]
    },
    {
     "name": "stderr",
     "output_type": "stream",
     "text": [
      "100%|██████████| 46/46 [03:12<00:00,  4.19s/it]\n"
     ]
    },
    {
     "name": "stdout",
     "output_type": "stream",
     "text": [
      "Metrics: bce: 0.033741, dice: 0.610126, loss: 0.321933\n",
      "\n",
      "Dice Score: 0.0008680179598741233. Iou: 0.00043419742551880237\n",
      "13m 14s\n",
      "Epoch 27/29\n",
      "----------\n",
      "Epoch 27 - Training...\n",
      "\n"
     ]
    },
    {
     "name": "stderr",
     "output_type": "stream",
     "text": [
      "100%|██████████| 154/154 [10:18<00:00,  4.02s/it]\n"
     ]
    },
    {
     "name": "stdout",
     "output_type": "stream",
     "text": [
      "Testing...\n"
     ]
    },
    {
     "name": "stderr",
     "output_type": "stream",
     "text": [
      "100%|██████████| 46/46 [03:28<00:00,  4.53s/it]\n"
     ]
    },
    {
     "name": "stdout",
     "output_type": "stream",
     "text": [
      "Metrics: bce: 0.033622, dice: 0.610283, loss: 0.321952\n",
      "\n",
      "Dice Score: 0.0007468863041140139. Iou: 0.0003735826639445843\n",
      "13m 47s\n",
      "Epoch 28/29\n",
      "----------\n",
      "Epoch 28 - Training...\n",
      "\n"
     ]
    },
    {
     "name": "stderr",
     "output_type": "stream",
     "text": [
      "100%|██████████| 154/154 [10:05<00:00,  3.93s/it]\n"
     ]
    },
    {
     "name": "stdout",
     "output_type": "stream",
     "text": [
      "Testing...\n"
     ]
    },
    {
     "name": "stderr",
     "output_type": "stream",
     "text": [
      "100%|██████████| 46/46 [03:30<00:00,  4.58s/it]\n"
     ]
    },
    {
     "name": "stdout",
     "output_type": "stream",
     "text": [
      "Metrics: bce: 0.033883, dice: 0.608146, loss: 0.321014\n",
      "\n",
      "Dice Score: 0.0007740910514257848. Iou: 0.0003871953879553772\n",
      "13m 37s\n",
      "Epoch 29/29\n",
      "----------\n",
      "Epoch 29 - Training...\n",
      "\n"
     ]
    },
    {
     "name": "stderr",
     "output_type": "stream",
     "text": [
      "100%|██████████| 154/154 [10:12<00:00,  3.98s/it]\n"
     ]
    },
    {
     "name": "stdout",
     "output_type": "stream",
     "text": [
      "Testing...\n"
     ]
    },
    {
     "name": "stderr",
     "output_type": "stream",
     "text": [
      "100%|██████████| 46/46 [03:27<00:00,  4.52s/it]\n"
     ]
    },
    {
     "name": "stdout",
     "output_type": "stream",
     "text": [
      "Metrics: bce: 0.033666, dice: 0.610186, loss: 0.321926\n",
      "\n",
      "Dice Score: 0.0008205054909922183. Iou: 0.00041042112188817333\n",
      "13m 41s\n"
     ]
    }
   ],
   "source": [
    "\n",
    "\n",
    "## Training Loop\n",
    "best_loss = 1\n",
    "\n",
    "\n",
    "log_dict = {'loss_train':[],\n",
    "           'dice':[],\n",
    "            'iou':[],\n",
    "            # 'loss_train':[],\n",
    "            'epoch':[]\n",
    "           }\n",
    "\n",
    "for epoch in range(num_epochs):\n",
    "    print('Epoch {}/{}'.format(epoch, num_epochs - 1))\n",
    "    print('-' * 10)\n",
    "\n",
    "    since = time.time()\n",
    "    model.train()\n",
    "    \n",
    "    metrics = defaultdict(float)\n",
    "    epoch_samples = 0\n",
    "    loss_train = 0\n",
    "\n",
    "    print(f\"Epoch {epoch} - Training...\\n\")\n",
    "    # for inputs, labels in dataloaders[phase]:\n",
    "    for i, batch in enumerate(tqdm(train_loader)):\n",
    "        \n",
    "        inputs, mask = batch['image'], batch['mask']\n",
    "        mask = mask.mean(1,keepdim=True)  #transform from [batch_size, 3, size, size] to [batch,size, 1, size, size]\n",
    "        inputs = inputs.to(device)\n",
    "        mask = mask.to(device)\n",
    "\n",
    "        # zero the parameter gradients\n",
    "        optimizer.zero_grad()\n",
    "\n",
    "        # forward\n",
    "        # track history if only in train\n",
    "        # with torch.set_grad_enabled(phase == 'train'):\n",
    "        outputs = model(inputs)\n",
    "        \n",
    "        loss = calc_loss(outputs, mask, metrics, bce_weight=bce_weight)\n",
    "        # loss = calc_loss(outputs, mask, metrics, bce_weight=0)\n",
    "\n",
    "        loss.backward()\n",
    "        optimizer.step()\n",
    "\n",
    "        # statistics\n",
    "        epoch_samples += inputs.size(0)\n",
    "        loss_train += loss.item()\n",
    "\n",
    "    scheduler.step()\n",
    "    \n",
    "    #test\n",
    "    print(\"Testing...\")\n",
    "    dice, iou = test_model(model, test_loader)\n",
    "    \n",
    "    # print_metrics(metrics, epoch_samples, phase)\n",
    "    # epoch_loss = metrics['loss'] / epoch_samples\n",
    "\n",
    "#     if phase == 'train':\n",
    "#       scheduler.step()\n",
    "#       for param_group in optimizer.param_groups:\n",
    "#           print(\"LR\", param_group['lr'])\n",
    "\n",
    "\n",
    "    time_elapsed = time.time() - since\n",
    "    print('{:.0f}m {:.0f}s'.format(time_elapsed // 60, time_elapsed % 60))\n",
    "    \n",
    "    log_dict['epoch'].append(epoch)\n",
    "    log_dict['loss_train'].append(loss_train)\n",
    "    log_dict['dice'].append(dice)\n",
    "    log_dict['iou'].append(iou)\n",
    "\n",
    "torch.save(model.state_dict(), \"trained_model_seg.pth\")\n",
    "\n",
    "training_df = pd.DataFrame.from_dict(data=log_dict)\n",
    "# training_df.to_csv(os.path.join('./output', save_log_file),index=\"False\")\n",
    "training_df.to_csv(os.path.join(save_log_path, 'train_log.csv'),index=\"False\")\n",
    "\n",
    "\n"
   ]
  },
  {
   "cell_type": "code",
   "execution_count": 28,
   "id": "96d11e1b-601b-4280-b031-7c080936a094",
   "metadata": {},
   "outputs": [],
   "source": [
    "# Check segmentation quality\n",
    "\n",
    "test_iter = iter(test_loader)\n",
    "batch = test_iter.next()\n",
    "\n",
    "with torch.no_grad():\n",
    "        \n",
    "    inputs, mask = batch['image'], batch['mask']\n",
    "    mask = mask.mean(1,keepdim=True)  #transform from [batch_size, 3, size, size] to [batch,size, 1, size, size]\n",
    "    inputs = inputs.to(device)\n",
    "    mask = mask.to(device)\n",
    "\n",
    "    outputs = model(inputs)\n"
   ]
  },
  {
   "cell_type": "code",
   "execution_count": 29,
   "id": "59c48907-28c8-4f28-8eb5-a2a1d04ee56c",
   "metadata": {},
   "outputs": [],
   "source": [
    "def unnormalize(img, std=[0.5,0.5,0.5], mean=[0.5,0.5,0.5]):\n",
    "    # Unormalize image\n",
    "    MEAN = torch.tensor(mean)\n",
    "    STD = torch.tensor(std)\n",
    "\n",
    "    x = img * STD[:, None, None] + MEAN[:, None, None]\n",
    "    return x"
   ]
  },
  {
   "cell_type": "code",
   "execution_count": 30,
   "id": "f21c1aa9-1f58-492f-9257-5c2c7434dcd4",
   "metadata": {},
   "outputs": [
    {
     "name": "stderr",
     "output_type": "stream",
     "text": [
      "Clipping input data to the valid range for imshow with RGB data ([0..1] for floats or [0..255] for integers).\n"
     ]
    },
    {
     "data": {
      "text/plain": [
       "<matplotlib.image.AxesImage at 0x7fe0b6c78588>"
      ]
     },
     "execution_count": 30,
     "metadata": {},
     "output_type": "execute_result"
    },
    {
     "data": {
      "image/png": "[encoded data removed]",
      "text/plain": [
       "<Figure size 432x288 with 1 Axes>"
      ]
     },
     "metadata": {
      "needs_background": "light"
     },
     "output_type": "display_data"
    }
   ],
   "source": [
    "plt.imshow(  unnormalize(batch['image'][3]).permute(1, 2, 0)  )\n",
    "# plt.imshow(  batch['image'][0] )\n"
   ]
  },
  {
   "cell_type": "code",
   "execution_count": 31,
   "id": "c6f7969b-69d6-4450-b38b-ee8eea22600e",
   "metadata": {},
   "outputs": [
    {
     "data": {
      "text/plain": [
       "tensor(0.)"
      ]
     },
     "execution_count": 31,
     "metadata": {},
     "output_type": "execute_result"
    }
   ],
   "source": [
    "batch['mask'][0].min()"
   ]
  },
  {
   "cell_type": "code",
   "execution_count": 32,
   "id": "6372fa30-0d18-4d1c-bfd7-be5b1def0dcd",
   "metadata": {},
   "outputs": [
    {
     "data": {
      "text/plain": [
       "torch.Size([3, 256, 256])"
      ]
     },
     "execution_count": 32,
     "metadata": {},
     "output_type": "execute_result"
    }
   ],
   "source": [
    " unnormalize(batch['mask'][0]).shape"
   ]
  },
  {
   "cell_type": "code",
   "execution_count": 33,
   "id": "41496f4e-6161-4250-968e-db5b54d29273",
   "metadata": {},
   "outputs": [
    {
     "data": {
      "text/plain": [
       "torch.Size([256, 256])"
      ]
     },
     "execution_count": 33,
     "metadata": {},
     "output_type": "execute_result"
    }
   ],
   "source": [
    "batch['mask'][0].permute(1, 2, 0).squeeze(axis=2).shape"
   ]
  },
  {
   "cell_type": "code",
   "execution_count": 34,
   "id": "b820ec17-6145-4b20-a03e-e83af704bd71",
   "metadata": {},
   "outputs": [
    {
     "data": {
      "text/plain": [
       "<matplotlib.image.AxesImage at 0x7fe11abd4eb8>"
      ]
     },
     "execution_count": 34,
     "metadata": {},
     "output_type": "execute_result"
    },
    {
     "data": {
      "image/png": "[encoded data removed]",
      "text/plain": [
       "<Figure size 432x288 with 1 Axes>"
      ]
     },
     "metadata": {
      "needs_background": "light"
     },
     "output_type": "display_data"
    }
   ],
   "source": [
    "# plt.imshow(  255*unnormalize(batch['mask'][0]).permute(1, 2, 0)  , cmap='gray')\n",
    "plt.imshow( batch['mask'][3].permute(1, 2, 0).squeeze(axis=2), cmap='gray'  )"
   ]
  },
  {
   "cell_type": "code",
   "execution_count": 35,
   "id": "e0c52faf-6c0f-4ec8-8a6b-9f928d30f7a1",
   "metadata": {},
   "outputs": [
    {
     "data": {
      "text/plain": [
       "torch.Size([1, 256, 256])"
      ]
     },
     "execution_count": 35,
     "metadata": {},
     "output_type": "execute_result"
    }
   ],
   "source": [
    "torch.sigmoid(outputs.cpu()[0]).shape"
   ]
  },
  {
   "cell_type": "code",
   "execution_count": 36,
   "id": "9aedcb5c-3554-4e45-9e7b-3b8ffb0a97bc",
   "metadata": {},
   "outputs": [
    {
     "data": {
      "text/plain": [
       "tensor(254.9349)"
      ]
     },
     "execution_count": 36,
     "metadata": {},
     "output_type": "execute_result"
    }
   ],
   "source": [
    "255*torch.sigmoid(outputs.cpu()[0]).max()"
   ]
  },
  {
   "cell_type": "code",
   "execution_count": 37,
   "id": "9220e49d-38f3-4dec-bbb6-bbf2f8489071",
   "metadata": {},
   "outputs": [
    {
     "data": {
      "text/plain": [
       "<matplotlib.image.AxesImage at 0x7fe11abb6b00>"
      ]
     },
     "execution_count": 37,
     "metadata": {},
     "output_type": "execute_result"
    },
    {
     "data": {
      "image/png": "[encoded data removed]",
      "text/plain": [
       "<Figure size 432x288 with 1 Axes>"
      ]
     },
     "metadata": {
      "needs_background": "light"
     },
     "output_type": "display_data"
    }
   ],
   "source": [
    "#plt.imshow(  unnormalize(torch.sigmoid(outputs.cpu()[0])).permute(1, 2, 0)  )\n",
    "plt.imshow(  torch.sigmoid(outputs.cpu()[3]).permute(1, 2, 0).squeeze(axis=2), cmap='gray'  )\n",
    "# plt.imshow(  batch['image'][0] )\n"
   ]
  },
  {
   "cell_type": "code",
   "execution_count": 38,
   "id": "5702753f-7e39-4a77-8eb1-9415e5a0cc23",
   "metadata": {},
   "outputs": [
    {
     "data": {
      "text/plain": [
       "tensor(1.)"
      ]
     },
     "execution_count": 38,
     "metadata": {},
     "output_type": "execute_result"
    }
   ],
   "source": [
    "my_mask= batch['mask'][0].permute(1, 2, 0).squeeze(axis=2)\n",
    "my_mask.max()"
   ]
  },
  {
   "cell_type": "code",
   "execution_count": 39,
   "id": "1841a624-497d-462b-bc81-e2300b1f1826",
   "metadata": {},
   "outputs": [
    {
     "data": {
      "text/plain": [
       "<matplotlib.image.AxesImage at 0x7fe11ab180b8>"
      ]
     },
     "execution_count": 39,
     "metadata": {},
     "output_type": "execute_result"
    },
    {
     "data": {
      "image/png": "[encoded data removed]",
      "text/plain": [
       "<Figure size 432x288 with 1 Axes>"
      ]
     },
     "metadata": {
      "needs_background": "light"
     },
     "output_type": "display_data"
    }
   ],
   "source": [
    "plt.imshow(255*cv_my_mask)"
   ]
  },
  {
   "cell_type": "code",
   "execution_count": 40,
   "id": "f7b3081f-5a77-418e-826e-23a6572cf003",
   "metadata": {},
   "outputs": [
    {
     "ename": "NameError",
     "evalue": "name 'cv_image' is not defined",
     "output_type": "error",
     "traceback": [
      "\u001b[0;31m---------------------------------------------------------------------------\u001b[0m",
      "\u001b[0;31mNameError\u001b[0m                                 Traceback (most recent call last)",
      "\u001b[0;32m<ipython-input-40-5776673c0723>\u001b[0m in \u001b[0;36m<module>\u001b[0;34m\u001b[0m\n\u001b[0;32m----> 1\u001b[0;31m \u001b[0mcv_image\u001b[0m\u001b[0;34m.\u001b[0m\u001b[0mshape\u001b[0m\u001b[0;34m\u001b[0m\u001b[0;34m\u001b[0m\u001b[0m\n\u001b[0m",
      "\u001b[0;31mNameError\u001b[0m: name 'cv_image' is not defined"
     ]
    }
   ],
   "source": [
    "cv_image.shape"
   ]
  },
  {
   "cell_type": "code",
   "execution_count": 41,
   "id": "198dc0b9-7617-4f44-9d5b-d159d51df8e9",
   "metadata": {},
   "outputs": [
    {
     "data": {
      "text/plain": [
       "(256, 256, 1)"
      ]
     },
     "execution_count": 41,
     "metadata": {},
     "output_type": "execute_result"
    }
   ],
   "source": [
    "batch['mask'][0].permute(1, 2, 0).type(torch.uint8).numpy().shape"
   ]
  },
  {
   "cell_type": "code",
   "execution_count": 42,
   "id": "53cec237-4345-4ded-a8ae-d002e71070ca",
   "metadata": {},
   "outputs": [],
   "source": [
    "from torchvision.utils import save_image\n",
    "save_image(unnormalize(batch['image'][0]), 'temp_img.png')"
   ]
  },
  {
   "cell_type": "code",
   "execution_count": 43,
   "id": "b410d3da-9cda-4405-8ff9-5dcde60f15d0",
   "metadata": {},
   "outputs": [
    {
     "data": {
      "text/plain": [
       "<matplotlib.image.AxesImage at 0x7fe11ab0b978>"
      ]
     },
     "execution_count": 43,
     "metadata": {},
     "output_type": "execute_result"
    },
    {
     "data": {
      "image/png": "[encoded data removed]",
      "text/plain": [
       "<Figure size 432x288 with 1 Axes>"
      ]
     },
     "metadata": {
      "needs_background": "light"
     },
     "output_type": "display_data"
    }
   ],
   "source": [
    "im = cv2.imread('temp_img.png')\n",
    "plt.imshow(im)"
   ]
  },
  {
   "cell_type": "code",
   "execution_count": 44,
   "id": "9e093378-0f3e-4f1f-9411-409c623573f6",
   "metadata": {},
   "outputs": [],
   "source": [
    "import cv2\n",
    "import numpy as np\n",
    "# cv_image = unnormalize(batch['image'][0]).permute(1, 2, 0).numpy()\n",
    "# cv_image_main = cv_image[:,:,0]\n",
    "cv_image_main = im\n",
    "cv_my_mask= batch['mask'][0].permute(1, 2, 0).squeeze(axis=2).type(torch.uint8).numpy()\n",
    "\n",
    "# cv_my_mask, _ = cv2.threshold(cv_my_mask, 127, 255, 0)\n",
    "# cv_my_mask= batch['mask'][0].permute(1, 2, 0).type(torch.uint8).numpy()\n",
    "# cv_my_mask= batch['mask'][0].permute(1, 2, 0).squeeze(axis=2).numpy()\n",
    "\n",
    "# Dictionary giving RGB colour for label (segment label) - label 1 in red, label 2 in yellow\n",
    "# RGBforLabel = { 1:(0,255,0), 2:(0,255,255) }\n",
    "\n",
    "# Find external contours\n",
    "#_,contours,_ = cv2.findContours(cv_my_mask,cv2.RETR_EXTERNAL,cv2.CHAIN_APPROX_NONE)\n",
    "contours,_ = cv2.findContours(cv_my_mask.astype(np.uint8),cv2.RETR_EXTERNAL,cv2.CHAIN_APPROX_NONE)\n",
    "contours_pred,_ = cv2.findContours(cv_my_mask.astype(np.uint8),cv2.RETR_EXTERNAL,cv2.CHAIN_APPROX_NONE)\n",
    "\n",
    "_ = cv2.drawContours(im, contours, -1, (0,255,0), 1)\n"
   ]
  },
  {
   "cell_type": "code",
   "execution_count": 76,
   "id": "b1b049d6-db3e-40b4-acb0-f1c01ff4d883",
   "metadata": {},
   "outputs": [
    {
     "data": {
      "text/plain": [
       "tensor([0.0114])"
      ]
     },
     "execution_count": 76,
     "metadata": {},
     "output_type": "execute_result"
    }
   ],
   "source": [
    "#my_mask= batch['mask'][0].permute(1, 2, 0).squeeze(axis=2).type(torch.uint8).numpy()\n",
    "my_mask= batch['mask'][0]#\n",
    "my_mask = my_mask.mean(1,keepdim=True)  #transform from [batch_size, 3, size, size] to [batch,size, 1, size, size]\n",
    "            # inputs = inputs.to(device)\n",
    "            # mask = mask.to(device)\n",
    "dice_score(outputs.cpu()[0], my_mask)"
   ]
  },
  {
   "cell_type": "code",
   "execution_count": 68,
   "id": "1569b6ea-8fdc-4ebb-b74d-c5a4930bb821",
   "metadata": {},
   "outputs": [
    {
     "data": {
      "text/plain": [
       "torch.Size([1, 256, 256])"
      ]
     },
     "execution_count": 68,
     "metadata": {},
     "output_type": "execute_result"
    }
   ],
   "source": [
    "outputs.cpu()[0].shape"
   ]
  },
  {
   "cell_type": "code",
   "execution_count": 70,
   "id": "22969df8-19d4-440e-8cec-9bc9c26f08c1",
   "metadata": {},
   "outputs": [
    {
     "data": {
      "text/plain": [
       "torch.Size([1, 256, 256])"
      ]
     },
     "execution_count": 70,
     "metadata": {},
     "output_type": "execute_result"
    }
   ],
   "source": [
    "my_mask.shape"
   ]
  },
  {
   "cell_type": "code",
   "execution_count": 67,
   "id": "19a82480-c56d-495b-8701-533d9075f108",
   "metadata": {},
   "outputs": [
    {
     "data": {
      "text/plain": [
       "<matplotlib.image.AxesImage at 0x7fe11a79de80>"
      ]
     },
     "execution_count": 67,
     "metadata": {},
     "output_type": "execute_result"
    },
    {
     "data": {
      "image/png": "[encoded data removed]",
      "text/plain": [
       "<Figure size 432x288 with 1 Axes>"
      ]
     },
     "metadata": {
      "needs_background": "light"
     },
     "output_type": "display_data"
    }
   ],
   "source": [
    "my_mask= batch['mask'][0]#\n",
    "my_mask = my_mask.permute(1, 2, 0).squeeze(axis=2).type(torch.uint8).numpy()\n",
    "plt.imshow(my_mask, cmap='gray')\n",
    "# my_mask.shape"
   ]
  },
  {
   "cell_type": "code",
   "execution_count": 74,
   "id": "9c1f6fa3-1791-4039-9ec3-67426c304850",
   "metadata": {},
   "outputs": [
    {
     "data": {
      "text/plain": [
       "<matplotlib.image.AxesImage at 0x7fe11a7440b8>"
      ]
     },
     "execution_count": 74,
     "metadata": {},
     "output_type": "execute_result"
    },
    {
     "data": {
      "image/png": "[encoded data removed]",
      "text/plain": [
       "<Figure size 432x288 with 1 Axes>"
      ]
     },
     "metadata": {
      "needs_background": "light"
     },
     "output_type": "display_data"
    }
   ],
   "source": [
    "plt.imshow(torch.sigmoid(outputs.cpu()[0]).permute(1, 2, 0).squeeze(axis=2), cmap='gray' )\n",
    "# plt.imshow(outputs.cpu()[0].permute(1, 2, 0).squeeze(axis=2), cmap='gray' )"
   ]
  },
  {
   "cell_type": "code",
   "execution_count": 80,
   "id": "04abdd69-c902-488f-a357-fa365a3df12a",
   "metadata": {},
   "outputs": [
    {
     "data": {
      "text/plain": [
       "torch.Size([1, 256, 256])"
      ]
     },
     "execution_count": 80,
     "metadata": {},
     "output_type": "execute_result"
    }
   ],
   "source": [
    "my_mask= batch['mask'][0]#\n",
    "# my_mask = my_mask.mean(1,keepdim=True)  #tran\n",
    "my_mask.shape"
   ]
  },
  {
   "cell_type": "code",
   "execution_count": 83,
   "id": "e25d3821-a5fb-4285-8fd0-4753ad009eb3",
   "metadata": {},
   "outputs": [
    {
     "name": "stdout",
     "output_type": "stream",
     "text": [
      "torch.Size([1, 256, 256])\n"
     ]
    }
   ],
   "source": [
    "my_output = outputs.cpu()[0]\n",
    "print(my_output.shape)"
   ]
  },
  {
   "cell_type": "code",
   "execution_count": 91,
   "id": "55b2e141-e929-4a18-b7e6-bbb65abd0a59",
   "metadata": {},
   "outputs": [
    {
     "data": {
      "text/plain": [
       "tensor(-56.0131)"
      ]
     },
     "execution_count": 91,
     "metadata": {},
     "output_type": "execute_result"
    }
   ],
   "source": [
    "my_output.min()"
   ]
  },
  {
   "cell_type": "code",
   "execution_count": 92,
   "id": "b32ca418-5dfd-4b0c-9341-1efbe11a8369",
   "metadata": {},
   "outputs": [
    {
     "name": "stdout",
     "output_type": "stream",
     "text": [
      "tensor([0.6972])\n"
     ]
    }
   ],
   "source": [
    "\"\"\"input and target should be FloatTensor where the first dimension is the batch.\"\"\"\n",
    "eps = 1e-8 \n",
    "target = my_mask\n",
    "myinput = my_output\n",
    "myinput = torch.sigmoid(my_output)\n",
    "\n",
    "intersection = (myinput * target).flatten(1).sum(1)\n",
    "sum_both = myinput.flatten(1).sum(1) + target.flatten(1).sum(1)\n",
    "dice =  (2 * intersection + eps) / (sum_both + eps)\n",
    "print(dice)"
   ]
  },
  {
   "cell_type": "code",
   "execution_count": 48,
   "id": "236bda72-f59f-43e8-bdaf-f09b8c9df153",
   "metadata": {},
   "outputs": [
    {
     "ename": "TypeError",
     "evalue": "order must be str, not int",
     "output_type": "error",
     "traceback": [
      "\u001b[0;31m---------------------------------------------------------------------------\u001b[0m",
      "\u001b[0;31mTypeError\u001b[0m                                 Traceback (most recent call last)",
      "\u001b[0;32m<ipython-input-48-a0b259f7ea12>\u001b[0m in \u001b[0;36m<module>\u001b[0;34m\u001b[0m\n\u001b[1;32m     14\u001b[0m     \u001b[0max\u001b[0m\u001b[0;34m[\u001b[0m\u001b[0mi\u001b[0m\u001b[0;34m]\u001b[0m\u001b[0;34m[\u001b[0m\u001b[0;36m1\u001b[0m\u001b[0;34m]\u001b[0m\u001b[0;34m.\u001b[0m\u001b[0mimshow\u001b[0m\u001b[0;34m(\u001b[0m\u001b[0mim\u001b[0m\u001b[0;34m)\u001b[0m\u001b[0;34m\u001b[0m\u001b[0;34m\u001b[0m\u001b[0m\n\u001b[1;32m     15\u001b[0m     \u001b[0max\u001b[0m\u001b[0;34m[\u001b[0m\u001b[0mi\u001b[0m\u001b[0;34m]\u001b[0m\u001b[0;34m[\u001b[0m\u001b[0;36m2\u001b[0m\u001b[0;34m]\u001b[0m\u001b[0;34m.\u001b[0m\u001b[0mimshow\u001b[0m\u001b[0;34m(\u001b[0m\u001b[0mtorch\u001b[0m\u001b[0;34m.\u001b[0m\u001b[0msigmoid\u001b[0m\u001b[0;34m(\u001b[0m\u001b[0moutputs\u001b[0m\u001b[0;34m.\u001b[0m\u001b[0mcpu\u001b[0m\u001b[0;34m(\u001b[0m\u001b[0;34m)\u001b[0m\u001b[0;34m[\u001b[0m\u001b[0mi\u001b[0m\u001b[0;34m]\u001b[0m\u001b[0;34m)\u001b[0m\u001b[0;34m.\u001b[0m\u001b[0mpermute\u001b[0m\u001b[0;34m(\u001b[0m\u001b[0;36m1\u001b[0m\u001b[0;34m,\u001b[0m \u001b[0;36m2\u001b[0m\u001b[0;34m,\u001b[0m \u001b[0;36m0\u001b[0m\u001b[0;34m)\u001b[0m\u001b[0;34m.\u001b[0m\u001b[0msqueeze\u001b[0m\u001b[0;34m(\u001b[0m\u001b[0maxis\u001b[0m\u001b[0;34m=\u001b[0m\u001b[0;36m2\u001b[0m\u001b[0;34m)\u001b[0m\u001b[0;34m,\u001b[0m \u001b[0mcmap\u001b[0m\u001b[0;34m=\u001b[0m\u001b[0;34m'gray'\u001b[0m \u001b[0;34m)\u001b[0m  \u001b[0;31m#pred\u001b[0m\u001b[0;34m\u001b[0m\u001b[0;34m\u001b[0m\u001b[0m\n\u001b[0;32m---> 16\u001b[0;31m     \u001b[0mprint\u001b[0m\u001b[0;34m(\u001b[0m\u001b[0mdice_score\u001b[0m\u001b[0;34m(\u001b[0m\u001b[0moutputs\u001b[0m\u001b[0;34m.\u001b[0m\u001b[0mcpu\u001b[0m\u001b[0;34m(\u001b[0m\u001b[0;34m)\u001b[0m\u001b[0;34m[\u001b[0m\u001b[0mi\u001b[0m\u001b[0;34m]\u001b[0m\u001b[0;34m,\u001b[0m \u001b[0mmy_mask\u001b[0m\u001b[0;34m)\u001b[0m\u001b[0;34m)\u001b[0m\u001b[0;34m\u001b[0m\u001b[0;34m\u001b[0m\u001b[0m\n\u001b[0m\u001b[1;32m     17\u001b[0m \u001b[0;34m\u001b[0m\u001b[0m\n\u001b[1;32m     18\u001b[0m \u001b[0mplt\u001b[0m\u001b[0;34m.\u001b[0m\u001b[0mtight_layout\u001b[0m\u001b[0;34m(\u001b[0m\u001b[0;34m)\u001b[0m\u001b[0;34m\u001b[0m\u001b[0;34m\u001b[0m\u001b[0m\n",
      "\u001b[0;32m<ipython-input-6-003c44677a5c>\u001b[0m in \u001b[0;36mdice_score\u001b[0;34m(input, target, eps)\u001b[0m\n\u001b[1;32m     12\u001b[0m     \u001b[0;34m\"\"\"input and target should be FloatTensor where the first dimension is the batch.\"\"\"\u001b[0m\u001b[0;34m\u001b[0m\u001b[0;34m\u001b[0m\u001b[0m\n\u001b[1;32m     13\u001b[0m     \u001b[0mintersection\u001b[0m \u001b[0;34m=\u001b[0m \u001b[0;34m(\u001b[0m\u001b[0minput\u001b[0m \u001b[0;34m*\u001b[0m \u001b[0mtarget\u001b[0m\u001b[0;34m)\u001b[0m\u001b[0;34m.\u001b[0m\u001b[0mflatten\u001b[0m\u001b[0;34m(\u001b[0m\u001b[0;36m1\u001b[0m\u001b[0;34m)\u001b[0m\u001b[0;34m.\u001b[0m\u001b[0msum\u001b[0m\u001b[0;34m(\u001b[0m\u001b[0;36m1\u001b[0m\u001b[0;34m)\u001b[0m\u001b[0;34m\u001b[0m\u001b[0;34m\u001b[0m\u001b[0m\n\u001b[0;32m---> 14\u001b[0;31m     \u001b[0msum_both\u001b[0m \u001b[0;34m=\u001b[0m \u001b[0minput\u001b[0m\u001b[0;34m.\u001b[0m\u001b[0mflatten\u001b[0m\u001b[0;34m(\u001b[0m\u001b[0;36m1\u001b[0m\u001b[0;34m)\u001b[0m\u001b[0;34m.\u001b[0m\u001b[0msum\u001b[0m\u001b[0;34m(\u001b[0m\u001b[0;36m1\u001b[0m\u001b[0;34m)\u001b[0m \u001b[0;34m+\u001b[0m \u001b[0mtarget\u001b[0m\u001b[0;34m.\u001b[0m\u001b[0mflatten\u001b[0m\u001b[0;34m(\u001b[0m\u001b[0;36m1\u001b[0m\u001b[0;34m)\u001b[0m\u001b[0;34m.\u001b[0m\u001b[0msum\u001b[0m\u001b[0;34m(\u001b[0m\u001b[0;36m1\u001b[0m\u001b[0;34m)\u001b[0m\u001b[0;34m\u001b[0m\u001b[0;34m\u001b[0m\u001b[0m\n\u001b[0m\u001b[1;32m     15\u001b[0m     \u001b[0;32mreturn\u001b[0m \u001b[0;34m(\u001b[0m\u001b[0;36m2\u001b[0m \u001b[0;34m*\u001b[0m \u001b[0mintersection\u001b[0m \u001b[0;34m+\u001b[0m \u001b[0meps\u001b[0m\u001b[0;34m)\u001b[0m \u001b[0;34m/\u001b[0m \u001b[0;34m(\u001b[0m\u001b[0msum_both\u001b[0m \u001b[0;34m+\u001b[0m \u001b[0meps\u001b[0m\u001b[0;34m)\u001b[0m\u001b[0;34m\u001b[0m\u001b[0;34m\u001b[0m\u001b[0m\n\u001b[1;32m     16\u001b[0m \u001b[0;34m\u001b[0m\u001b[0m\n",
      "\u001b[0;31mTypeError\u001b[0m: order must be str, not int"
     ]
    },
    {
     "data": {
      "image/png": "[encoded data removed]",
      "text/plain": [
       "<Figure size 1584x1584 with 18 Axes>"
      ]
     },
     "metadata": {
      "needs_background": "light"
     },
     "output_type": "display_data"
    }
   ],
   "source": [
    "num_img = 6\n",
    "fig, ax = plt.subplots(nrows=num_img, ncols=3, figsize = (22, 22))\n",
    "\n",
    "for i in range(num_img):\n",
    "    \n",
    "    save_image(unnormalize(batch['image'][i]), 'temp_img.png')\n",
    "    im = cv2.imread('temp_img.png')\n",
    "    ax[i][0].imshow(im)\n",
    "    \n",
    "    my_mask= batch['mask'][i].permute(1, 2, 0).squeeze(axis=2).type(torch.uint8).numpy()\n",
    "    \n",
    "    contours,_ = cv2.findContours(my_mask,cv2.RETR_EXTERNAL,cv2.CHAIN_APPROX_NONE)\n",
    "    _ = cv2.drawContours(im, contours, -1, (0,255,0), 1)\n",
    "    ax[i][1].imshow(im)\n",
    "    ax[i][2].imshow(torch.sigmoid(outputs.cpu()[i]).permute(1, 2, 0).squeeze(axis=2), cmap='gray' )  #pred\n",
    "    print(dice_score(outputs.cpu()[i], my_mask))\n",
    "\n",
    "plt.tight_layout()"
   ]
  },
  {
   "cell_type": "code",
   "execution_count": 46,
   "id": "48f80580-cec8-4111-863e-8bb775e8f96e",
   "metadata": {},
   "outputs": [
    {
     "data": {
      "text/plain": [
       "<matplotlib.image.AxesImage at 0x7fdcb0a3d9e8>"
      ]
     },
     "execution_count": 46,
     "metadata": {},
     "output_type": "execute_result"
    },
    {
     "data": {
      "image/png": "[encoded data removed]",
      "text/plain": [
       "<Figure size 432x288 with 1 Axes>"
      ]
     },
     "metadata": {
      "needs_background": "light"
     },
     "output_type": "display_data"
    }
   ],
   "source": [
    "plt.imshow(im)"
   ]
  },
  {
   "cell_type": "code",
   "execution_count": null,
   "id": "c49910a9-fad3-4655-8298-5b688787ee6c",
   "metadata": {},
   "outputs": [],
   "source": []
  },
  {
   "cell_type": "markdown",
   "id": "a3fc665e-e05b-44a9-8085-736702931a07",
   "metadata": {},
   "source": [
    "# Training log"
   ]
  },
  {
   "cell_type": "code",
   "execution_count": 20,
   "id": "e73bb9b9-d5b9-44cf-b4f5-eb1a7c078ca8",
   "metadata": {},
   "outputs": [],
   "source": [
    "df_seg = pd.read_csv(\"output/segmentation/bs8_size256_ep30_lr0.0001_bcew0.5/train_log.csv\")"
   ]
  },
  {
   "cell_type": "code",
   "execution_count": 21,
   "id": "387175a3-eb7a-4799-aa1d-a6fc821606cf",
   "metadata": {},
   "outputs": [
    {
     "data": {
      "text/html": [
       "<div>\n",
       "<style scoped>\n",
       "    .dataframe tbody tr th:only-of-type {\n",
       "        vertical-align: middle;\n",
       "    }\n",
       "\n",
       "    .dataframe tbody tr th {\n",
       "        vertical-align: top;\n",
       "    }\n",
       "\n",
       "    .dataframe thead th {\n",
       "        text-align: right;\n",
       "    }\n",
       "</style>\n",
       "<table border=\"1\" class=\"dataframe\">\n",
       "  <thead>\n",
       "    <tr style=\"text-align: right;\">\n",
       "      <th></th>\n",
       "      <th>Unnamed: 0</th>\n",
       "      <th>loss_train</th>\n",
       "      <th>dice</th>\n",
       "      <th>iou</th>\n",
       "      <th>epoch</th>\n",
       "    </tr>\n",
       "  </thead>\n",
       "  <tbody>\n",
       "    <tr>\n",
       "      <th>0</th>\n",
       "      <td>0</td>\n",
       "      <td>78.564753</td>\n",
       "      <td>0.001019</td>\n",
       "      <td>0.000510</td>\n",
       "      <td>0</td>\n",
       "    </tr>\n",
       "    <tr>\n",
       "      <th>1</th>\n",
       "      <td>1</td>\n",
       "      <td>57.489140</td>\n",
       "      <td>0.000872</td>\n",
       "      <td>0.000436</td>\n",
       "      <td>1</td>\n",
       "    </tr>\n",
       "    <tr>\n",
       "      <th>2</th>\n",
       "      <td>2</td>\n",
       "      <td>54.023063</td>\n",
       "      <td>0.000765</td>\n",
       "      <td>0.000383</td>\n",
       "      <td>2</td>\n",
       "    </tr>\n",
       "    <tr>\n",
       "      <th>3</th>\n",
       "      <td>3</td>\n",
       "      <td>52.267006</td>\n",
       "      <td>0.000224</td>\n",
       "      <td>0.000112</td>\n",
       "      <td>3</td>\n",
       "    </tr>\n",
       "    <tr>\n",
       "      <th>4</th>\n",
       "      <td>4</td>\n",
       "      <td>51.038906</td>\n",
       "      <td>0.000364</td>\n",
       "      <td>0.000182</td>\n",
       "      <td>4</td>\n",
       "    </tr>\n",
       "    <tr>\n",
       "      <th>5</th>\n",
       "      <td>5</td>\n",
       "      <td>50.271029</td>\n",
       "      <td>0.001692</td>\n",
       "      <td>0.000847</td>\n",
       "      <td>5</td>\n",
       "    </tr>\n",
       "    <tr>\n",
       "      <th>6</th>\n",
       "      <td>6</td>\n",
       "      <td>49.796511</td>\n",
       "      <td>0.001303</td>\n",
       "      <td>0.000652</td>\n",
       "      <td>6</td>\n",
       "    </tr>\n",
       "    <tr>\n",
       "      <th>7</th>\n",
       "      <td>7</td>\n",
       "      <td>49.147764</td>\n",
       "      <td>0.000667</td>\n",
       "      <td>0.000334</td>\n",
       "      <td>7</td>\n",
       "    </tr>\n",
       "    <tr>\n",
       "      <th>8</th>\n",
       "      <td>8</td>\n",
       "      <td>47.532839</td>\n",
       "      <td>0.000883</td>\n",
       "      <td>0.000442</td>\n",
       "      <td>8</td>\n",
       "    </tr>\n",
       "    <tr>\n",
       "      <th>9</th>\n",
       "      <td>9</td>\n",
       "      <td>47.504986</td>\n",
       "      <td>0.000930</td>\n",
       "      <td>0.000465</td>\n",
       "      <td>9</td>\n",
       "    </tr>\n",
       "  </tbody>\n",
       "</table>\n",
       "</div>"
      ],
      "text/plain": [
       "   Unnamed: 0  loss_train      dice       iou  epoch\n",
       "0           0   78.564753  0.001019  0.000510      0\n",
       "1           1   57.489140  0.000872  0.000436      1\n",
       "2           2   54.023063  0.000765  0.000383      2\n",
       "3           3   52.267006  0.000224  0.000112      3\n",
       "4           4   51.038906  0.000364  0.000182      4\n",
       "5           5   50.271029  0.001692  0.000847      5\n",
       "6           6   49.796511  0.001303  0.000652      6\n",
       "7           7   49.147764  0.000667  0.000334      7\n",
       "8           8   47.532839  0.000883  0.000442      8\n",
       "9           9   47.504986  0.000930  0.000465      9"
      ]
     },
     "execution_count": 21,
     "metadata": {},
     "output_type": "execute_result"
    }
   ],
   "source": [
    "df_seg.head(10)"
   ]
  },
  {
   "cell_type": "code",
   "execution_count": 53,
   "id": "a92aff4f-bd9f-4cd1-9998-55c7740479b2",
   "metadata": {},
   "outputs": [
    {
     "data": {
      "text/plain": [
       "Unnamed: 0    29.000000\n",
       "loss_train    78.564753\n",
       "dice           0.001692\n",
       "iou            0.000847\n",
       "epoch         29.000000\n",
       "dtype: float64"
      ]
     },
     "execution_count": 53,
     "metadata": {},
     "output_type": "execute_result"
    }
   ],
   "source": [
    "df_seg.max()"
   ]
  },
  {
   "cell_type": "code",
   "execution_count": null,
   "id": "0b7d83fa-7ca7-4ae1-9f4a-1b9b6082ee78",
   "metadata": {},
   "outputs": [],
   "source": []
  },
  {
   "cell_type": "code",
   "execution_count": 22,
   "id": "72931bb2-50ee-4437-bfe7-c1ddcdb96a94",
   "metadata": {},
   "outputs": [
    {
     "data": {
      "image/png": "[encoded data removed]",
      "text/plain": [
       "<Figure size 648x432 with 1 Axes>"
      ]
     },
     "metadata": {
      "needs_background": "light"
     },
     "output_type": "display_data"
    }
   ],
   "source": [
    "fig, ax = plt.subplots(nrows=1, ncols=1, figsize=(9, 6))\n",
    "\n",
    "line1 = ax.plot(df_seg['epoch'], df_seg['dice'], color=\"blue\", label=\"dice_test\")\n",
    "line1 = ax.plot(df_seg['epoch'], df_seg['iou'], color=\"red\", label=\"iou_test\")\n",
    "# line2 = ax.plot(x, y_val, color=\"red\", label=\"val\")\n",
    "\n",
    "# Nicer visuals.\n",
    "# ax.set_title('')\n",
    "ax.spines['right'].set_visible(False)\n",
    "ax.spines['top'].set_visible(False)\n",
    "ax.grid(b=True, which=\"major\", axis=\"both\", color=\"#d3d3d3\", linestyle=\"-\")\n",
    "ax.grid(b=True, which=\"minor\", axis=\"both\", color=\"#e7e7e7\", linestyle=\"dashed\")\n",
    "ax.set_xlabel(\"Epoch\")\n",
    "ax.set_ylabel(\"Dice/IoU\")\n",
    "# ax.xaxis.set_ticks(np.arange(xtick_range[0], xtick_range[1], xtick_range[2]))\n",
    "# ax.xaxis.set_minor_locator(MultipleLocator(5))\n",
    "ax.set_xlim(left=0)\n",
    "# ax.yaxis.set_ticks(np.arange(ytick_range[0], ytick_range[1], ytick_range[2]))\n",
    "# ax.yaxis.set_minor_locator(MultipleLocator(0.01))\n",
    "ax.patch.set_alpha(0)\n",
    "\n",
    "handles, labels = ax.get_legend_handles_labels()\n",
    "ax.legend(handles=handles, labels=labels, loc=\"best\")\n",
    "\n",
    "# Save graph\n",
    "save_path = True\n",
    "plt.tight_layout()\n",
    "if save_path:\n",
    "    # plt.savefig(fname=save_path, dpi=300)\n",
    "    plt.savefig(fname=os.path.join(save_log_path, 'dice_iou.png'), dpi=300)\n",
    "    "
   ]
  },
  {
   "cell_type": "code",
   "execution_count": 23,
   "id": "c31311cd-102d-4417-90f6-493319f856c0",
   "metadata": {},
   "outputs": [
    {
     "data": {
      "image/png": "[encoded data removed]",
      "text/plain": [
       "<Figure size 648x432 with 1 Axes>"
      ]
     },
     "metadata": {
      "needs_background": "light"
     },
     "output_type": "display_data"
    }
   ],
   "source": [
    "fig, ax = plt.subplots(nrows=1, ncols=1, figsize=(9, 6))\n",
    "\n",
    "line1 = ax.plot(df_seg['epoch'], df_seg['loss_train'], color=\"blue\", label=\"dice_test\")\n",
    "# line2 = ax.plot(x, y_val, color=\"red\", label=\"val\")\n",
    "\n",
    "# Nicer visuals.\n",
    "# ax.set_title('')\n",
    "ax.spines['right'].set_visible(False)\n",
    "ax.spines['top'].set_visible(False)\n",
    "ax.grid(b=True, which=\"major\", axis=\"both\", color=\"#d3d3d3\", linestyle=\"-\")\n",
    "ax.grid(b=True, which=\"minor\", axis=\"both\", color=\"#e7e7e7\", linestyle=\"dashed\")\n",
    "ax.set_xlabel(\"Epoch\")\n",
    "ax.set_ylabel(\"Loss\")\n",
    "# ax.xaxis.set_ticks(np.arange(xtick_range[0], xtick_range[1], xtick_range[2]))\n",
    "# ax.xaxis.set_minor_locator(MultipleLocator(5))\n",
    "ax.set_xlim(left=0)\n",
    "# ax.yaxis.set_ticks(np.arange(ytick_range[0], ytick_range[1], ytick_range[2]))\n",
    "# ax.yaxis.set_minor_locator(MultipleLocator(0.01))\n",
    "ax.patch.set_alpha(0)\n",
    "\n",
    "handles, labels = ax.get_legend_handles_labels()\n",
    "ax.legend(handles=handles, labels=labels, loc=\"best\")\n",
    "\n",
    "# Save graph\n",
    "save_path = True\n",
    "plt.tight_layout()\n",
    "if save_path:\n",
    "    # plt.savefig(fname=save_path, dpi=300)\n",
    "    plt.savefig(fname=os.path.join(save_log_path, 'loss.png'), dpi=300)\n",
    "    \n"
   ]
  },
  {
   "cell_type": "code",
   "execution_count": null,
   "id": "cdbeb140-d610-47d2-b44c-a22450cb1877",
   "metadata": {},
   "outputs": [],
   "source": []
  }
 ],
 "metadata": {
  "kernelspec": {
   "display_name": "Python 3",
   "language": "python",
   "name": "python3"
  },
  "language_info": {
   "codemirror_mode": {
    "name": "ipython",
    "version": 3
   },
   "file_extension": ".py",
   "mimetype": "text/x-python",
   "name": "python",
   "nbconvert_exporter": "python",
   "pygments_lexer": "ipython3",
   "version": "3.6.13"
  }
 },
 "nbformat": 4,
 "nbformat_minor": 5
}
