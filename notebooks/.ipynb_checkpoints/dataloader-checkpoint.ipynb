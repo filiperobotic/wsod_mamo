{
 "cells": [
  {
   "cell_type": "code",
   "execution_count": 12,
   "id": "5eb27204-b4bc-422e-b1c5-b69dc2f7d323",
   "metadata": {},
   "outputs": [],
   "source": [
    "import torch\n",
    "from torch.utils.data import Dataset\n",
    "from PIL import Image\n",
    "import PIL\n",
    "import os\n",
    "import argparse\n",
    "import torchvision\n",
    "import matplotlib.pyplot as plt\n",
    "import pandas as pd\n",
    "import torchvision.transforms.functional as TF"
   ]
  },
  {
   "cell_type": "code",
   "execution_count": 18,
   "id": "9cb959b1-43cc-4939-861e-5d356abf48ac",
   "metadata": {},
   "outputs": [
    {
     "name": "stderr",
     "output_type": "stream",
     "text": [
      "usage: ipykernel_launcher.py [-h] [--batch-size BATCH_SIZE]\n",
      "                             [--data_path DATA_PATH]\n",
      "ipykernel_launcher.py: error: unrecognized arguments: -f /Users/filipe/Library/Jupyter/runtime/kernel-676c3135-f006-4262-9a03-affe879dd128.json\n"
     ]
    },
    {
     "ename": "SystemExit",
     "evalue": "2",
     "output_type": "error",
     "traceback": [
      "An exception has occurred, use %tb to see the full traceback.\n",
      "\u001b[0;31mSystemExit\u001b[0m\u001b[0;31m:\u001b[0m 2\n"
     ]
    }
   ],
   "source": [
    "# parser = argparse.ArgumentParser(description=\"PyTorch loader\")\n",
    "# parser.add_argument('--batch-size', type=int, default=8)\n",
    "# parser.add_argument('--data_path', type=str, default='Volumes//FILIPE//Bases//mamografia//preprocessed')\n",
    "# args = parser.parse_args()"
   ]
  },
  {
   "cell_type": "code",
   "execution_count": 19,
   "id": "f706013c-0cfc-4107-bb72-a8445743f34b",
   "metadata": {},
   "outputs": [],
   "source": [
    "args={\n",
    "    'data_path': \"/Volumes/FILIPE/Bases/mamografia/preprocessed\",\n",
    "    \"batch_size\": 16\n",
    "}"
   ]
  },
  {
   "cell_type": "code",
   "execution_count": 7,
   "id": "4ba0a031-961d-425a-9c1e-b168be4805bc",
   "metadata": {},
   "outputs": [],
   "source": [
    "# dataset_path = \"/Volumes/FILIPE/Bases/mamografia/preprocessed\"\n",
    "dataset_path = \"//datasets/mamografia/CBIS-DDSM_organized/images/preprocessed\"\n",
    "# train_path = os.path.join(dataset_path,\"train\")\n",
    "df_train = pd.read_csv(os.path.join(dataset_path,\"annotations_train.csv\"))"
   ]
  },
  {
   "cell_type": "code",
   "execution_count": 8,
   "id": "b5a9874e-abf7-4ae0-83c2-60e85f8babfa",
   "metadata": {},
   "outputs": [
    {
     "data": {
      "text/html": [
       "<div>\n",
       "<style scoped>\n",
       "    .dataframe tbody tr th:only-of-type {\n",
       "        vertical-align: middle;\n",
       "    }\n",
       "\n",
       "    .dataframe tbody tr th {\n",
       "        vertical-align: top;\n",
       "    }\n",
       "\n",
       "    .dataframe thead th {\n",
       "        text-align: right;\n",
       "    }\n",
       "</style>\n",
       "<table border=\"1\" class=\"dataframe\">\n",
       "  <thead>\n",
       "    <tr style=\"text-align: right;\">\n",
       "      <th></th>\n",
       "      <th>identifier</th>\n",
       "      <th>patient_id</th>\n",
       "      <th>breast_density</th>\n",
       "      <th>left_or_right_breast</th>\n",
       "      <th>image_view</th>\n",
       "      <th>abnormality_id</th>\n",
       "      <th>abnormality_type</th>\n",
       "      <th>mass_shape</th>\n",
       "      <th>mass_margins</th>\n",
       "      <th>assessment</th>\n",
       "      <th>pathology</th>\n",
       "      <th>subtlety</th>\n",
       "      <th>image_file_path</th>\n",
       "      <th>cropped_image_file_path</th>\n",
       "      <th>ROI_mask_file_path</th>\n",
       "      <th>image_full_png_path</th>\n",
       "      <th>image_mask_png_path</th>\n",
       "      <th>binary pathology</th>\n",
       "    </tr>\n",
       "  </thead>\n",
       "  <tbody>\n",
       "    <tr>\n",
       "      <th>0</th>\n",
       "      <td>P_00001_LEFT_CC</td>\n",
       "      <td>P_00001</td>\n",
       "      <td>3</td>\n",
       "      <td>LEFT</td>\n",
       "      <td>CC</td>\n",
       "      <td>1</td>\n",
       "      <td>mass</td>\n",
       "      <td>IRREGULAR-ARCHITECTURAL_DISTORTION</td>\n",
       "      <td>SPICULATED</td>\n",
       "      <td>4</td>\n",
       "      <td>MALIGNANT</td>\n",
       "      <td>4</td>\n",
       "      <td>Mass-Training_P_00001_LEFT_CC/1.3.6.1.4.1.9590...</td>\n",
       "      <td>Mass-Training_P_00001_LEFT_CC_1/1.3.6.1.4.1.95...</td>\n",
       "      <td>Mass-Training_P_00001_LEFT_CC_1/1.3.6.1.4.1.95...</td>\n",
       "      <td>Mass-Training_P_00001_FULL.png</td>\n",
       "      <td>Mass-Training_P_00001_LEFT_CC_MASK_1.png</td>\n",
       "      <td>1</td>\n",
       "    </tr>\n",
       "    <tr>\n",
       "      <th>1</th>\n",
       "      <td>P_00001_LEFT_MLO</td>\n",
       "      <td>P_00001</td>\n",
       "      <td>3</td>\n",
       "      <td>LEFT</td>\n",
       "      <td>MLO</td>\n",
       "      <td>1</td>\n",
       "      <td>mass</td>\n",
       "      <td>IRREGULAR-ARCHITECTURAL_DISTORTION</td>\n",
       "      <td>SPICULATED</td>\n",
       "      <td>4</td>\n",
       "      <td>MALIGNANT</td>\n",
       "      <td>4</td>\n",
       "      <td>Mass-Training_P_00001_LEFT_MLO/1.3.6.1.4.1.959...</td>\n",
       "      <td>Mass-Training_P_00001_LEFT_MLO_1/1.3.6.1.4.1.9...</td>\n",
       "      <td>Mass-Training_P_00001_LEFT_MLO_1/1.3.6.1.4.1.9...</td>\n",
       "      <td>Mass-Training_P_00001_FULL.png</td>\n",
       "      <td>Mass-Training_P_00001_LEFT_MLO_MASK_1.png</td>\n",
       "      <td>1</td>\n",
       "    </tr>\n",
       "    <tr>\n",
       "      <th>2</th>\n",
       "      <td>P_00004_LEFT_CC</td>\n",
       "      <td>P_00004</td>\n",
       "      <td>3</td>\n",
       "      <td>LEFT</td>\n",
       "      <td>CC</td>\n",
       "      <td>1</td>\n",
       "      <td>mass</td>\n",
       "      <td>ARCHITECTURAL_DISTORTION</td>\n",
       "      <td>ILL_DEFINED</td>\n",
       "      <td>4</td>\n",
       "      <td>BENIGN</td>\n",
       "      <td>3</td>\n",
       "      <td>Mass-Training_P_00004_LEFT_CC/1.3.6.1.4.1.9590...</td>\n",
       "      <td>Mass-Training_P_00004_LEFT_CC_1/1.3.6.1.4.1.95...</td>\n",
       "      <td>Mass-Training_P_00004_LEFT_CC_1/1.3.6.1.4.1.95...</td>\n",
       "      <td>Mass-Training_P_00004_FULL.png</td>\n",
       "      <td>Mass-Training_P_00004_LEFT_CC_MASK_1.png</td>\n",
       "      <td>0</td>\n",
       "    </tr>\n",
       "    <tr>\n",
       "      <th>3</th>\n",
       "      <td>P_00004_LEFT_MLO</td>\n",
       "      <td>P_00004</td>\n",
       "      <td>3</td>\n",
       "      <td>LEFT</td>\n",
       "      <td>MLO</td>\n",
       "      <td>1</td>\n",
       "      <td>mass</td>\n",
       "      <td>ARCHITECTURAL_DISTORTION</td>\n",
       "      <td>ILL_DEFINED</td>\n",
       "      <td>4</td>\n",
       "      <td>BENIGN</td>\n",
       "      <td>3</td>\n",
       "      <td>Mass-Training_P_00004_LEFT_MLO/1.3.6.1.4.1.959...</td>\n",
       "      <td>Mass-Training_P_00004_LEFT_MLO_1/1.3.6.1.4.1.9...</td>\n",
       "      <td>Mass-Training_P_00004_LEFT_MLO_1/1.3.6.1.4.1.9...</td>\n",
       "      <td>Mass-Training_P_00004_FULL.png</td>\n",
       "      <td>Mass-Training_P_00004_LEFT_MLO_MASK_1.png</td>\n",
       "      <td>0</td>\n",
       "    </tr>\n",
       "    <tr>\n",
       "      <th>4</th>\n",
       "      <td>P_00004_RIGHT_MLO</td>\n",
       "      <td>P_00004</td>\n",
       "      <td>3</td>\n",
       "      <td>RIGHT</td>\n",
       "      <td>MLO</td>\n",
       "      <td>1</td>\n",
       "      <td>mass</td>\n",
       "      <td>OVAL</td>\n",
       "      <td>CIRCUMSCRIBED</td>\n",
       "      <td>4</td>\n",
       "      <td>BENIGN</td>\n",
       "      <td>5</td>\n",
       "      <td>Mass-Training_P_00004_RIGHT_MLO/1.3.6.1.4.1.95...</td>\n",
       "      <td>Mass-Training_P_00004_RIGHT_MLO_1/1.3.6.1.4.1....</td>\n",
       "      <td>Mass-Training_P_00004_RIGHT_MLO_1/1.3.6.1.4.1....</td>\n",
       "      <td>Mass-Training_P_00004_FULL.png</td>\n",
       "      <td>Mass-Training_P_00004_RIGHT_MLO_MASK_1.png</td>\n",
       "      <td>0</td>\n",
       "    </tr>\n",
       "  </tbody>\n",
       "</table>\n",
       "</div>"
      ],
      "text/plain": [
       "          identifier patient_id  breast_density left_or_right_breast  \\\n",
       "0    P_00001_LEFT_CC    P_00001               3                 LEFT   \n",
       "1   P_00001_LEFT_MLO    P_00001               3                 LEFT   \n",
       "2    P_00004_LEFT_CC    P_00004               3                 LEFT   \n",
       "3   P_00004_LEFT_MLO    P_00004               3                 LEFT   \n",
       "4  P_00004_RIGHT_MLO    P_00004               3                RIGHT   \n",
       "\n",
       "  image_view  abnormality_id abnormality_type  \\\n",
       "0         CC               1             mass   \n",
       "1        MLO               1             mass   \n",
       "2         CC               1             mass   \n",
       "3        MLO               1             mass   \n",
       "4        MLO               1             mass   \n",
       "\n",
       "                           mass_shape   mass_margins  assessment  pathology  \\\n",
       "0  IRREGULAR-ARCHITECTURAL_DISTORTION     SPICULATED           4  MALIGNANT   \n",
       "1  IRREGULAR-ARCHITECTURAL_DISTORTION     SPICULATED           4  MALIGNANT   \n",
       "2            ARCHITECTURAL_DISTORTION    ILL_DEFINED           4     BENIGN   \n",
       "3            ARCHITECTURAL_DISTORTION    ILL_DEFINED           4     BENIGN   \n",
       "4                                OVAL  CIRCUMSCRIBED           4     BENIGN   \n",
       "\n",
       "   subtlety                                    image_file_path  \\\n",
       "0         4  Mass-Training_P_00001_LEFT_CC/1.3.6.1.4.1.9590...   \n",
       "1         4  Mass-Training_P_00001_LEFT_MLO/1.3.6.1.4.1.959...   \n",
       "2         3  Mass-Training_P_00004_LEFT_CC/1.3.6.1.4.1.9590...   \n",
       "3         3  Mass-Training_P_00004_LEFT_MLO/1.3.6.1.4.1.959...   \n",
       "4         5  Mass-Training_P_00004_RIGHT_MLO/1.3.6.1.4.1.95...   \n",
       "\n",
       "                             cropped_image_file_path  \\\n",
       "0  Mass-Training_P_00001_LEFT_CC_1/1.3.6.1.4.1.95...   \n",
       "1  Mass-Training_P_00001_LEFT_MLO_1/1.3.6.1.4.1.9...   \n",
       "2  Mass-Training_P_00004_LEFT_CC_1/1.3.6.1.4.1.95...   \n",
       "3  Mass-Training_P_00004_LEFT_MLO_1/1.3.6.1.4.1.9...   \n",
       "4  Mass-Training_P_00004_RIGHT_MLO_1/1.3.6.1.4.1....   \n",
       "\n",
       "                                  ROI_mask_file_path  \\\n",
       "0  Mass-Training_P_00001_LEFT_CC_1/1.3.6.1.4.1.95...   \n",
       "1  Mass-Training_P_00001_LEFT_MLO_1/1.3.6.1.4.1.9...   \n",
       "2  Mass-Training_P_00004_LEFT_CC_1/1.3.6.1.4.1.95...   \n",
       "3  Mass-Training_P_00004_LEFT_MLO_1/1.3.6.1.4.1.9...   \n",
       "4  Mass-Training_P_00004_RIGHT_MLO_1/1.3.6.1.4.1....   \n",
       "\n",
       "              image_full_png_path                         image_mask_png_path  \\\n",
       "0  Mass-Training_P_00001_FULL.png    Mass-Training_P_00001_LEFT_CC_MASK_1.png   \n",
       "1  Mass-Training_P_00001_FULL.png   Mass-Training_P_00001_LEFT_MLO_MASK_1.png   \n",
       "2  Mass-Training_P_00004_FULL.png    Mass-Training_P_00004_LEFT_CC_MASK_1.png   \n",
       "3  Mass-Training_P_00004_FULL.png   Mass-Training_P_00004_LEFT_MLO_MASK_1.png   \n",
       "4  Mass-Training_P_00004_FULL.png  Mass-Training_P_00004_RIGHT_MLO_MASK_1.png   \n",
       "\n",
       "   binary pathology  \n",
       "0                 1  \n",
       "1                 1  \n",
       "2                 0  \n",
       "3                 0  \n",
       "4                 0  "
      ]
     },
     "execution_count": 8,
     "metadata": {},
     "output_type": "execute_result"
    }
   ],
   "source": [
    "df_train.head()"
   ]
  },
  {
   "cell_type": "code",
   "execution_count": 10,
   "id": "499a3176-917e-4b63-95e8-b49d83e2b051",
   "metadata": {},
   "outputs": [
    {
     "data": {
      "text/plain": [
       "array(['Mass-Training_P_00001_FULL.png', 'Mass-Training_P_00001_FULL.png',\n",
       "       'Mass-Training_P_00004_FULL.png', ...,\n",
       "       'Mass-Training_P_02079_FULL.png', 'Mass-Training_P_02092_FULL.png',\n",
       "       'Mass-Training_P_02092_FULL.png'], dtype=object)"
      ]
     },
     "execution_count": 10,
     "metadata": {},
     "output_type": "execute_result"
    }
   ],
   "source": [
    "df_train[\"image_full_png_path\"].values"
   ]
  },
  {
   "cell_type": "code",
   "execution_count": 11,
   "id": "968eef40-400d-4105-9a94-72907e346122",
   "metadata": {},
   "outputs": [
    {
     "data": {
      "text/plain": [
       "array([1, 1, 0, ..., 1, 1, 1])"
      ]
     },
     "execution_count": 11,
     "metadata": {},
     "output_type": "execute_result"
    }
   ],
   "source": [
    "df_train[\"binary pathology\"].values"
   ]
  },
  {
   "cell_type": "code",
   "execution_count": 3,
   "id": "eac21b61-43e0-469c-a32d-ff3fc794d687",
   "metadata": {
    "tags": []
   },
   "outputs": [],
   "source": [
    "# temp_path = os.path.join(train_path, 'full', os.listdir(os.path.join(train_path,'full'))[0])"
   ]
  },
  {
   "cell_type": "code",
   "execution_count": 71,
   "id": "10403564-bbca-4ef5-b4a7-9defbcbe69d7",
   "metadata": {},
   "outputs": [],
   "source": [
    "class CBIS_DDSM(Dataset):\n",
    "    # including hard labels & soft labels\n",
    "    def __init__(self, data_path, train=True):\n",
    "        # self.data, self.masks, self.targets =  data, masks, labels\n",
    "        \n",
    "        # self.transform = transform\n",
    "        self.train = train\n",
    "        \n",
    "        self.img_path = []\n",
    "        self.mask_path = []\n",
    "        self.labels = []\n",
    "        \n",
    "        if self.train:\n",
    "            # split_path = os.path.join(data_path,\"train\")\n",
    "            df = pd.read_csv(os.path.join(dataset_path,\"annotations_train.csv\"))\n",
    "            img_paths = df[\"image_mask_png_path\"].values\n",
    "            mask_paths = df[\"image_mask_png_path\"].values\n",
    "            targets = df[\"binary pathology\"].values\n",
    "            \n",
    "            self.img_path = [os.path.join(dataset_path,\"train\",\"full\",x) for x in img_paths]\n",
    "            self.mask_path = [os.path.join(dataset_path,\"train\",\"merged_masks\",x) for x in mask_paths]\n",
    "            self.labels = targets\n",
    "            \n",
    "\n",
    "        else:  \n",
    "            #test set    \n",
    "            df = pd.read_csv(os.path.join(dataset_path,\"annotations_test.csv\"))\n",
    "            img_paths = df[\"image_mask_png_path\"].values\n",
    "            mask_paths = df[\"image_mask_png_path\"].values\n",
    "            targets = df[\"binary pathology\"].values\n",
    "            \n",
    "            self.img_path = [os.path.join(dataset_path,\"test\",\"full\",x) for x in img_paths]\n",
    "            self.mask_path = [os.path.join(dataset_path,\"test\",\"merged_masks\",x) for x in mask_paths]\n",
    "            self.labels = targets\n",
    "            \n",
    "\n",
    "    def transform_train(self, image, mask, size1=320, size=299):\n",
    "        # Resize\n",
    "        resize = transforms.Resize(size=(size1, size))\n",
    "        image = resize(image)\n",
    "        mask = resize(mask)\n",
    "\n",
    "        # Random crop\n",
    "        i, j, h, w = transforms.RandomCrop.get_params(\n",
    "            image, output_size=(size, size))\n",
    "        image = TF.crop(image, i, j, h, w)\n",
    "        mask = TF.crop(mask, i, j, h, w)\n",
    "\n",
    "        # Random horizontal flipping\n",
    "        if random.random() > 0.5:\n",
    "            image = TF.hflip(image)\n",
    "            mask = TF.hflip(mask)\n",
    "\n",
    "        # # Random vertical flipping\n",
    "        if random.random() > 0.5:\n",
    "            image = TF.vflip(image)\n",
    "            mask = TF.vflip(mask)\n",
    "\n",
    "        # Transform to tensor\n",
    "        image = TF.to_tensor(image)\n",
    "        mask = TF.to_tensor(mask)\n",
    "        \n",
    "        mean= (0.5, 0.5, 0.5), (0.5, 0.5, 0.5)\n",
    "        \n",
    "        # Normalize\n",
    "        image = TF.normalize(mean, std)\n",
    "        mask = TF.normalize(mean, std)\n",
    "        \n",
    "        return image, mask\n",
    "    \n",
    "    def transform_test(self, image, mask, size1=320, size=299):\n",
    "        # Resize\n",
    "        resize = transforms.Resize(size=(size1, size))\n",
    "        image = resize(image)\n",
    "        mask = resize(mask)\n",
    "\n",
    "        # Random crop\n",
    "        i, j, h, w = transforms.CenterCrop.get_params(\n",
    "            image, output_size=(size, size))\n",
    "        image = TF.crop(image, i, j, h, w)\n",
    "        mask = TF.crop(mask, i, j, h, w)\n",
    "\n",
    "#         # Random horizontal flipping\n",
    "#         if random.random() > 0.5:\n",
    "#             image = TF.hflip(image)\n",
    "#             mask = TF.hflip(mask)\n",
    "\n",
    "#         # # Random vertical flipping\n",
    "#         if random.random() > 0.5:\n",
    "#             image = TF.vflip(image)\n",
    "#             mask = TF.vflip(mask)\n",
    "\n",
    "        # Transform to tensor\n",
    "        image = TF.to_tensor(image)\n",
    "        mask = TF.to_tensor(mask)\n",
    "        \n",
    "        mean= (0.5, 0.5, 0.5), (0.5, 0.5, 0.5)\n",
    "        \n",
    "        #  Normalize\n",
    "        image = TF.normalize(mean, std)\n",
    "        mask = TF.normalize(mean, std)\n",
    "        \n",
    "        return image, mask\n",
    "            \n",
    "            \n",
    "    def __getitem__(self, index):\n",
    "        img, mask, target = self.img_path[index], self.mask_path[index], self.labels[index]\n",
    "            \n",
    "        img = Image.open(img).convert('RGB')\n",
    "        mask = Image.open(mask).convert('RGB')\n",
    "\n",
    "        # if self.transform is not None:\n",
    "        #     img = self.transform(img)\n",
    "        #     mask = self.transform(mask)    #need to garantee that the transform is the same for image and mask\n",
    "        \n",
    "        if self.train:\n",
    "            img, mask = self.transform_train(img, mask)\n",
    "        else:\n",
    "            img, mask = self.transform_test(img, mask)\n",
    "            \n",
    "            \n",
    "            \n",
    "\n",
    "        sample = {'image':img, 'mask': mask, 'target':target, 'index':index}\n",
    "        return sample\n",
    "\n",
    "\n",
    "    def __len__(self):\n",
    "        return len(self.img_path)\n",
    "    \n"
   ]
  },
  {
   "cell_type": "code",
   "execution_count": 72,
   "id": "59db77b6-a7f1-422c-90f0-76c7eddd98be",
   "metadata": {},
   "outputs": [],
   "source": [
    "def get_loaders(args, **kwargs):\n",
    "    mean = [0.5071, 0.4867, 0.4408]\n",
    "    std = [0.2675, 0.2565, 0.2761]\n",
    "    size = 100\n",
    "    \n",
    "    transform_train = torchvision.transforms.Compose([\n",
    "        torchvision.transforms.Resize(size, interpolation=PIL.Image.BICUBIC),\n",
    "        torchvision.transforms.RandomCrop(size, padding=4),\n",
    "        torchvision.transforms.RandomHorizontalFlip(),\n",
    "        torchvision.transforms.ToTensor(),\n",
    "        torchvision.transforms.Normalize(mean, std),\n",
    "    ])\n",
    "        \n",
    "    transform_test = torchvision.transforms.Compose([\n",
    "        torchvision.transforms.Resize(size, interpolation=PIL.Image.BICUBIC),\n",
    "        torchvision.transforms.CenterCrop(size),\n",
    "        torchvision.transforms.ToTensor(),\n",
    "        torchvision.transforms.Normalize(mean, std)\n",
    "    ])\n",
    "    \n",
    "    trainset = CBIS_DDSM(data_path = args['data_path'], train=True, transform = transform_train)\n",
    "    testset = CBIS_DDSM(data_path = args['data_path'], train=False, transform = transform_test)\n",
    "    \n",
    "    train_loader = torch.utils.data.DataLoader(trainset, batch_size=args['batch_size'], shuffle=True, **kwargs) #Normal training\n",
    "    test_loader = torch.utils.data.DataLoader(testset, batch_size=args['batch_size'], shuffle=False, **kwargs) #Normal test\n",
    "    \n",
    "    return train_loader, test_loader\n",
    "    "
   ]
  },
  {
   "cell_type": "code",
   "execution_count": 73,
   "id": "e9ea1983-7c0d-47df-a42d-68d0cf03d6f1",
   "metadata": {},
   "outputs": [],
   "source": [
    "train_loader, test_loader = get_loaders(args)"
   ]
  },
  {
   "cell_type": "code",
   "execution_count": 74,
   "id": "3d38937a-041b-4b8f-a0b6-dd6e33098971",
   "metadata": {},
   "outputs": [],
   "source": [
    "train_iter = iter(train_loader)"
   ]
  },
  {
   "cell_type": "code",
   "execution_count": 75,
   "id": "c3d4b9eb-bcbc-4225-ad7e-c0abc5d77b5b",
   "metadata": {},
   "outputs": [],
   "source": [
    "batch = train_iter.next()"
   ]
  },
  {
   "cell_type": "code",
   "execution_count": 143,
   "id": "eaa9066a-1e87-4995-b84f-6ca96e4bbb3c",
   "metadata": {},
   "outputs": [
    {
     "data": {
      "text/plain": [
       "tensor(-1.8975)"
      ]
     },
     "execution_count": 143,
     "metadata": {},
     "output_type": "execute_result"
    }
   ],
   "source": [
    "batch['image'][0].min()"
   ]
  },
  {
   "cell_type": "code",
   "execution_count": 85,
   "id": "c06587fe-4bc1-4cf1-bcc0-e2253e9380e4",
   "metadata": {},
   "outputs": [
    {
     "name": "stderr",
     "output_type": "stream",
     "text": [
      "WARNING:matplotlib.image:Clipping input data to the valid range for imshow with RGB data ([0..1] for floats or [0..255] for integers).\n"
     ]
    },
    {
     "data": {
      "text/plain": [
       "<matplotlib.image.AxesImage at 0x132b2f280>"
      ]
     },
     "execution_count": 85,
     "metadata": {},
     "output_type": "execute_result"
    },
    {
     "data": {
      "image/png": "[encoded data removed]",
      "text/plain": [
       "<Figure size 432x288 with 1 Axes>"
      ]
     },
     "metadata": {
      "needs_background": "light"
     },
     "output_type": "display_data"
    }
   ],
   "source": [
    "plt.imshow(  batch['image'][0].permute(1, 2, 0)  )\n",
    "# plt.imshow(  batch['mask'][0].permute(1, 2, 0)  )"
   ]
  },
  {
   "cell_type": "code",
   "execution_count": 98,
   "id": "760a81aa-9392-4eea-a093-181a4477c197",
   "metadata": {},
   "outputs": [
    {
     "data": {
      "text/plain": [
       "'/Volumes/FILIPE/Bases/mamografia/preprocessed/train/full/Mass-Training_P_00001_LEFT_CC_FULL.png'"
      ]
     },
     "execution_count": 98,
     "metadata": {},
     "output_type": "execute_result"
    }
   ],
   "source": [
    "temp_path"
   ]
  },
  {
   "cell_type": "code",
   "execution_count": 124,
   "id": "0b3d4fa7-2a87-4444-a745-d3a30eda62a7",
   "metadata": {},
   "outputs": [
    {
     "data": {
      "text/plain": [
       "<matplotlib.image.AxesImage at 0x1332d0d00>"
      ]
     },
     "execution_count": 124,
     "metadata": {},
     "output_type": "execute_result"
    },
    {
     "data": {
      "image/png": "[encoded data removed]",
      "text/plain": [
       "<Figure size 432x288 with 1 Axes>"
      ]
     },
     "metadata": {
      "needs_background": "light"
     },
     "output_type": "display_data"
    }
   ],
   "source": [
    "import numpy as np\n",
    "image = Image.open(temp_path).convert('RGB')\n",
    "# image = image.getchannel('A')\n",
    "# image.show()\n",
    "plt.imshow(  image,cmap='gray')\n",
    "# Image.composite(image, Image.new('RGB', image.size, 'white'), image).show()\n",
    "# base.paste(image, box, image)"
   ]
  },
  {
   "cell_type": "code",
   "execution_count": 138,
   "id": "a0d0b563-dd49-42c7-8a61-82a357041b9a",
   "metadata": {},
   "outputs": [],
   "source": [
    "image = Image.open('my_img.png')\n",
    "# plt.imshow(  image,cmap='gray')\n",
    "# image.show()\n",
    "# image.format = \"PNG\"\n",
    "# image.show()\n",
    "image.save('saved.png')"
   ]
  },
  {
   "cell_type": "code",
   "execution_count": 123,
   "id": "7c71d6a0-8921-45d6-b931-4ae8e18313aa",
   "metadata": {},
   "outputs": [
    {
     "ename": "AttributeError",
     "evalue": "shape",
     "output_type": "error",
     "traceback": [
      "\u001b[0;31m---------------------------------------------------------------------------\u001b[0m",
      "\u001b[0;31mAttributeError\u001b[0m                            Traceback (most recent call last)",
      "\u001b[0;32m/var/folders/4x/typffgjn3j90fb8lsqt9g3y00000gn/T/ipykernel_26653/3931015231.py\u001b[0m in \u001b[0;36m<module>\u001b[0;34m\u001b[0m\n\u001b[0;32m----> 1\u001b[0;31m \u001b[0mimage\u001b[0m\u001b[0;34m.\u001b[0m\u001b[0mshape\u001b[0m\u001b[0;34m\u001b[0m\u001b[0;34m\u001b[0m\u001b[0m\n\u001b[0m",
      "\u001b[0;32m~/miniconda3/lib/python3.8/site-packages/PIL/Image.py\u001b[0m in \u001b[0;36m__getattr__\u001b[0;34m(self, name)\u001b[0m\n\u001b[1;32m    544\u001b[0m             )\n\u001b[1;32m    545\u001b[0m             \u001b[0;32mreturn\u001b[0m \u001b[0mself\u001b[0m\u001b[0;34m.\u001b[0m\u001b[0m_category\u001b[0m\u001b[0;34m\u001b[0m\u001b[0;34m\u001b[0m\u001b[0m\n\u001b[0;32m--> 546\u001b[0;31m         \u001b[0;32mraise\u001b[0m \u001b[0mAttributeError\u001b[0m\u001b[0;34m(\u001b[0m\u001b[0mname\u001b[0m\u001b[0;34m)\u001b[0m\u001b[0;34m\u001b[0m\u001b[0;34m\u001b[0m\u001b[0m\n\u001b[0m\u001b[1;32m    547\u001b[0m \u001b[0;34m\u001b[0m\u001b[0m\n\u001b[1;32m    548\u001b[0m     \u001b[0;34m@\u001b[0m\u001b[0mproperty\u001b[0m\u001b[0;34m\u001b[0m\u001b[0;34m\u001b[0m\u001b[0m\n",
      "\u001b[0;31mAttributeError\u001b[0m: shape"
     ]
    }
   ],
   "source": [
    "image.shape"
   ]
  },
  {
   "cell_type": "code",
   "execution_count": 80,
   "id": "89cdec75-a306-4def-a1e9-dfa115a28f6c",
   "metadata": {},
   "outputs": [
    {
     "name": "stderr",
     "output_type": "stream",
     "text": [
      "WARNING:matplotlib.image:Clipping input data to the valid range for imshow with RGB data ([0..1] for floats or [0..255] for integers).\n",
      "WARNING:matplotlib.image:Clipping input data to the valid range for imshow with RGB data ([0..1] for floats or [0..255] for integers).\n"
     ]
    },
    {
     "data": {
      "image/png": "[encoded data removed]",
      "text/plain": [
       "<Figure size 1584x360 with 2 Axes>"
      ]
     },
     "metadata": {
      "needs_background": "light"
     },
     "output_type": "display_data"
    }
   ],
   "source": [
    "# Plot together\n",
    "fig, ax = plt.subplots(nrows=1, ncols=2, figsize = (22, 5))\n",
    "\n",
    "for i in range(2):\n",
    "    ax[i].imshow(batch['image'][i].permute(1,2,0), cmap=\"gray\")\n",
    "    # ax[i].set_title(f\"{ds[i].PatientID}\")\n",
    "    \n",
    "plt.tight_layout()"
   ]
  },
  {
   "cell_type": "code",
   "execution_count": null,
   "id": "0b5530d0-c22d-44b3-92f9-789ca401ccdd",
   "metadata": {},
   "outputs": [],
   "source": []
  }
 ],
 "metadata": {
  "kernelspec": {
   "display_name": "Python 3",
   "language": "python",
   "name": "python3"
  },
  "language_info": {
   "codemirror_mode": {
    "name": "ipython",
    "version": 3
   },
   "file_extension": ".py",
   "mimetype": "text/x-python",
   "name": "python",
   "nbconvert_exporter": "python",
   "pygments_lexer": "ipython3",
   "version": "3.6.13"
  }
 },
 "nbformat": 4,
 "nbformat_minor": 5
}
