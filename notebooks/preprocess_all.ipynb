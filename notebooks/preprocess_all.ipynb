{
 "cells": [
  {
   "cell_type": "code",
   "execution_count": 150,
   "id": "57eb2c94-44f3-4ea3-b015-c9bea2deed43",
   "metadata": {},
   "outputs": [],
   "source": [
    "import glob\n",
    "from pathlib import Path\n",
    "import pydicom\n",
    "import matplotlib.pyplot as plt\n",
    "import numpy as np\n",
    "import cv2\n",
    "from tqdm import tqdm"
   ]
  },
  {
   "cell_type": "markdown",
   "id": "644e1e8a-7c23-41be-8dd4-f60d6d6f2632",
   "metadata": {
    "tags": []
   },
   "source": [
    "## Preprocessing funcions"
   ]
  },
  {
   "cell_type": "code",
   "execution_count": 72,
   "id": "7040f8ac-005e-4405-85f7-f3ec35182c1c",
   "metadata": {},
   "outputs": [],
   "source": [
    "def cropBorders(img, l=0.01, r=0.01, u=0.04, d=0.04):\n",
    "\n",
    "    \"\"\"\n",
    "    This function crops a specified percentage of border from\n",
    "    each side of the given image. Default is 1% from the top,\n",
    "    left and right sides and 4% from the bottom side.\n",
    "\n",
    "    Parameters\n",
    "    ----------\n",
    "    img : {numpy.ndarray}\n",
    "        The image to crop.\n",
    "\n",
    "    Returns\n",
    "    -------\n",
    "    cropped_img: {numpy.ndarray}\n",
    "        The cropped image.\n",
    "    \"\"\"\n",
    "\n",
    "    try:\n",
    "        nrows, ncols = img.shape\n",
    "\n",
    "        # Get the start and end rows and columns\n",
    "        l_crop = int(ncols * l)\n",
    "        r_crop = int(ncols * (1 - r))\n",
    "        u_crop = int(nrows * u)\n",
    "        d_crop = int(nrows * (1 - d))\n",
    "\n",
    "        cropped_img = img[u_crop:d_crop, l_crop:r_crop]\n",
    "\n",
    "    except Exception as e:\n",
    "        # logger.error(f'Unable to cropBorders!\\n{e}')\n",
    "        print((f\"Unable to get cropBorders!\\n{e}\"))\n",
    "\n",
    "    return cropped_img"
   ]
  },
  {
   "cell_type": "code",
   "execution_count": 101,
   "id": "bf24aa46-7aca-424c-ae68-964a8bc4e40f",
   "metadata": {},
   "outputs": [],
   "source": [
    "def globalBinarise(img, thresh, maxval):\n",
    "\n",
    "    \"\"\"\n",
    "    This function takes in a numpy array image and\n",
    "    returns a corresponding mask that is a global\n",
    "    binarisation on it based on a given threshold\n",
    "    and maxval. Any elements in the array that is\n",
    "    greater than or equals to the given threshold\n",
    "    will be assigned maxval, else zero.\n",
    "\n",
    "    Parameters\n",
    "    ----------\n",
    "    img : {numpy.ndarray}\n",
    "        The image to perform binarisation on.\n",
    "    thresh : {int or float}\n",
    "        The global threshold for binarisation.\n",
    "    maxval : {np.uint8}\n",
    "        The value assigned to an element that is greater\n",
    "        than or equals to `thresh`.\n",
    "\n",
    "\n",
    "    Returns\n",
    "    -------\n",
    "    binarised_img : {numpy.ndarray, dtype=np.uint8}\n",
    "        A binarised image of {0, 1}.\n",
    "    \"\"\"\n",
    "\n",
    "    try:\n",
    "        binarised_img = np.zeros(img.shape, np.uint8)\n",
    "        binarised_img[img >= thresh] = maxval\n",
    "\n",
    "    except Exception as e:\n",
    "        # logger.error(f'Unable to globalBinarise!\\n{e}')\n",
    "        print((f\"Unable to globalBinarise!\\n{e}\"))\n",
    "\n",
    "    return binarised_img"
   ]
  },
  {
   "cell_type": "code",
   "execution_count": 102,
   "id": "6c478375-f303-4b00-8f37-7f5361264ef6",
   "metadata": {},
   "outputs": [],
   "source": [
    "def OwnGlobalBinarise(img, thresh, maxval):\n",
    "    \n",
    "    '''\n",
    "    This function takes in a numpy array image and\n",
    "    returns a corresponding mask that is a global\n",
    "    binarisation on it based on a given threshold\n",
    "    and maxval. Any elements in the array that is\n",
    "    greater than or equals to the given threshold\n",
    "    will be assigned maxval, else zero.\n",
    "    \n",
    "    Parameters\n",
    "    ----------\n",
    "    img : {numpy.ndarray}\n",
    "        The image to perform binarisation on.\n",
    "    thresh : {int or float}\n",
    "        The global threshold for binarisation.\n",
    "    maxval : {np.uint8}\n",
    "        The value assigned to an element that is greater\n",
    "        than or equals to `thresh`.\n",
    "        \n",
    "        \n",
    "    Returns\n",
    "    -------\n",
    "    binarised_img : {numpy.ndarray, dtype=np.uint8}\n",
    "        A binarised image of {0, 1}.\n",
    "    '''\n",
    "    \n",
    "    binarised_img = np.zeros(img.shape, np.uint8)\n",
    "    binarised_img[img >= thresh] = maxval\n",
    "    \n",
    "    return binarised_img"
   ]
  },
  {
   "cell_type": "code",
   "execution_count": 103,
   "id": "55e1411e-e218-4140-aad3-3faef4ff3510",
   "metadata": {},
   "outputs": [],
   "source": [
    "def editMask(mask, ksize=(23, 23), operation=\"open\"):\n",
    "\n",
    "    \"\"\"\n",
    "    This function edits a given mask (binary image) by performing\n",
    "    closing then opening morphological operations.\n",
    "\n",
    "    Parameters\n",
    "    ----------\n",
    "    mask : {numpy.ndarray}\n",
    "        The mask to edit.\n",
    "    ksize : {tuple}\n",
    "        Size of the structuring element.\n",
    "    operation : {str}\n",
    "        Either \"open\" or \"close\", each representing open and close\n",
    "        morphological operations respectively.\n",
    "\n",
    "    Returns\n",
    "    -------\n",
    "    edited_mask : {numpy.ndarray}\n",
    "        The mask after performing close and open morphological\n",
    "        operations.\n",
    "    \"\"\"\n",
    "\n",
    "    try:\n",
    "        kernel = cv2.getStructuringElement(shape=cv2.MORPH_RECT, ksize=ksize)\n",
    "\n",
    "        if operation == \"open\":\n",
    "            edited_mask = cv2.morphologyEx(mask, cv2.MORPH_OPEN, kernel)\n",
    "        elif operation == \"close\":\n",
    "            edited_mask = cv2.morphologyEx(mask, cv2.MORPH_CLOSE, kernel)\n",
    "\n",
    "        # Then dilate\n",
    "        edited_mask = cv2.morphologyEx(edited_mask, cv2.MORPH_DILATE, kernel)\n",
    "\n",
    "    except Exception as e:\n",
    "        # logger.error(f'Unable to editMask!\\n{e}')\n",
    "        print((f\"Unable to get editMask!\\n{e}\"))\n",
    "\n",
    "    return edited_mask"
   ]
  },
  {
   "cell_type": "code",
   "execution_count": 104,
   "id": "100cac23-d0fe-47b1-9e8a-a1625755fe71",
   "metadata": {},
   "outputs": [],
   "source": [
    "def xLargestBlobs(mask, top_x=None, reverse=True):\n",
    "\n",
    "    \"\"\"\n",
    "    This function finds contours in the given image and\n",
    "    keeps only the top X largest ones.\n",
    "\n",
    "    Parameters\n",
    "    ----------\n",
    "    mask : {numpy.ndarray, dtype=np.uint8}\n",
    "        The mask to get the top X largest blobs.\n",
    "    top_x : {int}\n",
    "        The top X contours to keep based on contour area\n",
    "        ranked in decesnding order.\n",
    "\n",
    "\n",
    "    Returns\n",
    "    -------\n",
    "    n_contours : {int}\n",
    "        The number of contours found in the given `mask`.\n",
    "    X_largest_blobs : {numpy.ndarray}\n",
    "        The corresponding mask of the image containing only\n",
    "        the top X largest contours in white.\n",
    "    \"\"\"\n",
    "    try:\n",
    "        # Find all contours from binarised image.\n",
    "        # Note: parts of the image that you want to get should be white.\n",
    "        contours, hierarchy = cv2.findContours(\n",
    "            image=mask, mode=cv2.RETR_EXTERNAL, method=cv2.CHAIN_APPROX_NONE\n",
    "        )\n",
    "\n",
    "        n_contours = len(contours)\n",
    "\n",
    "        # Only get largest blob if there is at least 1 contour.\n",
    "        if n_contours > 0:\n",
    "\n",
    "            # Make sure that the number of contours to keep is at most equal\n",
    "            # to the number of contours present in the mask.\n",
    "            if n_contours < top_x or top_x == None:\n",
    "                top_x = n_contours\n",
    "\n",
    "            # Sort contours based on contour area.\n",
    "            sorted_contours, bounding_boxes = sortContoursByArea(\n",
    "                contours=contours, reverse=reverse\n",
    "            )\n",
    "\n",
    "            # Get the top X largest contours.\n",
    "            X_largest_contours = sorted_contours[0:top_x]\n",
    "\n",
    "            # Create black canvas to draw contours on.\n",
    "            to_draw_on = np.zeros(mask.shape, np.uint8)\n",
    "\n",
    "            # Draw contours in X_largest_contours.\n",
    "            X_largest_blobs = cv2.drawContours(\n",
    "                image=to_draw_on,  # Draw the contours on `to_draw_on`.\n",
    "                contours=X_largest_contours,  # List of contours to draw.\n",
    "                contourIdx=-1,  # Draw all contours in `contours`.\n",
    "                color=1,  # Draw the contours in white.\n",
    "                thickness=-1,  # Thickness of the contour lines.\n",
    "            )\n",
    "\n",
    "    except Exception as e:\n",
    "        # logger.error(f'Unable to xLargestBlobs!\\n{e}')\n",
    "        print((f\"Unable to get xLargestBlobs!\\n{e}\"))\n",
    "\n",
    "    return n_contours, X_largest_blobs"
   ]
  },
  {
   "cell_type": "code",
   "execution_count": 105,
   "id": "02f5b729-f86c-48fc-b1c0-a332c2febd7b",
   "metadata": {},
   "outputs": [],
   "source": [
    "def applyMask(img, mask):\n",
    "\n",
    "    \"\"\"\n",
    "    This function applies a mask to a given image. White\n",
    "    areas of the mask are kept, while black areas are\n",
    "    removed.\n",
    "\n",
    "    Parameters\n",
    "    ----------\n",
    "    img : {numpy.ndarray}\n",
    "        The image to mask.\n",
    "    mask : {numpy.ndarray, dtype=np.uint8}\n",
    "        The mask to apply.\n",
    "\n",
    "    Returns\n",
    "    -------\n",
    "    masked_img: {numpy.ndarray}\n",
    "        The masked image.\n",
    "    \"\"\"\n",
    "\n",
    "    try:\n",
    "        masked_img = img.copy()\n",
    "        masked_img[mask == 0] = 0\n",
    "\n",
    "    except Exception as e:\n",
    "        # logger.error(f'Unable to applyMask!\\n{e}')\n",
    "        print((f\"Unable to get applyMask!\\n{e}\"))\n",
    "\n",
    "    return masked_img"
   ]
  },
  {
   "cell_type": "code",
   "execution_count": 114,
   "id": "f8717884-f5a8-447d-a1c0-daf28634f104",
   "metadata": {},
   "outputs": [],
   "source": [
    "def sortContoursByArea(contours, reverse=True):\n",
    "\n",
    "    \"\"\"\n",
    "    This function takes in list of contours, sorts them based\n",
    "    on contour area, computes the bounding rectangle for each\n",
    "    contour, and outputs the sorted contours and their\n",
    "    corresponding bounding rectangles.\n",
    "\n",
    "    Parameters\n",
    "    ----------\n",
    "    contours : {list}\n",
    "        The list of contours to sort.\n",
    "\n",
    "    Returns\n",
    "    -------\n",
    "    sorted_contours : {list}\n",
    "        The list of contours sorted by contour area in descending\n",
    "        order.\n",
    "    bounding_boxes : {list}\n",
    "        The list of bounding boxes ordered corresponding to the\n",
    "        contours in `sorted_contours`.\n",
    "    \"\"\"\n",
    "\n",
    "    try:\n",
    "        # Sort contours based on contour area.\n",
    "        sorted_contours = sorted(contours, key=cv2.contourArea, reverse=reverse)\n",
    "\n",
    "        # Construct the list of corresponding bounding boxes.\n",
    "        bounding_boxes = [cv2.boundingRect(c) for c in sorted_contours]\n",
    "\n",
    "    except Exception as e:\n",
    "        # logger.error(f'Unable to sortContourByArea!\\n{e}')\n",
    "        print((f\"Unable to get sortContourByArea!\\n{e}\"))\n",
    "\n",
    "    return sorted_contours, bounding_boxes"
   ]
  },
  {
   "cell_type": "markdown",
   "id": "762bda6a-070d-4c1a-845b-ec6bf3075167",
   "metadata": {},
   "source": [
    "## Main Code"
   ]
  },
  {
   "cell_type": "code",
   "execution_count": 162,
   "id": "2ac927d0-d2fe-4447-ba53-298db7912eef",
   "metadata": {},
   "outputs": [],
   "source": [
    "#Paths\n",
    "original_train_folder_dcm = '/datasets/mamografia/CBIS-DDSM_organized/images/original/train/'\n",
    "output_train_full_path = \"/datasets/mamografia/CBIS-DDSM_organized/images/preprocessed/train/full/\" \n",
    "output_train_mask_path = \"/datasets/mamografia/CBIS-DDSM_organized/images/preprocessed/train/mask/\"\n",
    "\n",
    "os.makedirs(output_train_full_path, exist_ok=True) \n",
    "os.makedirs(output_train_mask_path, exist_ok=True) \n",
    "\n",
    "original_test_folder_dcm = '/datasets/mamografia/CBIS-DDSM_organized/images/original/test/'\n",
    "output_test_full_path = \"/datasets/mamografia/CBIS-DDSM_organized/images/preprocessed/test/full/\"\n",
    "output_test_mask_path = \"/datasets/mamografia/CBIS-DDSM_organized/images/preprocessed/test/mask/\"\n",
    "\n",
    "os.makedirs(output_test_full_path, exist_ok=True) \n",
    "os.makedirs(output_test_mask_path, exist_ok=True) "
   ]
  },
  {
   "cell_type": "code",
   "execution_count": 131,
   "id": "daefffeb-b108-4b3c-b353-5543786acef4",
   "metadata": {},
   "outputs": [],
   "source": [
    "#Parameters\n",
    "output_format = \"png\"\n",
    "\n",
    "# Get all hyperparameters.\n",
    "# l = config_imgPre[\"cropBorders\"][\"l\"]\n",
    "# r = config_imgPre[\"cropBorders\"][\"r\"]\n",
    "# u = config_imgPre[\"cropBorders\"][\"u\"]\n",
    "# d = config_imgPre[\"cropBorders\"][\"d\"]\n",
    "# thresh = config_imgPre[\"globalBinarise\"][\"thresh\"]\n",
    "# maxval = config_imgPre[\"globalBinarise\"][\"maxval\"]\n",
    "# ksize = config_imgPre[\"editMask\"][\"ksize\"]\n",
    "# operation = config_imgPre[\"editMask\"][\"operation\"]\n",
    "# reverse = config_imgPre[\"sortContourByArea\"][\"reverse\"]\n",
    "# top_x = config_imgPre[\"xLargestBlobs\"][\"top_x\"]\n",
    "# clip = config_imgPre[\"clahe\"][\"clip\"]\n",
    "# tile = config_imgPre[\"clahe\"][\"tile\"]"
   ]
  },
  {
   "cell_type": "code",
   "execution_count": 163,
   "id": "56fc5c47-1c5a-4571-8ee3-f2cc07ad5561",
   "metadata": {},
   "outputs": [],
   "source": [
    "fullmamm_paths_train  = glob.glob(original_train_folder_dcm + \"*FULL.dcm\")\n",
    "mask_paths_train  = glob.glob(original_train_folder_dcm + \"*MASK*\")\n",
    "\n",
    "fullmamm_paths_test  = glob.glob(original_test_folder_dcm + \"*FULL.dcm\")\n",
    "mask_paths_test  = glob.glob(original_test_folder_dcm + \"*MASK*\")\n",
    "      "
   ]
  },
  {
   "cell_type": "code",
   "execution_count": 62,
   "id": "a2f3f679-ba44-4b8c-b37a-9c9d821eac61",
   "metadata": {},
   "outputs": [
    {
     "data": {
      "text/plain": [
       "1231"
      ]
     },
     "execution_count": 62,
     "metadata": {},
     "output_type": "execute_result"
    }
   ],
   "source": [
    "len(fullmamm_paths_train)"
   ]
  },
  {
   "cell_type": "code",
   "execution_count": 120,
   "id": "ab7b0822-0a07-4c84-a95e-974e2451e105",
   "metadata": {},
   "outputs": [
    {
     "data": {
      "text/plain": [
       "'/datasets/mamografia/CBIS-DDSM_organized/images/original/train/Mass-Training_P_01222_LEFT_MLO_FULL.dcm'"
      ]
     },
     "execution_count": 120,
     "metadata": {},
     "output_type": "execute_result"
    }
   ],
   "source": [
    "fullmamm_paths_train[0]"
   ]
  },
  {
   "cell_type": "code",
   "execution_count": 63,
   "id": "ccf78f0e-3148-426e-94a3-948360f10cd2",
   "metadata": {},
   "outputs": [
    {
     "data": {
      "text/plain": [
       "1318"
      ]
     },
     "execution_count": 63,
     "metadata": {},
     "output_type": "execute_result"
    }
   ],
   "source": [
    "len(mask_paths_train)"
   ]
  },
  {
   "cell_type": "code",
   "execution_count": 148,
   "id": "f60f8eaa-661c-4f23-aa58-8ec43c6b1eb1",
   "metadata": {
    "collapsed": true,
    "jupyter": {
     "outputs_hidden": true
    },
    "tags": []
   },
   "outputs": [
    {
     "name": "stdout",
     "output_type": "stream",
     "text": [
      "DONE FULL: /datasets/mamografia/CBIS-DDSM_organized/images/original/train/Mass-Training_P_01222_LEFT_MLO_FULL.dcm\n",
      "DONE FULL: /datasets/mamografia/CBIS-DDSM_organized/images/original/train/Mass-Training_P_01712_LEFT_CC_FULL.dcm\n",
      "DONE FULL: /datasets/mamografia/CBIS-DDSM_organized/images/original/train/Mass-Training_P_00952_RIGHT_CC_FULL.dcm\n",
      "DONE FULL: /datasets/mamografia/CBIS-DDSM_organized/images/original/train/Mass-Training_P_00732_LEFT_CC_FULL.dcm\n",
      "DONE FULL: /datasets/mamografia/CBIS-DDSM_organized/images/original/train/Mass-Training_P_00241_RIGHT_CC_FULL.dcm\n",
      "DONE FULL: /datasets/mamografia/CBIS-DDSM_organized/images/original/train/Mass-Training_P_00715_RIGHT_CC_FULL.dcm\n",
      "DONE FULL: /datasets/mamografia/CBIS-DDSM_organized/images/original/train/Mass-Training_P_00859_LEFT_CC_FULL.dcm\n",
      "DONE FULL: /datasets/mamografia/CBIS-DDSM_organized/images/original/train/Mass-Training_P_01802_LEFT_MLO_FULL.dcm\n",
      "DONE FULL: /datasets/mamografia/CBIS-DDSM_organized/images/original/train/Mass-Training_P_00081_RIGHT_MLO_FULL.dcm\n",
      "DONE FULL: /datasets/mamografia/CBIS-DDSM_organized/images/original/train/Mass-Training_P_00995_LEFT_MLO_FULL.dcm\n",
      "DONE FULL: /datasets/mamografia/CBIS-DDSM_organized/images/original/train/Mass-Training_P_02033_RIGHT_MLO_FULL.dcm\n",
      "DONE FULL: /datasets/mamografia/CBIS-DDSM_organized/images/original/train/Mass-Training_P_00444_LEFT_CC_FULL.dcm\n",
      "DONE FULL: /datasets/mamografia/CBIS-DDSM_organized/images/original/train/Mass-Training_P_01441_RIGHT_MLO_FULL.dcm\n",
      "DONE FULL: /datasets/mamografia/CBIS-DDSM_organized/images/original/train/Mass-Training_P_00734_RIGHT_MLO_FULL.dcm\n",
      "DONE FULL: /datasets/mamografia/CBIS-DDSM_organized/images/original/train/Mass-Training_P_00370_RIGHT_CC_FULL.dcm\n",
      "DONE FULL: /datasets/mamografia/CBIS-DDSM_organized/images/original/train/Mass-Training_P_00554_LEFT_CC_FULL.dcm\n",
      "DONE FULL: /datasets/mamografia/CBIS-DDSM_organized/images/original/train/Mass-Training_P_01544_RIGHT_MLO_FULL.dcm\n",
      "DONE FULL: /datasets/mamografia/CBIS-DDSM_organized/images/original/train/Mass-Training_P_01062_RIGHT_MLO_FULL.dcm\n",
      "DONE FULL: /datasets/mamografia/CBIS-DDSM_organized/images/original/train/Mass-Training_P_00592_LEFT_CC_FULL.dcm\n",
      "DONE FULL: /datasets/mamografia/CBIS-DDSM_organized/images/original/train/Mass-Training_P_00468_LEFT_CC_FULL.dcm\n",
      "DONE FULL: /datasets/mamografia/CBIS-DDSM_organized/images/original/train/Mass-Training_P_01185_RIGHT_MLO_FULL.dcm\n",
      "DONE FULL: /datasets/mamografia/CBIS-DDSM_organized/images/original/train/Mass-Training_P_01637_LEFT_MLO_FULL.dcm\n",
      "DONE FULL: /datasets/mamografia/CBIS-DDSM_organized/images/original/train/Mass-Training_P_01158_RIGHT_CC_FULL.dcm\n",
      "DONE FULL: /datasets/mamografia/CBIS-DDSM_organized/images/original/train/Mass-Training_P_01362_LEFT_MLO_FULL.dcm\n",
      "DONE FULL: /datasets/mamografia/CBIS-DDSM_organized/images/original/train/Mass-Training_P_00605_RIGHT_MLO_FULL.dcm\n",
      "DONE FULL: /datasets/mamografia/CBIS-DDSM_organized/images/original/train/Mass-Training_P_00997_LEFT_MLO_FULL.dcm\n",
      "DONE FULL: /datasets/mamografia/CBIS-DDSM_organized/images/original/train/Mass-Training_P_00666_RIGHT_CC_FULL.dcm\n",
      "DONE FULL: /datasets/mamografia/CBIS-DDSM_organized/images/original/train/Mass-Training_P_00715_RIGHT_MLO_FULL.dcm\n",
      "DONE FULL: /datasets/mamografia/CBIS-DDSM_organized/images/original/train/Mass-Training_P_00090_LEFT_MLO_FULL.dcm\n",
      "DONE FULL: /datasets/mamografia/CBIS-DDSM_organized/images/original/train/Mass-Training_P_01644_LEFT_CC_FULL.dcm\n",
      "DONE FULL: /datasets/mamografia/CBIS-DDSM_organized/images/original/train/Mass-Training_P_01181_LEFT_MLO_FULL.dcm\n",
      "DONE FULL: /datasets/mamografia/CBIS-DDSM_organized/images/original/train/Mass-Training_P_01853_LEFT_MLO_FULL.dcm\n",
      "DONE FULL: /datasets/mamografia/CBIS-DDSM_organized/images/original/train/Mass-Training_P_00259_RIGHT_MLO_FULL.dcm\n",
      "DONE FULL: /datasets/mamografia/CBIS-DDSM_organized/images/original/train/Mass-Training_P_01848_RIGHT_MLO_FULL.dcm\n",
      "DONE FULL: /datasets/mamografia/CBIS-DDSM_organized/images/original/train/Mass-Training_P_01604_LEFT_MLO_FULL.dcm\n",
      "DONE FULL: /datasets/mamografia/CBIS-DDSM_organized/images/original/train/Mass-Training_P_00254_LEFT_CC_FULL.dcm\n",
      "DONE FULL: /datasets/mamografia/CBIS-DDSM_organized/images/original/train/Mass-Training_P_00512_RIGHT_CC_FULL.dcm\n",
      "DONE FULL: /datasets/mamografia/CBIS-DDSM_organized/images/original/train/Mass-Training_P_01423_RIGHT_MLO_FULL.dcm\n",
      "DONE FULL: /datasets/mamografia/CBIS-DDSM_organized/images/original/train/Mass-Training_P_00095_LEFT_CC_FULL.dcm\n",
      "DONE FULL: /datasets/mamografia/CBIS-DDSM_organized/images/original/train/Mass-Training_P_00236_RIGHT_MLO_FULL.dcm\n",
      "DONE FULL: /datasets/mamografia/CBIS-DDSM_organized/images/original/train/Mass-Training_P_00385_RIGHT_MLO_FULL.dcm\n",
      "DONE FULL: /datasets/mamografia/CBIS-DDSM_organized/images/original/train/Mass-Training_P_01104_LEFT_MLO_FULL.dcm\n",
      "DONE FULL: /datasets/mamografia/CBIS-DDSM_organized/images/original/train/Mass-Training_P_01225_RIGHT_MLO_FULL.dcm\n",
      "DONE FULL: /datasets/mamografia/CBIS-DDSM_organized/images/original/train/Mass-Training_P_01112_LEFT_CC_FULL.dcm\n",
      "DONE FULL: /datasets/mamografia/CBIS-DDSM_organized/images/original/train/Mass-Training_P_00234_LEFT_CC_FULL.dcm\n",
      "DONE FULL: /datasets/mamografia/CBIS-DDSM_organized/images/original/train/Mass-Training_P_01694_RIGHT_MLO_FULL.dcm\n",
      "DONE FULL: /datasets/mamografia/CBIS-DDSM_organized/images/original/train/Mass-Training_P_00733_RIGHT_CC_FULL.dcm\n",
      "DONE FULL: /datasets/mamografia/CBIS-DDSM_organized/images/original/train/Mass-Training_P_01768_LEFT_CC_FULL.dcm\n",
      "DONE FULL: /datasets/mamografia/CBIS-DDSM_organized/images/original/train/Mass-Training_P_00553_LEFT_CC_FULL.dcm\n",
      "DONE FULL: /datasets/mamografia/CBIS-DDSM_organized/images/original/train/Mass-Training_P_01034_RIGHT_CC_FULL.dcm\n",
      "DONE FULL: /datasets/mamografia/CBIS-DDSM_organized/images/original/train/Mass-Training_P_00096_RIGHT_MLO_FULL.dcm\n",
      "DONE FULL: /datasets/mamografia/CBIS-DDSM_organized/images/original/train/Mass-Training_P_00454_RIGHT_CC_FULL.dcm\n",
      "DONE FULL: /datasets/mamografia/CBIS-DDSM_organized/images/original/train/Mass-Training_P_00317_RIGHT_MLO_FULL.dcm\n",
      "DONE FULL: /datasets/mamografia/CBIS-DDSM_organized/images/original/train/Mass-Training_P_01243_LEFT_MLO_FULL.dcm\n",
      "DONE FULL: /datasets/mamografia/CBIS-DDSM_organized/images/original/train/Mass-Training_P_01411_RIGHT_MLO_FULL.dcm\n",
      "DONE FULL: /datasets/mamografia/CBIS-DDSM_organized/images/original/train/Mass-Training_P_01633_RIGHT_CC_FULL.dcm\n",
      "DONE FULL: /datasets/mamografia/CBIS-DDSM_organized/images/original/train/Mass-Training_P_01383_LEFT_MLO_FULL.dcm\n",
      "DONE FULL: /datasets/mamografia/CBIS-DDSM_organized/images/original/train/Mass-Training_P_01082_RIGHT_MLO_FULL.dcm\n",
      "DONE FULL: /datasets/mamografia/CBIS-DDSM_organized/images/original/train/Mass-Training_P_01514_LEFT_MLO_FULL.dcm\n",
      "DONE FULL: /datasets/mamografia/CBIS-DDSM_organized/images/original/train/Mass-Training_P_00640_RIGHT_CC_FULL.dcm\n",
      "DONE FULL: /datasets/mamografia/CBIS-DDSM_organized/images/original/train/Mass-Training_P_01447_RIGHT_MLO_FULL.dcm\n",
      "DONE FULL: /datasets/mamografia/CBIS-DDSM_organized/images/original/train/Mass-Training_P_00386_LEFT_MLO_FULL.dcm\n",
      "DONE FULL: /datasets/mamografia/CBIS-DDSM_organized/images/original/train/Mass-Training_P_01981_RIGHT_CC_FULL.dcm\n",
      "DONE FULL: /datasets/mamografia/CBIS-DDSM_organized/images/original/train/Mass-Training_P_01559_RIGHT_MLO_FULL.dcm\n",
      "DONE FULL: /datasets/mamografia/CBIS-DDSM_organized/images/original/train/Mass-Training_P_01343_LEFT_MLO_FULL.dcm\n",
      "DONE FULL: /datasets/mamografia/CBIS-DDSM_organized/images/original/train/Mass-Training_P_01412_LEFT_CC_FULL.dcm\n",
      "DONE FULL: /datasets/mamografia/CBIS-DDSM_organized/images/original/train/Mass-Training_P_00607_RIGHT_CC_FULL.dcm\n",
      "DONE FULL: /datasets/mamografia/CBIS-DDSM_organized/images/original/train/Mass-Training_P_01564_RIGHT_MLO_FULL.dcm\n",
      "DONE FULL: /datasets/mamografia/CBIS-DDSM_organized/images/original/train/Mass-Training_P_01817_RIGHT_CC_FULL.dcm\n",
      "DONE FULL: /datasets/mamografia/CBIS-DDSM_organized/images/original/train/Mass-Training_P_00694_RIGHT_CC_FULL.dcm\n",
      "DONE FULL: /datasets/mamografia/CBIS-DDSM_organized/images/original/train/Mass-Training_P_01650_LEFT_CC_FULL.dcm\n",
      "DONE FULL: /datasets/mamografia/CBIS-DDSM_organized/images/original/train/Mass-Training_P_00086_RIGHT_CC_FULL.dcm\n",
      "DONE FULL: /datasets/mamografia/CBIS-DDSM_organized/images/original/train/Mass-Training_P_00439_RIGHT_MLO_FULL.dcm\n",
      "DONE FULL: /datasets/mamografia/CBIS-DDSM_organized/images/original/train/Mass-Training_P_01388_LEFT_CC_FULL.dcm\n",
      "DONE FULL: /datasets/mamografia/CBIS-DDSM_organized/images/original/train/Mass-Training_P_00431_RIGHT_MLO_FULL.dcm\n",
      "DONE FULL: /datasets/mamografia/CBIS-DDSM_organized/images/original/train/Mass-Training_P_01790_LEFT_CC_FULL.dcm\n",
      "DONE FULL: /datasets/mamografia/CBIS-DDSM_organized/images/original/train/Mass-Training_P_00027_RIGHT_MLO_FULL.dcm\n",
      "DONE FULL: /datasets/mamografia/CBIS-DDSM_organized/images/original/train/Mass-Training_P_01357_LEFT_MLO_FULL.dcm\n",
      "DONE FULL: /datasets/mamografia/CBIS-DDSM_organized/images/original/train/Mass-Training_P_01394_LEFT_MLO_FULL.dcm\n",
      "DONE FULL: /datasets/mamografia/CBIS-DDSM_organized/images/original/train/Mass-Training_P_01589_LEFT_CC_FULL.dcm\n",
      "DONE FULL: /datasets/mamografia/CBIS-DDSM_organized/images/original/train/Mass-Training_P_01327_LEFT_MLO_FULL.dcm\n",
      "DONE FULL: /datasets/mamografia/CBIS-DDSM_organized/images/original/train/Mass-Training_P_00034_RIGHT_CC_FULL.dcm\n",
      "DONE FULL: /datasets/mamografia/CBIS-DDSM_organized/images/original/train/Mass-Training_P_01439_LEFT_CC_FULL.dcm\n",
      "DONE FULL: /datasets/mamografia/CBIS-DDSM_organized/images/original/train/Mass-Training_P_00871_LEFT_CC_FULL.dcm\n",
      "DONE FULL: /datasets/mamografia/CBIS-DDSM_organized/images/original/train/Mass-Training_P_01355_LEFT_MLO_FULL.dcm\n",
      "DONE FULL: /datasets/mamografia/CBIS-DDSM_organized/images/original/train/Mass-Training_P_01201_LEFT_CC_FULL.dcm\n",
      "DONE FULL: /datasets/mamografia/CBIS-DDSM_organized/images/original/train/Mass-Training_P_00687_LEFT_MLO_FULL.dcm\n",
      "DONE FULL: /datasets/mamografia/CBIS-DDSM_organized/images/original/train/Mass-Training_P_01398_LEFT_CC_FULL.dcm\n",
      "DONE FULL: /datasets/mamografia/CBIS-DDSM_organized/images/original/train/Mass-Training_P_01642_RIGHT_MLO_FULL.dcm\n",
      "DONE FULL: /datasets/mamografia/CBIS-DDSM_organized/images/original/train/Mass-Training_P_00057_RIGHT_CC_FULL.dcm\n",
      "DONE FULL: /datasets/mamografia/CBIS-DDSM_organized/images/original/train/Mass-Training_P_01850_RIGHT_CC_FULL.dcm\n",
      "DONE FULL: /datasets/mamografia/CBIS-DDSM_organized/images/original/train/Mass-Training_P_01175_RIGHT_CC_FULL.dcm\n",
      "DONE FULL: /datasets/mamografia/CBIS-DDSM_organized/images/original/train/Mass-Training_P_01632_RIGHT_CC_FULL.dcm\n",
      "DONE FULL: /datasets/mamografia/CBIS-DDSM_organized/images/original/train/Mass-Training_P_00333_RIGHT_MLO_FULL.dcm\n",
      "DONE FULL: /datasets/mamografia/CBIS-DDSM_organized/images/original/train/Mass-Training_P_00074_RIGHT_MLO_FULL.dcm\n",
      "DONE FULL: /datasets/mamografia/CBIS-DDSM_organized/images/original/train/Mass-Training_P_00224_RIGHT_MLO_FULL.dcm\n",
      "DONE FULL: /datasets/mamografia/CBIS-DDSM_organized/images/original/train/Mass-Training_P_00711_RIGHT_CC_FULL.dcm\n",
      "DONE FULL: /datasets/mamografia/CBIS-DDSM_organized/images/original/train/Mass-Training_P_01889_RIGHT_MLO_FULL.dcm\n",
      "DONE FULL: /datasets/mamografia/CBIS-DDSM_organized/images/original/train/Mass-Training_P_01495_RIGHT_MLO_FULL.dcm\n",
      "DONE FULL: /datasets/mamografia/CBIS-DDSM_organized/images/original/train/Mass-Training_P_01447_RIGHT_CC_FULL.dcm\n",
      "DONE FULL: /datasets/mamografia/CBIS-DDSM_organized/images/original/train/Mass-Training_P_00522_RIGHT_MLO_FULL.dcm\n",
      "DONE FULL: /datasets/mamografia/CBIS-DDSM_organized/images/original/train/Mass-Training_P_01822_LEFT_MLO_FULL.dcm\n",
      "DONE FULL: /datasets/mamografia/CBIS-DDSM_organized/images/original/train/Mass-Training_P_00328_RIGHT_MLO_FULL.dcm\n",
      "DONE FULL: /datasets/mamografia/CBIS-DDSM_organized/images/original/train/Mass-Training_P_01304_RIGHT_CC_FULL.dcm\n",
      "DONE FULL: /datasets/mamografia/CBIS-DDSM_organized/images/original/train/Mass-Training_P_01299_LEFT_MLO_FULL.dcm\n",
      "DONE FULL: /datasets/mamografia/CBIS-DDSM_organized/images/original/train/Mass-Training_P_01556_LEFT_CC_FULL.dcm\n",
      "DONE FULL: /datasets/mamografia/CBIS-DDSM_organized/images/original/train/Mass-Training_P_00361_RIGHT_MLO_FULL.dcm\n",
      "DONE FULL: /datasets/mamografia/CBIS-DDSM_organized/images/original/train/Mass-Training_P_00134_LEFT_MLO_FULL.dcm\n",
      "DONE FULL: /datasets/mamografia/CBIS-DDSM_organized/images/original/train/Mass-Training_P_00334_LEFT_MLO_FULL.dcm\n",
      "DONE FULL: /datasets/mamografia/CBIS-DDSM_organized/images/original/train/Mass-Training_P_00468_LEFT_MLO_FULL.dcm\n",
      "DONE FULL: /datasets/mamografia/CBIS-DDSM_organized/images/original/train/Mass-Training_P_01133_RIGHT_CC_FULL.dcm\n",
      "DONE FULL: /datasets/mamografia/CBIS-DDSM_organized/images/original/train/Mass-Training_P_01178_RIGHT_CC_FULL.dcm\n",
      "DONE FULL: /datasets/mamografia/CBIS-DDSM_organized/images/original/train/Mass-Training_P_00389_LEFT_MLO_FULL.dcm\n",
      "DONE FULL: /datasets/mamografia/CBIS-DDSM_organized/images/original/train/Mass-Training_P_00023_RIGHT_CC_FULL.dcm\n",
      "DONE FULL: /datasets/mamografia/CBIS-DDSM_organized/images/original/train/Mass-Training_P_01130_RIGHT_MLO_FULL.dcm\n",
      "DONE FULL: /datasets/mamografia/CBIS-DDSM_organized/images/original/train/Mass-Training_P_00917_RIGHT_MLO_FULL.dcm\n",
      "DONE FULL: /datasets/mamografia/CBIS-DDSM_organized/images/original/train/Mass-Training_P_00426_RIGHT_CC_FULL.dcm\n",
      "DONE FULL: /datasets/mamografia/CBIS-DDSM_organized/images/original/train/Mass-Training_P_01233_LEFT_CC_FULL.dcm\n",
      "DONE FULL: /datasets/mamografia/CBIS-DDSM_organized/images/original/train/Mass-Training_P_00717_RIGHT_MLO_FULL.dcm\n",
      "DONE FULL: /datasets/mamografia/CBIS-DDSM_organized/images/original/train/Mass-Training_P_00644_LEFT_MLO_FULL.dcm\n",
      "DONE FULL: /datasets/mamografia/CBIS-DDSM_organized/images/original/train/Mass-Training_P_01265_RIGHT_MLO_FULL.dcm\n",
      "DONE FULL: /datasets/mamografia/CBIS-DDSM_organized/images/original/train/Mass-Training_P_00848_LEFT_CC_FULL.dcm\n",
      "DONE FULL: /datasets/mamografia/CBIS-DDSM_organized/images/original/train/Mass-Training_P_00999_LEFT_MLO_FULL.dcm\n",
      "DONE FULL: /datasets/mamografia/CBIS-DDSM_organized/images/original/train/Mass-Training_P_00927_LEFT_MLO_FULL.dcm\n",
      "DONE FULL: /datasets/mamografia/CBIS-DDSM_organized/images/original/train/Mass-Training_P_01343_LEFT_CC_FULL.dcm\n",
      "DONE FULL: /datasets/mamografia/CBIS-DDSM_organized/images/original/train/Mass-Training_P_01312_LEFT_CC_FULL.dcm\n",
      "DONE FULL: /datasets/mamografia/CBIS-DDSM_organized/images/original/train/Mass-Training_P_01612_LEFT_MLO_FULL.dcm\n",
      "DONE FULL: /datasets/mamografia/CBIS-DDSM_organized/images/original/train/Mass-Training_P_00710_RIGHT_MLO_FULL.dcm\n",
      "DONE FULL: /datasets/mamografia/CBIS-DDSM_organized/images/original/train/Mass-Training_P_01261_LEFT_MLO_FULL.dcm\n",
      "DONE FULL: /datasets/mamografia/CBIS-DDSM_organized/images/original/train/Mass-Training_P_00304_LEFT_MLO_FULL.dcm\n",
      "DONE FULL: /datasets/mamografia/CBIS-DDSM_organized/images/original/train/Mass-Training_P_01179_LEFT_CC_FULL.dcm\n",
      "DONE FULL: /datasets/mamografia/CBIS-DDSM_organized/images/original/train/Mass-Training_P_00814_LEFT_CC_FULL.dcm\n",
      "DONE FULL: /datasets/mamografia/CBIS-DDSM_organized/images/original/train/Mass-Training_P_01613_LEFT_MLO_FULL.dcm\n",
      "DONE FULL: /datasets/mamografia/CBIS-DDSM_organized/images/original/train/Mass-Training_P_01442_RIGHT_MLO_FULL.dcm\n",
      "DONE FULL: /datasets/mamografia/CBIS-DDSM_organized/images/original/train/Mass-Training_P_00559_LEFT_CC_FULL.dcm\n",
      "DONE FULL: /datasets/mamografia/CBIS-DDSM_organized/images/original/train/Mass-Training_P_00802_LEFT_MLO_FULL.dcm\n",
      "DONE FULL: /datasets/mamografia/CBIS-DDSM_organized/images/original/train/Mass-Training_P_00818_RIGHT_CC_FULL.dcm\n",
      "DONE FULL: /datasets/mamografia/CBIS-DDSM_organized/images/original/train/Mass-Training_P_00160_RIGHT_CC_FULL.dcm\n",
      "DONE FULL: /datasets/mamografia/CBIS-DDSM_organized/images/original/train/Mass-Training_P_01032_RIGHT_CC_FULL.dcm\n",
      "DONE FULL: /datasets/mamografia/CBIS-DDSM_organized/images/original/train/Mass-Training_P_01798_LEFT_MLO_FULL.dcm\n",
      "DONE FULL: /datasets/mamografia/CBIS-DDSM_organized/images/original/train/Mass-Training_P_00021_RIGHT_MLO_FULL.dcm\n",
      "DONE FULL: /datasets/mamografia/CBIS-DDSM_organized/images/original/train/Mass-Training_P_00815_LEFT_CC_FULL.dcm\n",
      "DONE FULL: /datasets/mamografia/CBIS-DDSM_organized/images/original/train/Mass-Training_P_00506_LEFT_MLO_FULL.dcm\n",
      "DONE FULL: /datasets/mamografia/CBIS-DDSM_organized/images/original/train/Mass-Training_P_01682_LEFT_CC_FULL.dcm\n",
      "DONE FULL: /datasets/mamografia/CBIS-DDSM_organized/images/original/train/Mass-Training_P_00351_LEFT_CC_FULL.dcm\n",
      "DONE FULL: /datasets/mamografia/CBIS-DDSM_organized/images/original/train/Mass-Training_P_01356_LEFT_CC_FULL.dcm\n",
      "DONE FULL: /datasets/mamografia/CBIS-DDSM_organized/images/original/train/Mass-Training_P_01273_RIGHT_MLO_FULL.dcm\n",
      "DONE FULL: /datasets/mamografia/CBIS-DDSM_organized/images/original/train/Mass-Training_P_00354_LEFT_CC_FULL.dcm\n",
      "DONE FULL: /datasets/mamografia/CBIS-DDSM_organized/images/original/train/Mass-Training_P_01816_LEFT_MLO_FULL.dcm\n",
      "DONE FULL: /datasets/mamografia/CBIS-DDSM_organized/images/original/train/Mass-Training_P_01754_RIGHT_MLO_FULL.dcm\n",
      "DONE FULL: /datasets/mamografia/CBIS-DDSM_organized/images/original/train/Mass-Training_P_00634_LEFT_MLO_FULL.dcm\n",
      "DONE FULL: /datasets/mamografia/CBIS-DDSM_organized/images/original/train/Mass-Training_P_00604_LEFT_MLO_FULL.dcm\n",
      "DONE FULL: /datasets/mamografia/CBIS-DDSM_organized/images/original/train/Mass-Training_P_00794_LEFT_MLO_FULL.dcm\n",
      "DONE FULL: /datasets/mamografia/CBIS-DDSM_organized/images/original/train/Mass-Training_P_01883_LEFT_CC_FULL.dcm\n",
      "DONE FULL: /datasets/mamografia/CBIS-DDSM_organized/images/original/train/Mass-Training_P_00935_LEFT_MLO_FULL.dcm\n",
      "DONE FULL: /datasets/mamografia/CBIS-DDSM_organized/images/original/train/Mass-Training_P_00384_RIGHT_CC_FULL.dcm\n",
      "DONE FULL: /datasets/mamografia/CBIS-DDSM_organized/images/original/train/Mass-Training_P_01112_LEFT_MLO_FULL.dcm\n",
      "DONE FULL: /datasets/mamografia/CBIS-DDSM_organized/images/original/train/Mass-Training_P_01805_LEFT_CC_FULL.dcm\n",
      "DONE FULL: /datasets/mamografia/CBIS-DDSM_organized/images/original/train/Mass-Training_P_01717_LEFT_CC_FULL.dcm\n",
      "DONE FULL: /datasets/mamografia/CBIS-DDSM_organized/images/original/train/Mass-Training_P_01438_LEFT_MLO_FULL.dcm\n",
      "DONE FULL: /datasets/mamografia/CBIS-DDSM_organized/images/original/train/Mass-Training_P_01636_RIGHT_MLO_FULL.dcm\n",
      "DONE FULL: /datasets/mamografia/CBIS-DDSM_organized/images/original/train/Mass-Training_P_00219_RIGHT_CC_FULL.dcm\n",
      "DONE FULL: /datasets/mamografia/CBIS-DDSM_organized/images/original/train/Mass-Training_P_00419_LEFT_MLO_FULL.dcm\n",
      "DONE FULL: /datasets/mamografia/CBIS-DDSM_organized/images/original/train/Mass-Training_P_01714_RIGHT_CC_FULL.dcm\n",
      "DONE FULL: /datasets/mamografia/CBIS-DDSM_organized/images/original/train/Mass-Training_P_00801_LEFT_MLO_FULL.dcm\n",
      "DONE FULL: /datasets/mamografia/CBIS-DDSM_organized/images/original/train/Mass-Training_P_01663_RIGHT_CC_FULL.dcm\n",
      "DONE FULL: /datasets/mamografia/CBIS-DDSM_organized/images/original/train/Mass-Training_P_01218_RIGHT_MLO_FULL.dcm\n",
      "DONE FULL: /datasets/mamografia/CBIS-DDSM_organized/images/original/train/Mass-Training_P_00160_LEFT_CC_FULL.dcm\n",
      "DONE FULL: /datasets/mamografia/CBIS-DDSM_organized/images/original/train/Mass-Training_P_00564_RIGHT_CC_FULL.dcm\n",
      "DONE FULL: /datasets/mamografia/CBIS-DDSM_organized/images/original/train/Mass-Training_P_01593_LEFT_CC_FULL.dcm\n",
      "DONE FULL: /datasets/mamografia/CBIS-DDSM_organized/images/original/train/Mass-Training_P_00765_RIGHT_CC_FULL.dcm\n",
      "DONE FULL: /datasets/mamografia/CBIS-DDSM_organized/images/original/train/Mass-Training_P_01039_LEFT_CC_FULL.dcm\n",
      "DONE FULL: /datasets/mamografia/CBIS-DDSM_organized/images/original/train/Mass-Training_P_00540_LEFT_CC_FULL.dcm\n",
      "DONE FULL: /datasets/mamografia/CBIS-DDSM_organized/images/original/train/Mass-Training_P_01886_RIGHT_CC_FULL.dcm\n",
      "DONE FULL: /datasets/mamografia/CBIS-DDSM_organized/images/original/train/Mass-Training_P_00863_RIGHT_MLO_FULL.dcm\n",
      "DONE FULL: /datasets/mamografia/CBIS-DDSM_organized/images/original/train/Mass-Training_P_00869_LEFT_MLO_FULL.dcm\n",
      "DONE FULL: /datasets/mamografia/CBIS-DDSM_organized/images/original/train/Mass-Training_P_01260_LEFT_MLO_FULL.dcm\n",
      "DONE FULL: /datasets/mamografia/CBIS-DDSM_organized/images/original/train/Mass-Training_P_00054_RIGHT_MLO_FULL.dcm\n",
      "DONE FULL: /datasets/mamografia/CBIS-DDSM_organized/images/original/train/Mass-Training_P_00733_RIGHT_MLO_FULL.dcm\n",
      "DONE FULL: /datasets/mamografia/CBIS-DDSM_organized/images/original/train/Mass-Training_P_00328_LEFT_MLO_FULL.dcm\n",
      "DONE FULL: /datasets/mamografia/CBIS-DDSM_organized/images/original/train/Mass-Training_P_00528_LEFT_MLO_FULL.dcm\n",
      "DONE FULL: /datasets/mamografia/CBIS-DDSM_organized/images/original/train/Mass-Training_P_00543_RIGHT_MLO_FULL.dcm\n",
      "DONE FULL: /datasets/mamografia/CBIS-DDSM_organized/images/original/train/Mass-Training_P_00110_LEFT_MLO_FULL.dcm\n",
      "DONE FULL: /datasets/mamografia/CBIS-DDSM_organized/images/original/train/Mass-Training_P_00160_RIGHT_MLO_FULL.dcm\n",
      "DONE FULL: /datasets/mamografia/CBIS-DDSM_organized/images/original/train/Mass-Training_P_01712_LEFT_MLO_FULL.dcm\n",
      "DONE FULL: /datasets/mamografia/CBIS-DDSM_organized/images/original/train/Mass-Training_P_00927_LEFT_CC_FULL.dcm\n",
      "DONE FULL: /datasets/mamografia/CBIS-DDSM_organized/images/original/train/Mass-Training_P_00719_LEFT_CC_FULL.dcm\n",
      "DONE FULL: /datasets/mamografia/CBIS-DDSM_organized/images/original/train/Mass-Training_P_01804_LEFT_MLO_FULL.dcm\n",
      "DONE FULL: /datasets/mamografia/CBIS-DDSM_organized/images/original/train/Mass-Training_P_01142_RIGHT_CC_FULL.dcm\n",
      "DONE FULL: /datasets/mamografia/CBIS-DDSM_organized/images/original/train/Mass-Training_P_01888_RIGHT_MLO_FULL.dcm\n",
      "DONE FULL: /datasets/mamografia/CBIS-DDSM_organized/images/original/train/Mass-Training_P_01675_RIGHT_CC_FULL.dcm\n",
      "DONE FULL: /datasets/mamografia/CBIS-DDSM_organized/images/original/train/Mass-Training_P_01431_LEFT_MLO_FULL.dcm\n",
      "DONE FULL: /datasets/mamografia/CBIS-DDSM_organized/images/original/train/Mass-Training_P_00865_RIGHT_MLO_FULL.dcm\n",
      "DONE FULL: /datasets/mamografia/CBIS-DDSM_organized/images/original/train/Mass-Training_P_00406_RIGHT_MLO_FULL.dcm\n",
      "DONE FULL: /datasets/mamografia/CBIS-DDSM_organized/images/original/train/Mass-Training_P_01134_RIGHT_CC_FULL.dcm\n",
      "DONE FULL: /datasets/mamografia/CBIS-DDSM_organized/images/original/train/Mass-Training_P_00419_RIGHT_MLO_FULL.dcm\n",
      "DONE FULL: /datasets/mamografia/CBIS-DDSM_organized/images/original/train/Mass-Training_P_00723_LEFT_MLO_FULL.dcm\n",
      "DONE FULL: /datasets/mamografia/CBIS-DDSM_organized/images/original/train/Mass-Training_P_01181_LEFT_CC_FULL.dcm\n",
      "DONE FULL: /datasets/mamografia/CBIS-DDSM_organized/images/original/train/Mass-Training_P_01491_RIGHT_MLO_FULL.dcm\n",
      "DONE FULL: /datasets/mamografia/CBIS-DDSM_organized/images/original/train/Mass-Training_P_01611_RIGHT_MLO_FULL.dcm\n",
      "DONE FULL: /datasets/mamografia/CBIS-DDSM_organized/images/original/train/Mass-Training_P_00094_RIGHT_MLO_FULL.dcm\n",
      "DONE FULL: /datasets/mamografia/CBIS-DDSM_organized/images/original/train/Mass-Training_P_01737_RIGHT_MLO_FULL.dcm\n",
      "DONE FULL: /datasets/mamografia/CBIS-DDSM_organized/images/original/train/Mass-Training_P_00226_LEFT_MLO_FULL.dcm\n",
      "DONE FULL: /datasets/mamografia/CBIS-DDSM_organized/images/original/train/Mass-Training_P_01150_LEFT_MLO_FULL.dcm\n",
      "DONE FULL: /datasets/mamografia/CBIS-DDSM_organized/images/original/train/Mass-Training_P_00710_RIGHT_CC_FULL.dcm\n",
      "DONE FULL: /datasets/mamografia/CBIS-DDSM_organized/images/original/train/Mass-Training_P_00836_LEFT_MLO_FULL.dcm\n",
      "DONE FULL: /datasets/mamografia/CBIS-DDSM_organized/images/original/train/Mass-Training_P_00495_RIGHT_MLO_FULL.dcm\n",
      "DONE FULL: /datasets/mamografia/CBIS-DDSM_organized/images/original/train/Mass-Training_P_01841_RIGHT_MLO_FULL.dcm\n",
      "DONE FULL: /datasets/mamografia/CBIS-DDSM_organized/images/original/train/Mass-Training_P_01485_LEFT_MLO_FULL.dcm\n",
      "DONE FULL: /datasets/mamografia/CBIS-DDSM_organized/images/original/train/Mass-Training_P_01052_LEFT_MLO_FULL.dcm\n",
      "DONE FULL: /datasets/mamografia/CBIS-DDSM_organized/images/original/train/Mass-Training_P_00776_RIGHT_MLO_FULL.dcm\n",
      "DONE FULL: /datasets/mamografia/CBIS-DDSM_organized/images/original/train/Mass-Training_P_01866_RIGHT_MLO_FULL.dcm\n",
      "DONE FULL: /datasets/mamografia/CBIS-DDSM_organized/images/original/train/Mass-Training_P_01612_LEFT_CC_FULL.dcm\n",
      "DONE FULL: /datasets/mamografia/CBIS-DDSM_organized/images/original/train/Mass-Training_P_00630_LEFT_MLO_FULL.dcm\n",
      "DONE FULL: /datasets/mamografia/CBIS-DDSM_organized/images/original/train/Mass-Training_P_00515_RIGHT_CC_FULL.dcm\n",
      "DONE FULL: /datasets/mamografia/CBIS-DDSM_organized/images/original/train/Mass-Training_P_00889_LEFT_MLO_FULL.dcm\n",
      "DONE FULL: /datasets/mamografia/CBIS-DDSM_organized/images/original/train/Mass-Training_P_01241_RIGHT_MLO_FULL.dcm\n",
      "DONE FULL: /datasets/mamografia/CBIS-DDSM_organized/images/original/train/Mass-Training_P_00519_RIGHT_CC_FULL.dcm\n",
      "DONE FULL: /datasets/mamografia/CBIS-DDSM_organized/images/original/train/Mass-Training_P_00728_RIGHT_CC_FULL.dcm\n",
      "DONE FULL: /datasets/mamografia/CBIS-DDSM_organized/images/original/train/Mass-Training_P_01356_LEFT_MLO_FULL.dcm\n",
      "DONE FULL: /datasets/mamografia/CBIS-DDSM_organized/images/original/train/Mass-Training_P_00982_RIGHT_CC_FULL.dcm\n",
      "DONE FULL: /datasets/mamografia/CBIS-DDSM_organized/images/original/train/Mass-Training_P_01201_LEFT_MLO_FULL.dcm\n",
      "DONE FULL: /datasets/mamografia/CBIS-DDSM_organized/images/original/train/Mass-Training_P_00737_LEFT_MLO_FULL.dcm\n",
      "DONE FULL: /datasets/mamografia/CBIS-DDSM_organized/images/original/train/Mass-Training_P_00939_RIGHT_CC_FULL.dcm\n",
      "DONE FULL: /datasets/mamografia/CBIS-DDSM_organized/images/original/train/Mass-Training_P_00984_RIGHT_MLO_FULL.dcm\n",
      "DONE FULL: /datasets/mamografia/CBIS-DDSM_organized/images/original/train/Mass-Training_P_01506_LEFT_MLO_FULL.dcm\n",
      "DONE FULL: /datasets/mamografia/CBIS-DDSM_organized/images/original/train/Mass-Training_P_00051_LEFT_CC_FULL.dcm\n",
      "DONE FULL: /datasets/mamografia/CBIS-DDSM_organized/images/original/train/Mass-Training_P_01088_LEFT_CC_FULL.dcm\n",
      "DONE FULL: /datasets/mamografia/CBIS-DDSM_organized/images/original/train/Mass-Training_P_00499_RIGHT_MLO_FULL.dcm\n",
      "DONE FULL: /datasets/mamografia/CBIS-DDSM_organized/images/original/train/Mass-Training_P_01115_RIGHT_CC_FULL.dcm\n",
      "DONE FULL: /datasets/mamografia/CBIS-DDSM_organized/images/original/train/Mass-Training_P_01262_RIGHT_MLO_FULL.dcm\n",
      "DONE FULL: /datasets/mamografia/CBIS-DDSM_organized/images/original/train/Mass-Training_P_00566_RIGHT_CC_FULL.dcm\n",
      "DONE FULL: /datasets/mamografia/CBIS-DDSM_organized/images/original/train/Mass-Training_P_00133_LEFT_CC_FULL.dcm\n",
      "DONE FULL: /datasets/mamografia/CBIS-DDSM_organized/images/original/train/Mass-Training_P_00095_LEFT_MLO_FULL.dcm\n",
      "DONE FULL: /datasets/mamografia/CBIS-DDSM_organized/images/original/train/Mass-Training_P_01674_LEFT_CC_FULL.dcm\n",
      "DONE FULL: /datasets/mamografia/CBIS-DDSM_organized/images/original/train/Mass-Training_P_01151_RIGHT_CC_FULL.dcm\n",
      "DONE FULL: /datasets/mamografia/CBIS-DDSM_organized/images/original/train/Mass-Training_P_01653_RIGHT_MLO_FULL.dcm\n",
      "DONE FULL: /datasets/mamografia/CBIS-DDSM_organized/images/original/train/Mass-Training_P_00726_RIGHT_CC_FULL.dcm\n",
      "DONE FULL: /datasets/mamografia/CBIS-DDSM_organized/images/original/train/Mass-Training_P_01364_LEFT_CC_FULL.dcm\n",
      "DONE FULL: /datasets/mamografia/CBIS-DDSM_organized/images/original/train/Mass-Training_P_00015_LEFT_MLO_FULL.dcm\n",
      "DONE FULL: /datasets/mamografia/CBIS-DDSM_organized/images/original/train/Mass-Training_P_00435_RIGHT_MLO_FULL.dcm\n",
      "DONE FULL: /datasets/mamografia/CBIS-DDSM_organized/images/original/train/Mass-Training_P_00384_RIGHT_MLO_FULL.dcm\n",
      "DONE FULL: /datasets/mamografia/CBIS-DDSM_organized/images/original/train/Mass-Training_P_01386_LEFT_CC_FULL.dcm\n",
      "DONE FULL: /datasets/mamografia/CBIS-DDSM_organized/images/original/train/Mass-Training_P_00836_LEFT_CC_FULL.dcm\n",
      "DONE FULL: /datasets/mamografia/CBIS-DDSM_organized/images/original/train/Mass-Training_P_00419_RIGHT_CC_FULL.dcm\n",
      "DONE FULL: /datasets/mamografia/CBIS-DDSM_organized/images/original/train/Mass-Training_P_00289_LEFT_CC_FULL.dcm\n",
      "DONE FULL: /datasets/mamografia/CBIS-DDSM_organized/images/original/train/Mass-Training_P_01733_RIGHT_MLO_FULL.dcm\n",
      "DONE FULL: /datasets/mamografia/CBIS-DDSM_organized/images/original/train/Mass-Training_P_01686_RIGHT_MLO_FULL.dcm\n",
      "DONE FULL: /datasets/mamografia/CBIS-DDSM_organized/images/original/train/Mass-Training_P_00898_LEFT_CC_FULL.dcm\n",
      "DONE FULL: /datasets/mamografia/CBIS-DDSM_organized/images/original/train/Mass-Training_P_00952_RIGHT_MLO_FULL.dcm\n",
      "DONE FULL: /datasets/mamografia/CBIS-DDSM_organized/images/original/train/Mass-Training_P_00929_LEFT_CC_FULL.dcm\n",
      "DONE FULL: /datasets/mamografia/CBIS-DDSM_organized/images/original/train/Mass-Training_P_01739_LEFT_MLO_FULL.dcm\n",
      "DONE FULL: /datasets/mamografia/CBIS-DDSM_organized/images/original/train/Mass-Training_P_00068_RIGHT_CC_FULL.dcm\n",
      "DONE FULL: /datasets/mamografia/CBIS-DDSM_organized/images/original/train/Mass-Training_P_01152_RIGHT_MLO_FULL.dcm\n",
      "DONE FULL: /datasets/mamografia/CBIS-DDSM_organized/images/original/train/Mass-Training_P_00240_RIGHT_CC_FULL.dcm\n",
      "DONE FULL: /datasets/mamografia/CBIS-DDSM_organized/images/original/train/Mass-Training_P_00995_LEFT_CC_FULL.dcm\n",
      "DONE FULL: /datasets/mamografia/CBIS-DDSM_organized/images/original/train/Mass-Training_P_00626_LEFT_CC_FULL.dcm\n",
      "DONE FULL: /datasets/mamografia/CBIS-DDSM_organized/images/original/train/Mass-Training_P_01499_RIGHT_MLO_FULL.dcm\n",
      "DONE FULL: /datasets/mamografia/CBIS-DDSM_organized/images/original/train/Mass-Training_P_01077_LEFT_CC_FULL.dcm\n",
      "DONE FULL: /datasets/mamografia/CBIS-DDSM_organized/images/original/train/Mass-Training_P_00108_LEFT_CC_FULL.dcm\n",
      "DONE FULL: /datasets/mamografia/CBIS-DDSM_organized/images/original/train/Mass-Training_P_01120_LEFT_MLO_FULL.dcm\n",
      "DONE FULL: /datasets/mamografia/CBIS-DDSM_organized/images/original/train/Mass-Training_P_00079_RIGHT_CC_FULL.dcm\n",
      "DONE FULL: /datasets/mamografia/CBIS-DDSM_organized/images/original/train/Mass-Training_P_01652_RIGHT_MLO_FULL.dcm\n",
      "DONE FULL: /datasets/mamografia/CBIS-DDSM_organized/images/original/train/Mass-Training_P_00401_LEFT_MLO_FULL.dcm\n",
      "DONE FULL: /datasets/mamografia/CBIS-DDSM_organized/images/original/train/Mass-Training_P_00440_RIGHT_MLO_FULL.dcm\n",
      "DONE FULL: /datasets/mamografia/CBIS-DDSM_organized/images/original/train/Mass-Training_P_01097_LEFT_MLO_FULL.dcm\n",
      "DONE FULL: /datasets/mamografia/CBIS-DDSM_organized/images/original/train/Mass-Training_P_00775_LEFT_CC_FULL.dcm\n",
      "DONE FULL: /datasets/mamografia/CBIS-DDSM_organized/images/original/train/Mass-Training_P_00229_LEFT_MLO_FULL.dcm\n",
      "DONE FULL: /datasets/mamografia/CBIS-DDSM_organized/images/original/train/Mass-Training_P_01761_LEFT_MLO_FULL.dcm\n",
      "DONE FULL: /datasets/mamografia/CBIS-DDSM_organized/images/original/train/Mass-Training_P_01785_RIGHT_MLO_FULL.dcm\n",
      "DONE FULL: /datasets/mamografia/CBIS-DDSM_organized/images/original/train/Mass-Training_P_00303_LEFT_MLO_FULL.dcm\n",
      "DONE FULL: /datasets/mamografia/CBIS-DDSM_organized/images/original/train/Mass-Training_P_00710_LEFT_CC_FULL.dcm\n",
      "DONE FULL: /datasets/mamografia/CBIS-DDSM_organized/images/original/train/Mass-Training_P_01212_RIGHT_MLO_FULL.dcm\n",
      "DONE FULL: /datasets/mamografia/CBIS-DDSM_organized/images/original/train/Mass-Training_P_01441_RIGHT_CC_FULL.dcm\n",
      "DONE FULL: /datasets/mamografia/CBIS-DDSM_organized/images/original/train/Mass-Training_P_01332_RIGHT_CC_FULL.dcm\n",
      "DONE FULL: /datasets/mamografia/CBIS-DDSM_organized/images/original/train/Mass-Training_P_00519_RIGHT_MLO_FULL.dcm\n",
      "DONE FULL: /datasets/mamografia/CBIS-DDSM_organized/images/original/train/Mass-Training_P_00166_RIGHT_CC_FULL.dcm\n",
      "DONE FULL: /datasets/mamografia/CBIS-DDSM_organized/images/original/train/Mass-Training_P_01442_RIGHT_CC_FULL.dcm\n",
      "DONE FULL: /datasets/mamografia/CBIS-DDSM_organized/images/original/train/Mass-Training_P_01572_RIGHT_CC_FULL.dcm\n",
      "DONE FULL: /datasets/mamografia/CBIS-DDSM_organized/images/original/train/Mass-Training_P_01849_RIGHT_CC_FULL.dcm\n",
      "DONE FULL: /datasets/mamografia/CBIS-DDSM_organized/images/original/train/Mass-Training_P_01803_RIGHT_CC_FULL.dcm\n",
      "DONE FULL: /datasets/mamografia/CBIS-DDSM_organized/images/original/train/Mass-Training_P_00484_RIGHT_CC_FULL.dcm\n",
      "DONE FULL: /datasets/mamografia/CBIS-DDSM_organized/images/original/train/Mass-Training_P_01226_LEFT_MLO_FULL.dcm\n",
      "DONE FULL: /datasets/mamografia/CBIS-DDSM_organized/images/original/train/Mass-Training_P_00289_LEFT_MLO_FULL.dcm\n",
      "DONE FULL: /datasets/mamografia/CBIS-DDSM_organized/images/original/train/Mass-Training_P_00376_RIGHT_MLO_FULL.dcm\n",
      "DONE FULL: /datasets/mamografia/CBIS-DDSM_organized/images/original/train/Mass-Training_P_00120_LEFT_CC_FULL.dcm\n",
      "DONE FULL: /datasets/mamografia/CBIS-DDSM_organized/images/original/train/Mass-Training_P_00080_RIGHT_CC_FULL.dcm\n",
      "DONE FULL: /datasets/mamografia/CBIS-DDSM_organized/images/original/train/Mass-Training_P_00915_RIGHT_CC_FULL.dcm\n",
      "DONE FULL: /datasets/mamografia/CBIS-DDSM_organized/images/original/train/Mass-Training_P_00732_LEFT_MLO_FULL.dcm\n",
      "DONE FULL: /datasets/mamografia/CBIS-DDSM_organized/images/original/train/Mass-Training_P_01608_RIGHT_CC_FULL.dcm\n",
      "DONE FULL: /datasets/mamografia/CBIS-DDSM_organized/images/original/train/Mass-Training_P_00678_LEFT_CC_FULL.dcm\n",
      "DONE FULL: /datasets/mamografia/CBIS-DDSM_organized/images/original/train/Mass-Training_P_00581_LEFT_MLO_FULL.dcm\n",
      "DONE FULL: /datasets/mamografia/CBIS-DDSM_organized/images/original/train/Mass-Training_P_01360_LEFT_MLO_FULL.dcm\n",
      "DONE FULL: /datasets/mamografia/CBIS-DDSM_organized/images/original/train/Mass-Training_P_01543_RIGHT_MLO_FULL.dcm\n",
      "DONE FULL: /datasets/mamografia/CBIS-DDSM_organized/images/original/train/Mass-Training_P_01671_LEFT_CC_FULL.dcm\n",
      "DONE FULL: /datasets/mamografia/CBIS-DDSM_organized/images/original/train/Mass-Training_P_00847_LEFT_MLO_FULL.dcm\n",
      "DONE FULL: /datasets/mamografia/CBIS-DDSM_organized/images/original/train/Mass-Training_P_00328_RIGHT_CC_FULL.dcm\n",
      "DONE FULL: /datasets/mamografia/CBIS-DDSM_organized/images/original/train/Mass-Training_P_01326_LEFT_CC_FULL.dcm\n",
      "DONE FULL: /datasets/mamografia/CBIS-DDSM_organized/images/original/train/Mass-Training_P_00370_RIGHT_MLO_FULL.dcm\n",
      "DONE FULL: /datasets/mamografia/CBIS-DDSM_organized/images/original/train/Mass-Training_P_00059_LEFT_MLO_FULL.dcm\n",
      "DONE FULL: /datasets/mamografia/CBIS-DDSM_organized/images/original/train/Mass-Training_P_01946_RIGHT_MLO_FULL.dcm\n",
      "DONE FULL: /datasets/mamografia/CBIS-DDSM_organized/images/original/train/Mass-Training_P_01635_LEFT_MLO_FULL.dcm\n",
      "DONE FULL: /datasets/mamografia/CBIS-DDSM_organized/images/original/train/Mass-Training_P_01633_RIGHT_MLO_FULL.dcm\n",
      "DONE FULL: /datasets/mamografia/CBIS-DDSM_organized/images/original/train/Mass-Training_P_01000_RIGHT_CC_FULL.dcm\n",
      "DONE FULL: /datasets/mamografia/CBIS-DDSM_organized/images/original/train/Mass-Training_P_01270_RIGHT_MLO_FULL.dcm\n",
      "DONE FULL: /datasets/mamografia/CBIS-DDSM_organized/images/original/train/Mass-Training_P_01070_LEFT_MLO_FULL.dcm\n",
      "DONE FULL: /datasets/mamografia/CBIS-DDSM_organized/images/original/train/Mass-Training_P_00754_LEFT_CC_FULL.dcm\n",
      "DONE FULL: /datasets/mamografia/CBIS-DDSM_organized/images/original/train/Mass-Training_P_01785_RIGHT_CC_FULL.dcm\n",
      "DONE FULL: /datasets/mamografia/CBIS-DDSM_organized/images/original/train/Mass-Training_P_00896_LEFT_CC_FULL.dcm\n",
      "DONE FULL: /datasets/mamografia/CBIS-DDSM_organized/images/original/train/Mass-Training_P_01634_LEFT_MLO_FULL.dcm\n",
      "DONE FULL: /datasets/mamografia/CBIS-DDSM_organized/images/original/train/Mass-Training_P_00586_LEFT_CC_FULL.dcm\n",
      "DONE FULL: /datasets/mamografia/CBIS-DDSM_organized/images/original/train/Mass-Training_P_00889_LEFT_CC_FULL.dcm\n",
      "DONE FULL: /datasets/mamografia/CBIS-DDSM_organized/images/original/train/Mass-Training_P_00166_RIGHT_MLO_FULL.dcm\n",
      "DONE FULL: /datasets/mamografia/CBIS-DDSM_organized/images/original/train/Mass-Training_P_00313_RIGHT_CC_FULL.dcm\n",
      "DONE FULL: /datasets/mamografia/CBIS-DDSM_organized/images/original/train/Mass-Training_P_01567_LEFT_MLO_FULL.dcm\n",
      "DONE FULL: /datasets/mamografia/CBIS-DDSM_organized/images/original/train/Mass-Training_P_00892_LEFT_MLO_FULL.dcm\n",
      "DONE FULL: /datasets/mamografia/CBIS-DDSM_organized/images/original/train/Mass-Training_P_01324_LEFT_MLO_FULL.dcm\n",
      "DONE FULL: /datasets/mamografia/CBIS-DDSM_organized/images/original/train/Mass-Training_P_01540_LEFT_MLO_FULL.dcm\n",
      "DONE FULL: /datasets/mamografia/CBIS-DDSM_organized/images/original/train/Mass-Training_P_00673_RIGHT_MLO_FULL.dcm\n",
      "DONE FULL: /datasets/mamografia/CBIS-DDSM_organized/images/original/train/Mass-Training_P_00094_RIGHT_CC_FULL.dcm\n",
      "DONE FULL: /datasets/mamografia/CBIS-DDSM_organized/images/original/train/Mass-Training_P_00746_LEFT_MLO_FULL.dcm\n",
      "DONE FULL: /datasets/mamografia/CBIS-DDSM_organized/images/original/train/Mass-Training_P_00844_RIGHT_MLO_FULL.dcm\n",
      "DONE FULL: /datasets/mamografia/CBIS-DDSM_organized/images/original/train/Mass-Training_P_00742_LEFT_MLO_FULL.dcm\n",
      "DONE FULL: /datasets/mamografia/CBIS-DDSM_organized/images/original/train/Mass-Training_P_00092_LEFT_MLO_FULL.dcm\n",
      "DONE FULL: /datasets/mamografia/CBIS-DDSM_organized/images/original/train/Mass-Training_P_00901_RIGHT_CC_FULL.dcm\n",
      "DONE FULL: /datasets/mamografia/CBIS-DDSM_organized/images/original/train/Mass-Training_P_01373_RIGHT_MLO_FULL.dcm\n",
      "DONE FULL: /datasets/mamografia/CBIS-DDSM_organized/images/original/train/Mass-Training_P_01890_LEFT_MLO_FULL.dcm\n",
      "DONE FULL: /datasets/mamografia/CBIS-DDSM_organized/images/original/train/Mass-Training_P_01799_LEFT_CC_FULL.dcm\n",
      "DONE FULL: /datasets/mamografia/CBIS-DDSM_organized/images/original/train/Mass-Training_P_01565_RIGHT_MLO_FULL.dcm\n",
      "DONE FULL: /datasets/mamografia/CBIS-DDSM_organized/images/original/train/Mass-Training_P_00779_LEFT_MLO_FULL.dcm\n",
      "DONE FULL: /datasets/mamografia/CBIS-DDSM_organized/images/original/train/Mass-Training_P_01302_RIGHT_CC_FULL.dcm\n",
      "DONE FULL: /datasets/mamografia/CBIS-DDSM_organized/images/original/train/Mass-Training_P_01482_RIGHT_CC_FULL.dcm\n",
      "DONE FULL: /datasets/mamografia/CBIS-DDSM_organized/images/original/train/Mass-Training_P_01304_RIGHT_MLO_FULL.dcm\n",
      "DONE FULL: /datasets/mamografia/CBIS-DDSM_organized/images/original/train/Mass-Training_P_01649_LEFT_CC_FULL.dcm\n",
      "DONE FULL: /datasets/mamografia/CBIS-DDSM_organized/images/original/train/Mass-Training_P_00949_LEFT_CC_FULL.dcm\n",
      "DONE FULL: /datasets/mamografia/CBIS-DDSM_organized/images/original/train/Mass-Training_P_00572_RIGHT_MLO_FULL.dcm\n",
      "DONE FULL: /datasets/mamografia/CBIS-DDSM_organized/images/original/train/Mass-Training_P_00831_RIGHT_MLO_FULL.dcm\n",
      "DONE FULL: /datasets/mamografia/CBIS-DDSM_organized/images/original/train/Mass-Training_P_01439_LEFT_MLO_FULL.dcm\n",
      "DONE FULL: /datasets/mamografia/CBIS-DDSM_organized/images/original/train/Mass-Training_P_00298_LEFT_MLO_FULL.dcm\n",
      "DONE FULL: /datasets/mamografia/CBIS-DDSM_organized/images/original/train/Mass-Training_P_01475_LEFT_CC_FULL.dcm\n",
      "DONE FULL: /datasets/mamografia/CBIS-DDSM_organized/images/original/train/Mass-Training_P_00239_RIGHT_CC_FULL.dcm\n",
      "DONE FULL: /datasets/mamografia/CBIS-DDSM_organized/images/original/train/Mass-Training_P_01364_LEFT_MLO_FULL.dcm\n",
      "DONE FULL: /datasets/mamografia/CBIS-DDSM_organized/images/original/train/Mass-Training_P_01821_LEFT_MLO_FULL.dcm\n",
      "DONE FULL: /datasets/mamografia/CBIS-DDSM_organized/images/original/train/Mass-Training_P_01668_LEFT_CC_FULL.dcm\n",
      "DONE FULL: /datasets/mamografia/CBIS-DDSM_organized/images/original/train/Mass-Training_P_01264_LEFT_MLO_FULL.dcm\n",
      "DONE FULL: /datasets/mamografia/CBIS-DDSM_organized/images/original/train/Mass-Training_P_01710_LEFT_CC_FULL.dcm\n",
      "DONE FULL: /datasets/mamografia/CBIS-DDSM_organized/images/original/train/Mass-Training_P_01826_RIGHT_MLO_FULL.dcm\n",
      "DONE FULL: /datasets/mamografia/CBIS-DDSM_organized/images/original/train/Mass-Training_P_00332_LEFT_CC_FULL.dcm\n",
      "DONE FULL: /datasets/mamografia/CBIS-DDSM_organized/images/original/train/Mass-Training_P_01702_RIGHT_MLO_FULL.dcm\n",
      "DONE FULL: /datasets/mamografia/CBIS-DDSM_organized/images/original/train/Mass-Training_P_00137_LEFT_MLO_FULL.dcm\n",
      "DONE FULL: /datasets/mamografia/CBIS-DDSM_organized/images/original/train/Mass-Training_P_00617_RIGHT_MLO_FULL.dcm\n",
      "DONE FULL: /datasets/mamografia/CBIS-DDSM_organized/images/original/train/Mass-Training_P_01048_RIGHT_CC_FULL.dcm\n",
      "DONE FULL: /datasets/mamografia/CBIS-DDSM_organized/images/original/train/Mass-Training_P_00849_LEFT_MLO_FULL.dcm\n",
      "DONE FULL: /datasets/mamografia/CBIS-DDSM_organized/images/original/train/Mass-Training_P_01283_RIGHT_MLO_FULL.dcm\n",
      "DONE FULL: /datasets/mamografia/CBIS-DDSM_organized/images/original/train/Mass-Training_P_00803_LEFT_CC_FULL.dcm\n",
      "DONE FULL: /datasets/mamografia/CBIS-DDSM_organized/images/original/train/Mass-Training_P_00423_RIGHT_CC_FULL.dcm\n",
      "DONE FULL: /datasets/mamografia/CBIS-DDSM_organized/images/original/train/Mass-Training_P_00604_LEFT_CC_FULL.dcm\n",
      "DONE FULL: /datasets/mamografia/CBIS-DDSM_organized/images/original/train/Mass-Training_P_00399_RIGHT_CC_FULL.dcm\n",
      "DONE FULL: /datasets/mamografia/CBIS-DDSM_organized/images/original/train/Mass-Training_P_01604_LEFT_CC_FULL.dcm\n",
      "DONE FULL: /datasets/mamografia/CBIS-DDSM_organized/images/original/train/Mass-Training_P_01619_LEFT_CC_FULL.dcm\n",
      "DONE FULL: /datasets/mamografia/CBIS-DDSM_organized/images/original/train/Mass-Training_P_01878_RIGHT_CC_FULL.dcm\n",
      "DONE FULL: /datasets/mamografia/CBIS-DDSM_organized/images/original/train/Mass-Training_P_00428_LEFT_CC_FULL.dcm\n",
      "DONE FULL: /datasets/mamografia/CBIS-DDSM_organized/images/original/train/Mass-Training_P_01178_RIGHT_MLO_FULL.dcm\n",
      "DONE FULL: /datasets/mamografia/CBIS-DDSM_organized/images/original/train/Mass-Training_P_00731_RIGHT_MLO_FULL.dcm\n",
      "DONE FULL: /datasets/mamografia/CBIS-DDSM_organized/images/original/train/Mass-Training_P_00978_RIGHT_MLO_FULL.dcm\n",
      "DONE FULL: /datasets/mamografia/CBIS-DDSM_organized/images/original/train/Mass-Training_P_01516_RIGHT_CC_FULL.dcm\n",
      "DONE FULL: /datasets/mamografia/CBIS-DDSM_organized/images/original/train/Mass-Training_P_00441_RIGHT_MLO_FULL.dcm\n",
      "DONE FULL: /datasets/mamografia/CBIS-DDSM_organized/images/original/train/Mass-Training_P_00675_LEFT_CC_FULL.dcm\n",
      "DONE FULL: /datasets/mamografia/CBIS-DDSM_organized/images/original/train/Mass-Training_P_00436_LEFT_CC_FULL.dcm\n",
      "DONE FULL: /datasets/mamografia/CBIS-DDSM_organized/images/original/train/Mass-Training_P_01887_LEFT_CC_FULL.dcm\n",
      "DONE FULL: /datasets/mamografia/CBIS-DDSM_organized/images/original/train/Mass-Training_P_01646_LEFT_CC_FULL.dcm\n",
      "DONE FULL: /datasets/mamografia/CBIS-DDSM_organized/images/original/train/Mass-Training_P_00573_RIGHT_MLO_FULL.dcm\n",
      "DONE FULL: /datasets/mamografia/CBIS-DDSM_organized/images/original/train/Mass-Training_P_01051_RIGHT_CC_FULL.dcm\n",
      "DONE FULL: /datasets/mamografia/CBIS-DDSM_organized/images/original/train/Mass-Training_P_01374_RIGHT_MLO_FULL.dcm\n",
      "DONE FULL: /datasets/mamografia/CBIS-DDSM_organized/images/original/train/Mass-Training_P_00884_LEFT_MLO_FULL.dcm\n",
      "DONE FULL: /datasets/mamografia/CBIS-DDSM_organized/images/original/train/Mass-Training_P_00146_RIGHT_MLO_FULL.dcm\n",
      "DONE FULL: /datasets/mamografia/CBIS-DDSM_organized/images/original/train/Mass-Training_P_01717_LEFT_MLO_FULL.dcm\n",
      "DONE FULL: /datasets/mamografia/CBIS-DDSM_organized/images/original/train/Mass-Training_P_01302_RIGHT_MLO_FULL.dcm\n",
      "DONE FULL: /datasets/mamografia/CBIS-DDSM_organized/images/original/train/Mass-Training_P_00637_RIGHT_CC_FULL.dcm\n",
      "DONE FULL: /datasets/mamografia/CBIS-DDSM_organized/images/original/train/Mass-Training_P_01079_RIGHT_MLO_FULL.dcm\n",
      "DONE FULL: /datasets/mamografia/CBIS-DDSM_organized/images/original/train/Mass-Training_P_00851_LEFT_MLO_FULL.dcm\n",
      "DONE FULL: /datasets/mamografia/CBIS-DDSM_organized/images/original/train/Mass-Training_P_01946_RIGHT_CC_FULL.dcm\n",
      "DONE FULL: /datasets/mamografia/CBIS-DDSM_organized/images/original/train/Mass-Training_P_00961_LEFT_MLO_FULL.dcm\n",
      "DONE FULL: /datasets/mamografia/CBIS-DDSM_organized/images/original/train/Mass-Training_P_01499_RIGHT_CC_FULL.dcm\n",
      "DONE FULL: /datasets/mamografia/CBIS-DDSM_organized/images/original/train/Mass-Training_P_01382_LEFT_CC_FULL.dcm\n",
      "DONE FULL: /datasets/mamografia/CBIS-DDSM_organized/images/original/train/Mass-Training_P_01753_RIGHT_CC_FULL.dcm\n",
      "DONE FULL: /datasets/mamografia/CBIS-DDSM_organized/images/original/train/Mass-Training_P_01540_LEFT_CC_FULL.dcm\n",
      "DONE FULL: /datasets/mamografia/CBIS-DDSM_organized/images/original/train/Mass-Training_P_01231_LEFT_CC_FULL.dcm\n",
      "DONE FULL: /datasets/mamografia/CBIS-DDSM_organized/images/original/train/Mass-Training_P_00572_RIGHT_CC_FULL.dcm\n",
      "DONE FULL: /datasets/mamografia/CBIS-DDSM_organized/images/original/train/Mass-Training_P_00978_RIGHT_CC_FULL.dcm\n",
      "DONE FULL: /datasets/mamografia/CBIS-DDSM_organized/images/original/train/Mass-Training_P_00122_RIGHT_MLO_FULL.dcm\n",
      "DONE FULL: /datasets/mamografia/CBIS-DDSM_organized/images/original/train/Mass-Training_P_00242_RIGHT_CC_FULL.dcm\n",
      "DONE FULL: /datasets/mamografia/CBIS-DDSM_organized/images/original/train/Mass-Training_P_00577_RIGHT_CC_FULL.dcm\n",
      "DONE FULL: /datasets/mamografia/CBIS-DDSM_organized/images/original/train/Mass-Training_P_01389_RIGHT_CC_FULL.dcm\n",
      "DONE FULL: /datasets/mamografia/CBIS-DDSM_organized/images/original/train/Mass-Training_P_00090_LEFT_CC_FULL.dcm\n",
      "DONE FULL: /datasets/mamografia/CBIS-DDSM_organized/images/original/train/Mass-Training_P_00891_RIGHT_CC_FULL.dcm\n",
      "DONE FULL: /datasets/mamografia/CBIS-DDSM_organized/images/original/train/Mass-Training_P_00207_LEFT_CC_FULL.dcm\n",
      "DONE FULL: /datasets/mamografia/CBIS-DDSM_organized/images/original/train/Mass-Training_P_00414_LEFT_MLO_FULL.dcm\n",
      "DONE FULL: /datasets/mamografia/CBIS-DDSM_organized/images/original/train/Mass-Training_P_01418_RIGHT_MLO_FULL.dcm\n",
      "DONE FULL: /datasets/mamografia/CBIS-DDSM_organized/images/original/train/Mass-Training_P_01273_RIGHT_CC_FULL.dcm\n",
      "DONE FULL: /datasets/mamografia/CBIS-DDSM_organized/images/original/train/Mass-Training_P_01715_RIGHT_MLO_FULL.dcm\n",
      "DONE FULL: /datasets/mamografia/CBIS-DDSM_organized/images/original/train/Mass-Training_P_01394_RIGHT_CC_FULL.dcm\n",
      "DONE FULL: /datasets/mamografia/CBIS-DDSM_organized/images/original/train/Mass-Training_P_01131_LEFT_MLO_FULL.dcm\n",
      "DONE FULL: /datasets/mamografia/CBIS-DDSM_organized/images/original/train/Mass-Training_P_00206_RIGHT_MLO_FULL.dcm\n",
      "DONE FULL: /datasets/mamografia/CBIS-DDSM_organized/images/original/train/Mass-Training_P_01573_RIGHT_CC_FULL.dcm\n",
      "DONE FULL: /datasets/mamografia/CBIS-DDSM_organized/images/original/train/Mass-Training_P_00475_RIGHT_MLO_FULL.dcm\n",
      "DONE FULL: /datasets/mamografia/CBIS-DDSM_organized/images/original/train/Mass-Training_P_02092_LEFT_CC_FULL.dcm\n",
      "DONE FULL: /datasets/mamografia/CBIS-DDSM_organized/images/original/train/Mass-Training_P_01350_RIGHT_MLO_FULL.dcm\n",
      "DONE FULL: /datasets/mamografia/CBIS-DDSM_organized/images/original/train/Mass-Training_P_01034_RIGHT_MLO_FULL.dcm\n",
      "DONE FULL: /datasets/mamografia/CBIS-DDSM_organized/images/original/train/Mass-Training_P_00065_LEFT_CC_FULL.dcm\n",
      "DONE FULL: /datasets/mamografia/CBIS-DDSM_organized/images/original/train/Mass-Training_P_00107_RIGHT_MLO_FULL.dcm\n",
      "DONE FULL: /datasets/mamografia/CBIS-DDSM_organized/images/original/train/Mass-Training_P_00279_LEFT_CC_FULL.dcm\n",
      "DONE FULL: /datasets/mamografia/CBIS-DDSM_organized/images/original/train/Mass-Training_P_01248_LEFT_CC_FULL.dcm\n",
      "DONE FULL: /datasets/mamografia/CBIS-DDSM_organized/images/original/train/Mass-Training_P_00596_LEFT_CC_FULL.dcm\n",
      "DONE FULL: /datasets/mamografia/CBIS-DDSM_organized/images/original/train/Mass-Training_P_01712_RIGHT_MLO_FULL.dcm\n",
      "DONE FULL: /datasets/mamografia/CBIS-DDSM_organized/images/original/train/Mass-Training_P_00515_LEFT_CC_FULL.dcm\n",
      "DONE FULL: /datasets/mamografia/CBIS-DDSM_organized/images/original/train/Mass-Training_P_01153_RIGHT_CC_FULL.dcm\n",
      "DONE FULL: /datasets/mamografia/CBIS-DDSM_organized/images/original/train/Mass-Training_P_01798_LEFT_CC_FULL.dcm\n",
      "DONE FULL: /datasets/mamografia/CBIS-DDSM_organized/images/original/train/Mass-Training_P_00710_LEFT_MLO_FULL.dcm\n",
      "DONE FULL: /datasets/mamografia/CBIS-DDSM_organized/images/original/train/Mass-Training_P_00061_RIGHT_CC_FULL.dcm\n",
      "DONE FULL: /datasets/mamografia/CBIS-DDSM_organized/images/original/train/Mass-Training_P_01138_RIGHT_MLO_FULL.dcm\n",
      "DONE FULL: /datasets/mamografia/CBIS-DDSM_organized/images/original/train/Mass-Training_P_00543_RIGHT_CC_FULL.dcm\n",
      "DONE FULL: /datasets/mamografia/CBIS-DDSM_organized/images/original/train/Mass-Training_P_00106_LEFT_MLO_FULL.dcm\n",
      "DONE FULL: /datasets/mamografia/CBIS-DDSM_organized/images/original/train/Mass-Training_P_00137_LEFT_CC_FULL.dcm\n",
      "DONE FULL: /datasets/mamografia/CBIS-DDSM_organized/images/original/train/Mass-Training_P_01274_RIGHT_MLO_FULL.dcm\n",
      "DONE FULL: /datasets/mamografia/CBIS-DDSM_organized/images/original/train/Mass-Training_P_01805_LEFT_MLO_FULL.dcm\n",
      "DONE FULL: /datasets/mamografia/CBIS-DDSM_organized/images/original/train/Mass-Training_P_00408_RIGHT_MLO_FULL.dcm\n",
      "DONE FULL: /datasets/mamografia/CBIS-DDSM_organized/images/original/train/Mass-Training_P_00199_LEFT_CC_FULL.dcm\n",
      "DONE FULL: /datasets/mamografia/CBIS-DDSM_organized/images/original/train/Mass-Training_P_00265_RIGHT_MLO_FULL.dcm\n",
      "DONE FULL: /datasets/mamografia/CBIS-DDSM_organized/images/original/train/Mass-Training_P_00719_LEFT_MLO_FULL.dcm\n",
      "DONE FULL: /datasets/mamografia/CBIS-DDSM_organized/images/original/train/Mass-Training_P_00810_RIGHT_MLO_FULL.dcm\n",
      "DONE FULL: /datasets/mamografia/CBIS-DDSM_organized/images/original/train/Mass-Training_P_00465_LEFT_MLO_FULL.dcm\n",
      "DONE FULL: /datasets/mamografia/CBIS-DDSM_organized/images/original/train/Mass-Training_P_01652_RIGHT_CC_FULL.dcm\n",
      "DONE FULL: /datasets/mamografia/CBIS-DDSM_organized/images/original/train/Mass-Training_P_01328_LEFT_MLO_FULL.dcm\n",
      "DONE FULL: /datasets/mamografia/CBIS-DDSM_organized/images/original/train/Mass-Training_P_00950_LEFT_CC_FULL.dcm\n",
      "DONE FULL: /datasets/mamografia/CBIS-DDSM_organized/images/original/train/Mass-Training_P_01801_RIGHT_CC_FULL.dcm\n",
      "DONE FULL: /datasets/mamografia/CBIS-DDSM_organized/images/original/train/Mass-Training_P_01775_LEFT_MLO_FULL.dcm\n",
      "DONE FULL: /datasets/mamografia/CBIS-DDSM_organized/images/original/train/Mass-Training_P_00828_LEFT_CC_FULL.dcm\n",
      "DONE FULL: /datasets/mamografia/CBIS-DDSM_organized/images/original/train/Mass-Training_P_01280_RIGHT_CC_FULL.dcm\n",
      "DONE FULL: /datasets/mamografia/CBIS-DDSM_organized/images/original/train/Mass-Training_P_01620_RIGHT_CC_FULL.dcm\n",
      "DONE FULL: /datasets/mamografia/CBIS-DDSM_organized/images/original/train/Mass-Training_P_01593_LEFT_MLO_FULL.dcm\n",
      "DONE FULL: /datasets/mamografia/CBIS-DDSM_organized/images/original/train/Mass-Training_P_01529_RIGHT_CC_FULL.dcm\n",
      "DONE FULL: /datasets/mamografia/CBIS-DDSM_organized/images/original/train/Mass-Training_P_01216_RIGHT_CC_FULL.dcm\n",
      "DONE FULL: /datasets/mamografia/CBIS-DDSM_organized/images/original/train/Mass-Training_P_01805_RIGHT_MLO_FULL.dcm\n",
      "DONE FULL: /datasets/mamografia/CBIS-DDSM_organized/images/original/train/Mass-Training_P_01504_LEFT_CC_FULL.dcm\n",
      "DONE FULL: /datasets/mamografia/CBIS-DDSM_organized/images/original/train/Mass-Training_P_01682_LEFT_MLO_FULL.dcm\n",
      "DONE FULL: /datasets/mamografia/CBIS-DDSM_organized/images/original/train/Mass-Training_P_01501_RIGHT_CC_FULL.dcm\n",
      "DONE FULL: /datasets/mamografia/CBIS-DDSM_organized/images/original/train/Mass-Training_P_00068_RIGHT_MLO_FULL.dcm\n",
      "DONE FULL: /datasets/mamografia/CBIS-DDSM_organized/images/original/train/Mass-Training_P_00670_RIGHT_CC_FULL.dcm\n",
      "DONE FULL: /datasets/mamografia/CBIS-DDSM_organized/images/original/train/Mass-Training_P_01261_LEFT_CC_FULL.dcm\n",
      "DONE FULL: /datasets/mamografia/CBIS-DDSM_organized/images/original/train/Mass-Training_P_01057_RIGHT_MLO_FULL.dcm\n",
      "DONE FULL: /datasets/mamografia/CBIS-DDSM_organized/images/original/train/Mass-Training_P_00059_LEFT_CC_FULL.dcm\n",
      "DONE FULL: /datasets/mamografia/CBIS-DDSM_organized/images/original/train/Mass-Training_P_00241_RIGHT_MLO_FULL.dcm\n",
      "DONE FULL: /datasets/mamografia/CBIS-DDSM_organized/images/original/train/Mass-Training_P_00283_RIGHT_MLO_FULL.dcm\n",
      "DONE FULL: /datasets/mamografia/CBIS-DDSM_organized/images/original/train/Mass-Training_P_00911_LEFT_CC_FULL.dcm\n",
      "DONE FULL: /datasets/mamografia/CBIS-DDSM_organized/images/original/train/Mass-Training_P_00566_RIGHT_MLO_FULL.dcm\n",
      "DONE FULL: /datasets/mamografia/CBIS-DDSM_organized/images/original/train/Mass-Training_P_00661_LEFT_CC_FULL.dcm\n",
      "DONE FULL: /datasets/mamografia/CBIS-DDSM_organized/images/original/train/Mass-Training_P_01155_RIGHT_CC_FULL.dcm\n",
      "DONE FULL: /datasets/mamografia/CBIS-DDSM_organized/images/original/train/Mass-Training_P_00695_RIGHT_CC_FULL.dcm\n",
      "DONE FULL: /datasets/mamografia/CBIS-DDSM_organized/images/original/train/Mass-Training_P_00225_RIGHT_CC_FULL.dcm\n",
      "DONE FULL: /datasets/mamografia/CBIS-DDSM_organized/images/original/train/Mass-Training_P_01481_RIGHT_MLO_FULL.dcm\n",
      "DONE FULL: /datasets/mamografia/CBIS-DDSM_organized/images/original/train/Mass-Training_P_00026_LEFT_CC_FULL.dcm\n",
      "DONE FULL: /datasets/mamografia/CBIS-DDSM_organized/images/original/train/Mass-Training_P_00225_RIGHT_MLO_FULL.dcm\n",
      "DONE FULL: /datasets/mamografia/CBIS-DDSM_organized/images/original/train/Mass-Training_P_00224_RIGHT_CC_FULL.dcm\n",
      "DONE FULL: /datasets/mamografia/CBIS-DDSM_organized/images/original/train/Mass-Training_P_01744_LEFT_MLO_FULL.dcm\n",
      "DONE FULL: /datasets/mamografia/CBIS-DDSM_organized/images/original/train/Mass-Training_P_00475_LEFT_MLO_FULL.dcm\n",
      "DONE FULL: /datasets/mamografia/CBIS-DDSM_organized/images/original/train/Mass-Training_P_00444_LEFT_MLO_FULL.dcm\n",
      "DONE FULL: /datasets/mamografia/CBIS-DDSM_organized/images/original/train/Mass-Training_P_00080_RIGHT_MLO_FULL.dcm\n",
      "DONE FULL: /datasets/mamografia/CBIS-DDSM_organized/images/original/train/Mass-Training_P_00294_LEFT_MLO_FULL.dcm\n",
      "DONE FULL: /datasets/mamografia/CBIS-DDSM_organized/images/original/train/Mass-Training_P_01749_LEFT_CC_FULL.dcm\n",
      "DONE FULL: /datasets/mamografia/CBIS-DDSM_organized/images/original/train/Mass-Training_P_01209_LEFT_CC_FULL.dcm\n",
      "DONE FULL: /datasets/mamografia/CBIS-DDSM_organized/images/original/train/Mass-Training_P_01817_RIGHT_MLO_FULL.dcm\n",
      "DONE FULL: /datasets/mamografia/CBIS-DDSM_organized/images/original/train/Mass-Training_P_01203_RIGHT_MLO_FULL.dcm\n",
      "DONE FULL: /datasets/mamografia/CBIS-DDSM_organized/images/original/train/Mass-Training_P_01503_LEFT_MLO_FULL.dcm\n",
      "DONE FULL: /datasets/mamografia/CBIS-DDSM_organized/images/original/train/Mass-Training_P_00841_RIGHT_CC_FULL.dcm\n",
      "DONE FULL: /datasets/mamografia/CBIS-DDSM_organized/images/original/train/Mass-Training_P_00982_RIGHT_MLO_FULL.dcm\n",
      "DONE FULL: /datasets/mamografia/CBIS-DDSM_organized/images/original/train/Mass-Training_P_00451_LEFT_CC_FULL.dcm\n",
      "DONE FULL: /datasets/mamografia/CBIS-DDSM_organized/images/original/train/Mass-Training_P_00354_LEFT_MLO_FULL.dcm\n",
      "DONE FULL: /datasets/mamografia/CBIS-DDSM_organized/images/original/train/Mass-Training_P_00396_LEFT_MLO_FULL.dcm\n",
      "DONE FULL: /datasets/mamografia/CBIS-DDSM_organized/images/original/train/Mass-Training_P_00027_RIGHT_CC_FULL.dcm\n",
      "DONE FULL: /datasets/mamografia/CBIS-DDSM_organized/images/original/train/Mass-Training_P_00702_RIGHT_MLO_FULL.dcm\n",
      "DONE FULL: /datasets/mamografia/CBIS-DDSM_organized/images/original/train/Mass-Training_P_01826_RIGHT_CC_FULL.dcm\n",
      "DONE FULL: /datasets/mamografia/CBIS-DDSM_organized/images/original/train/Mass-Training_P_00611_RIGHT_MLO_FULL.dcm\n",
      "DONE FULL: /datasets/mamografia/CBIS-DDSM_organized/images/original/train/Mass-Training_P_00703_LEFT_MLO_FULL.dcm\n",
      "DONE FULL: /datasets/mamografia/CBIS-DDSM_organized/images/original/train/Mass-Training_P_00863_RIGHT_CC_FULL.dcm\n",
      "DONE FULL: /datasets/mamografia/CBIS-DDSM_organized/images/original/train/Mass-Training_P_00119_LEFT_CC_FULL.dcm\n",
      "DONE FULL: /datasets/mamografia/CBIS-DDSM_organized/images/original/train/Mass-Training_P_00174_RIGHT_CC_FULL.dcm\n",
      "DONE FULL: /datasets/mamografia/CBIS-DDSM_organized/images/original/train/Mass-Training_P_01634_LEFT_CC_FULL.dcm\n",
      "DONE FULL: /datasets/mamografia/CBIS-DDSM_organized/images/original/train/Mass-Training_P_01248_LEFT_MLO_FULL.dcm\n",
      "DONE FULL: /datasets/mamografia/CBIS-DDSM_organized/images/original/train/Mass-Training_P_00412_RIGHT_MLO_FULL.dcm\n",
      "DONE FULL: /datasets/mamografia/CBIS-DDSM_organized/images/original/train/Mass-Training_P_00553_LEFT_MLO_FULL.dcm\n",
      "DONE FULL: /datasets/mamografia/CBIS-DDSM_organized/images/original/train/Mass-Training_P_01405_RIGHT_CC_FULL.dcm\n",
      "DONE FULL: /datasets/mamografia/CBIS-DDSM_organized/images/original/train/Mass-Training_P_00871_LEFT_MLO_FULL.dcm\n",
      "DONE FULL: /datasets/mamografia/CBIS-DDSM_organized/images/original/train/Mass-Training_P_02033_RIGHT_CC_FULL.dcm\n",
      "DONE FULL: /datasets/mamografia/CBIS-DDSM_organized/images/original/train/Mass-Training_P_01687_RIGHT_MLO_FULL.dcm\n",
      "DONE FULL: /datasets/mamografia/CBIS-DDSM_organized/images/original/train/Mass-Training_P_01175_RIGHT_MLO_FULL.dcm\n",
      "DONE FULL: /datasets/mamografia/CBIS-DDSM_organized/images/original/train/Mass-Training_P_00396_LEFT_CC_FULL.dcm\n",
      "DONE FULL: /datasets/mamografia/CBIS-DDSM_organized/images/original/train/Mass-Training_P_00450_LEFT_MLO_FULL.dcm\n",
      "DONE FULL: /datasets/mamografia/CBIS-DDSM_organized/images/original/train/Mass-Training_P_00984_RIGHT_CC_FULL.dcm\n",
      "DONE FULL: /datasets/mamografia/CBIS-DDSM_organized/images/original/train/Mass-Training_P_01656_LEFT_CC_FULL.dcm\n",
      "DONE FULL: /datasets/mamografia/CBIS-DDSM_organized/images/original/train/Mass-Training_P_01749_LEFT_MLO_FULL.dcm\n",
      "DONE FULL: /datasets/mamografia/CBIS-DDSM_organized/images/original/train/Mass-Training_P_01776_RIGHT_CC_FULL.dcm\n",
      "DONE FULL: /datasets/mamografia/CBIS-DDSM_organized/images/original/train/Mass-Training_P_01268_RIGHT_MLO_FULL.dcm\n",
      "DONE FULL: /datasets/mamografia/CBIS-DDSM_organized/images/original/train/Mass-Training_P_00504_RIGHT_MLO_FULL.dcm\n",
      "DONE FULL: /datasets/mamografia/CBIS-DDSM_organized/images/original/train/Mass-Training_P_01123_LEFT_CC_FULL.dcm\n",
      "DONE FULL: /datasets/mamografia/CBIS-DDSM_organized/images/original/train/Mass-Training_P_01138_RIGHT_CC_FULL.dcm\n",
      "DONE FULL: /datasets/mamografia/CBIS-DDSM_organized/images/original/train/Mass-Training_P_01297_LEFT_MLO_FULL.dcm\n",
      "DONE FULL: /datasets/mamografia/CBIS-DDSM_organized/images/original/train/Mass-Training_P_01621_RIGHT_MLO_FULL.dcm\n",
      "DONE FULL: /datasets/mamografia/CBIS-DDSM_organized/images/original/train/Mass-Training_P_01632_LEFT_CC_FULL.dcm\n",
      "DONE FULL: /datasets/mamografia/CBIS-DDSM_organized/images/original/train/Mass-Training_P_00660_LEFT_CC_FULL.dcm\n",
      "DONE FULL: /datasets/mamografia/CBIS-DDSM_organized/images/original/train/Mass-Training_P_00487_RIGHT_CC_FULL.dcm\n",
      "DONE FULL: /datasets/mamografia/CBIS-DDSM_organized/images/original/train/Mass-Training_P_01725_RIGHT_MLO_FULL.dcm\n",
      "DONE FULL: /datasets/mamografia/CBIS-DDSM_organized/images/original/train/Mass-Training_P_01164_RIGHT_MLO_FULL.dcm\n",
      "DONE FULL: /datasets/mamografia/CBIS-DDSM_organized/images/original/train/Mass-Training_P_00320_LEFT_MLO_FULL.dcm\n",
      "DONE FULL: /datasets/mamografia/CBIS-DDSM_organized/images/original/train/Mass-Training_P_01644_LEFT_MLO_FULL.dcm\n",
      "DONE FULL: /datasets/mamografia/CBIS-DDSM_organized/images/original/train/Mass-Training_P_00401_LEFT_CC_FULL.dcm\n",
      "DONE FULL: /datasets/mamografia/CBIS-DDSM_organized/images/original/train/Mass-Training_P_00134_LEFT_CC_FULL.dcm\n",
      "DONE FULL: /datasets/mamografia/CBIS-DDSM_organized/images/original/train/Mass-Training_P_01152_RIGHT_CC_FULL.dcm\n",
      "DONE FULL: /datasets/mamografia/CBIS-DDSM_organized/images/original/train/Mass-Training_P_00023_RIGHT_MLO_FULL.dcm\n",
      "DONE FULL: /datasets/mamografia/CBIS-DDSM_organized/images/original/train/Mass-Training_P_01514_LEFT_CC_FULL.dcm\n",
      "DONE FULL: /datasets/mamografia/CBIS-DDSM_organized/images/original/train/Mass-Training_P_00045_LEFT_CC_FULL.dcm\n",
      "DONE FULL: /datasets/mamografia/CBIS-DDSM_organized/images/original/train/Mass-Training_P_00450_LEFT_CC_FULL.dcm\n",
      "DONE FULL: /datasets/mamografia/CBIS-DDSM_organized/images/original/train/Mass-Training_P_00660_LEFT_MLO_FULL.dcm\n",
      "DONE FULL: /datasets/mamografia/CBIS-DDSM_organized/images/original/train/Mass-Training_P_01142_RIGHT_MLO_FULL.dcm\n",
      "DONE FULL: /datasets/mamografia/CBIS-DDSM_organized/images/original/train/Mass-Training_P_01663_RIGHT_MLO_FULL.dcm\n",
      "DONE FULL: /datasets/mamografia/CBIS-DDSM_organized/images/original/train/Mass-Training_P_00108_LEFT_MLO_FULL.dcm\n",
      "DONE FULL: /datasets/mamografia/CBIS-DDSM_organized/images/original/train/Mass-Training_P_00815_LEFT_MLO_FULL.dcm\n",
      "DONE FULL: /datasets/mamografia/CBIS-DDSM_organized/images/original/train/Mass-Training_P_00442_RIGHT_CC_FULL.dcm\n",
      "DONE FULL: /datasets/mamografia/CBIS-DDSM_organized/images/original/train/Mass-Training_P_00221_RIGHT_MLO_FULL.dcm\n",
      "DONE FULL: /datasets/mamografia/CBIS-DDSM_organized/images/original/train/Mass-Training_P_00816_RIGHT_CC_FULL.dcm\n",
      "DONE FULL: /datasets/mamografia/CBIS-DDSM_organized/images/original/train/Mass-Training_P_00528_RIGHT_CC_FULL.dcm\n",
      "DONE FULL: /datasets/mamografia/CBIS-DDSM_organized/images/original/train/Mass-Training_P_00747_LEFT_MLO_FULL.dcm\n",
      "DONE FULL: /datasets/mamografia/CBIS-DDSM_organized/images/original/train/Mass-Training_P_00711_LEFT_MLO_FULL.dcm\n",
      "DONE FULL: /datasets/mamografia/CBIS-DDSM_organized/images/original/train/Mass-Training_P_01761_LEFT_CC_FULL.dcm\n",
      "DONE FULL: /datasets/mamografia/CBIS-DDSM_organized/images/original/train/Mass-Training_P_01751_LEFT_CC_FULL.dcm\n",
      "DONE FULL: /datasets/mamografia/CBIS-DDSM_organized/images/original/train/Mass-Training_P_00004_LEFT_MLO_FULL.dcm\n",
      "DONE FULL: /datasets/mamografia/CBIS-DDSM_organized/images/original/train/Mass-Training_P_00411_RIGHT_CC_FULL.dcm\n",
      "DONE FULL: /datasets/mamografia/CBIS-DDSM_organized/images/original/train/Mass-Training_P_01262_RIGHT_CC_FULL.dcm\n",
      "DONE FULL: /datasets/mamografia/CBIS-DDSM_organized/images/original/train/Mass-Training_P_01498_RIGHT_MLO_FULL.dcm\n",
      "DONE FULL: /datasets/mamografia/CBIS-DDSM_organized/images/original/train/Mass-Training_P_01290_RIGHT_CC_FULL.dcm\n",
      "DONE FULL: /datasets/mamografia/CBIS-DDSM_organized/images/original/train/Mass-Training_P_01130_RIGHT_CC_FULL.dcm\n",
      "DONE FULL: /datasets/mamografia/CBIS-DDSM_organized/images/original/train/Mass-Training_P_00913_LEFT_MLO_FULL.dcm\n",
      "DONE FULL: /datasets/mamografia/CBIS-DDSM_organized/images/original/train/Mass-Training_P_00901_RIGHT_MLO_FULL.dcm\n",
      "DONE FULL: /datasets/mamografia/CBIS-DDSM_organized/images/original/train/Mass-Training_P_01832_RIGHT_MLO_FULL.dcm\n",
      "DONE FULL: /datasets/mamografia/CBIS-DDSM_organized/images/original/train/Mass-Training_P_00044_RIGHT_MLO_FULL.dcm\n",
      "DONE FULL: /datasets/mamografia/CBIS-DDSM_organized/images/original/train/Mass-Training_P_01698_RIGHT_CC_FULL.dcm\n",
      "DONE FULL: /datasets/mamografia/CBIS-DDSM_organized/images/original/train/Mass-Training_P_00414_LEFT_CC_FULL.dcm\n",
      "DONE FULL: /datasets/mamografia/CBIS-DDSM_organized/images/original/train/Mass-Training_P_00569_RIGHT_CC_FULL.dcm\n",
      "DONE FULL: /datasets/mamografia/CBIS-DDSM_organized/images/original/train/Mass-Training_P_00764_RIGHT_MLO_FULL.dcm\n",
      "DONE FULL: /datasets/mamografia/CBIS-DDSM_organized/images/original/train/Mass-Training_P_00690_LEFT_MLO_FULL.dcm\n",
      "DONE FULL: /datasets/mamografia/CBIS-DDSM_organized/images/original/train/Mass-Training_P_01866_RIGHT_CC_FULL.dcm\n",
      "DONE FULL: /datasets/mamografia/CBIS-DDSM_organized/images/original/train/Mass-Training_P_00408_RIGHT_CC_FULL.dcm\n",
      "DONE FULL: /datasets/mamografia/CBIS-DDSM_organized/images/original/train/Mass-Training_P_00517_LEFT_CC_FULL.dcm\n",
      "DONE FULL: /datasets/mamografia/CBIS-DDSM_organized/images/original/train/Mass-Training_P_00471_RIGHT_CC_FULL.dcm\n",
      "DONE FULL: /datasets/mamografia/CBIS-DDSM_organized/images/original/train/Mass-Training_P_01786_LEFT_CC_FULL.dcm\n",
      "DONE FULL: /datasets/mamografia/CBIS-DDSM_organized/images/original/train/Mass-Training_P_00781_RIGHT_CC_FULL.dcm\n",
      "DONE FULL: /datasets/mamografia/CBIS-DDSM_organized/images/original/train/Mass-Training_P_01557_RIGHT_MLO_FULL.dcm\n",
      "DONE FULL: /datasets/mamografia/CBIS-DDSM_organized/images/original/train/Mass-Training_P_00499_RIGHT_CC_FULL.dcm\n",
      "DONE FULL: /datasets/mamografia/CBIS-DDSM_organized/images/original/train/Mass-Training_P_00021_LEFT_MLO_FULL.dcm\n",
      "DONE FULL: /datasets/mamografia/CBIS-DDSM_organized/images/original/train/Mass-Training_P_00559_LEFT_MLO_FULL.dcm\n",
      "DONE FULL: /datasets/mamografia/CBIS-DDSM_organized/images/original/train/Mass-Training_P_00174_RIGHT_MLO_FULL.dcm\n",
      "DONE FULL: /datasets/mamografia/CBIS-DDSM_organized/images/original/train/Mass-Training_P_01363_RIGHT_CC_FULL.dcm\n",
      "DONE FULL: /datasets/mamografia/CBIS-DDSM_organized/images/original/train/Mass-Training_P_01194_LEFT_MLO_FULL.dcm\n",
      "DONE FULL: /datasets/mamografia/CBIS-DDSM_organized/images/original/train/Mass-Training_P_01788_RIGHT_MLO_FULL.dcm\n",
      "DONE FULL: /datasets/mamografia/CBIS-DDSM_organized/images/original/train/Mass-Training_P_00747_LEFT_CC_FULL.dcm\n",
      "DONE FULL: /datasets/mamografia/CBIS-DDSM_organized/images/original/train/Mass-Training_P_00963_LEFT_MLO_FULL.dcm\n",
      "DONE FULL: /datasets/mamografia/CBIS-DDSM_organized/images/original/train/Mass-Training_P_01270_LEFT_CC_FULL.dcm\n",
      "DONE FULL: /datasets/mamografia/CBIS-DDSM_organized/images/original/train/Mass-Training_P_00215_RIGHT_CC_FULL.dcm\n",
      "DONE FULL: /datasets/mamografia/CBIS-DDSM_organized/images/original/train/Mass-Training_P_00415_RIGHT_MLO_FULL.dcm\n",
      "DONE FULL: /datasets/mamografia/CBIS-DDSM_organized/images/original/train/Mass-Training_P_00205_RIGHT_CC_FULL.dcm\n",
      "DONE FULL: /datasets/mamografia/CBIS-DDSM_organized/images/original/train/Mass-Training_P_00915_RIGHT_MLO_FULL.dcm\n",
      "DONE FULL: /datasets/mamografia/CBIS-DDSM_organized/images/original/train/Mass-Training_P_00451_LEFT_MLO_FULL.dcm\n",
      "DONE FULL: /datasets/mamografia/CBIS-DDSM_organized/images/original/train/Mass-Training_P_00997_LEFT_CC_FULL.dcm\n",
      "DONE FULL: /datasets/mamografia/CBIS-DDSM_organized/images/original/train/Mass-Training_P_01258_LEFT_CC_FULL.dcm\n",
      "DONE FULL: /datasets/mamografia/CBIS-DDSM_organized/images/original/train/Mass-Training_P_00797_RIGHT_CC_FULL.dcm\n",
      "DONE FULL: /datasets/mamografia/CBIS-DDSM_organized/images/original/train/Mass-Training_P_00110_LEFT_CC_FULL.dcm\n",
      "DONE FULL: /datasets/mamografia/CBIS-DDSM_organized/images/original/train/Mass-Training_P_01565_RIGHT_CC_FULL.dcm\n",
      "DONE FULL: /datasets/mamografia/CBIS-DDSM_organized/images/original/train/Mass-Training_P_00386_LEFT_CC_FULL.dcm\n",
      "DONE FULL: /datasets/mamografia/CBIS-DDSM_organized/images/original/train/Mass-Training_P_01103_RIGHT_CC_FULL.dcm\n",
      "DONE FULL: /datasets/mamografia/CBIS-DDSM_organized/images/original/train/Mass-Training_P_00844_RIGHT_CC_FULL.dcm\n",
      "DONE FULL: /datasets/mamografia/CBIS-DDSM_organized/images/original/train/Mass-Training_P_00753_RIGHT_CC_FULL.dcm\n",
      "DONE FULL: /datasets/mamografia/CBIS-DDSM_organized/images/original/train/Mass-Training_P_01757_RIGHT_CC_FULL.dcm\n",
      "DONE FULL: /datasets/mamografia/CBIS-DDSM_organized/images/original/train/Mass-Training_P_01445_RIGHT_CC_FULL.dcm\n",
      "DONE FULL: /datasets/mamografia/CBIS-DDSM_organized/images/original/train/Mass-Training_P_00120_LEFT_MLO_FULL.dcm\n",
      "DONE FULL: /datasets/mamografia/CBIS-DDSM_organized/images/original/train/Mass-Training_P_00199_LEFT_MLO_FULL.dcm\n",
      "DONE FULL: /datasets/mamografia/CBIS-DDSM_organized/images/original/train/Mass-Training_P_01190_LEFT_MLO_FULL.dcm\n",
      "DONE FULL: /datasets/mamografia/CBIS-DDSM_organized/images/original/train/Mass-Training_P_01221_LEFT_MLO_FULL.dcm\n",
      "DONE FULL: /datasets/mamografia/CBIS-DDSM_organized/images/original/train/Mass-Training_P_00797_LEFT_MLO_FULL.dcm\n",
      "DONE FULL: /datasets/mamografia/CBIS-DDSM_organized/images/original/train/Mass-Training_P_01054_RIGHT_MLO_FULL.dcm\n",
      "DONE FULL: /datasets/mamografia/CBIS-DDSM_organized/images/original/train/Mass-Training_P_01349_LEFT_MLO_FULL.dcm\n",
      "DONE FULL: /datasets/mamografia/CBIS-DDSM_organized/images/original/train/Mass-Training_P_00332_LEFT_MLO_FULL.dcm\n",
      "DONE FULL: /datasets/mamografia/CBIS-DDSM_organized/images/original/train/Mass-Training_P_01018_RIGHT_MLO_FULL.dcm\n",
      "DONE FULL: /datasets/mamografia/CBIS-DDSM_organized/images/original/train/Mass-Training_P_00314_RIGHT_CC_FULL.dcm\n",
      "DONE FULL: /datasets/mamografia/CBIS-DDSM_organized/images/original/train/Mass-Training_P_00826_LEFT_CC_FULL.dcm\n",
      "DONE FULL: /datasets/mamografia/CBIS-DDSM_organized/images/original/train/Mass-Training_P_00988_LEFT_CC_FULL.dcm\n",
      "DONE FULL: /datasets/mamografia/CBIS-DDSM_organized/images/original/train/Mass-Training_P_01418_RIGHT_CC_FULL.dcm\n",
      "DONE FULL: /datasets/mamografia/CBIS-DDSM_organized/images/original/train/Mass-Training_P_01619_LEFT_MLO_FULL.dcm\n",
      "DONE FULL: /datasets/mamografia/CBIS-DDSM_organized/images/original/train/Mass-Training_P_01182_LEFT_CC_FULL.dcm\n",
      "DONE FULL: /datasets/mamografia/CBIS-DDSM_organized/images/original/train/Mass-Training_P_00914_LEFT_CC_FULL.dcm\n",
      "DONE FULL: /datasets/mamografia/CBIS-DDSM_organized/images/original/train/Mass-Training_P_01225_RIGHT_CC_FULL.dcm\n",
      "DONE FULL: /datasets/mamografia/CBIS-DDSM_organized/images/original/train/Mass-Training_P_01486_RIGHT_CC_FULL.dcm\n",
      "DONE FULL: /datasets/mamografia/CBIS-DDSM_organized/images/original/train/Mass-Training_P_00778_RIGHT_CC_FULL.dcm\n",
      "DONE FULL: /datasets/mamografia/CBIS-DDSM_organized/images/original/train/Mass-Training_P_00309_LEFT_MLO_FULL.dcm\n",
      "DONE FULL: /datasets/mamografia/CBIS-DDSM_organized/images/original/train/Mass-Training_P_01876_LEFT_MLO_FULL.dcm\n",
      "DONE FULL: /datasets/mamografia/CBIS-DDSM_organized/images/original/train/Mass-Training_P_01354_RIGHT_MLO_FULL.dcm\n",
      "DONE FULL: /datasets/mamografia/CBIS-DDSM_organized/images/original/train/Mass-Training_P_00717_RIGHT_CC_FULL.dcm\n",
      "DONE FULL: /datasets/mamografia/CBIS-DDSM_organized/images/original/train/Mass-Training_P_00577_RIGHT_MLO_FULL.dcm\n",
      "DONE FULL: /datasets/mamografia/CBIS-DDSM_organized/images/original/train/Mass-Training_P_00720_RIGHT_MLO_FULL.dcm\n",
      "DONE FULL: /datasets/mamografia/CBIS-DDSM_organized/images/original/train/Mass-Training_P_00920_RIGHT_MLO_FULL.dcm\n",
      "DONE FULL: /datasets/mamografia/CBIS-DDSM_organized/images/original/train/Mass-Training_P_00549_LEFT_MLO_FULL.dcm\n",
      "DONE FULL: /datasets/mamografia/CBIS-DDSM_organized/images/original/train/Mass-Training_P_01332_RIGHT_MLO_FULL.dcm\n",
      "DONE FULL: /datasets/mamografia/CBIS-DDSM_organized/images/original/train/Mass-Training_P_01844_RIGHT_MLO_FULL.dcm\n",
      "DONE FULL: /datasets/mamografia/CBIS-DDSM_organized/images/original/train/Mass-Training_P_00711_RIGHT_MLO_FULL.dcm\n",
      "DONE FULL: /datasets/mamografia/CBIS-DDSM_organized/images/original/train/Mass-Training_P_00281_LEFT_MLO_FULL.dcm\n",
      "DONE FULL: /datasets/mamografia/CBIS-DDSM_organized/images/original/train/Mass-Training_P_00848_LEFT_MLO_FULL.dcm\n",
      "DONE FULL: /datasets/mamografia/CBIS-DDSM_organized/images/original/train/Mass-Training_P_01379_LEFT_CC_FULL.dcm\n",
      "DONE FULL: /datasets/mamografia/CBIS-DDSM_organized/images/original/train/Mass-Training_P_01164_RIGHT_CC_FULL.dcm\n",
      "DONE FULL: /datasets/mamografia/CBIS-DDSM_organized/images/original/train/Mass-Training_P_01430_RIGHT_MLO_FULL.dcm\n",
      "DONE FULL: /datasets/mamografia/CBIS-DDSM_organized/images/original/train/Mass-Training_P_01238_RIGHT_MLO_FULL.dcm\n",
      "DONE FULL: /datasets/mamografia/CBIS-DDSM_organized/images/original/train/Mass-Training_P_01452_RIGHT_CC_FULL.dcm\n",
      "DONE FULL: /datasets/mamografia/CBIS-DDSM_organized/images/original/train/Mass-Training_P_01638_RIGHT_MLO_FULL.dcm\n",
      "DONE FULL: /datasets/mamografia/CBIS-DDSM_organized/images/original/train/Mass-Training_P_00698_RIGHT_CC_FULL.dcm\n",
      "DONE FULL: /datasets/mamografia/CBIS-DDSM_organized/images/original/train/Mass-Training_P_01710_LEFT_MLO_FULL.dcm\n",
      "DONE FULL: /datasets/mamografia/CBIS-DDSM_organized/images/original/train/Mass-Training_P_01206_RIGHT_MLO_FULL.dcm\n",
      "DONE FULL: /datasets/mamografia/CBIS-DDSM_organized/images/original/train/Mass-Training_P_02079_RIGHT_MLO_FULL.dcm\n",
      "DONE FULL: /datasets/mamografia/CBIS-DDSM_organized/images/original/train/Mass-Training_P_01270_RIGHT_CC_FULL.dcm\n",
      "DONE FULL: /datasets/mamografia/CBIS-DDSM_organized/images/original/train/Mass-Training_P_01887_LEFT_MLO_FULL.dcm\n",
      "DONE FULL: /datasets/mamografia/CBIS-DDSM_organized/images/original/train/Mass-Training_P_01190_LEFT_CC_FULL.dcm\n",
      "DONE FULL: /datasets/mamografia/CBIS-DDSM_organized/images/original/train/Mass-Training_P_00437_LEFT_CC_FULL.dcm\n",
      "DONE FULL: /datasets/mamografia/CBIS-DDSM_organized/images/original/train/Mass-Training_P_00248_LEFT_MLO_FULL.dcm\n",
      "DONE FULL: /datasets/mamografia/CBIS-DDSM_organized/images/original/train/Mass-Training_P_00309_LEFT_CC_FULL.dcm\n",
      "DONE FULL: /datasets/mamografia/CBIS-DDSM_organized/images/original/train/Mass-Training_P_00648_LEFT_CC_FULL.dcm\n",
      "DONE FULL: /datasets/mamografia/CBIS-DDSM_organized/images/original/train/Mass-Training_P_01124_RIGHT_CC_FULL.dcm\n",
      "DONE FULL: /datasets/mamografia/CBIS-DDSM_organized/images/original/train/Mass-Training_P_00313_RIGHT_MLO_FULL.dcm\n",
      "DONE FULL: /datasets/mamografia/CBIS-DDSM_organized/images/original/train/Mass-Training_P_00044_RIGHT_CC_FULL.dcm\n",
      "DONE FULL: /datasets/mamografia/CBIS-DDSM_organized/images/original/train/Mass-Training_P_01481_RIGHT_CC_FULL.dcm\n",
      "DONE FULL: /datasets/mamografia/CBIS-DDSM_organized/images/original/train/Mass-Training_P_01600_RIGHT_MLO_FULL.dcm\n",
      "DONE FULL: /datasets/mamografia/CBIS-DDSM_organized/images/original/train/Mass-Training_P_01454_LEFT_MLO_FULL.dcm\n",
      "DONE FULL: /datasets/mamografia/CBIS-DDSM_organized/images/original/train/Mass-Training_P_01427_LEFT_MLO_FULL.dcm\n",
      "DONE FULL: /datasets/mamografia/CBIS-DDSM_organized/images/original/train/Mass-Training_P_00149_LEFT_CC_FULL.dcm\n",
      "DONE FULL: /datasets/mamografia/CBIS-DDSM_organized/images/original/train/Mass-Training_P_01103_RIGHT_MLO_FULL.dcm\n",
      "DONE FULL: /datasets/mamografia/CBIS-DDSM_organized/images/original/train/Mass-Training_P_00442_RIGHT_MLO_FULL.dcm\n",
      "DONE FULL: /datasets/mamografia/CBIS-DDSM_organized/images/original/train/Mass-Training_P_01374_RIGHT_CC_FULL.dcm\n",
      "DONE FULL: /datasets/mamografia/CBIS-DDSM_organized/images/original/train/Mass-Training_P_00539_RIGHT_CC_FULL.dcm\n",
      "DONE FULL: /datasets/mamografia/CBIS-DDSM_organized/images/original/train/Mass-Training_P_00231_LEFT_CC_FULL.dcm\n",
      "DONE FULL: /datasets/mamografia/CBIS-DDSM_organized/images/original/train/Mass-Training_P_01406_LEFT_MLO_FULL.dcm\n",
      "DONE FULL: /datasets/mamografia/CBIS-DDSM_organized/images/original/train/Mass-Training_P_00265_RIGHT_CC_FULL.dcm\n",
      "DONE FULL: /datasets/mamografia/CBIS-DDSM_organized/images/original/train/Mass-Training_P_00437_LEFT_MLO_FULL.dcm\n",
      "DONE FULL: /datasets/mamografia/CBIS-DDSM_organized/images/original/train/Mass-Training_P_01630_RIGHT_MLO_FULL.dcm\n",
      "DONE FULL: /datasets/mamografia/CBIS-DDSM_organized/images/original/train/Mass-Training_P_01163_LEFT_CC_FULL.dcm\n",
      "DONE FULL: /datasets/mamografia/CBIS-DDSM_organized/images/original/train/Mass-Training_P_01878_RIGHT_MLO_FULL.dcm\n",
      "DONE FULL: /datasets/mamografia/CBIS-DDSM_organized/images/original/train/Mass-Training_P_00190_LEFT_MLO_FULL.dcm\n",
      "DONE FULL: /datasets/mamografia/CBIS-DDSM_organized/images/original/train/Mass-Training_P_00041_LEFT_MLO_FULL.dcm\n",
      "DONE FULL: /datasets/mamografia/CBIS-DDSM_organized/images/original/train/Mass-Training_P_01840_RIGHT_MLO_FULL.dcm\n",
      "DONE FULL: /datasets/mamografia/CBIS-DDSM_organized/images/original/train/Mass-Training_P_01221_LEFT_CC_FULL.dcm\n",
      "DONE FULL: /datasets/mamografia/CBIS-DDSM_organized/images/original/train/Mass-Training_P_00575_RIGHT_MLO_FULL.dcm\n",
      "DONE FULL: /datasets/mamografia/CBIS-DDSM_organized/images/original/train/Mass-Training_P_01801_RIGHT_MLO_FULL.dcm\n",
      "DONE FULL: /datasets/mamografia/CBIS-DDSM_organized/images/original/train/Mass-Training_P_01360_LEFT_CC_FULL.dcm\n",
      "DONE FULL: /datasets/mamografia/CBIS-DDSM_organized/images/original/train/Mass-Training_P_00902_LEFT_MLO_FULL.dcm\n",
      "DONE FULL: /datasets/mamografia/CBIS-DDSM_organized/images/original/train/Mass-Training_P_01216_RIGHT_MLO_FULL.dcm\n",
      "DONE FULL: /datasets/mamografia/CBIS-DDSM_organized/images/original/train/Mass-Training_P_00968_LEFT_CC_FULL.dcm\n",
      "DONE FULL: /datasets/mamografia/CBIS-DDSM_organized/images/original/train/Mass-Training_P_01039_RIGHT_MLO_FULL.dcm\n",
      "DONE FULL: /datasets/mamografia/CBIS-DDSM_organized/images/original/train/Mass-Training_P_01860_RIGHT_CC_FULL.dcm\n",
      "DONE FULL: /datasets/mamografia/CBIS-DDSM_organized/images/original/train/Mass-Training_P_00634_RIGHT_MLO_FULL.dcm\n",
      "DONE FULL: /datasets/mamografia/CBIS-DDSM_organized/images/original/train/Mass-Training_P_01305_LEFT_CC_FULL.dcm\n",
      "DONE FULL: /datasets/mamografia/CBIS-DDSM_organized/images/original/train/Mass-Training_P_00540_LEFT_MLO_FULL.dcm\n",
      "DONE FULL: /datasets/mamografia/CBIS-DDSM_organized/images/original/train/Mass-Training_P_00929_LEFT_MLO_FULL.dcm\n",
      "DONE FULL: /datasets/mamografia/CBIS-DDSM_organized/images/original/train/Mass-Training_P_00512_RIGHT_MLO_FULL.dcm\n",
      "DONE FULL: /datasets/mamografia/CBIS-DDSM_organized/images/original/train/Mass-Training_P_00283_RIGHT_CC_FULL.dcm\n",
      "DONE FULL: /datasets/mamografia/CBIS-DDSM_organized/images/original/train/Mass-Training_P_00892_LEFT_CC_FULL.dcm\n",
      "DONE FULL: /datasets/mamografia/CBIS-DDSM_organized/images/original/train/Mass-Training_P_01301_RIGHT_CC_FULL.dcm\n",
      "DONE FULL: /datasets/mamografia/CBIS-DDSM_organized/images/original/train/Mass-Training_P_00526_RIGHT_MLO_FULL.dcm\n",
      "DONE FULL: /datasets/mamografia/CBIS-DDSM_organized/images/original/train/Mass-Training_P_00417_RIGHT_MLO_FULL.dcm\n",
      "DONE FULL: /datasets/mamografia/CBIS-DDSM_organized/images/original/train/Mass-Training_P_00303_RIGHT_CC_FULL.dcm\n",
      "DONE FULL: /datasets/mamografia/CBIS-DDSM_organized/images/original/train/Mass-Training_P_01981_RIGHT_MLO_FULL.dcm\n",
      "DONE FULL: /datasets/mamografia/CBIS-DDSM_organized/images/original/train/Mass-Training_P_01149_RIGHT_MLO_FULL.dcm\n",
      "DONE FULL: /datasets/mamografia/CBIS-DDSM_organized/images/original/train/Mass-Training_P_01714_RIGHT_MLO_FULL.dcm\n",
      "DONE FULL: /datasets/mamografia/CBIS-DDSM_organized/images/original/train/Mass-Training_P_00746_LEFT_CC_FULL.dcm\n",
      "DONE FULL: /datasets/mamografia/CBIS-DDSM_organized/images/original/train/Mass-Training_P_01444_RIGHT_MLO_FULL.dcm\n",
      "DONE FULL: /datasets/mamografia/CBIS-DDSM_organized/images/original/train/Mass-Training_P_01000_RIGHT_MLO_FULL.dcm\n",
      "DONE FULL: /datasets/mamografia/CBIS-DDSM_organized/images/original/train/Mass-Training_P_00363_LEFT_MLO_FULL.dcm\n",
      "DONE FULL: /datasets/mamografia/CBIS-DDSM_organized/images/original/train/Mass-Training_P_00706_RIGHT_CC_FULL.dcm\n",
      "DONE FULL: /datasets/mamografia/CBIS-DDSM_organized/images/original/train/Mass-Training_P_01057_RIGHT_CC_FULL.dcm\n",
      "DONE FULL: /datasets/mamografia/CBIS-DDSM_organized/images/original/train/Mass-Training_P_00110_RIGHT_CC_FULL.dcm\n",
      "DONE FULL: /datasets/mamografia/CBIS-DDSM_organized/images/original/train/Mass-Training_P_01189_LEFT_MLO_FULL.dcm\n",
      "DONE FULL: /datasets/mamografia/CBIS-DDSM_organized/images/original/train/Mass-Training_P_01876_LEFT_CC_FULL.dcm\n",
      "DONE FULL: /datasets/mamografia/CBIS-DDSM_organized/images/original/train/Mass-Training_P_00332_RIGHT_MLO_FULL.dcm\n",
      "DONE FULL: /datasets/mamografia/CBIS-DDSM_organized/images/original/train/Mass-Training_P_01391_LEFT_CC_FULL.dcm\n",
      "DONE FULL: /datasets/mamografia/CBIS-DDSM_organized/images/original/train/Mass-Training_P_00706_RIGHT_MLO_FULL.dcm\n",
      "DONE FULL: /datasets/mamografia/CBIS-DDSM_organized/images/original/train/Mass-Training_P_01698_RIGHT_MLO_FULL.dcm\n",
      "DONE FULL: /datasets/mamografia/CBIS-DDSM_organized/images/original/train/Mass-Training_P_01433_LEFT_MLO_FULL.dcm\n",
      "DONE FULL: /datasets/mamografia/CBIS-DDSM_organized/images/original/train/Mass-Training_P_00411_RIGHT_MLO_FULL.dcm\n",
      "DONE FULL: /datasets/mamografia/CBIS-DDSM_organized/images/original/train/Mass-Training_P_00240_RIGHT_MLO_FULL.dcm\n",
      "DONE FULL: /datasets/mamografia/CBIS-DDSM_organized/images/original/train/Mass-Training_P_01052_LEFT_CC_FULL.dcm\n",
      "DONE FULL: /datasets/mamografia/CBIS-DDSM_organized/images/original/train/Mass-Training_P_01473_RIGHT_MLO_FULL.dcm\n",
      "DONE FULL: /datasets/mamografia/CBIS-DDSM_organized/images/original/train/Mass-Training_P_00160_LEFT_MLO_FULL.dcm\n",
      "DONE FULL: /datasets/mamografia/CBIS-DDSM_organized/images/original/train/Mass-Training_P_01589_LEFT_MLO_FULL.dcm\n",
      "DONE FULL: /datasets/mamografia/CBIS-DDSM_organized/images/original/train/Mass-Training_P_01305_LEFT_MLO_FULL.dcm\n",
      "DONE FULL: /datasets/mamografia/CBIS-DDSM_organized/images/original/train/Mass-Training_P_00695_RIGHT_MLO_FULL.dcm\n",
      "DONE FULL: /datasets/mamografia/CBIS-DDSM_organized/images/original/train/Mass-Training_P_01330_RIGHT_MLO_FULL.dcm\n",
      "DONE FULL: /datasets/mamografia/CBIS-DDSM_organized/images/original/train/Mass-Training_P_01149_RIGHT_CC_FULL.dcm\n",
      "DONE FULL: /datasets/mamografia/CBIS-DDSM_organized/images/original/train/Mass-Training_P_01271_RIGHT_CC_FULL.dcm\n",
      "DONE FULL: /datasets/mamografia/CBIS-DDSM_organized/images/original/train/Mass-Training_P_00716_LEFT_MLO_FULL.dcm\n",
      "DONE FULL: /datasets/mamografia/CBIS-DDSM_organized/images/original/train/Mass-Training_P_01877_LEFT_MLO_FULL.dcm\n",
      "DONE FULL: /datasets/mamografia/CBIS-DDSM_organized/images/original/train/Mass-Training_P_01151_RIGHT_MLO_FULL.dcm\n",
      "DONE FULL: /datasets/mamografia/CBIS-DDSM_organized/images/original/train/Mass-Training_P_00009_RIGHT_CC_FULL.dcm\n",
      "DONE FULL: /datasets/mamografia/CBIS-DDSM_organized/images/original/train/Mass-Training_P_00597_RIGHT_MLO_FULL.dcm\n",
      "DONE FULL: /datasets/mamografia/CBIS-DDSM_organized/images/original/train/Mass-Training_P_00415_RIGHT_CC_FULL.dcm\n",
      "DONE FULL: /datasets/mamografia/CBIS-DDSM_organized/images/original/train/Mass-Training_P_00534_LEFT_MLO_FULL.dcm\n",
      "DONE FULL: /datasets/mamografia/CBIS-DDSM_organized/images/original/train/Mass-Training_P_00287_RIGHT_MLO_FULL.dcm\n",
      "DONE FULL: /datasets/mamografia/CBIS-DDSM_organized/images/original/train/Mass-Training_P_00849_LEFT_CC_FULL.dcm\n",
      "DONE FULL: /datasets/mamografia/CBIS-DDSM_organized/images/original/train/Mass-Training_P_01635_LEFT_CC_FULL.dcm\n",
      "DONE FULL: /datasets/mamografia/CBIS-DDSM_organized/images/original/train/Mass-Training_P_00462_LEFT_MLO_FULL.dcm\n",
      "DONE FULL: /datasets/mamografia/CBIS-DDSM_organized/images/original/train/Mass-Training_P_00913_LEFT_CC_FULL.dcm\n",
      "DONE FULL: /datasets/mamografia/CBIS-DDSM_organized/images/original/train/Mass-Training_P_00487_RIGHT_MLO_FULL.dcm\n",
      "DONE FULL: /datasets/mamografia/CBIS-DDSM_organized/images/original/train/Mass-Training_P_00931_LEFT_MLO_FULL.dcm\n",
      "DONE FULL: /datasets/mamografia/CBIS-DDSM_organized/images/original/train/Mass-Training_P_01382_LEFT_MLO_FULL.dcm\n",
      "DONE FULL: /datasets/mamografia/CBIS-DDSM_organized/images/original/train/Mass-Training_P_01206_RIGHT_CC_FULL.dcm\n",
      "DONE FULL: /datasets/mamografia/CBIS-DDSM_organized/images/original/train/Mass-Training_P_00018_RIGHT_CC_FULL.dcm\n",
      "DONE FULL: /datasets/mamografia/CBIS-DDSM_organized/images/original/train/Mass-Training_P_01503_LEFT_CC_FULL.dcm\n",
      "DONE FULL: /datasets/mamografia/CBIS-DDSM_organized/images/original/train/Mass-Training_P_01889_RIGHT_CC_FULL.dcm\n",
      "DONE FULL: /datasets/mamografia/CBIS-DDSM_organized/images/original/train/Mass-Training_P_01434_LEFT_MLO_FULL.dcm\n",
      "DONE FULL: /datasets/mamografia/CBIS-DDSM_organized/images/original/train/Mass-Training_P_00106_LEFT_CC_FULL.dcm\n",
      "DONE FULL: /datasets/mamografia/CBIS-DDSM_organized/images/original/train/Mass-Training_P_01388_LEFT_MLO_FULL.dcm\n",
      "DONE FULL: /datasets/mamografia/CBIS-DDSM_organized/images/original/train/Mass-Training_P_01453_LEFT_MLO_FULL.dcm\n",
      "DONE FULL: /datasets/mamografia/CBIS-DDSM_organized/images/original/train/Mass-Training_P_01768_LEFT_MLO_FULL.dcm\n",
      "DONE FULL: /datasets/mamografia/CBIS-DDSM_organized/images/original/train/Mass-Training_P_01560_RIGHT_MLO_FULL.dcm\n",
      "DONE FULL: /datasets/mamografia/CBIS-DDSM_organized/images/original/train/Mass-Training_P_00976_LEFT_MLO_FULL.dcm\n",
      "DONE FULL: /datasets/mamografia/CBIS-DDSM_organized/images/original/train/Mass-Training_P_00235_RIGHT_CC_FULL.dcm\n",
      "DONE FULL: /datasets/mamografia/CBIS-DDSM_organized/images/original/train/Mass-Training_P_00528_RIGHT_MLO_FULL.dcm\n",
      "DONE FULL: /datasets/mamografia/CBIS-DDSM_organized/images/original/train/Mass-Training_P_00990_RIGHT_CC_FULL.dcm\n",
      "DONE FULL: /datasets/mamografia/CBIS-DDSM_organized/images/original/train/Mass-Training_P_00412_RIGHT_CC_FULL.dcm\n",
      "DONE FULL: /datasets/mamografia/CBIS-DDSM_organized/images/original/train/Mass-Training_P_01285_RIGHT_MLO_FULL.dcm\n",
      "DONE FULL: /datasets/mamografia/CBIS-DDSM_organized/images/original/train/Mass-Training_P_01163_LEFT_MLO_FULL.dcm\n",
      "DONE FULL: /datasets/mamografia/CBIS-DDSM_organized/images/original/train/Mass-Training_P_00818_RIGHT_MLO_FULL.dcm\n",
      "DONE FULL: /datasets/mamografia/CBIS-DDSM_organized/images/original/train/Mass-Training_P_01265_RIGHT_CC_FULL.dcm\n",
      "DONE FULL: /datasets/mamografia/CBIS-DDSM_organized/images/original/train/Mass-Training_P_00148_RIGHT_CC_FULL.dcm\n",
      "DONE FULL: /datasets/mamografia/CBIS-DDSM_organized/images/original/train/Mass-Training_P_00626_LEFT_MLO_FULL.dcm\n",
      "DONE FULL: /datasets/mamografia/CBIS-DDSM_organized/images/original/train/Mass-Training_P_01669_LEFT_CC_FULL.dcm\n",
      "DONE FULL: /datasets/mamografia/CBIS-DDSM_organized/images/original/train/Mass-Training_P_00730_RIGHT_CC_FULL.dcm\n",
      "DONE FULL: /datasets/mamografia/CBIS-DDSM_organized/images/original/train/Mass-Training_P_01635_RIGHT_MLO_FULL.dcm\n",
      "DONE FULL: /datasets/mamografia/CBIS-DDSM_organized/images/original/train/Mass-Training_P_01009_RIGHT_CC_FULL.dcm\n",
      "DONE FULL: /datasets/mamografia/CBIS-DDSM_organized/images/original/train/Mass-Training_P_00509_RIGHT_CC_FULL.dcm\n",
      "DONE FULL: /datasets/mamografia/CBIS-DDSM_organized/images/original/train/Mass-Training_P_01788_RIGHT_CC_FULL.dcm\n",
      "DONE FULL: /datasets/mamografia/CBIS-DDSM_organized/images/original/train/Mass-Training_P_01426_RIGHT_CC_FULL.dcm\n",
      "DONE FULL: /datasets/mamografia/CBIS-DDSM_organized/images/original/train/Mass-Training_P_01165_LEFT_CC_FULL.dcm\n",
      "DONE FULL: /datasets/mamografia/CBIS-DDSM_organized/images/original/train/Mass-Training_P_01751_LEFT_MLO_FULL.dcm\n",
      "DONE FULL: /datasets/mamografia/CBIS-DDSM_organized/images/original/train/Mass-Training_P_01285_RIGHT_CC_FULL.dcm\n",
      "DONE FULL: /datasets/mamografia/CBIS-DDSM_organized/images/original/train/Mass-Training_P_01560_RIGHT_CC_FULL.dcm\n",
      "DONE FULL: /datasets/mamografia/CBIS-DDSM_organized/images/original/train/Mass-Training_P_00931_LEFT_CC_FULL.dcm\n",
      "DONE FULL: /datasets/mamografia/CBIS-DDSM_organized/images/original/train/Mass-Training_P_01685_RIGHT_CC_FULL.dcm\n",
      "DONE FULL: /datasets/mamografia/CBIS-DDSM_organized/images/original/train/Mass-Training_P_01417_RIGHT_MLO_FULL.dcm\n",
      "DONE FULL: /datasets/mamografia/CBIS-DDSM_organized/images/original/train/Mass-Training_P_01118_RIGHT_MLO_FULL.dcm\n",
      "DONE FULL: /datasets/mamografia/CBIS-DDSM_organized/images/original/train/Mass-Training_P_00419_LEFT_CC_FULL.dcm\n",
      "DONE FULL: /datasets/mamografia/CBIS-DDSM_organized/images/original/train/Mass-Training_P_01413_RIGHT_CC_FULL.dcm\n",
      "DONE FULL: /datasets/mamografia/CBIS-DDSM_organized/images/original/train/Mass-Training_P_00648_LEFT_MLO_FULL.dcm\n",
      "DONE FULL: /datasets/mamografia/CBIS-DDSM_organized/images/original/train/Mass-Training_P_01689_LEFT_MLO_FULL.dcm\n",
      "DONE FULL: /datasets/mamografia/CBIS-DDSM_organized/images/original/train/Mass-Training_P_01325_RIGHT_MLO_FULL.dcm\n",
      "DONE FULL: /datasets/mamografia/CBIS-DDSM_organized/images/original/train/Mass-Training_P_01109_LEFT_MLO_FULL.dcm\n",
      "DONE FULL: /datasets/mamografia/CBIS-DDSM_organized/images/original/train/Mass-Training_P_00363_LEFT_CC_FULL.dcm\n",
      "DONE FULL: /datasets/mamografia/CBIS-DDSM_organized/images/original/train/Mass-Training_P_00958_LEFT_CC_FULL.dcm\n",
      "DONE FULL: /datasets/mamografia/CBIS-DDSM_organized/images/original/train/Mass-Training_P_00496_LEFT_MLO_FULL.dcm\n",
      "DONE FULL: /datasets/mamografia/CBIS-DDSM_organized/images/original/train/Mass-Training_P_00568_LEFT_MLO_FULL.dcm\n",
      "DONE FULL: /datasets/mamografia/CBIS-DDSM_organized/images/original/train/Mass-Training_P_00906_LEFT_CC_FULL.dcm\n",
      "DONE FULL: /datasets/mamografia/CBIS-DDSM_organized/images/original/train/Mass-Training_P_01824_RIGHT_CC_FULL.dcm\n",
      "DONE FULL: /datasets/mamografia/CBIS-DDSM_organized/images/original/train/Mass-Training_P_01405_RIGHT_MLO_FULL.dcm\n",
      "DONE FULL: /datasets/mamografia/CBIS-DDSM_organized/images/original/train/Mass-Training_P_00754_LEFT_MLO_FULL.dcm\n",
      "DONE FULL: /datasets/mamografia/CBIS-DDSM_organized/images/original/train/Mass-Training_P_00640_RIGHT_MLO_FULL.dcm\n",
      "DONE FULL: /datasets/mamografia/CBIS-DDSM_organized/images/original/train/Mass-Training_P_00039_RIGHT_MLO_FULL.dcm\n",
      "DONE FULL: /datasets/mamografia/CBIS-DDSM_organized/images/original/train/Mass-Training_P_01831_RIGHT_MLO_FULL.dcm\n",
      "DONE FULL: /datasets/mamografia/CBIS-DDSM_organized/images/original/train/Mass-Training_P_01173_RIGHT_CC_FULL.dcm\n",
      "DONE FULL: /datasets/mamografia/CBIS-DDSM_organized/images/original/train/Mass-Training_P_00303_RIGHT_MLO_FULL.dcm\n",
      "DONE FULL: /datasets/mamografia/CBIS-DDSM_organized/images/original/train/Mass-Training_P_01093_LEFT_CC_FULL.dcm\n",
      "DONE FULL: /datasets/mamografia/CBIS-DDSM_organized/images/original/train/Mass-Training_P_00092_RIGHT_MLO_FULL.dcm\n",
      "DONE FULL: /datasets/mamografia/CBIS-DDSM_organized/images/original/train/Mass-Training_P_00708_RIGHT_MLO_FULL.dcm\n",
      "DONE FULL: /datasets/mamografia/CBIS-DDSM_organized/images/original/train/Mass-Training_P_01340_LEFT_CC_FULL.dcm\n",
      "DONE FULL: /datasets/mamografia/CBIS-DDSM_organized/images/original/train/Mass-Training_P_01642_RIGHT_CC_FULL.dcm\n",
      "DONE FULL: /datasets/mamografia/CBIS-DDSM_organized/images/original/train/Mass-Training_P_00891_RIGHT_MLO_FULL.dcm\n",
      "DONE FULL: /datasets/mamografia/CBIS-DDSM_organized/images/original/train/Mass-Training_P_01908_LEFT_CC_FULL.dcm\n",
      "DONE FULL: /datasets/mamografia/CBIS-DDSM_organized/images/original/train/Mass-Training_P_01379_LEFT_MLO_FULL.dcm\n",
      "DONE FULL: /datasets/mamografia/CBIS-DDSM_organized/images/original/train/Mass-Training_P_00426_RIGHT_MLO_FULL.dcm\n",
      "DONE FULL: /datasets/mamografia/CBIS-DDSM_organized/images/original/train/Mass-Training_P_01215_RIGHT_MLO_FULL.dcm\n",
      "DONE FULL: /datasets/mamografia/CBIS-DDSM_organized/images/original/train/Mass-Training_P_00092_LEFT_CC_FULL.dcm\n",
      "DONE FULL: /datasets/mamografia/CBIS-DDSM_organized/images/original/train/Mass-Training_P_00018_RIGHT_MLO_FULL.dcm\n",
      "DONE FULL: /datasets/mamografia/CBIS-DDSM_organized/images/original/train/Mass-Training_P_01144_LEFT_CC_FULL.dcm\n",
      "DONE FULL: /datasets/mamografia/CBIS-DDSM_organized/images/original/train/Mass-Training_P_00172_LEFT_MLO_FULL.dcm\n",
      "DONE FULL: /datasets/mamografia/CBIS-DDSM_organized/images/original/train/Mass-Training_P_00436_LEFT_MLO_FULL.dcm\n",
      "DONE FULL: /datasets/mamografia/CBIS-DDSM_organized/images/original/train/Mass-Training_P_01280_RIGHT_MLO_FULL.dcm\n",
      "DONE FULL: /datasets/mamografia/CBIS-DDSM_organized/images/original/train/Mass-Training_P_01097_LEFT_CC_FULL.dcm\n",
      "DONE FULL: /datasets/mamografia/CBIS-DDSM_organized/images/original/train/Mass-Training_P_01035_RIGHT_MLO_FULL.dcm\n",
      "DONE FULL: /datasets/mamografia/CBIS-DDSM_organized/images/original/train/Mass-Training_P_00348_LEFT_CC_FULL.dcm\n",
      "DONE FULL: /datasets/mamografia/CBIS-DDSM_organized/images/original/train/Mass-Training_P_00700_RIGHT_CC_FULL.dcm\n",
      "DONE FULL: /datasets/mamografia/CBIS-DDSM_organized/images/original/train/Mass-Training_P_01062_RIGHT_CC_FULL.dcm\n",
      "DONE FULL: /datasets/mamografia/CBIS-DDSM_organized/images/original/train/Mass-Training_P_01158_RIGHT_MLO_FULL.dcm\n",
      "DONE FULL: /datasets/mamografia/CBIS-DDSM_organized/images/original/train/Mass-Training_P_00781_RIGHT_MLO_FULL.dcm\n",
      "DONE FULL: /datasets/mamografia/CBIS-DDSM_organized/images/original/train/Mass-Training_P_01243_LEFT_CC_FULL.dcm\n",
      "DONE FULL: /datasets/mamografia/CBIS-DDSM_organized/images/original/train/Mass-Training_P_01531_RIGHT_MLO_FULL.dcm\n",
      "DONE FULL: /datasets/mamografia/CBIS-DDSM_organized/images/original/train/Mass-Training_P_01071_LEFT_MLO_FULL.dcm\n",
      "DONE FULL: /datasets/mamografia/CBIS-DDSM_organized/images/original/train/Mass-Training_P_00229_LEFT_CC_FULL.dcm\n",
      "DONE FULL: /datasets/mamografia/CBIS-DDSM_organized/images/original/train/Mass-Training_P_00596_RIGHT_MLO_FULL.dcm\n",
      "DONE FULL: /datasets/mamografia/CBIS-DDSM_organized/images/original/train/Mass-Training_P_01641_LEFT_CC_FULL.dcm\n",
      "DONE FULL: /datasets/mamografia/CBIS-DDSM_organized/images/original/train/Mass-Training_P_00128_LEFT_CC_FULL.dcm\n",
      "DONE FULL: /datasets/mamografia/CBIS-DDSM_organized/images/original/train/Mass-Training_P_00778_RIGHT_MLO_FULL.dcm\n",
      "DONE FULL: /datasets/mamografia/CBIS-DDSM_organized/images/original/train/Mass-Training_P_01671_LEFT_MLO_FULL.dcm\n",
      "DONE FULL: /datasets/mamografia/CBIS-DDSM_organized/images/original/train/Mass-Training_P_00058_RIGHT_CC_FULL.dcm\n",
      "DONE FULL: /datasets/mamografia/CBIS-DDSM_organized/images/original/train/Mass-Training_P_00586_LEFT_MLO_FULL.dcm\n",
      "DONE FULL: /datasets/mamografia/CBIS-DDSM_organized/images/original/train/Mass-Training_P_01739_LEFT_CC_FULL.dcm\n",
      "DONE FULL: /datasets/mamografia/CBIS-DDSM_organized/images/original/train/Mass-Training_P_00644_LEFT_CC_FULL.dcm\n",
      "DONE FULL: /datasets/mamografia/CBIS-DDSM_organized/images/original/train/Mass-Training_P_01131_LEFT_CC_FULL.dcm\n",
      "DONE FULL: /datasets/mamografia/CBIS-DDSM_organized/images/original/train/Mass-Training_P_00383_LEFT_MLO_FULL.dcm\n",
      "DONE FULL: /datasets/mamografia/CBIS-DDSM_organized/images/original/train/Mass-Training_P_00133_LEFT_MLO_FULL.dcm\n",
      "DONE FULL: /datasets/mamografia/CBIS-DDSM_organized/images/original/train/Mass-Training_P_00045_LEFT_MLO_FULL.dcm\n",
      "DONE FULL: /datasets/mamografia/CBIS-DDSM_organized/images/original/train/Mass-Training_P_01654_RIGHT_MLO_FULL.dcm\n",
      "DONE FULL: /datasets/mamografia/CBIS-DDSM_organized/images/original/train/Mass-Training_P_01115_RIGHT_MLO_FULL.dcm\n",
      "DONE FULL: /datasets/mamografia/CBIS-DDSM_organized/images/original/train/Mass-Training_P_00064_RIGHT_MLO_FULL.dcm\n",
      "DONE FULL: /datasets/mamografia/CBIS-DDSM_organized/images/original/train/Mass-Training_P_01720_RIGHT_CC_FULL.dcm\n",
      "DONE FULL: /datasets/mamografia/CBIS-DDSM_organized/images/original/train/Mass-Training_P_01755_RIGHT_MLO_FULL.dcm\n",
      "DONE FULL: /datasets/mamografia/CBIS-DDSM_organized/images/original/train/Mass-Training_P_01088_LEFT_MLO_FULL.dcm\n",
      "DONE FULL: /datasets/mamografia/CBIS-DDSM_organized/images/original/train/Mass-Training_P_00187_LEFT_CC_FULL.dcm\n",
      "DONE FULL: /datasets/mamografia/CBIS-DDSM_organized/images/original/train/Mass-Training_P_01232_RIGHT_CC_FULL.dcm\n",
      "DONE FULL: /datasets/mamografia/CBIS-DDSM_organized/images/original/train/Mass-Training_P_00798_RIGHT_MLO_FULL.dcm\n",
      "DONE FULL: /datasets/mamografia/CBIS-DDSM_organized/images/original/train/Mass-Training_P_00254_LEFT_MLO_FULL.dcm\n",
      "DONE FULL: /datasets/mamografia/CBIS-DDSM_organized/images/original/train/Mass-Training_P_01394_LEFT_CC_FULL.dcm\n",
      "DONE FULL: /datasets/mamografia/CBIS-DDSM_organized/images/original/train/Mass-Training_P_00829_LEFT_MLO_FULL.dcm\n",
      "DONE FULL: /datasets/mamografia/CBIS-DDSM_organized/images/original/train/Mass-Training_P_00941_LEFT_MLO_FULL.dcm\n",
      "DONE FULL: /datasets/mamografia/CBIS-DDSM_organized/images/original/train/Mass-Training_P_00535_LEFT_CC_FULL.dcm\n",
      "DONE FULL: /datasets/mamografia/CBIS-DDSM_organized/images/original/train/Mass-Training_P_01501_RIGHT_MLO_FULL.dcm\n",
      "DONE FULL: /datasets/mamografia/CBIS-DDSM_organized/images/original/train/Mass-Training_P_00517_LEFT_MLO_FULL.dcm\n",
      "DONE FULL: /datasets/mamografia/CBIS-DDSM_organized/images/original/train/Mass-Training_P_01508_LEFT_MLO_FULL.dcm\n",
      "DONE FULL: /datasets/mamografia/CBIS-DDSM_organized/images/original/train/Mass-Training_P_00055_LEFT_CC_FULL.dcm\n",
      "DONE FULL: /datasets/mamografia/CBIS-DDSM_organized/images/original/train/Mass-Training_P_00187_LEFT_MLO_FULL.dcm\n",
      "DONE FULL: /datasets/mamografia/CBIS-DDSM_organized/images/original/train/Mass-Training_P_00009_RIGHT_MLO_FULL.dcm\n",
      "DONE FULL: /datasets/mamografia/CBIS-DDSM_organized/images/original/train/Mass-Training_P_01745_RIGHT_MLO_FULL.dcm\n",
      "DONE FULL: /datasets/mamografia/CBIS-DDSM_organized/images/original/train/Mass-Training_P_00675_LEFT_MLO_FULL.dcm\n",
      "DONE FULL: /datasets/mamografia/CBIS-DDSM_organized/images/original/train/Mass-Training_P_01076_RIGHT_MLO_FULL.dcm\n",
      "DONE FULL: /datasets/mamografia/CBIS-DDSM_organized/images/original/train/Mass-Training_P_01572_RIGHT_MLO_FULL.dcm\n",
      "DONE FULL: /datasets/mamografia/CBIS-DDSM_organized/images/original/train/Mass-Training_P_01573_RIGHT_MLO_FULL.dcm\n",
      "DONE FULL: /datasets/mamografia/CBIS-DDSM_organized/images/original/train/Mass-Training_P_00096_RIGHT_CC_FULL.dcm\n",
      "DONE FULL: /datasets/mamografia/CBIS-DDSM_organized/images/original/train/Mass-Training_P_00081_RIGHT_CC_FULL.dcm\n",
      "DONE FULL: /datasets/mamografia/CBIS-DDSM_organized/images/original/train/Mass-Training_P_01864_LEFT_CC_FULL.dcm\n",
      "DONE FULL: /datasets/mamografia/CBIS-DDSM_organized/images/original/train/Mass-Training_P_01326_LEFT_MLO_FULL.dcm\n",
      "DONE FULL: /datasets/mamografia/CBIS-DDSM_organized/images/original/train/Mass-Training_P_01816_LEFT_CC_FULL.dcm\n",
      "DONE FULL: /datasets/mamografia/CBIS-DDSM_organized/images/original/train/Mass-Training_P_00886_LEFT_MLO_FULL.dcm\n",
      "DONE FULL: /datasets/mamografia/CBIS-DDSM_organized/images/original/train/Mass-Training_P_00900_LEFT_MLO_FULL.dcm\n",
      "DONE FULL: /datasets/mamografia/CBIS-DDSM_organized/images/original/train/Mass-Training_P_00330_LEFT_MLO_FULL.dcm\n",
      "DONE FULL: /datasets/mamografia/CBIS-DDSM_organized/images/original/train/Mass-Training_P_01668_LEFT_MLO_FULL.dcm\n",
      "DONE FULL: /datasets/mamografia/CBIS-DDSM_organized/images/original/train/Mass-Training_P_01207_RIGHT_MLO_FULL.dcm\n",
      "DONE FULL: /datasets/mamografia/CBIS-DDSM_organized/images/original/train/Mass-Training_P_01083_RIGHT_MLO_FULL.dcm\n",
      "DONE FULL: /datasets/mamografia/CBIS-DDSM_organized/images/original/train/Mass-Training_P_00109_LEFT_CC_FULL.dcm\n",
      "DONE FULL: /datasets/mamografia/CBIS-DDSM_organized/images/original/train/Mass-Training_P_01753_RIGHT_MLO_FULL.dcm\n",
      "DONE FULL: /datasets/mamografia/CBIS-DDSM_organized/images/original/train/Mass-Training_P_00851_LEFT_CC_FULL.dcm\n",
      "DONE FULL: /datasets/mamografia/CBIS-DDSM_organized/images/original/train/Mass-Training_P_01171_LEFT_CC_FULL.dcm\n",
      "DONE FULL: /datasets/mamografia/CBIS-DDSM_organized/images/original/train/Mass-Training_P_01694_RIGHT_CC_FULL.dcm\n",
      "DONE FULL: /datasets/mamografia/CBIS-DDSM_organized/images/original/train/Mass-Training_P_00172_LEFT_CC_FULL.dcm\n",
      "DONE FULL: /datasets/mamografia/CBIS-DDSM_organized/images/original/train/Mass-Training_P_01008_RIGHT_MLO_FULL.dcm\n",
      "DONE FULL: /datasets/mamografia/CBIS-DDSM_organized/images/original/train/Mass-Training_P_00454_RIGHT_MLO_FULL.dcm\n",
      "DONE FULL: /datasets/mamografia/CBIS-DDSM_organized/images/original/train/Mass-Training_P_00990_RIGHT_MLO_FULL.dcm\n",
      "DONE FULL: /datasets/mamografia/CBIS-DDSM_organized/images/original/train/Mass-Training_P_00273_LEFT_CC_FULL.dcm\n",
      "DONE FULL: /datasets/mamografia/CBIS-DDSM_organized/images/original/train/Mass-Training_P_00914_LEFT_MLO_FULL.dcm\n",
      "DONE FULL: /datasets/mamografia/CBIS-DDSM_organized/images/original/train/Mass-Training_P_00417_RIGHT_CC_FULL.dcm\n",
      "DONE FULL: /datasets/mamografia/CBIS-DDSM_organized/images/original/train/Mass-Training_P_01373_RIGHT_CC_FULL.dcm\n",
      "DONE FULL: /datasets/mamografia/CBIS-DDSM_organized/images/original/train/Mass-Training_P_01031_LEFT_CC_FULL.dcm\n",
      "DONE FULL: /datasets/mamografia/CBIS-DDSM_organized/images/original/train/Mass-Training_P_00106_RIGHT_MLO_FULL.dcm\n",
      "DONE FULL: /datasets/mamografia/CBIS-DDSM_organized/images/original/train/Mass-Training_P_00509_RIGHT_MLO_FULL.dcm\n",
      "DONE FULL: /datasets/mamografia/CBIS-DDSM_organized/images/original/train/Mass-Training_P_00661_LEFT_MLO_FULL.dcm\n",
      "DONE FULL: /datasets/mamografia/CBIS-DDSM_organized/images/original/train/Mass-Training_P_01123_LEFT_MLO_FULL.dcm\n",
      "DONE FULL: /datasets/mamografia/CBIS-DDSM_organized/images/original/train/Mass-Training_P_01233_LEFT_MLO_FULL.dcm\n",
      "DONE FULL: /datasets/mamografia/CBIS-DDSM_organized/images/original/train/Mass-Training_P_00996_RIGHT_CC_FULL.dcm\n",
      "DONE FULL: /datasets/mamografia/CBIS-DDSM_organized/images/original/train/Mass-Training_P_00949_LEFT_MLO_FULL.dcm\n",
      "DONE FULL: /datasets/mamografia/CBIS-DDSM_organized/images/original/train/Mass-Training_P_00471_RIGHT_MLO_FULL.dcm\n",
      "DONE FULL: /datasets/mamografia/CBIS-DDSM_organized/images/original/train/Mass-Training_P_01434_LEFT_CC_FULL.dcm\n",
      "DONE FULL: /datasets/mamografia/CBIS-DDSM_organized/images/original/train/Mass-Training_P_00119_LEFT_MLO_FULL.dcm\n",
      "DONE FULL: /datasets/mamografia/CBIS-DDSM_organized/images/original/train/Mass-Training_P_01279_LEFT_CC_FULL.dcm\n",
      "DONE FULL: /datasets/mamografia/CBIS-DDSM_organized/images/original/train/Mass-Training_P_00798_RIGHT_CC_FULL.dcm\n",
      "DONE FULL: /datasets/mamografia/CBIS-DDSM_organized/images/original/train/Mass-Training_P_01712_RIGHT_CC_FULL.dcm\n",
      "DONE FULL: /datasets/mamografia/CBIS-DDSM_organized/images/original/train/Mass-Training_P_01701_LEFT_MLO_FULL.dcm\n",
      "DONE FULL: /datasets/mamografia/CBIS-DDSM_organized/images/original/train/Mass-Training_P_01230_LEFT_MLO_FULL.dcm\n",
      "DONE FULL: /datasets/mamografia/CBIS-DDSM_organized/images/original/train/Mass-Training_P_01484_RIGHT_MLO_FULL.dcm\n",
      "DONE FULL: /datasets/mamografia/CBIS-DDSM_organized/images/original/train/Mass-Training_P_01669_LEFT_MLO_FULL.dcm\n",
      "DONE FULL: /datasets/mamografia/CBIS-DDSM_organized/images/original/train/Mass-Training_P_01239_RIGHT_CC_FULL.dcm\n",
      "DONE FULL: /datasets/mamografia/CBIS-DDSM_organized/images/original/train/Mass-Training_P_00560_RIGHT_MLO_FULL.dcm\n",
      "DONE FULL: /datasets/mamografia/CBIS-DDSM_organized/images/original/train/Mass-Training_P_00001_LEFT_CC_FULL.dcm\n",
      "DONE FULL: /datasets/mamografia/CBIS-DDSM_organized/images/original/train/Mass-Training_P_00169_RIGHT_MLO_FULL.dcm\n",
      "DONE FULL: /datasets/mamografia/CBIS-DDSM_organized/images/original/train/Mass-Training_P_00976_LEFT_CC_FULL.dcm\n",
      "DONE FULL: /datasets/mamografia/CBIS-DDSM_organized/images/original/train/Mass-Training_P_01509_RIGHT_CC_FULL.dcm\n",
      "DONE FULL: /datasets/mamografia/CBIS-DDSM_organized/images/original/train/Mass-Training_P_00342_RIGHT_CC_FULL.dcm\n",
      "DONE FULL: /datasets/mamografia/CBIS-DDSM_organized/images/original/train/Mass-Training_P_00869_LEFT_CC_FULL.dcm\n",
      "DONE FULL: /datasets/mamografia/CBIS-DDSM_organized/images/original/train/Mass-Training_P_01776_RIGHT_MLO_FULL.dcm\n",
      "DONE FULL: /datasets/mamografia/CBIS-DDSM_organized/images/original/train/Mass-Training_P_01281_RIGHT_MLO_FULL.dcm\n",
      "DONE FULL: /datasets/mamografia/CBIS-DDSM_organized/images/original/train/Mass-Training_P_01611_RIGHT_CC_FULL.dcm\n",
      "DONE FULL: /datasets/mamografia/CBIS-DDSM_organized/images/original/train/Mass-Training_P_00692_LEFT_MLO_FULL.dcm\n",
      "DONE FULL: /datasets/mamografia/CBIS-DDSM_organized/images/original/train/Mass-Training_P_00217_LEFT_CC_FULL.dcm\n",
      "DONE FULL: /datasets/mamografia/CBIS-DDSM_organized/images/original/train/Mass-Training_P_01737_RIGHT_CC_FULL.dcm\n",
      "DONE FULL: /datasets/mamografia/CBIS-DDSM_organized/images/original/train/Mass-Training_P_00532_LEFT_CC_FULL.dcm\n",
      "DONE FULL: /datasets/mamografia/CBIS-DDSM_organized/images/original/train/Mass-Training_P_00205_RIGHT_MLO_FULL.dcm\n",
      "DONE FULL: /datasets/mamografia/CBIS-DDSM_organized/images/original/train/Mass-Training_P_00427_RIGHT_MLO_FULL.dcm\n",
      "DONE FULL: /datasets/mamografia/CBIS-DDSM_organized/images/original/train/Mass-Training_P_00021_RIGHT_CC_FULL.dcm\n",
      "DONE FULL: /datasets/mamografia/CBIS-DDSM_organized/images/original/train/Mass-Training_P_00881_LEFT_CC_FULL.dcm\n",
      "DONE FULL: /datasets/mamografia/CBIS-DDSM_organized/images/original/train/Mass-Training_P_00351_LEFT_MLO_FULL.dcm\n",
      "DONE FULL: /datasets/mamografia/CBIS-DDSM_organized/images/original/train/Mass-Training_P_00539_RIGHT_MLO_FULL.dcm\n",
      "DONE FULL: /datasets/mamografia/CBIS-DDSM_organized/images/original/train/Mass-Training_P_01687_RIGHT_CC_FULL.dcm\n",
      "DONE FULL: /datasets/mamografia/CBIS-DDSM_organized/images/original/train/Mass-Training_P_01350_RIGHT_CC_FULL.dcm\n",
      "DONE FULL: /datasets/mamografia/CBIS-DDSM_organized/images/original/train/Mass-Training_P_00207_LEFT_MLO_FULL.dcm\n",
      "DONE FULL: /datasets/mamografia/CBIS-DDSM_organized/images/original/train/Mass-Training_P_00224_LEFT_CC_FULL.dcm\n",
      "DONE FULL: /datasets/mamografia/CBIS-DDSM_organized/images/original/train/Mass-Training_P_01146_LEFT_CC_FULL.dcm\n",
      "DONE FULL: /datasets/mamografia/CBIS-DDSM_organized/images/original/train/Mass-Training_P_01389_RIGHT_MLO_FULL.dcm\n",
      "DONE FULL: /datasets/mamografia/CBIS-DDSM_organized/images/original/train/Mass-Training_P_00430_LEFT_CC_FULL.dcm\n",
      "DONE FULL: /datasets/mamografia/CBIS-DDSM_organized/images/original/train/Mass-Training_P_00731_RIGHT_CC_FULL.dcm\n",
      "DONE FULL: /datasets/mamografia/CBIS-DDSM_organized/images/original/train/Mass-Training_P_01877_LEFT_CC_FULL.dcm\n",
      "DONE FULL: /datasets/mamografia/CBIS-DDSM_organized/images/original/train/Mass-Training_P_00569_RIGHT_MLO_FULL.dcm\n",
      "DONE FULL: /datasets/mamografia/CBIS-DDSM_organized/images/original/train/Mass-Training_P_00670_RIGHT_MLO_FULL.dcm\n",
      "DONE FULL: /datasets/mamografia/CBIS-DDSM_organized/images/original/train/Mass-Training_P_01426_RIGHT_MLO_FULL.dcm\n",
      "DONE FULL: /datasets/mamografia/CBIS-DDSM_organized/images/original/train/Mass-Training_P_00148_RIGHT_MLO_FULL.dcm\n",
      "DONE FULL: /datasets/mamografia/CBIS-DDSM_organized/images/original/train/Mass-Training_P_01398_LEFT_MLO_FULL.dcm\n",
      "DONE FULL: /datasets/mamografia/CBIS-DDSM_organized/images/original/train/Mass-Training_P_01412_LEFT_MLO_FULL.dcm\n",
      "DONE FULL: /datasets/mamografia/CBIS-DDSM_organized/images/original/train/Mass-Training_P_01076_RIGHT_CC_FULL.dcm\n",
      "DONE FULL: /datasets/mamografia/CBIS-DDSM_organized/images/original/train/Mass-Training_P_00106_RIGHT_CC_FULL.dcm\n",
      "DONE FULL: /datasets/mamografia/CBIS-DDSM_organized/images/original/train/Mass-Training_P_00702_RIGHT_CC_FULL.dcm\n",
      "DONE FULL: /datasets/mamografia/CBIS-DDSM_organized/images/original/train/Mass-Training_P_00076_LEFT_MLO_FULL.dcm\n",
      "DONE FULL: /datasets/mamografia/CBIS-DDSM_organized/images/original/train/Mass-Training_P_00665_LEFT_MLO_FULL.dcm\n",
      "DONE FULL: /datasets/mamografia/CBIS-DDSM_organized/images/original/train/Mass-Training_P_01171_LEFT_MLO_FULL.dcm\n",
      "DONE FULL: /datasets/mamografia/CBIS-DDSM_organized/images/original/train/Mass-Training_P_00235_RIGHT_MLO_FULL.dcm\n",
      "DONE FULL: /datasets/mamografia/CBIS-DDSM_organized/images/original/train/Mass-Training_P_01686_RIGHT_CC_FULL.dcm\n",
      "DONE FULL: /datasets/mamografia/CBIS-DDSM_organized/images/original/train/Mass-Training_P_00739_LEFT_MLO_FULL.dcm\n",
      "DONE FULL: /datasets/mamografia/CBIS-DDSM_organized/images/original/train/Mass-Training_P_00453_LEFT_MLO_FULL.dcm\n",
      "DONE FULL: /datasets/mamografia/CBIS-DDSM_organized/images/original/train/Mass-Training_P_01544_RIGHT_CC_FULL.dcm\n",
      "DONE FULL: /datasets/mamografia/CBIS-DDSM_organized/images/original/train/Mass-Training_P_00465_LEFT_CC_FULL.dcm\n",
      "DONE FULL: /datasets/mamografia/CBIS-DDSM_organized/images/original/train/Mass-Training_P_00518_LEFT_CC_FULL.dcm\n",
      "DONE FULL: /datasets/mamografia/CBIS-DDSM_organized/images/original/train/Mass-Training_P_00413_LEFT_CC_FULL.dcm\n",
      "DONE FULL: /datasets/mamografia/CBIS-DDSM_organized/images/original/train/Mass-Training_P_00039_RIGHT_CC_FULL.dcm\n",
      "DONE FULL: /datasets/mamografia/CBIS-DDSM_organized/images/original/train/Mass-Training_P_00335_LEFT_MLO_FULL.dcm\n",
      "DONE FULL: /datasets/mamografia/CBIS-DDSM_organized/images/original/train/Mass-Training_P_02092_LEFT_MLO_FULL.dcm\n",
      "DONE FULL: /datasets/mamografia/CBIS-DDSM_organized/images/original/train/Mass-Training_P_01841_RIGHT_CC_FULL.dcm\n",
      "DONE FULL: /datasets/mamografia/CBIS-DDSM_organized/images/original/train/Mass-Training_P_01363_RIGHT_MLO_FULL.dcm\n",
      "DONE FULL: /datasets/mamografia/CBIS-DDSM_organized/images/original/train/Mass-Training_P_01474_RIGHT_MLO_FULL.dcm\n",
      "DONE FULL: /datasets/mamografia/CBIS-DDSM_organized/images/original/train/Mass-Training_P_01301_RIGHT_MLO_FULL.dcm\n",
      "DONE FULL: /datasets/mamografia/CBIS-DDSM_organized/images/original/train/Mass-Training_P_00366_RIGHT_MLO_FULL.dcm\n",
      "DONE FULL: /datasets/mamografia/CBIS-DDSM_organized/images/original/train/Mass-Training_P_00859_LEFT_MLO_FULL.dcm\n",
      "DONE FULL: /datasets/mamografia/CBIS-DDSM_organized/images/original/train/Mass-Training_P_00057_RIGHT_MLO_FULL.dcm\n",
      "DONE FULL: /datasets/mamografia/CBIS-DDSM_organized/images/original/train/Mass-Training_P_00314_RIGHT_MLO_FULL.dcm\n",
      "DONE FULL: /datasets/mamografia/CBIS-DDSM_organized/images/original/train/Mass-Training_P_00319_LEFT_MLO_FULL.dcm\n",
      "DONE FULL: /datasets/mamografia/CBIS-DDSM_organized/images/original/train/Mass-Training_P_00356_LEFT_CC_FULL.dcm\n",
      "DONE FULL: /datasets/mamografia/CBIS-DDSM_organized/images/original/train/Mass-Training_P_00678_LEFT_MLO_FULL.dcm\n",
      "DONE FULL: /datasets/mamografia/CBIS-DDSM_organized/images/original/train/Mass-Training_P_00906_LEFT_MLO_FULL.dcm\n",
      "DONE FULL: /datasets/mamografia/CBIS-DDSM_organized/images/original/train/Mass-Training_P_01849_RIGHT_MLO_FULL.dcm\n",
      "DONE FULL: /datasets/mamografia/CBIS-DDSM_organized/images/original/train/Mass-Training_P_00886_LEFT_CC_FULL.dcm\n",
      "DONE FULL: /datasets/mamografia/CBIS-DDSM_organized/images/original/train/Mass-Training_P_00845_RIGHT_CC_FULL.dcm\n",
      "DONE FULL: /datasets/mamografia/CBIS-DDSM_organized/images/original/train/Mass-Training_P_00728_RIGHT_MLO_FULL.dcm\n",
      "DONE FULL: /datasets/mamografia/CBIS-DDSM_organized/images/original/train/Mass-Training_P_00853_RIGHT_CC_FULL.dcm\n",
      "DONE FULL: /datasets/mamografia/CBIS-DDSM_organized/images/original/train/Mass-Training_P_00046_RIGHT_MLO_FULL.dcm\n",
      "DONE FULL: /datasets/mamografia/CBIS-DDSM_organized/images/original/train/Mass-Training_P_01600_RIGHT_CC_FULL.dcm\n",
      "DONE FULL: /datasets/mamografia/CBIS-DDSM_organized/images/original/train/Mass-Training_P_01324_LEFT_CC_FULL.dcm\n",
      "DONE FULL: /datasets/mamografia/CBIS-DDSM_organized/images/original/train/Mass-Training_P_00592_LEFT_MLO_FULL.dcm\n",
      "DONE FULL: /datasets/mamografia/CBIS-DDSM_organized/images/original/train/Mass-Training_P_00826_LEFT_MLO_FULL.dcm\n",
      "DONE FULL: /datasets/mamografia/CBIS-DDSM_organized/images/original/train/Mass-Training_P_01179_LEFT_MLO_FULL.dcm\n",
      "DONE FULL: /datasets/mamografia/CBIS-DDSM_organized/images/original/train/Mass-Training_P_01267_RIGHT_MLO_FULL.dcm\n",
      "DONE FULL: /datasets/mamografia/CBIS-DDSM_organized/images/original/train/Mass-Training_P_01185_RIGHT_CC_FULL.dcm\n",
      "DONE FULL: /datasets/mamografia/CBIS-DDSM_organized/images/original/train/Mass-Training_P_00764_RIGHT_CC_FULL.dcm\n",
      "DONE FULL: /datasets/mamografia/CBIS-DDSM_organized/images/original/train/Mass-Training_P_00004_LEFT_CC_FULL.dcm\n",
      "DONE FULL: /datasets/mamografia/CBIS-DDSM_organized/images/original/train/Mass-Training_P_01423_RIGHT_CC_FULL.dcm\n",
      "DONE FULL: /datasets/mamografia/CBIS-DDSM_organized/images/original/train/Mass-Training_P_01162_LEFT_CC_FULL.dcm\n",
      "DONE FULL: /datasets/mamografia/CBIS-DDSM_organized/images/original/train/Mass-Training_P_01134_RIGHT_MLO_FULL.dcm\n",
      "DONE FULL: /datasets/mamografia/CBIS-DDSM_organized/images/original/train/Mass-Training_P_01271_RIGHT_MLO_FULL.dcm\n",
      "DONE FULL: /datasets/mamografia/CBIS-DDSM_organized/images/original/train/Mass-Training_P_01814_RIGHT_CC_FULL.dcm\n",
      "DONE FULL: /datasets/mamografia/CBIS-DDSM_organized/images/original/train/Mass-Training_P_00385_RIGHT_CC_FULL.dcm\n",
      "DONE FULL: /datasets/mamografia/CBIS-DDSM_organized/images/original/train/Mass-Training_P_00330_LEFT_CC_FULL.dcm\n",
      "DONE FULL: /datasets/mamografia/CBIS-DDSM_organized/images/original/train/Mass-Training_P_01485_LEFT_CC_FULL.dcm\n",
      "DONE FULL: /datasets/mamografia/CBIS-DDSM_organized/images/original/train/Mass-Training_P_01591_LEFT_MLO_FULL.dcm\n",
      "DONE FULL: /datasets/mamografia/CBIS-DDSM_organized/images/original/train/Mass-Training_P_00226_LEFT_CC_FULL.dcm\n",
      "DONE FULL: /datasets/mamografia/CBIS-DDSM_organized/images/original/train/Mass-Training_P_00782_RIGHT_CC_FULL.dcm\n",
      "DONE FULL: /datasets/mamografia/CBIS-DDSM_organized/images/original/train/Mass-Training_P_01583_RIGHT_MLO_FULL.dcm\n",
      "DONE FULL: /datasets/mamografia/CBIS-DDSM_organized/images/original/train/Mass-Training_P_01831_RIGHT_CC_FULL.dcm\n",
      "DONE FULL: /datasets/mamografia/CBIS-DDSM_organized/images/original/train/Mass-Training_P_01162_LEFT_MLO_FULL.dcm\n",
      "DONE FULL: /datasets/mamografia/CBIS-DDSM_organized/images/original/train/Mass-Training_P_01218_RIGHT_CC_FULL.dcm\n",
      "DONE FULL: /datasets/mamografia/CBIS-DDSM_organized/images/original/train/Mass-Training_P_00698_RIGHT_MLO_FULL.dcm\n",
      "DONE FULL: /datasets/mamografia/CBIS-DDSM_organized/images/original/train/Mass-Training_P_00224_LEFT_MLO_FULL.dcm\n",
      "DONE FULL: /datasets/mamografia/CBIS-DDSM_organized/images/original/train/Mass-Training_P_01824_RIGHT_MLO_FULL.dcm\n",
      "DONE FULL: /datasets/mamografia/CBIS-DDSM_organized/images/original/train/Mass-Training_P_01008_RIGHT_CC_FULL.dcm\n",
      "DONE FULL: /datasets/mamografia/CBIS-DDSM_organized/images/original/train/Mass-Training_P_00208_RIGHT_MLO_FULL.dcm\n",
      "DONE FULL: /datasets/mamografia/CBIS-DDSM_organized/images/original/train/Mass-Training_P_01635_RIGHT_CC_FULL.dcm\n",
      "DONE FULL: /datasets/mamografia/CBIS-DDSM_organized/images/original/train/Mass-Training_P_00065_LEFT_MLO_FULL.dcm\n",
      "DONE FULL: /datasets/mamografia/CBIS-DDSM_organized/images/original/train/Mass-Training_P_01553_RIGHT_MLO_FULL.dcm\n",
      "DONE FULL: /datasets/mamografia/CBIS-DDSM_organized/images/original/train/Mass-Training_P_00439_RIGHT_CC_FULL.dcm\n",
      "DONE FULL: /datasets/mamografia/CBIS-DDSM_organized/images/original/train/Mass-Training_P_00968_LEFT_MLO_FULL.dcm\n",
      "DONE FULL: /datasets/mamografia/CBIS-DDSM_organized/images/original/train/Mass-Training_P_01532_LEFT_MLO_FULL.dcm\n",
      "DONE FULL: /datasets/mamografia/CBIS-DDSM_organized/images/original/train/Mass-Training_P_00146_RIGHT_CC_FULL.dcm\n",
      "DONE FULL: /datasets/mamografia/CBIS-DDSM_organized/images/original/train/Mass-Training_P_01632_RIGHT_MLO_FULL.dcm\n",
      "DONE FULL: /datasets/mamografia/CBIS-DDSM_organized/images/original/train/Mass-Training_P_01701_LEFT_CC_FULL.dcm\n",
      "DONE FULL: /datasets/mamografia/CBIS-DDSM_organized/images/original/train/Mass-Training_P_01203_RIGHT_CC_FULL.dcm\n",
      "DONE FULL: /datasets/mamografia/CBIS-DDSM_organized/images/original/train/Mass-Training_P_00298_LEFT_CC_FULL.dcm\n",
      "DONE FULL: /datasets/mamografia/CBIS-DDSM_organized/images/original/train/Mass-Training_P_00149_LEFT_MLO_FULL.dcm\n",
      "DONE FULL: /datasets/mamografia/CBIS-DDSM_organized/images/original/train/Mass-Training_P_00814_LEFT_MLO_FULL.dcm\n",
      "DONE FULL: /datasets/mamografia/CBIS-DDSM_organized/images/original/train/Mass-Training_P_01173_RIGHT_MLO_FULL.dcm\n",
      "DONE FULL: /datasets/mamografia/CBIS-DDSM_organized/images/original/train/Mass-Training_P_01739_RIGHT_CC_FULL.dcm\n",
      "DONE FULL: /datasets/mamografia/CBIS-DDSM_organized/images/original/train/Mass-Training_P_00021_LEFT_CC_FULL.dcm\n",
      "DONE FULL: /datasets/mamografia/CBIS-DDSM_organized/images/original/train/Mass-Training_P_00218_LEFT_MLO_FULL.dcm\n",
      "DONE FULL: /datasets/mamografia/CBIS-DDSM_organized/images/original/train/Mass-Training_P_00584_LEFT_MLO_FULL.dcm\n",
      "DONE FULL: /datasets/mamografia/CBIS-DDSM_organized/images/original/train/Mass-Training_P_00076_LEFT_CC_FULL.dcm\n",
      "DONE FULL: /datasets/mamografia/CBIS-DDSM_organized/images/original/train/Mass-Training_P_00432_LEFT_CC_FULL.dcm\n",
      "DONE FULL: /datasets/mamografia/CBIS-DDSM_organized/images/original/train/Mass-Training_P_01641_LEFT_MLO_FULL.dcm\n",
      "DONE FULL: /datasets/mamografia/CBIS-DDSM_organized/images/original/train/Mass-Training_P_00366_RIGHT_CC_FULL.dcm\n",
      "DONE FULL: /datasets/mamografia/CBIS-DDSM_organized/images/original/train/Mass-Training_P_00287_RIGHT_CC_FULL.dcm\n",
      "DONE FULL: /datasets/mamografia/CBIS-DDSM_organized/images/original/train/Mass-Training_P_00596_LEFT_MLO_FULL.dcm\n",
      "DONE FULL: /datasets/mamografia/CBIS-DDSM_organized/images/original/train/Mass-Training_P_01047_LEFT_MLO_FULL.dcm\n",
      "DONE FULL: /datasets/mamografia/CBIS-DDSM_organized/images/original/train/Mass-Training_P_01850_RIGHT_MLO_FULL.dcm\n",
      "DONE FULL: /datasets/mamografia/CBIS-DDSM_organized/images/original/train/Mass-Training_P_01532_LEFT_CC_FULL.dcm\n",
      "DONE FULL: /datasets/mamografia/CBIS-DDSM_organized/images/original/train/Mass-Training_P_01529_RIGHT_MLO_FULL.dcm\n",
      "DONE FULL: /datasets/mamografia/CBIS-DDSM_organized/images/original/train/Mass-Training_P_00492_RIGHT_MLO_FULL.dcm\n",
      "DONE FULL: /datasets/mamografia/CBIS-DDSM_organized/images/original/train/Mass-Training_P_00332_RIGHT_CC_FULL.dcm\n",
      "DONE FULL: /datasets/mamografia/CBIS-DDSM_organized/images/original/train/Mass-Training_P_01241_RIGHT_CC_FULL.dcm\n",
      "DONE FULL: /datasets/mamografia/CBIS-DDSM_organized/images/original/train/Mass-Training_P_00421_LEFT_CC_FULL.dcm\n",
      "DONE FULL: /datasets/mamografia/CBIS-DDSM_organized/images/original/train/Mass-Training_P_00231_LEFT_MLO_FULL.dcm\n",
      "DONE FULL: /datasets/mamografia/CBIS-DDSM_organized/images/original/train/Mass-Training_P_00622_LEFT_CC_FULL.dcm\n",
      "DONE FULL: /datasets/mamografia/CBIS-DDSM_organized/images/original/train/Mass-Training_P_00518_LEFT_MLO_FULL.dcm\n",
      "DONE FULL: /datasets/mamografia/CBIS-DDSM_organized/images/original/train/Mass-Training_P_00616_LEFT_MLO_FULL.dcm\n",
      "DONE FULL: /datasets/mamografia/CBIS-DDSM_organized/images/original/train/Mass-Training_P_00666_RIGHT_MLO_FULL.dcm\n",
      "DONE FULL: /datasets/mamografia/CBIS-DDSM_organized/images/original/train/Mass-Training_P_00488_LEFT_MLO_FULL.dcm\n",
      "DONE FULL: /datasets/mamografia/CBIS-DDSM_organized/images/original/train/Mass-Training_P_01557_RIGHT_CC_FULL.dcm\n",
      "DONE FULL: /datasets/mamografia/CBIS-DDSM_organized/images/original/train/Mass-Training_P_00026_LEFT_MLO_FULL.dcm\n",
      "DONE FULL: /datasets/mamografia/CBIS-DDSM_organized/images/original/train/Mass-Training_P_01803_RIGHT_MLO_FULL.dcm\n",
      "DONE FULL: /datasets/mamografia/CBIS-DDSM_organized/images/original/train/Mass-Training_P_00333_RIGHT_CC_FULL.dcm\n",
      "DONE FULL: /datasets/mamografia/CBIS-DDSM_organized/images/original/train/Mass-Training_P_00545_LEFT_MLO_FULL.dcm\n",
      "DONE FULL: /datasets/mamografia/CBIS-DDSM_organized/images/original/train/Mass-Training_P_01250_RIGHT_MLO_FULL.dcm\n",
      "DONE FULL: /datasets/mamografia/CBIS-DDSM_organized/images/original/train/Mass-Training_P_01493_RIGHT_CC_FULL.dcm\n",
      "DONE FULL: /datasets/mamografia/CBIS-DDSM_organized/images/original/train/Mass-Training_P_00902_LEFT_CC_FULL.dcm\n",
      "DONE FULL: /datasets/mamografia/CBIS-DDSM_organized/images/original/train/Mass-Training_P_00218_LEFT_CC_FULL.dcm\n",
      "DONE FULL: /datasets/mamografia/CBIS-DDSM_organized/images/original/train/Mass-Training_P_01646_LEFT_MLO_FULL.dcm\n",
      "DONE FULL: /datasets/mamografia/CBIS-DDSM_organized/images/original/train/Mass-Training_P_01039_RIGHT_CC_FULL.dcm\n",
      "DONE FULL: /datasets/mamografia/CBIS-DDSM_organized/images/original/train/Mass-Training_P_01543_RIGHT_CC_FULL.dcm\n",
      "DONE FULL: /datasets/mamografia/CBIS-DDSM_organized/images/original/train/Mass-Training_P_01591_LEFT_CC_FULL.dcm\n",
      "DONE FULL: /datasets/mamografia/CBIS-DDSM_organized/images/original/train/Mass-Training_P_00687_LEFT_CC_FULL.dcm\n",
      "DONE FULL: /datasets/mamografia/CBIS-DDSM_organized/images/original/train/Mass-Training_P_01632_LEFT_MLO_FULL.dcm\n",
      "DONE FULL: /datasets/mamografia/CBIS-DDSM_organized/images/original/train/Mass-Training_P_00399_RIGHT_MLO_FULL.dcm\n",
      "DONE FULL: /datasets/mamografia/CBIS-DDSM_organized/images/original/train/Mass-Training_P_01685_RIGHT_MLO_FULL.dcm\n",
      "DONE FULL: /datasets/mamografia/CBIS-DDSM_organized/images/original/train/Mass-Training_P_01581_LEFT_MLO_FULL.dcm\n",
      "DONE FULL: /datasets/mamografia/CBIS-DDSM_organized/images/original/train/Mass-Training_P_00776_RIGHT_CC_FULL.dcm\n",
      "DONE FULL: /datasets/mamografia/CBIS-DDSM_organized/images/original/train/Mass-Training_P_00841_RIGHT_MLO_FULL.dcm\n",
      "DONE FULL: /datasets/mamografia/CBIS-DDSM_organized/images/original/train/Mass-Training_P_01853_LEFT_CC_FULL.dcm\n",
      "DONE FULL: /datasets/mamografia/CBIS-DDSM_organized/images/original/train/Mass-Training_P_01402_RIGHT_MLO_FULL.dcm\n",
      "DONE FULL: /datasets/mamografia/CBIS-DDSM_organized/images/original/train/Mass-Training_P_00242_RIGHT_MLO_FULL.dcm\n",
      "DONE FULL: /datasets/mamografia/CBIS-DDSM_organized/images/original/train/Mass-Training_P_01494_LEFT_MLO_FULL.dcm\n",
      "DONE FULL: /datasets/mamografia/CBIS-DDSM_organized/images/original/train/Mass-Training_P_00534_LEFT_CC_FULL.dcm\n",
      "DONE FULL: /datasets/mamografia/CBIS-DDSM_organized/images/original/train/Mass-Training_P_00294_LEFT_CC_FULL.dcm\n",
      "DONE FULL: /datasets/mamografia/CBIS-DDSM_organized/images/original/train/Mass-Training_P_00175_RIGHT_MLO_FULL.dcm\n",
      "DONE FULL: /datasets/mamografia/CBIS-DDSM_organized/images/original/train/Mass-Training_P_00988_LEFT_MLO_FULL.dcm\n",
      "DONE FULL: /datasets/mamografia/CBIS-DDSM_organized/images/original/train/Mass-Training_P_00797_RIGHT_MLO_FULL.dcm\n",
      "DONE FULL: /datasets/mamografia/CBIS-DDSM_organized/images/original/train/Mass-Training_P_00074_RIGHT_CC_FULL.dcm\n",
      "DONE FULL: /datasets/mamografia/CBIS-DDSM_organized/images/original/train/Mass-Training_P_00549_LEFT_CC_FULL.dcm\n",
      "DONE FULL: /datasets/mamografia/CBIS-DDSM_organized/images/original/train/Mass-Training_P_01238_RIGHT_CC_FULL.dcm\n",
      "DONE FULL: /datasets/mamografia/CBIS-DDSM_organized/images/original/train/Mass-Training_P_00935_LEFT_CC_FULL.dcm\n",
      "DONE FULL: /datasets/mamografia/CBIS-DDSM_organized/images/original/train/Mass-Training_P_00970_LEFT_MLO_FULL.dcm\n",
      "DONE FULL: /datasets/mamografia/CBIS-DDSM_organized/images/original/train/Mass-Training_P_01317_RIGHT_MLO_FULL.dcm\n",
      "DONE FULL: /datasets/mamografia/CBIS-DDSM_organized/images/original/train/Mass-Training_P_01433_LEFT_CC_FULL.dcm\n",
      "DONE FULL: /datasets/mamografia/CBIS-DDSM_organized/images/original/train/Mass-Training_P_00117_LEFT_MLO_FULL.dcm\n",
      "DONE FULL: /datasets/mamografia/CBIS-DDSM_organized/images/original/train/Mass-Training_P_01725_RIGHT_CC_FULL.dcm\n",
      "DONE FULL: /datasets/mamografia/CBIS-DDSM_organized/images/original/train/Mass-Training_P_00051_LEFT_MLO_FULL.dcm\n",
      "DONE FULL: /datasets/mamografia/CBIS-DDSM_organized/images/original/train/Mass-Training_P_01035_RIGHT_CC_FULL.dcm\n",
      "DONE FULL: /datasets/mamografia/CBIS-DDSM_organized/images/original/train/Mass-Training_P_01036_RIGHT_MLO_FULL.dcm\n",
      "DONE FULL: /datasets/mamografia/CBIS-DDSM_organized/images/original/train/Mass-Training_P_00694_RIGHT_MLO_FULL.dcm\n",
      "DONE FULL: /datasets/mamografia/CBIS-DDSM_organized/images/original/train/Mass-Training_P_00001_LEFT_MLO_FULL.dcm\n",
      "DONE FULL: /datasets/mamografia/CBIS-DDSM_organized/images/original/train/Mass-Training_P_01621_RIGHT_CC_FULL.dcm\n",
      "DONE FULL: /datasets/mamografia/CBIS-DDSM_organized/images/original/train/Mass-Training_P_01231_LEFT_MLO_FULL.dcm\n",
      "DONE FULL: /datasets/mamografia/CBIS-DDSM_organized/images/original/train/Mass-Training_P_01371_RIGHT_MLO_FULL.dcm\n",
      "DONE FULL: /datasets/mamografia/CBIS-DDSM_organized/images/original/train/Mass-Training_P_01070_LEFT_CC_FULL.dcm\n",
      "DONE FULL: /datasets/mamografia/CBIS-DDSM_organized/images/original/train/Mass-Training_P_01848_RIGHT_CC_FULL.dcm\n",
      "DONE FULL: /datasets/mamografia/CBIS-DDSM_organized/images/original/train/Mass-Training_P_01644_RIGHT_CC_FULL.dcm\n",
      "DONE FULL: /datasets/mamografia/CBIS-DDSM_organized/images/original/train/Mass-Training_P_01564_RIGHT_CC_FULL.dcm\n",
      "DONE FULL: /datasets/mamografia/CBIS-DDSM_organized/images/original/train/Mass-Training_P_01482_RIGHT_MLO_FULL.dcm\n",
      "DONE FULL: /datasets/mamografia/CBIS-DDSM_organized/images/original/train/Mass-Training_P_01475_LEFT_MLO_FULL.dcm\n",
      "DONE FULL: /datasets/mamografia/CBIS-DDSM_organized/images/original/train/Mass-Training_P_00700_RIGHT_MLO_FULL.dcm\n",
      "DONE FULL: /datasets/mamografia/CBIS-DDSM_organized/images/original/train/Mass-Training_P_01715_RIGHT_CC_FULL.dcm\n",
      "DONE FULL: /datasets/mamografia/CBIS-DDSM_organized/images/original/train/Mass-Training_P_00175_RIGHT_CC_FULL.dcm\n",
      "DONE FULL: /datasets/mamografia/CBIS-DDSM_organized/images/original/train/Mass-Training_P_01799_LEFT_MLO_FULL.dcm\n",
      "DONE FULL: /datasets/mamografia/CBIS-DDSM_organized/images/original/train/Mass-Training_P_00653_LEFT_CC_FULL.dcm\n",
      "DONE FULL: /datasets/mamografia/CBIS-DDSM_organized/images/original/train/Mass-Training_P_01983_LEFT_MLO_FULL.dcm\n",
      "DONE FULL: /datasets/mamografia/CBIS-DDSM_organized/images/original/train/Mass-Training_P_01047_LEFT_CC_FULL.dcm\n",
      "DONE FULL: /datasets/mamografia/CBIS-DDSM_organized/images/original/train/Mass-Training_P_01702_RIGHT_CC_FULL.dcm\n",
      "DONE FULL: /datasets/mamografia/CBIS-DDSM_organized/images/original/train/Mass-Training_P_00739_LEFT_CC_FULL.dcm\n",
      "DONE FULL: /datasets/mamografia/CBIS-DDSM_organized/images/original/train/Mass-Training_P_01155_RIGHT_MLO_FULL.dcm\n",
      "DONE FULL: /datasets/mamografia/CBIS-DDSM_organized/images/original/train/Mass-Training_P_00607_RIGHT_MLO_FULL.dcm\n",
      "DONE FULL: /datasets/mamografia/CBIS-DDSM_organized/images/original/train/Mass-Training_P_01638_RIGHT_CC_FULL.dcm\n",
      "DONE FULL: /datasets/mamografia/CBIS-DDSM_organized/images/original/train/Mass-Training_P_01606_RIGHT_MLO_FULL.dcm\n",
      "DONE FULL: /datasets/mamografia/CBIS-DDSM_organized/images/original/train/Mass-Training_P_01608_RIGHT_MLO_FULL.dcm\n",
      "DONE FULL: /datasets/mamografia/CBIS-DDSM_organized/images/original/train/Mass-Training_P_00797_LEFT_CC_FULL.dcm\n",
      "DONE FULL: /datasets/mamografia/CBIS-DDSM_organized/images/original/train/Mass-Training_P_01720_RIGHT_MLO_FULL.dcm\n",
      "DONE FULL: /datasets/mamografia/CBIS-DDSM_organized/images/original/train/Mass-Training_P_01613_LEFT_CC_FULL.dcm\n",
      "DONE FULL: /datasets/mamografia/CBIS-DDSM_organized/images/original/train/Mass-Training_P_01829_LEFT_MLO_FULL.dcm\n",
      "DONE FULL: /datasets/mamografia/CBIS-DDSM_organized/images/original/train/Mass-Training_P_00903_LEFT_MLO_FULL.dcm\n",
      "DONE FULL: /datasets/mamografia/CBIS-DDSM_organized/images/original/train/Mass-Training_P_01486_RIGHT_MLO_FULL.dcm\n",
      "DONE FULL: /datasets/mamografia/CBIS-DDSM_organized/images/original/train/Mass-Training_P_01297_LEFT_CC_FULL.dcm\n",
      "DONE FULL: /datasets/mamografia/CBIS-DDSM_organized/images/original/train/Mass-Training_P_00264_LEFT_CC_FULL.dcm\n",
      "DONE FULL: /datasets/mamografia/CBIS-DDSM_organized/images/original/train/Mass-Training_P_01644_RIGHT_MLO_FULL.dcm\n",
      "DONE FULL: /datasets/mamografia/CBIS-DDSM_organized/images/original/train/Mass-Training_P_00239_RIGHT_MLO_FULL.dcm\n",
      "DONE FULL: /datasets/mamografia/CBIS-DDSM_organized/images/original/train/Mass-Training_P_01079_RIGHT_CC_FULL.dcm\n",
      "DONE FULL: /datasets/mamografia/CBIS-DDSM_organized/images/original/train/Mass-Training_P_00034_RIGHT_MLO_FULL.dcm\n",
      "DONE FULL: /datasets/mamografia/CBIS-DDSM_organized/images/original/train/Mass-Training_P_00596_RIGHT_CC_FULL.dcm\n",
      "DONE FULL: /datasets/mamografia/CBIS-DDSM_organized/images/original/train/Mass-Training_P_00703_LEFT_CC_FULL.dcm\n",
      "DONE FULL: /datasets/mamografia/CBIS-DDSM_organized/images/original/train/Mass-Training_P_01822_LEFT_CC_FULL.dcm\n",
      "DONE FULL: /datasets/mamografia/CBIS-DDSM_organized/images/original/train/Mass-Training_P_00413_LEFT_MLO_FULL.dcm\n",
      "DONE FULL: /datasets/mamografia/CBIS-DDSM_organized/images/original/train/Mass-Training_P_00823_RIGHT_MLO_FULL.dcm\n",
      "DONE FULL: /datasets/mamografia/CBIS-DDSM_organized/images/original/train/Mass-Training_P_01189_LEFT_CC_FULL.dcm\n",
      "DONE FULL: /datasets/mamografia/CBIS-DDSM_organized/images/original/train/Mass-Training_P_01755_RIGHT_CC_FULL.dcm\n",
      "DONE FULL: /datasets/mamografia/CBIS-DDSM_organized/images/original/train/Mass-Training_P_00894_RIGHT_MLO_FULL.dcm\n",
      "DONE FULL: /datasets/mamografia/CBIS-DDSM_organized/images/original/train/Mass-Training_P_01232_RIGHT_MLO_FULL.dcm\n",
      "DONE FULL: /datasets/mamografia/CBIS-DDSM_organized/images/original/train/Mass-Training_P_00421_LEFT_MLO_FULL.dcm\n",
      "DONE FULL: /datasets/mamografia/CBIS-DDSM_organized/images/original/train/Mass-Training_P_00376_RIGHT_CC_FULL.dcm\n",
      "DONE FULL: /datasets/mamografia/CBIS-DDSM_organized/images/original/train/Mass-Training_P_02079_RIGHT_CC_FULL.dcm\n",
      "DONE FULL: /datasets/mamografia/CBIS-DDSM_organized/images/original/train/Mass-Training_P_01237_RIGHT_MLO_FULL.dcm\n",
      "DONE FULL: /datasets/mamografia/CBIS-DDSM_organized/images/original/train/Mass-Training_P_01819_RIGHT_CC_FULL.dcm\n",
      "DONE FULL: /datasets/mamografia/CBIS-DDSM_organized/images/original/train/Mass-Training_P_00963_LEFT_CC_FULL.dcm\n",
      "DONE FULL: /datasets/mamografia/CBIS-DDSM_organized/images/original/train/Mass-Training_P_00496_LEFT_CC_FULL.dcm\n",
      "DONE FULL: /datasets/mamografia/CBIS-DDSM_organized/images/original/train/Mass-Training_P_00432_LEFT_MLO_FULL.dcm\n",
      "DONE FULL: /datasets/mamografia/CBIS-DDSM_organized/images/original/train/Mass-Training_P_00823_RIGHT_CC_FULL.dcm\n",
      "DONE FULL: /datasets/mamografia/CBIS-DDSM_organized/images/original/train/Mass-Training_P_00342_RIGHT_MLO_FULL.dcm\n",
      "DONE FULL: /datasets/mamografia/CBIS-DDSM_organized/images/original/train/Mass-Training_P_00816_RIGHT_MLO_FULL.dcm\n",
      "DONE FULL: /datasets/mamografia/CBIS-DDSM_organized/images/original/train/Mass-Training_P_01790_LEFT_MLO_FULL.dcm\n",
      "DONE FULL: /datasets/mamografia/CBIS-DDSM_organized/images/original/train/Mass-Training_P_00775_LEFT_MLO_FULL.dcm\n",
      "DONE FULL: /datasets/mamografia/CBIS-DDSM_organized/images/original/train/Mass-Training_P_01120_LEFT_CC_FULL.dcm\n",
      "DONE FULL: /datasets/mamografia/CBIS-DDSM_organized/images/original/train/Mass-Training_P_00259_RIGHT_CC_FULL.dcm\n",
      "DONE FULL: /datasets/mamografia/CBIS-DDSM_organized/images/original/train/Mass-Training_P_00462_LEFT_CC_FULL.dcm\n",
      "DONE FULL: /datasets/mamografia/CBIS-DDSM_organized/images/original/train/Mass-Training_P_00611_RIGHT_CC_FULL.dcm\n",
      "DONE FULL: /datasets/mamografia/CBIS-DDSM_organized/images/original/train/Mass-Training_P_00920_RIGHT_CC_FULL.dcm\n",
      "DONE FULL: /datasets/mamografia/CBIS-DDSM_organized/images/original/train/Mass-Training_P_01118_RIGHT_CC_FULL.dcm\n",
      "DONE FULL: /datasets/mamografia/CBIS-DDSM_organized/images/original/train/Mass-Training_P_01394_RIGHT_MLO_FULL.dcm\n",
      "DONE FULL: /datasets/mamografia/CBIS-DDSM_organized/images/original/train/Mass-Training_P_00870_LEFT_CC_FULL.dcm\n",
      "DONE FULL: /datasets/mamografia/CBIS-DDSM_organized/images/original/train/Mass-Training_P_01494_LEFT_CC_FULL.dcm\n",
      "DONE FULL: /datasets/mamografia/CBIS-DDSM_organized/images/original/train/Mass-Training_P_01413_RIGHT_MLO_FULL.dcm\n",
      "DONE FULL: /datasets/mamografia/CBIS-DDSM_organized/images/original/train/Mass-Training_P_01084_LEFT_CC_FULL.dcm\n",
      "DONE FULL: /datasets/mamografia/CBIS-DDSM_organized/images/original/train/Mass-Training_P_01509_RIGHT_MLO_FULL.dcm\n",
      "DONE FULL: /datasets/mamografia/CBIS-DDSM_organized/images/original/train/Mass-Training_P_01504_LEFT_MLO_FULL.dcm\n",
      "DONE FULL: /datasets/mamografia/CBIS-DDSM_organized/images/original/train/Mass-Training_P_01506_LEFT_CC_FULL.dcm\n",
      "DONE FULL: /datasets/mamografia/CBIS-DDSM_organized/images/original/train/Mass-Training_P_01735_RIGHT_MLO_FULL.dcm\n",
      "DONE FULL: /datasets/mamografia/CBIS-DDSM_organized/images/original/train/Mass-Training_P_00630_LEFT_CC_FULL.dcm\n",
      "DONE FULL: /datasets/mamografia/CBIS-DDSM_organized/images/original/train/Mass-Training_P_00634_LEFT_CC_FULL.dcm\n",
      "DONE FULL: /datasets/mamografia/CBIS-DDSM_organized/images/original/train/Mass-Training_P_00431_RIGHT_CC_FULL.dcm\n",
      "DONE FULL: /datasets/mamografia/CBIS-DDSM_organized/images/original/train/Mass-Training_P_00348_LEFT_MLO_FULL.dcm\n",
      "DONE FULL: /datasets/mamografia/CBIS-DDSM_organized/images/original/train/Mass-Training_P_01596_RIGHT_MLO_FULL.dcm\n",
      "DONE FULL: /datasets/mamografia/CBIS-DDSM_organized/images/original/train/Mass-Training_P_00708_RIGHT_CC_FULL.dcm\n",
      "DONE FULL: /datasets/mamografia/CBIS-DDSM_organized/images/original/train/Mass-Training_P_01165_LEFT_MLO_FULL.dcm\n",
      "DONE FULL: /datasets/mamografia/CBIS-DDSM_organized/images/original/train/Mass-Training_P_01124_RIGHT_MLO_FULL.dcm\n",
      "DONE FULL: /datasets/mamografia/CBIS-DDSM_organized/images/original/train/Mass-Training_P_01739_RIGHT_MLO_FULL.dcm\n",
      "DONE FULL: /datasets/mamografia/CBIS-DDSM_organized/images/original/train/Mass-Training_P_00092_RIGHT_CC_FULL.dcm\n",
      "DONE FULL: /datasets/mamografia/CBIS-DDSM_organized/images/original/train/Mass-Training_P_01084_LEFT_MLO_FULL.dcm\n",
      "DONE FULL: /datasets/mamografia/CBIS-DDSM_organized/images/original/train/Mass-Training_P_00495_RIGHT_CC_FULL.dcm\n",
      "DONE FULL: /datasets/mamografia/CBIS-DDSM_organized/images/original/train/Mass-Training_P_00554_LEFT_MLO_FULL.dcm\n",
      "DONE FULL: /datasets/mamografia/CBIS-DDSM_organized/images/original/train/Mass-Training_P_00420_RIGHT_CC_FULL.dcm\n",
      "DONE FULL: /datasets/mamografia/CBIS-DDSM_organized/images/original/train/Mass-Training_P_00737_LEFT_CC_FULL.dcm\n",
      "DONE FULL: /datasets/mamografia/CBIS-DDSM_organized/images/original/train/Mass-Training_P_00041_LEFT_CC_FULL.dcm\n",
      "DONE FULL: /datasets/mamografia/CBIS-DDSM_organized/images/original/train/Mass-Training_P_01581_LEFT_CC_FULL.dcm\n",
      "DONE FULL: /datasets/mamografia/CBIS-DDSM_organized/images/original/train/Mass-Training_P_01071_LEFT_CC_FULL.dcm\n",
      "DONE FULL: /datasets/mamografia/CBIS-DDSM_organized/images/original/train/Mass-Training_P_00526_RIGHT_CC_FULL.dcm\n",
      "DONE FULL: /datasets/mamografia/CBIS-DDSM_organized/images/original/train/Mass-Training_P_00711_LEFT_CC_FULL.dcm\n",
      "DONE FULL: /datasets/mamografia/CBIS-DDSM_organized/images/original/train/Mass-Training_P_00568_LEFT_CC_FULL.dcm\n",
      "DONE FULL: /datasets/mamografia/CBIS-DDSM_organized/images/original/train/Mass-Training_P_00921_RIGHT_CC_FULL.dcm\n",
      "DONE FULL: /datasets/mamografia/CBIS-DDSM_organized/images/original/train/Mass-Training_P_00515_LEFT_MLO_FULL.dcm\n",
      "DONE FULL: /datasets/mamografia/CBIS-DDSM_organized/images/original/train/Mass-Training_P_00550_RIGHT_MLO_FULL.dcm\n",
      "DONE FULL: /datasets/mamografia/CBIS-DDSM_organized/images/original/train/Mass-Training_P_00653_LEFT_MLO_FULL.dcm\n",
      "DONE FULL: /datasets/mamografia/CBIS-DDSM_organized/images/original/train/Mass-Training_P_00074_LEFT_MLO_FULL.dcm\n",
      "DONE FULL: /datasets/mamografia/CBIS-DDSM_organized/images/original/train/Mass-Training_P_00753_RIGHT_MLO_FULL.dcm\n",
      "DONE FULL: /datasets/mamografia/CBIS-DDSM_organized/images/original/train/Mass-Training_P_00881_LEFT_MLO_FULL.dcm\n",
      "DONE FULL: /datasets/mamografia/CBIS-DDSM_organized/images/original/train/Mass-Training_P_01093_LEFT_MLO_FULL.dcm\n",
      "DONE FULL: /datasets/mamografia/CBIS-DDSM_organized/images/original/train/Mass-Training_P_01165_RIGHT_CC_FULL.dcm\n",
      "DONE FULL: /datasets/mamografia/CBIS-DDSM_organized/images/original/train/Mass-Training_P_00004_RIGHT_MLO_FULL.dcm\n",
      "DONE FULL: /datasets/mamografia/CBIS-DDSM_organized/images/original/train/Mass-Training_P_00406_RIGHT_CC_FULL.dcm\n",
      "DONE FULL: /datasets/mamografia/CBIS-DDSM_organized/images/original/train/Mass-Training_P_00247_RIGHT_MLO_FULL.dcm\n",
      "DONE FULL: /datasets/mamografia/CBIS-DDSM_organized/images/original/train/Mass-Training_P_01328_LEFT_CC_FULL.dcm\n",
      "DONE FULL: /datasets/mamografia/CBIS-DDSM_organized/images/original/train/Mass-Training_P_00247_RIGHT_CC_FULL.dcm\n",
      "DONE FULL: /datasets/mamografia/CBIS-DDSM_organized/images/original/train/Mass-Training_P_00742_LEFT_CC_FULL.dcm\n",
      "DONE FULL: /datasets/mamografia/CBIS-DDSM_organized/images/original/train/Mass-Training_P_00420_RIGHT_MLO_FULL.dcm\n",
      "DONE FULL: /datasets/mamografia/CBIS-DDSM_organized/images/original/train/Mass-Training_P_01250_RIGHT_CC_FULL.dcm\n",
      "DONE FULL: /datasets/mamografia/CBIS-DDSM_organized/images/original/train/Mass-Training_P_01461_RIGHT_MLO_FULL.dcm\n",
      "DONE FULL: /datasets/mamografia/CBIS-DDSM_organized/images/original/train/Mass-Training_P_00453_LEFT_CC_FULL.dcm\n",
      "DONE FULL: /datasets/mamografia/CBIS-DDSM_organized/images/original/train/Mass-Training_P_01383_LEFT_CC_FULL.dcm\n",
      "DONE FULL: /datasets/mamografia/CBIS-DDSM_organized/images/original/train/Mass-Training_P_00303_LEFT_CC_FULL.dcm\n",
      "DONE FULL: /datasets/mamografia/CBIS-DDSM_organized/images/original/train/Mass-Training_P_00829_LEFT_CC_FULL.dcm\n",
      "DONE FULL: /datasets/mamografia/CBIS-DDSM_organized/images/original/train/Mass-Training_P_01009_RIGHT_MLO_FULL.dcm\n",
      "DONE FULL: /datasets/mamografia/CBIS-DDSM_organized/images/original/train/Mass-Training_P_01757_RIGHT_MLO_FULL.dcm\n",
      "DONE FULL: /datasets/mamografia/CBIS-DDSM_organized/images/original/train/Mass-Training_P_01780_LEFT_MLO_FULL.dcm\n",
      "DONE FULL: /datasets/mamografia/CBIS-DDSM_organized/images/original/train/Mass-Training_P_00972_LEFT_MLO_FULL.dcm\n",
      "DONE FULL: /datasets/mamografia/CBIS-DDSM_organized/images/original/train/Mass-Training_P_01268_RIGHT_CC_FULL.dcm\n",
      "DONE FULL: /datasets/mamografia/CBIS-DDSM_organized/images/original/train/Mass-Training_P_01654_RIGHT_CC_FULL.dcm\n",
      "DONE FULL: /datasets/mamografia/CBIS-DDSM_organized/images/original/train/Mass-Training_P_01461_RIGHT_CC_FULL.dcm\n",
      "DONE FULL: /datasets/mamografia/CBIS-DDSM_organized/images/original/train/Mass-Training_P_00802_LEFT_CC_FULL.dcm\n",
      "DONE FULL: /datasets/mamografia/CBIS-DDSM_organized/images/original/train/Mass-Training_P_01821_LEFT_CC_FULL.dcm\n",
      "DONE FULL: /datasets/mamografia/CBIS-DDSM_organized/images/original/train/Mass-Training_P_01212_RIGHT_CC_FULL.dcm\n",
      "DONE FULL: /datasets/mamografia/CBIS-DDSM_organized/images/original/train/Mass-Training_P_01735_RIGHT_CC_FULL.dcm\n",
      "DONE FULL: /datasets/mamografia/CBIS-DDSM_organized/images/original/train/Mass-Training_P_01620_RIGHT_MLO_FULL.dcm\n",
      "DONE FULL: /datasets/mamografia/CBIS-DDSM_organized/images/original/train/Mass-Training_P_00958_LEFT_MLO_FULL.dcm\n",
      "DONE FULL: /datasets/mamografia/CBIS-DDSM_organized/images/original/train/Mass-Training_P_00939_RIGHT_MLO_FULL.dcm\n",
      "DONE FULL: /datasets/mamografia/CBIS-DDSM_organized/images/original/train/Mass-Training_P_00801_LEFT_CC_FULL.dcm\n",
      "DONE FULL: /datasets/mamografia/CBIS-DDSM_organized/images/original/train/Mass-Training_P_00770_RIGHT_CC_FULL.dcm\n",
      "DONE FULL: /datasets/mamografia/CBIS-DDSM_organized/images/original/train/Mass-Training_P_00430_LEFT_MLO_FULL.dcm\n",
      "DONE FULL: /datasets/mamografia/CBIS-DDSM_organized/images/original/train/Mass-Training_P_00320_LEFT_CC_FULL.dcm\n",
      "DONE FULL: /datasets/mamografia/CBIS-DDSM_organized/images/original/train/Mass-Training_P_00651_RIGHT_MLO_FULL.dcm\n",
      "DONE FULL: /datasets/mamografia/CBIS-DDSM_organized/images/original/train/Mass-Training_P_00794_LEFT_CC_FULL.dcm\n",
      "DONE FULL: /datasets/mamografia/CBIS-DDSM_organized/images/original/train/Mass-Training_P_01215_RIGHT_CC_FULL.dcm\n",
      "DONE FULL: /datasets/mamografia/CBIS-DDSM_organized/images/original/train/Mass-Training_P_00994_RIGHT_MLO_FULL.dcm\n",
      "DONE FULL: /datasets/mamografia/CBIS-DDSM_organized/images/original/train/Mass-Training_P_01675_RIGHT_MLO_FULL.dcm\n",
      "DONE FULL: /datasets/mamografia/CBIS-DDSM_organized/images/original/train/Mass-Training_P_01048_RIGHT_MLO_FULL.dcm\n",
      "DONE FULL: /datasets/mamografia/CBIS-DDSM_organized/images/original/train/Mass-Training_P_01680_LEFT_MLO_FULL.dcm\n",
      "DONE FULL: /datasets/mamografia/CBIS-DDSM_organized/images/original/train/Mass-Training_P_00726_RIGHT_MLO_FULL.dcm\n",
      "DONE FULL: /datasets/mamografia/CBIS-DDSM_organized/images/original/train/Mass-Training_P_00061_RIGHT_MLO_FULL.dcm\n",
      "DONE FULL: /datasets/mamografia/CBIS-DDSM_organized/images/original/train/Mass-Training_P_00959_RIGHT_MLO_FULL.dcm\n",
      "DONE FULL: /datasets/mamografia/CBIS-DDSM_organized/images/original/train/Mass-Training_P_00870_LEFT_MLO_FULL.dcm\n",
      "DONE FULL: /datasets/mamografia/CBIS-DDSM_organized/images/original/train/Mass-Training_P_01150_LEFT_CC_FULL.dcm\n",
      "DONE FULL: /datasets/mamografia/CBIS-DDSM_organized/images/original/train/Mass-Training_P_00086_RIGHT_MLO_FULL.dcm\n",
      "DONE FULL: /datasets/mamografia/CBIS-DDSM_organized/images/original/train/Mass-Training_P_00264_LEFT_MLO_FULL.dcm\n",
      "DONE FULL: /datasets/mamografia/CBIS-DDSM_organized/images/original/train/Mass-Training_P_01086_LEFT_MLO_FULL.dcm\n",
      "DONE FULL: /datasets/mamografia/CBIS-DDSM_organized/images/original/train/Mass-Training_P_01474_RIGHT_CC_FULL.dcm\n",
      "DONE FULL: /datasets/mamografia/CBIS-DDSM_organized/images/original/train/Mass-Training_P_00079_RIGHT_MLO_FULL.dcm\n",
      "DONE FULL: /datasets/mamografia/CBIS-DDSM_organized/images/original/train/Mass-Training_P_01517_LEFT_MLO_FULL.dcm\n",
      "DONE FULL: /datasets/mamografia/CBIS-DDSM_organized/images/original/train/Mass-Training_P_01270_LEFT_MLO_FULL.dcm\n",
      "DONE FULL: /datasets/mamografia/CBIS-DDSM_organized/images/original/train/Mass-Training_P_00765_RIGHT_MLO_FULL.dcm\n",
      "DONE FULL: /datasets/mamografia/CBIS-DDSM_organized/images/original/train/Mass-Training_P_00972_LEFT_CC_FULL.dcm\n",
      "DONE FULL: /datasets/mamografia/CBIS-DDSM_organized/images/original/train/Mass-Training_P_01754_RIGHT_CC_FULL.dcm\n",
      "DONE FULL: /datasets/mamografia/CBIS-DDSM_organized/images/original/train/Mass-Training_P_01656_LEFT_MLO_FULL.dcm\n",
      "DONE FULL: /datasets/mamografia/CBIS-DDSM_organized/images/original/train/Mass-Training_P_00659_RIGHT_MLO_FULL.dcm\n",
      "DONE FULL: /datasets/mamografia/CBIS-DDSM_organized/images/original/train/Mass-Training_P_01051_RIGHT_MLO_FULL.dcm\n",
      "DONE FULL: /datasets/mamografia/CBIS-DDSM_organized/images/original/train/Mass-Training_P_00319_LEFT_CC_FULL.dcm\n",
      "DONE FULL: /datasets/mamografia/CBIS-DDSM_organized/images/original/train/Mass-Training_P_01144_LEFT_MLO_FULL.dcm\n",
      "DONE FULL: /datasets/mamografia/CBIS-DDSM_organized/images/original/train/Mass-Training_P_01175_LEFT_MLO_FULL.dcm\n",
      "DONE FULL: /datasets/mamografia/CBIS-DDSM_organized/images/original/train/Mass-Training_P_00488_LEFT_CC_FULL.dcm\n",
      "DONE FULL: /datasets/mamografia/CBIS-DDSM_organized/images/original/train/Mass-Training_P_00779_LEFT_CC_FULL.dcm\n",
      "DONE FULL: /datasets/mamografia/CBIS-DDSM_organized/images/original/train/Mass-Training_P_01650_LEFT_MLO_FULL.dcm\n",
      "DONE FULL: /datasets/mamografia/CBIS-DDSM_organized/images/original/train/Mass-Training_P_01182_LEFT_MLO_FULL.dcm\n",
      "DONE FULL: /datasets/mamografia/CBIS-DDSM_organized/images/original/train/Mass-Training_P_01516_RIGHT_MLO_FULL.dcm\n",
      "DONE FULL: /datasets/mamografia/CBIS-DDSM_organized/images/original/train/Mass-Training_P_01367_LEFT_MLO_FULL.dcm\n",
      "DONE FULL: /datasets/mamografia/CBIS-DDSM_organized/images/original/train/Mass-Training_P_01445_RIGHT_MLO_FULL.dcm\n",
      "DONE FULL: /datasets/mamografia/CBIS-DDSM_organized/images/original/train/Mass-Training_P_00999_LEFT_CC_FULL.dcm\n",
      "DONE FULL: /datasets/mamografia/CBIS-DDSM_organized/images/original/train/Mass-Training_P_01780_LEFT_CC_FULL.dcm\n",
      "DONE FULL: /datasets/mamografia/CBIS-DDSM_organized/images/original/train/Mass-Training_P_01371_RIGHT_CC_FULL.dcm\n"
     ]
    }
   ],
   "source": [
    "#Preprocess training images\n",
    "\n",
    "nsamples = 5\n",
    "\n",
    "sample_original = fullmamm_paths_train[:nsamples]\n",
    "\n",
    "sample_initial = []\n",
    "sample_final  = []\n",
    "\n",
    "count=0\n",
    "\n",
    "for fullmamm_path in fullmamm_paths_train:\n",
    "# for fullmamm_path in sample_original:\n",
    "    # Read full mammogram .dcm file.\n",
    "    ds = pydicom.dcmread(fullmamm_path)\n",
    "\n",
    "    # Get relevant metadata from .dcm file.\n",
    "    patient_id = ds.PatientID\n",
    "    \n",
    "    fullmamm = ds.pixel_array\n",
    "    \n",
    "    # =========================\n",
    "    # Preprocess Full Mammogram\n",
    "    # =========================\n",
    "    \n",
    "    # Step 1: Initial crop.\n",
    "    cropped_img = cropBorders(img=fullmamm)\n",
    "    \n",
    "    # Step 2: Remove artefacts.\n",
    "    binarised_img = OwnGlobalBinarise(img=cropped_img, thresh=0.1, maxval=1.0)\n",
    "    edited_mask = editMask(mask=binarised_img, ksize=(23, 23), operation=\"open\")\n",
    "    _, xlargest_mask = xLargestBlobs(mask=edited_mask, top_x=1)\n",
    "    masked_img =applyMask(img=cropped_img, mask=xlargest_mask)\n",
    "    \n",
    "    fullmamm_pre = masked_img\n",
    "    \n",
    "    # Save preprocessed full mammogram image.\n",
    "    # save_filename = (\n",
    "    #     os.path.basename(fullmamm_path).replace(\".dcm\", \"\")\n",
    "    #     + \"_PRE\"\n",
    "    #     + output_format\n",
    "    # )\n",
    "    save_filename = fullmamm_path.split(\"/\")[-1].replace(\"dcm\",output_format)\n",
    "    # print(\">>\"+output_train_full_path+\"\\n\")\n",
    "    save_path = os.path.join(output_train_full_path, save_filename)\n",
    "    cv2.imwrite(save_path, fullmamm_pre)\n",
    "    print(f\"DONE FULL: {fullmamm_path}\")\n",
    "    \n",
    "    count+=1\n",
    "    if count<nsamples:\n",
    "        sample_initial.append({\"id\":patient_id, \"image\":fullmamm})\n",
    "        sample_final.append({\"id\":patient_id, \"image\":fullmamm_pre})\n",
    "\n",
    "\n",
    "    "
   ]
  },
  {
   "cell_type": "code",
   "execution_count": 149,
   "id": "90d1f9d5-eb3e-4403-baa7-b352d4f917eb",
   "metadata": {},
   "outputs": [
    {
     "data": {
      "image/png": "[encoded data removed]",
      "text/plain": [
       "<Figure size 1584x720 with 10 Axes>"
      ]
     },
     "metadata": {
      "needs_background": "light"
     },
     "output_type": "display_data"
    }
   ],
   "source": [
    "fig, ax = plt.subplots(nrows=2, ncols=nsamples, figsize=(22, 10))\n",
    "\n",
    "for i in range(len(sample_initial)):\n",
    "    \n",
    "    # Plot original MLO scans.\n",
    "    ax[0][i].imshow(sample_initial[i][\"image\"], cmap=\"gray\")\n",
    "    #ax[0][i].set_title(f\"{sample_initial[0][\"id\"]}\")\n",
    "    ax[0][i].set_title(sample_initial[0][\"id\"])\n",
    "    \n",
    "    # Plot preprocessed MLO scans.\n",
    "    ax[1][i].imshow(sample_final[i][\"image\"], cmap=\"gray\")\n",
    "    ax[1][i].set_title(\"Preprocessed\")\n"
   ]
  },
  {
   "cell_type": "code",
   "execution_count": 175,
   "id": "27608fb0-54b0-4dcf-8f13-83d54c5e5076",
   "metadata": {},
   "outputs": [
    {
     "name": "stderr",
     "output_type": "stream",
     "text": [
      "100%|██████████| 1318/1318 [03:54<00:00,  5.63it/s]\n"
     ]
    }
   ],
   "source": [
    "#Preprocess training images - MASKS\n",
    "\n",
    "nsamples = 5\n",
    "\n",
    "sample_original = mask_paths_train[:nsamples]\n",
    "\n",
    "sample_initial = []\n",
    "sample_final  = []\n",
    "\n",
    "count=0\n",
    "\n",
    "# for fullmamm_path in fullmamm_paths_train:\n",
    "#for fullmamm_path in sample_original:\n",
    "for mask_mamm_path in tqdm(mask_paths_train):\n",
    "    # Read full mammogram .dcm file.\n",
    "    ds = pydicom.dcmread(mask_mamm_path)\n",
    "\n",
    "    # Get relevant metadata from .dcm file.\n",
    "    patient_id = ds.PatientID\n",
    "    \n",
    "    maksmamm = ds.pixel_array\n",
    "    \n",
    "    # =========================\n",
    "    # Preprocess Full Mammogram\n",
    "    # =========================\n",
    "    \n",
    "    # Step 1: Initial crop.\n",
    "    \n",
    "    cropped_img = cropBorders(img=maksmamm)\n",
    "    \n",
    "    # # Step 2: Remove artefacts.\n",
    "    # binarised_img = OwnGlobalBinarise(img=cropped_img, thresh=0.1, maxval=1.0)\n",
    "    # edited_mask = editMask(mask=binarised_img, ksize=(23, 23), operation=\"open\")\n",
    "    # _, xlargest_mask = xLargestBlobs(mask=edited_mask, top_x=1)\n",
    "    # masked_img =applyMask(img=cropped_img, mask=xlargest_mask)\n",
    "    \n",
    "    mamm_pre = cropped_img\n",
    "    \n",
    "    # Save preprocessed full mammogram image.\n",
    "    # save_filename = (\n",
    "    #     os.path.basename(fullmamm_path).replace(\".dcm\", \"\")\n",
    "    #     + \"_PRE\"\n",
    "    #     + output_format\n",
    "    # )\n",
    "    save_filename = mask_mamm_path.split(\"/\")[-1].replace(\"dcm\",output_format)\n",
    "    # print(\">>\"+output_train_full_path+\"\\n\")\n",
    "    save_path = os.path.join(output_train_mask_path, save_filename)\n",
    "    cv2.imwrite(save_path, mamm_pre)\n",
    "    # print(f\"DONE FULL: {mask_mamm_path}\")\n",
    "    \n",
    "    \n",
    "\n",
    "\n",
    "    "
   ]
  },
  {
   "cell_type": "code",
   "execution_count": 159,
   "id": "5dc1c67c-7f38-40fd-9932-2f4262148e53",
   "metadata": {},
   "outputs": [
    {
     "data": {
      "text/plain": [
       "0"
      ]
     },
     "execution_count": 159,
     "metadata": {},
     "output_type": "execute_result"
    }
   ],
   "source": [
    "len(fullmamm_paths_test)"
   ]
  },
  {
   "cell_type": "code",
   "execution_count": 165,
   "id": "bcc1effd-481e-4eb6-b2bd-6e8d430a253a",
   "metadata": {},
   "outputs": [
    {
     "name": "stderr",
     "output_type": "stream",
     "text": [
      "100%|██████████| 361/361 [03:13<00:00,  1.87it/s]\n"
     ]
    }
   ],
   "source": [
    "#Preprocess FULL TEST images\n",
    "\n",
    "\n",
    "\n",
    "for fullmamm_path in tqdm(fullmamm_paths_test):\n",
    "# for fullmamm_path in sample_original:\n",
    "    # Read full mammogram .dcm file.\n",
    "    ds = pydicom.dcmread(fullmamm_path)\n",
    "\n",
    "    # Get relevant metadata from .dcm file.\n",
    "    patient_id = ds.PatientID\n",
    "    \n",
    "    fullmamm = ds.pixel_array\n",
    "    \n",
    "    # =========================\n",
    "    # Preprocess Full Mammogram\n",
    "    # =========================\n",
    "    \n",
    "    # Step 1: Initial crop.\n",
    "    cropped_img = cropBorders(img=fullmamm)\n",
    "    \n",
    "    # Step 2: Remove artefacts.\n",
    "    binarised_img = OwnGlobalBinarise(img=cropped_img, thresh=0.1, maxval=1.0)\n",
    "    edited_mask = editMask(mask=binarised_img, ksize=(23, 23), operation=\"open\")\n",
    "    _, xlargest_mask = xLargestBlobs(mask=edited_mask, top_x=1)\n",
    "    masked_img =applyMask(img=cropped_img, mask=xlargest_mask)\n",
    "    \n",
    "    fullmamm_pre = masked_img\n",
    "    \n",
    "    \n",
    "    save_filename = fullmamm_path.split(\"/\")[-1].replace(\"dcm\",output_format)\n",
    "    # print(\">>\"+output_train_full_path+\"\\n\")\n",
    "    save_path = os.path.join(output_test_full_path, save_filename)\n",
    "    cv2.imwrite(save_path, fullmamm_pre)\n",
    "    # print(f\"DONE FULL: {fullmamm_path}\")\n",
    "    \n",
    "    \n",
    "\n",
    "    "
   ]
  },
  {
   "cell_type": "code",
   "execution_count": 174,
   "id": "69b18c41-eccc-47f0-bce8-99781a6167b0",
   "metadata": {},
   "outputs": [
    {
     "name": "stderr",
     "output_type": "stream",
     "text": [
      "  1%|▏         | 5/378 [00:00<00:16, 23.01it/s]"
     ]
    },
    {
     "name": "stdout",
     "output_type": "stream",
     "text": [
      "/datasets/mamografia/CBIS-DDSM_organized/images/preprocessed/test/mask/Mass-Test_P_00200_RIGHT_MLO_MASK_1.png\n",
      "/datasets/mamografia/CBIS-DDSM_organized/images/preprocessed/test/mask/Mass-Test_P_01825_RIGHT_MLO_MASK_1.png\n",
      "/datasets/mamografia/CBIS-DDSM_organized/images/preprocessed/test/mask/Mass-Test_P_01690_LEFT_MLO_MASK_1.png\n",
      "/datasets/mamografia/CBIS-DDSM_organized/images/preprocessed/test/mask/Mass-Test_P_01068_RIGHT_MLO_MASK_1.png\n",
      "/datasets/mamografia/CBIS-DDSM_organized/images/preprocessed/test/mask/Mass-Test_P_00893_LEFT_MLO_MASK_1.png\n",
      "/datasets/mamografia/CBIS-DDSM_organized/images/preprocessed/test/mask/Mass-Test_P_00662_LEFT_MLO_MASK_1.png\n"
     ]
    },
    {
     "name": "stderr",
     "output_type": "stream",
     "text": [
      "  3%|▎         | 12/378 [00:00<00:12, 28.23it/s]"
     ]
    },
    {
     "name": "stdout",
     "output_type": "stream",
     "text": [
      "/datasets/mamografia/CBIS-DDSM_organized/images/preprocessed/test/mask/Mass-Test_P_00296_LEFT_CC_MASK_1.png\n",
      "/datasets/mamografia/CBIS-DDSM_organized/images/preprocessed/test/mask/Mass-Test_P_01298_LEFT_CC_MASK_1.png\n",
      "/datasets/mamografia/CBIS-DDSM_organized/images/preprocessed/test/mask/Mass-Test_P_00194_RIGHT_MLO_MASK_1.png\n",
      "/datasets/mamografia/CBIS-DDSM_organized/images/preprocessed/test/mask/Mass-Test_P_01566_RIGHT_CC_MASK_1.png\n",
      "/datasets/mamografia/CBIS-DDSM_organized/images/preprocessed/test/mask/Mass-Test_P_01090_LEFT_CC_MASK_2.png\n",
      "/datasets/mamografia/CBIS-DDSM_organized/images/preprocessed/test/mask/Mass-Test_P_00391_RIGHT_MLO_MASK_1.png\n"
     ]
    },
    {
     "name": "stderr",
     "output_type": "stream",
     "text": [
      "  4%|▍         | 16/378 [00:00<00:11, 30.93it/s]"
     ]
    },
    {
     "name": "stdout",
     "output_type": "stream",
     "text": [
      "/datasets/mamografia/CBIS-DDSM_organized/images/preprocessed/test/mask/Mass-Test_P_00381_LEFT_MLO_MASK_1.png\n",
      "/datasets/mamografia/CBIS-DDSM_organized/images/preprocessed/test/mask/Mass-Test_P_00820_LEFT_CC_MASK_1.png\n",
      "/datasets/mamografia/CBIS-DDSM_organized/images/preprocessed/test/mask/Mass-Test_P_01796_LEFT_CC_MASK_1.png\n",
      "/datasets/mamografia/CBIS-DDSM_organized/images/preprocessed/test/mask/Mass-Test_P_00662_LEFT_CC_MASK_1.png\n",
      "/datasets/mamografia/CBIS-DDSM_organized/images/preprocessed/test/mask/Mass-Test_P_01213_LEFT_MLO_MASK_1.png\n",
      "/datasets/mamografia/CBIS-DDSM_organized/images/preprocessed/test/mask/Mass-Test_P_00677_RIGHT_CC_MASK_1.png\n"
     ]
    },
    {
     "name": "stderr",
     "output_type": "stream",
     "text": [
      "  6%|▌         | 23/378 [00:00<00:13, 27.22it/s]"
     ]
    },
    {
     "name": "stdout",
     "output_type": "stream",
     "text": [
      "/datasets/mamografia/CBIS-DDSM_organized/images/preprocessed/test/mask/Mass-Test_P_01381_RIGHT_CC_MASK_1.png\n",
      "/datasets/mamografia/CBIS-DDSM_organized/images/preprocessed/test/mask/Mass-Test_P_00202_RIGHT_MLO_MASK_1.png\n",
      "/datasets/mamografia/CBIS-DDSM_organized/images/preprocessed/test/mask/Mass-Test_P_00198_LEFT_MLO_MASK_1.png\n",
      "/datasets/mamografia/CBIS-DDSM_organized/images/preprocessed/test/mask/Mass-Test_P_01145_LEFT_MLO_MASK_1.png\n",
      "/datasets/mamografia/CBIS-DDSM_organized/images/preprocessed/test/mask/Mass-Test_P_00629_RIGHT_CC_MASK_1.png\n",
      "/datasets/mamografia/CBIS-DDSM_organized/images/preprocessed/test/mask/Mass-Test_P_00391_LEFT_CC_MASK_1.png\n"
     ]
    },
    {
     "name": "stderr",
     "output_type": "stream",
     "text": [
      "  8%|▊         | 29/378 [00:01<00:12, 27.12it/s]"
     ]
    },
    {
     "name": "stdout",
     "output_type": "stream",
     "text": [
      "/datasets/mamografia/CBIS-DDSM_organized/images/preprocessed/test/mask/Mass-Test_P_01416_RIGHT_MLO_MASK_1.png\n",
      "/datasets/mamografia/CBIS-DDSM_organized/images/preprocessed/test/mask/Mass-Test_P_01502_LEFT_MLO_MASK_1.png\n",
      "/datasets/mamografia/CBIS-DDSM_organized/images/preprocessed/test/mask/Mass-Test_P_00324_RIGHT_CC_MASK_1.png\n",
      "/datasets/mamografia/CBIS-DDSM_organized/images/preprocessed/test/mask/Mass-Test_P_00773_LEFT_CC_MASK_1.png\n",
      "/datasets/mamografia/CBIS-DDSM_organized/images/preprocessed/test/mask/Mass-Test_P_00494_RIGHT_CC_MASK_1.png\n",
      "/datasets/mamografia/CBIS-DDSM_organized/images/preprocessed/test/mask/Mass-Test_P_01090_RIGHT_MLO_MASK_1.png\n"
     ]
    },
    {
     "name": "stderr",
     "output_type": "stream",
     "text": [
      "  9%|▉         | 35/378 [00:01<00:12, 26.87it/s]"
     ]
    },
    {
     "name": "stdout",
     "output_type": "stream",
     "text": [
      "/datasets/mamografia/CBIS-DDSM_organized/images/preprocessed/test/mask/Mass-Test_P_01778_RIGHT_CC_MASK_1.png\n",
      "/datasets/mamografia/CBIS-DDSM_organized/images/preprocessed/test/mask/Mass-Test_P_00629_RIGHT_MLO_MASK_1.png\n",
      "/datasets/mamografia/CBIS-DDSM_organized/images/preprocessed/test/mask/Mass-Test_P_00212_RIGHT_CC_MASK_1.png\n",
      "/datasets/mamografia/CBIS-DDSM_organized/images/preprocessed/test/mask/Mass-Test_P_00591_RIGHT_MLO_MASK_3.png\n",
      "/datasets/mamografia/CBIS-DDSM_organized/images/preprocessed/test/mask/Mass-Test_P_00394_RIGHT_MLO_MASK_1.png\n",
      "/datasets/mamografia/CBIS-DDSM_organized/images/preprocessed/test/mask/Mass-Test_P_00203_LEFT_MLO_MASK_1.png\n"
     ]
    },
    {
     "name": "stderr",
     "output_type": "stream",
     "text": [
      " 11%|█         | 41/378 [00:01<00:13, 24.46it/s]"
     ]
    },
    {
     "name": "stdout",
     "output_type": "stream",
     "text": [
      "/datasets/mamografia/CBIS-DDSM_organized/images/preprocessed/test/mask/Mass-Test_P_00209_LEFT_MLO_MASK_1.png\n",
      "/datasets/mamografia/CBIS-DDSM_organized/images/preprocessed/test/mask/Mass-Test_P_01331_LEFT_CC_MASK_1.png\n",
      "/datasets/mamografia/CBIS-DDSM_organized/images/preprocessed/test/mask/Mass-Test_P_01110_RIGHT_CC_MASK_1.png\n",
      "/datasets/mamografia/CBIS-DDSM_organized/images/preprocessed/test/mask/Mass-Test_P_00158_RIGHT_MLO_MASK_1.png\n",
      "/datasets/mamografia/CBIS-DDSM_organized/images/preprocessed/test/mask/Mass-Test_P_01741_LEFT_MLO_MASK_1.png\n",
      "/datasets/mamografia/CBIS-DDSM_organized/images/preprocessed/test/mask/Mass-Test_P_00490_RIGHT_CC_MASK_1.png\n"
     ]
    },
    {
     "name": "stderr",
     "output_type": "stream",
     "text": [
      " 13%|█▎        | 48/378 [00:01<00:12, 26.49it/s]"
     ]
    },
    {
     "name": "stdout",
     "output_type": "stream",
     "text": [
      "/datasets/mamografia/CBIS-DDSM_organized/images/preprocessed/test/mask/Mass-Test_P_01518_LEFT_MLO_MASK_1.png\n",
      "/datasets/mamografia/CBIS-DDSM_organized/images/preprocessed/test/mask/Mass-Test_P_00962_RIGHT_CC_MASK_1.png\n",
      "/datasets/mamografia/CBIS-DDSM_organized/images/preprocessed/test/mask/Mass-Test_P_00173_LEFT_CC_MASK_1.png\n",
      "/datasets/mamografia/CBIS-DDSM_organized/images/preprocessed/test/mask/Mass-Test_P_01623_RIGHT_MLO_MASK_1.png\n",
      "/datasets/mamografia/CBIS-DDSM_organized/images/preprocessed/test/mask/Mass-Test_P_00340_LEFT_CC_MASK_1.png\n",
      "/datasets/mamografia/CBIS-DDSM_organized/images/preprocessed/test/mask/Mass-Test_P_00192_RIGHT_CC_MASK_1.png\n"
     ]
    },
    {
     "name": "stderr",
     "output_type": "stream",
     "text": [
      " 15%|█▍        | 55/378 [00:02<00:11, 27.88it/s]"
     ]
    },
    {
     "name": "stdout",
     "output_type": "stream",
     "text": [
      "/datasets/mamografia/CBIS-DDSM_organized/images/preprocessed/test/mask/Mass-Test_P_01213_LEFT_CC_MASK_1.png\n",
      "/datasets/mamografia/CBIS-DDSM_organized/images/preprocessed/test/mask/Mass-Test_P_01566_RIGHT_CC_MASK_2.png\n",
      "/datasets/mamografia/CBIS-DDSM_organized/images/preprocessed/test/mask/Mass-Test_P_01323_LEFT_MLO_MASK_1.png\n",
      "/datasets/mamografia/CBIS-DDSM_organized/images/preprocessed/test/mask/Mass-Test_P_00979_LEFT_MLO_MASK_1.png\n",
      "/datasets/mamografia/CBIS-DDSM_organized/images/preprocessed/test/mask/Mass-Test_P_00016_LEFT_CC_MASK_1.png\n",
      "/datasets/mamografia/CBIS-DDSM_organized/images/preprocessed/test/mask/Mass-Test_P_00343_LEFT_MLO_MASK_1.png\n",
      "/datasets/mamografia/CBIS-DDSM_organized/images/preprocessed/test/mask/Mass-Test_P_01307_RIGHT_CC_MASK_1.png\n"
     ]
    },
    {
     "name": "stderr",
     "output_type": "stream",
     "text": [
      " 16%|█▋        | 62/378 [00:02<00:10, 28.82it/s]"
     ]
    },
    {
     "name": "stdout",
     "output_type": "stream",
     "text": [
      "/datasets/mamografia/CBIS-DDSM_organized/images/preprocessed/test/mask/Mass-Test_P_01014_LEFT_CC_MASK_1.png\n",
      "/datasets/mamografia/CBIS-DDSM_organized/images/preprocessed/test/mask/Mass-Test_P_00457_LEFT_CC_MASK_1.png\n",
      "/datasets/mamografia/CBIS-DDSM_organized/images/preprocessed/test/mask/Mass-Test_P_01378_LEFT_CC_MASK_1.png\n",
      "/datasets/mamografia/CBIS-DDSM_organized/images/preprocessed/test/mask/Mass-Test_P_00718_RIGHT_MLO_MASK_1.png\n",
      "/datasets/mamografia/CBIS-DDSM_organized/images/preprocessed/test/mask/Mass-Test_P_00457_LEFT_MLO_MASK_1.png\n",
      "/datasets/mamografia/CBIS-DDSM_organized/images/preprocessed/test/mask/Mass-Test_P_00343_LEFT_CC_MASK_1.png\n",
      "/datasets/mamografia/CBIS-DDSM_organized/images/preprocessed/test/mask/Mass-Test_P_00601_LEFT_CC_MASK_1.png\n"
     ]
    },
    {
     "name": "stderr",
     "output_type": "stream",
     "text": [
      " 18%|█▊        | 68/378 [00:02<00:10, 28.62it/s]"
     ]
    },
    {
     "name": "stdout",
     "output_type": "stream",
     "text": [
      "/datasets/mamografia/CBIS-DDSM_organized/images/preprocessed/test/mask/Mass-Test_P_00612_RIGHT_MLO_MASK_1.png\n",
      "/datasets/mamografia/CBIS-DDSM_organized/images/preprocessed/test/mask/Mass-Test_P_00979_LEFT_CC_MASK_1.png\n",
      "/datasets/mamografia/CBIS-DDSM_organized/images/preprocessed/test/mask/Mass-Test_P_01395_RIGHT_MLO_MASK_1.png\n",
      "/datasets/mamografia/CBIS-DDSM_organized/images/preprocessed/test/mask/Mass-Test_P_01690_LEFT_CC_MASK_1.png\n",
      "/datasets/mamografia/CBIS-DDSM_organized/images/preprocessed/test/mask/Mass-Test_P_01167_LEFT_MLO_MASK_1.png\n",
      "/datasets/mamografia/CBIS-DDSM_organized/images/preprocessed/test/mask/Mass-Test_P_01566_RIGHT_MLO_MASK_1.png\n"
     ]
    },
    {
     "name": "stderr",
     "output_type": "stream",
     "text": [
      " 20%|█▉        | 74/378 [00:02<00:10, 29.03it/s]"
     ]
    },
    {
     "name": "stdout",
     "output_type": "stream",
     "text": [
      "/datasets/mamografia/CBIS-DDSM_organized/images/preprocessed/test/mask/Mass-Test_P_00741_LEFT_CC_MASK_1.png\n",
      "/datasets/mamografia/CBIS-DDSM_organized/images/preprocessed/test/mask/Mass-Test_P_00358_RIGHT_CC_MASK_1.png\n",
      "/datasets/mamografia/CBIS-DDSM_organized/images/preprocessed/test/mask/Mass-Test_P_00203_LEFT_CC_MASK_1.png\n",
      "/datasets/mamografia/CBIS-DDSM_organized/images/preprocessed/test/mask/Mass-Test_P_00177_LEFT_CC_MASK_1.png\n",
      "/datasets/mamografia/CBIS-DDSM_organized/images/preprocessed/test/mask/Mass-Test_P_00951_LEFT_CC_MASK_1.png\n",
      "/datasets/mamografia/CBIS-DDSM_organized/images/preprocessed/test/mask/Mass-Test_P_00928_RIGHT_MLO_MASK_2.png\n"
     ]
    },
    {
     "name": "stderr",
     "output_type": "stream",
     "text": [
      " 20%|██        | 77/378 [00:02<00:10, 28.63it/s]"
     ]
    },
    {
     "name": "stdout",
     "output_type": "stream",
     "text": [
      "/datasets/mamografia/CBIS-DDSM_organized/images/preprocessed/test/mask/Mass-Test_P_01204_RIGHT_MLO_MASK_1.png\n",
      "/datasets/mamografia/CBIS-DDSM_organized/images/preprocessed/test/mask/Mass-Test_P_01322_RIGHT_MLO_MASK_1.png\n",
      "/datasets/mamografia/CBIS-DDSM_organized/images/preprocessed/test/mask/Mass-Test_P_01090_LEFT_CC_MASK_3.png\n",
      "/datasets/mamografia/CBIS-DDSM_organized/images/preprocessed/test/mask/Mass-Test_P_00875_RIGHT_CC_MASK_1.png\n",
      "/datasets/mamografia/CBIS-DDSM_organized/images/preprocessed/test/mask/Mass-Test_P_01787_LEFT_CC_MASK_1.png\n"
     ]
    },
    {
     "name": "stderr",
     "output_type": "stream",
     "text": [
      " 22%|██▏       | 83/378 [00:03<00:10, 27.72it/s]"
     ]
    },
    {
     "name": "stdout",
     "output_type": "stream",
     "text": [
      "/datasets/mamografia/CBIS-DDSM_organized/images/preprocessed/test/mask/Mass-Test_P_00347_LEFT_MLO_MASK_1.png\n",
      "/datasets/mamografia/CBIS-DDSM_organized/images/preprocessed/test/mask/Mass-Test_P_01595_LEFT_MLO_MASK_1.png\n",
      "/datasets/mamografia/CBIS-DDSM_organized/images/preprocessed/test/mask/Mass-Test_P_00500_RIGHT_MLO_MASK_1.png\n",
      "/datasets/mamografia/CBIS-DDSM_organized/images/preprocessed/test/mask/Mass-Test_P_01807_RIGHT_MLO_MASK_1.png\n",
      "/datasets/mamografia/CBIS-DDSM_organized/images/preprocessed/test/mask/Mass-Test_P_00510_LEFT_CC_MASK_4.png\n",
      "/datasets/mamografia/CBIS-DDSM_organized/images/preprocessed/test/mask/Mass-Test_P_00387_RIGHT_CC_MASK_1.png\n"
     ]
    },
    {
     "name": "stderr",
     "output_type": "stream",
     "text": [
      " 23%|██▎       | 86/378 [00:03<00:11, 26.28it/s]"
     ]
    },
    {
     "name": "stdout",
     "output_type": "stream",
     "text": [
      "/datasets/mamografia/CBIS-DDSM_organized/images/preprocessed/test/mask/Mass-Test_P_00498_LEFT_CC_MASK_1.png\n",
      "/datasets/mamografia/CBIS-DDSM_organized/images/preprocessed/test/mask/Mass-Test_P_01502_LEFT_CC_MASK_1.png\n"
     ]
    },
    {
     "name": "stderr",
     "output_type": "stream",
     "text": [
      " 24%|██▍       | 92/378 [00:03<00:13, 21.03it/s]"
     ]
    },
    {
     "name": "stdout",
     "output_type": "stream",
     "text": [
      "/datasets/mamografia/CBIS-DDSM_organized/images/preprocessed/test/mask/Mass-Test_P_00379_LEFT_MLO_MASK_1.png\n",
      "/datasets/mamografia/CBIS-DDSM_organized/images/preprocessed/test/mask/Mass-Test_P_00200_RIGHT_CC_MASK_1.png\n",
      "/datasets/mamografia/CBIS-DDSM_organized/images/preprocessed/test/mask/Mass-Test_P_00985_RIGHT_MLO_MASK_1.png\n",
      "/datasets/mamografia/CBIS-DDSM_organized/images/preprocessed/test/mask/Mass-Test_P_00470_RIGHT_MLO_MASK_1.png\n",
      "/datasets/mamografia/CBIS-DDSM_organized/images/preprocessed/test/mask/Mass-Test_P_01795_LEFT_CC_MASK_1.png\n",
      "/datasets/mamografia/CBIS-DDSM_organized/images/preprocessed/test/mask/Mass-Test_P_00433_LEFT_CC_MASK_1.png\n",
      "/datasets/mamografia/CBIS-DDSM_organized/images/preprocessed/test/mask/Mass-Test_P_00145_LEFT_CC_MASK_1.png\n"
     ]
    },
    {
     "name": "stderr",
     "output_type": "stream",
     "text": [
      " 26%|██▌       | 99/378 [00:03<00:11, 24.63it/s]"
     ]
    },
    {
     "name": "stdout",
     "output_type": "stream",
     "text": [
      "/datasets/mamografia/CBIS-DDSM_organized/images/preprocessed/test/mask/Mass-Test_P_01599_LEFT_CC_MASK_1.png\n",
      "/datasets/mamografia/CBIS-DDSM_organized/images/preprocessed/test/mask/Mass-Test_P_01347_RIGHT_MLO_MASK_1.png\n",
      "/datasets/mamografia/CBIS-DDSM_organized/images/preprocessed/test/mask/Mass-Test_P_00131_LEFT_MLO_MASK_1.png\n",
      "/datasets/mamografia/CBIS-DDSM_organized/images/preprocessed/test/mask/Mass-Test_P_00238_RIGHT_MLO_MASK_1.png\n",
      "/datasets/mamografia/CBIS-DDSM_organized/images/preprocessed/test/mask/Mass-Test_P_01183_LEFT_CC_MASK_1.png\n",
      "/datasets/mamografia/CBIS-DDSM_organized/images/preprocessed/test/mask/Mass-Test_P_00481_RIGHT_MLO_MASK_1.png\n"
     ]
    },
    {
     "name": "stderr",
     "output_type": "stream",
     "text": [
      " 28%|██▊       | 105/378 [00:03<00:10, 26.36it/s]"
     ]
    },
    {
     "name": "stdout",
     "output_type": "stream",
     "text": [
      "/datasets/mamografia/CBIS-DDSM_organized/images/preprocessed/test/mask/Mass-Test_P_00893_LEFT_CC_MASK_1.png\n",
      "/datasets/mamografia/CBIS-DDSM_organized/images/preprocessed/test/mask/Mass-Test_P_00147_RIGHT_CC_MASK_1.png\n",
      "/datasets/mamografia/CBIS-DDSM_organized/images/preprocessed/test/mask/Mass-Test_P_01640_LEFT_MLO_MASK_1.png\n",
      "/datasets/mamografia/CBIS-DDSM_organized/images/preprocessed/test/mask/Mass-Test_P_00131_LEFT_CC_MASK_1.png\n",
      "/datasets/mamografia/CBIS-DDSM_organized/images/preprocessed/test/mask/Mass-Test_P_00116_RIGHT_MLO_MASK_1.png\n",
      "/datasets/mamografia/CBIS-DDSM_organized/images/preprocessed/test/mask/Mass-Test_P_01661_LEFT_MLO_MASK_1.png\n"
     ]
    },
    {
     "name": "stderr",
     "output_type": "stream",
     "text": [
      " 29%|██▉       | 111/378 [00:04<00:09, 26.72it/s]"
     ]
    },
    {
     "name": "stdout",
     "output_type": "stream",
     "text": [
      "/datasets/mamografia/CBIS-DDSM_organized/images/preprocessed/test/mask/Mass-Test_P_00510_LEFT_MLO_MASK_2.png\n",
      "/datasets/mamografia/CBIS-DDSM_organized/images/preprocessed/test/mask/Mass-Test_P_00198_LEFT_CC_MASK_1.png\n",
      "/datasets/mamografia/CBIS-DDSM_organized/images/preprocessed/test/mask/Mass-Test_P_01489_RIGHT_MLO_MASK_1.png\n",
      "/datasets/mamografia/CBIS-DDSM_organized/images/preprocessed/test/mask/Mass-Test_P_00882_RIGHT_CC_MASK_1.png\n",
      "/datasets/mamografia/CBIS-DDSM_organized/images/preprocessed/test/mask/Mass-Test_P_01108_RIGHT_CC_MASK_1.png\n",
      "/datasets/mamografia/CBIS-DDSM_organized/images/preprocessed/test/mask/Mass-Test_P_01719_RIGHT_CC_MASK_1.png\n"
     ]
    },
    {
     "name": "stderr",
     "output_type": "stream",
     "text": [
      " 31%|███       | 117/378 [00:04<00:10, 25.15it/s]"
     ]
    },
    {
     "name": "stdout",
     "output_type": "stream",
     "text": [
      "/datasets/mamografia/CBIS-DDSM_organized/images/preprocessed/test/mask/Mass-Test_P_00587_RIGHT_MLO_MASK_1.png\n",
      "/datasets/mamografia/CBIS-DDSM_organized/images/preprocessed/test/mask/Mass-Test_P_01697_LEFT_CC_MASK_1.png\n",
      "/datasets/mamografia/CBIS-DDSM_organized/images/preprocessed/test/mask/Mass-Test_P_01765_RIGHT_MLO_MASK_1.png\n",
      "/datasets/mamografia/CBIS-DDSM_organized/images/preprocessed/test/mask/Mass-Test_P_00951_RIGHT_CC_MASK_1.png\n",
      "/datasets/mamografia/CBIS-DDSM_organized/images/preprocessed/test/mask/Mass-Test_P_01251_LEFT_CC_MASK_1.png\n"
     ]
    },
    {
     "name": "stderr",
     "output_type": "stream",
     "text": [
      " 32%|███▏      | 120/378 [00:04<00:10, 25.47it/s]"
     ]
    },
    {
     "name": "stdout",
     "output_type": "stream",
     "text": [
      "/datasets/mamografia/CBIS-DDSM_organized/images/preprocessed/test/mask/Mass-Test_P_01684_LEFT_MLO_MASK_1.png\n",
      "/datasets/mamografia/CBIS-DDSM_organized/images/preprocessed/test/mask/Mass-Test_P_01090_LEFT_CC_MASK_1.png\n",
      "/datasets/mamografia/CBIS-DDSM_organized/images/preprocessed/test/mask/Mass-Test_P_00359_LEFT_MLO_MASK_1.png\n",
      "/datasets/mamografia/CBIS-DDSM_organized/images/preprocessed/test/mask/Mass-Test_P_00118_RIGHT_CC_MASK_1.png\n",
      "/datasets/mamografia/CBIS-DDSM_organized/images/preprocessed/test/mask/Mass-Test_P_01333_LEFT_CC_MASK_1.png\n"
     ]
    },
    {
     "name": "stderr",
     "output_type": "stream",
     "text": [
      " 34%|███▎      | 127/378 [00:04<00:09, 27.69it/s]"
     ]
    },
    {
     "name": "stdout",
     "output_type": "stream",
     "text": [
      "/datasets/mamografia/CBIS-DDSM_organized/images/preprocessed/test/mask/Mass-Test_P_01378_RIGHT_CC_MASK_1.png\n",
      "/datasets/mamografia/CBIS-DDSM_organized/images/preprocessed/test/mask/Mass-Test_P_00037_RIGHT_CC_MASK_1.png\n",
      "/datasets/mamografia/CBIS-DDSM_organized/images/preprocessed/test/mask/Mass-Test_P_00707_RIGHT_CC_MASK_1.png\n",
      "/datasets/mamografia/CBIS-DDSM_organized/images/preprocessed/test/mask/Mass-Test_P_00017_LEFT_CC_MASK_1.png\n",
      "/datasets/mamografia/CBIS-DDSM_organized/images/preprocessed/test/mask/Mass-Test_P_00544_LEFT_MLO_MASK_1.png\n",
      "/datasets/mamografia/CBIS-DDSM_organized/images/preprocessed/test/mask/Mass-Test_P_00171_RIGHT_CC_MASK_1.png\n",
      "/datasets/mamografia/CBIS-DDSM_organized/images/preprocessed/test/mask/Mass-Test_P_00124_RIGHT_CC_MASK_1.png\n"
     ]
    },
    {
     "name": "stderr",
     "output_type": "stream",
     "text": [
      " 35%|███▍      | 131/378 [00:04<00:08, 27.61it/s]"
     ]
    },
    {
     "name": "stdout",
     "output_type": "stream",
     "text": [
      "/datasets/mamografia/CBIS-DDSM_organized/images/preprocessed/test/mask/Mass-Test_P_01645_RIGHT_CC_MASK_1.png\n",
      "/datasets/mamografia/CBIS-DDSM_organized/images/preprocessed/test/mask/Mass-Test_P_00788_RIGHT_MLO_MASK_1.png\n",
      "/datasets/mamografia/CBIS-DDSM_organized/images/preprocessed/test/mask/Mass-Test_P_01114_RIGHT_MLO_MASK_1.png\n",
      "/datasets/mamografia/CBIS-DDSM_organized/images/preprocessed/test/mask/Mass-Test_P_01912_RIGHT_MLO_MASK_1.png\n"
     ]
    },
    {
     "name": "stderr",
     "output_type": "stream",
     "text": [
      " 35%|███▌      | 134/378 [00:05<00:15, 15.44it/s]"
     ]
    },
    {
     "name": "stdout",
     "output_type": "stream",
     "text": [
      "/datasets/mamografia/CBIS-DDSM_organized/images/preprocessed/test/mask/Mass-Test_P_00324_RIGHT_MLO_MASK_1.png\n",
      "/datasets/mamografia/CBIS-DDSM_organized/images/preprocessed/test/mask/Mass-Test_P_00145_LEFT_MLO_MASK_1.png\n"
     ]
    },
    {
     "name": "stderr",
     "output_type": "stream",
     "text": [
      " 36%|███▌      | 137/378 [00:05<00:20, 11.59it/s]"
     ]
    },
    {
     "name": "stdout",
     "output_type": "stream",
     "text": [
      "/datasets/mamografia/CBIS-DDSM_organized/images/preprocessed/test/mask/Mass-Test_P_01316_RIGHT_MLO_MASK_1.png\n",
      "/datasets/mamografia/CBIS-DDSM_organized/images/preprocessed/test/mask/Mass-Test_P_01140_LEFT_CC_MASK_1.png\n",
      "/datasets/mamografia/CBIS-DDSM_organized/images/preprocessed/test/mask/Mass-Test_P_00032_RIGHT_MLO_MASK_1.png\n"
     ]
    },
    {
     "name": "stderr",
     "output_type": "stream",
     "text": [
      " 37%|███▋      | 139/378 [00:06<00:25,  9.35it/s]"
     ]
    },
    {
     "name": "stdout",
     "output_type": "stream",
     "text": [
      "/datasets/mamografia/CBIS-DDSM_organized/images/preprocessed/test/mask/Mass-Test_P_01614_LEFT_MLO_MASK_1.png\n",
      "/datasets/mamografia/CBIS-DDSM_organized/images/preprocessed/test/mask/Mass-Test_P_00116_RIGHT_CC_MASK_1.png\n"
     ]
    },
    {
     "name": "stderr",
     "output_type": "stream",
     "text": [
      " 37%|███▋      | 141/378 [00:06<00:28,  8.39it/s]"
     ]
    },
    {
     "name": "stdout",
     "output_type": "stream",
     "text": [
      "/datasets/mamografia/CBIS-DDSM_organized/images/preprocessed/test/mask/Mass-Test_P_00118_RIGHT_MLO_MASK_1.png\n",
      "/datasets/mamografia/CBIS-DDSM_organized/images/preprocessed/test/mask/Mass-Test_P_01796_LEFT_MLO_MASK_1.png\n"
     ]
    },
    {
     "name": "stderr",
     "output_type": "stream",
     "text": [
      " 38%|███▊      | 143/378 [00:06<00:31,  7.55it/s]"
     ]
    },
    {
     "name": "stdout",
     "output_type": "stream",
     "text": [
      "/datasets/mamografia/CBIS-DDSM_organized/images/preprocessed/test/mask/Mass-Test_P_00969_LEFT_CC_MASK_1.png\n"
     ]
    },
    {
     "name": "stderr",
     "output_type": "stream",
     "text": [
      " 38%|███▊      | 144/378 [00:07<00:33,  7.00it/s]"
     ]
    },
    {
     "name": "stdout",
     "output_type": "stream",
     "text": [
      "/datasets/mamografia/CBIS-DDSM_organized/images/preprocessed/test/mask/Mass-Test_P_01333_LEFT_MLO_MASK_1.png\n",
      "/datasets/mamografia/CBIS-DDSM_organized/images/preprocessed/test/mask/Mass-Test_P_00066_LEFT_CC_MASK_1.png\n"
     ]
    },
    {
     "name": "stderr",
     "output_type": "stream",
     "text": [
      " 39%|███▉      | 147/378 [00:07<00:34,  6.69it/s]"
     ]
    },
    {
     "name": "stdout",
     "output_type": "stream",
     "text": [
      "/datasets/mamografia/CBIS-DDSM_organized/images/preprocessed/test/mask/Mass-Test_P_01381_RIGHT_MLO_MASK_1.png\n",
      "/datasets/mamografia/CBIS-DDSM_organized/images/preprocessed/test/mask/Mass-Test_P_01090_LEFT_MLO_MASK_1.png\n"
     ]
    },
    {
     "name": "stderr",
     "output_type": "stream",
     "text": [
      " 39%|███▉      | 149/378 [00:07<00:30,  7.40it/s]"
     ]
    },
    {
     "name": "stdout",
     "output_type": "stream",
     "text": [
      "/datasets/mamografia/CBIS-DDSM_organized/images/preprocessed/test/mask/Mass-Test_P_00516_LEFT_MLO_MASK_1.png\n",
      "/datasets/mamografia/CBIS-DDSM_organized/images/preprocessed/test/mask/Mass-Test_P_00433_LEFT_MLO_MASK_1.png\n"
     ]
    },
    {
     "name": "stderr",
     "output_type": "stream",
     "text": [
      " 40%|███▉      | 150/378 [00:07<00:33,  6.80it/s]"
     ]
    },
    {
     "name": "stdout",
     "output_type": "stream",
     "text": [
      "/datasets/mamografia/CBIS-DDSM_organized/images/preprocessed/test/mask/Mass-Test_P_00601_LEFT_MLO_MASK_2.png\n"
     ]
    },
    {
     "name": "stderr",
     "output_type": "stream",
     "text": [
      " 40%|████      | 152/378 [00:08<00:35,  6.43it/s]"
     ]
    },
    {
     "name": "stdout",
     "output_type": "stream",
     "text": [
      "/datasets/mamografia/CBIS-DDSM_organized/images/preprocessed/test/mask/Mass-Test_P_01719_RIGHT_MLO_MASK_1.png\n",
      "/datasets/mamografia/CBIS-DDSM_organized/images/preprocessed/test/mask/Mass-Test_P_01395_RIGHT_CC_MASK_1.png\n"
     ]
    },
    {
     "name": "stderr",
     "output_type": "stream",
     "text": [
      " 41%|████      | 154/378 [00:08<00:31,  7.09it/s]"
     ]
    },
    {
     "name": "stdout",
     "output_type": "stream",
     "text": [
      "/datasets/mamografia/CBIS-DDSM_organized/images/preprocessed/test/mask/Mass-Test_P_01677_RIGHT_MLO_MASK_1.png\n",
      "/datasets/mamografia/CBIS-DDSM_organized/images/preprocessed/test/mask/Mass-Test_P_01257_RIGHT_CC_MASK_1.png\n"
     ]
    },
    {
     "name": "stderr",
     "output_type": "stream",
     "text": [
      " 41%|████▏     | 156/378 [00:08<00:35,  6.29it/s]"
     ]
    },
    {
     "name": "stdout",
     "output_type": "stream",
     "text": [
      "/datasets/mamografia/CBIS-DDSM_organized/images/preprocessed/test/mask/Mass-Test_P_01477_LEFT_CC_MASK_1.png\n",
      "/datasets/mamografia/CBIS-DDSM_organized/images/preprocessed/test/mask/Mass-Test_P_00615_RIGHT_MLO_MASK_1.png\n"
     ]
    },
    {
     "name": "stderr",
     "output_type": "stream",
     "text": [
      " 42%|████▏     | 158/378 [00:09<00:37,  5.91it/s]"
     ]
    },
    {
     "name": "stdout",
     "output_type": "stream",
     "text": [
      "/datasets/mamografia/CBIS-DDSM_organized/images/preprocessed/test/mask/Mass-Test_P_01551_LEFT_CC_MASK_1.png\n",
      "/datasets/mamografia/CBIS-DDSM_organized/images/preprocessed/test/mask/Mass-Test_P_00405_LEFT_CC_MASK_1.png\n"
     ]
    },
    {
     "name": "stderr",
     "output_type": "stream",
     "text": [
      " 42%|████▏     | 160/378 [00:09<00:34,  6.36it/s]"
     ]
    },
    {
     "name": "stdout",
     "output_type": "stream",
     "text": [
      "/datasets/mamografia/CBIS-DDSM_organized/images/preprocessed/test/mask/Mass-Test_P_01140_LEFT_MLO_MASK_1.png\n",
      "/datasets/mamografia/CBIS-DDSM_organized/images/preprocessed/test/mask/Mass-Test_P_01351_LEFT_CC_MASK_1.png\n"
     ]
    },
    {
     "name": "stderr",
     "output_type": "stream",
     "text": [
      " 43%|████▎     | 161/378 [00:09<00:31,  6.82it/s]"
     ]
    },
    {
     "name": "stdout",
     "output_type": "stream",
     "text": [
      "/datasets/mamografia/CBIS-DDSM_organized/images/preprocessed/test/mask/Mass-Test_P_00470_RIGHT_CC_MASK_1.png\n"
     ]
    },
    {
     "name": "stderr",
     "output_type": "stream",
     "text": [
      " 43%|████▎     | 162/378 [00:09<00:37,  5.75it/s]"
     ]
    },
    {
     "name": "stdout",
     "output_type": "stream",
     "text": [
      "/datasets/mamografia/CBIS-DDSM_organized/images/preprocessed/test/mask/Mass-Test_P_01795_LEFT_MLO_MASK_1.png\n"
     ]
    },
    {
     "name": "stderr",
     "output_type": "stream",
     "text": [
      " 43%|████▎     | 163/378 [00:10<00:41,  5.24it/s]"
     ]
    },
    {
     "name": "stdout",
     "output_type": "stream",
     "text": [
      "/datasets/mamografia/CBIS-DDSM_organized/images/preprocessed/test/mask/Mass-Test_P_00494_RIGHT_MLO_MASK_1.png\n"
     ]
    },
    {
     "name": "stderr",
     "output_type": "stream",
     "text": [
      " 44%|████▎     | 165/378 [00:10<00:57,  3.72it/s]"
     ]
    },
    {
     "name": "stdout",
     "output_type": "stream",
     "text": [
      "/datasets/mamografia/CBIS-DDSM_organized/images/preprocessed/test/mask/Mass-Test_P_01187_LEFT_MLO_MASK_1.png\n",
      "/datasets/mamografia/CBIS-DDSM_organized/images/preprocessed/test/mask/Mass-Test_P_01651_RIGHT_MLO_MASK_1.png\n"
     ]
    },
    {
     "name": "stderr",
     "output_type": "stream",
     "text": [
      " 44%|████▍     | 167/378 [00:11<00:44,  4.69it/s]"
     ]
    },
    {
     "name": "stdout",
     "output_type": "stream",
     "text": [
      "/datasets/mamografia/CBIS-DDSM_organized/images/preprocessed/test/mask/Mass-Test_P_00405_LEFT_MLO_MASK_1.png\n",
      "/datasets/mamografia/CBIS-DDSM_organized/images/preprocessed/test/mask/Mass-Test_P_01254_RIGHT_CC_MASK_1.png\n"
     ]
    },
    {
     "name": "stderr",
     "output_type": "stream",
     "text": [
      " 44%|████▍     | 168/378 [00:11<00:42,  4.91it/s]"
     ]
    },
    {
     "name": "stdout",
     "output_type": "stream",
     "text": [
      "/datasets/mamografia/CBIS-DDSM_organized/images/preprocessed/test/mask/Mass-Test_P_00159_RIGHT_MLO_MASK_1.png\n"
     ]
    },
    {
     "name": "stderr",
     "output_type": "stream",
     "text": [
      " 45%|████▍     | 170/378 [00:11<00:43,  4.74it/s]"
     ]
    },
    {
     "name": "stdout",
     "output_type": "stream",
     "text": [
      "/datasets/mamografia/CBIS-DDSM_organized/images/preprocessed/test/mask/Mass-Test_P_01797_LEFT_CC_MASK_1.png\n",
      "/datasets/mamografia/CBIS-DDSM_organized/images/preprocessed/test/mask/Mass-Test_P_00641_RIGHT_MLO_MASK_1.png\n"
     ]
    },
    {
     "name": "stderr",
     "output_type": "stream",
     "text": [
      " 45%|████▌     | 171/378 [00:11<00:38,  5.41it/s]"
     ]
    },
    {
     "name": "stdout",
     "output_type": "stream",
     "text": [
      "/datasets/mamografia/CBIS-DDSM_organized/images/preprocessed/test/mask/Mass-Test_P_01539_RIGHT_MLO_MASK_1.png\n"
     ]
    },
    {
     "name": "stderr",
     "output_type": "stream",
     "text": [
      " 46%|████▌     | 173/378 [00:12<00:38,  5.32it/s]"
     ]
    },
    {
     "name": "stdout",
     "output_type": "stream",
     "text": [
      "/datasets/mamografia/CBIS-DDSM_organized/images/preprocessed/test/mask/Mass-Test_P_00147_RIGHT_MLO_MASK_1.png\n",
      "/datasets/mamografia/CBIS-DDSM_organized/images/preprocessed/test/mask/Mass-Test_P_00116_RIGHT_MLO_MASK_2.png\n"
     ]
    },
    {
     "name": "stderr",
     "output_type": "stream",
     "text": [
      " 46%|████▋     | 175/378 [00:12<00:32,  6.25it/s]"
     ]
    },
    {
     "name": "stdout",
     "output_type": "stream",
     "text": [
      "/datasets/mamografia/CBIS-DDSM_organized/images/preprocessed/test/mask/Mass-Test_P_00987_LEFT_MLO_MASK_1.png\n",
      "/datasets/mamografia/CBIS-DDSM_organized/images/preprocessed/test/mask/Mass-Test_P_00200_LEFT_CC_MASK_1.png\n"
     ]
    },
    {
     "name": "stderr",
     "output_type": "stream",
     "text": [
      " 47%|████▋     | 177/378 [00:12<00:27,  7.24it/s]"
     ]
    },
    {
     "name": "stdout",
     "output_type": "stream",
     "text": [
      "/datasets/mamografia/CBIS-DDSM_organized/images/preprocessed/test/mask/Mass-Test_P_00391_LEFT_MLO_MASK_1.png\n",
      "/datasets/mamografia/CBIS-DDSM_organized/images/preprocessed/test/mask/Mass-Test_P_00200_LEFT_MLO_MASK_1.png\n"
     ]
    },
    {
     "name": "stderr",
     "output_type": "stream",
     "text": [
      " 47%|████▋     | 178/378 [00:13<00:28,  7.06it/s]"
     ]
    },
    {
     "name": "stdout",
     "output_type": "stream",
     "text": [
      "/datasets/mamografia/CBIS-DDSM_organized/images/preprocessed/test/mask/Mass-Test_P_00173_RIGHT_MLO_MASK_2.png\n"
     ]
    },
    {
     "name": "stderr",
     "output_type": "stream",
     "text": [
      " 47%|████▋     | 179/378 [00:13<00:36,  5.48it/s]"
     ]
    },
    {
     "name": "stdout",
     "output_type": "stream",
     "text": [
      "/datasets/mamografia/CBIS-DDSM_organized/images/preprocessed/test/mask/Mass-Test_P_00980_LEFT_CC_MASK_1.png\n"
     ]
    },
    {
     "name": "stderr",
     "output_type": "stream",
     "text": [
      " 48%|████▊     | 181/378 [00:13<00:35,  5.50it/s]"
     ]
    },
    {
     "name": "stdout",
     "output_type": "stream",
     "text": [
      "/datasets/mamografia/CBIS-DDSM_organized/images/preprocessed/test/mask/Mass-Test_P_01106_LEFT_MLO_MASK_1.png\n",
      "/datasets/mamografia/CBIS-DDSM_organized/images/preprocessed/test/mask/Mass-Test_P_00369_LEFT_CC_MASK_1.png\n"
     ]
    },
    {
     "name": "stderr",
     "output_type": "stream",
     "text": [
      " 48%|████▊     | 183/378 [00:13<00:30,  6.39it/s]"
     ]
    },
    {
     "name": "stdout",
     "output_type": "stream",
     "text": [
      "/datasets/mamografia/CBIS-DDSM_organized/images/preprocessed/test/mask/Mass-Test_P_01192_LEFT_CC_MASK_1.png\n",
      "/datasets/mamografia/CBIS-DDSM_organized/images/preprocessed/test/mask/Mass-Test_P_00173_RIGHT_MLO_MASK_1.png\n"
     ]
    },
    {
     "name": "stderr",
     "output_type": "stream",
     "text": [
      " 49%|████▉     | 185/378 [00:14<00:24,  7.73it/s]"
     ]
    },
    {
     "name": "stdout",
     "output_type": "stream",
     "text": [
      "/datasets/mamografia/CBIS-DDSM_organized/images/preprocessed/test/mask/Mass-Test_P_00429_LEFT_MLO_MASK_1.png\n",
      "/datasets/mamografia/CBIS-DDSM_organized/images/preprocessed/test/mask/Mass-Test_P_00296_LEFT_MLO_MASK_1.png\n"
     ]
    },
    {
     "name": "stderr",
     "output_type": "stream",
     "text": [
      " 49%|████▉     | 186/378 [00:14<00:24,  7.72it/s]"
     ]
    },
    {
     "name": "stdout",
     "output_type": "stream",
     "text": [
      "/datasets/mamografia/CBIS-DDSM_organized/images/preprocessed/test/mask/Mass-Test_P_00171_RIGHT_MLO_MASK_1.png\n"
     ]
    },
    {
     "name": "stderr",
     "output_type": "stream",
     "text": [
      " 50%|████▉     | 188/378 [00:14<00:28,  6.75it/s]"
     ]
    },
    {
     "name": "stdout",
     "output_type": "stream",
     "text": [
      "/datasets/mamografia/CBIS-DDSM_organized/images/preprocessed/test/mask/Mass-Test_P_00875_RIGHT_MLO_MASK_1.png\n",
      "/datasets/mamografia/CBIS-DDSM_organized/images/preprocessed/test/mask/Mass-Test_P_00623_LEFT_CC_MASK_1.png\n"
     ]
    },
    {
     "name": "stderr",
     "output_type": "stream",
     "text": [
      " 50%|█████     | 190/378 [00:14<00:27,  6.77it/s]"
     ]
    },
    {
     "name": "stdout",
     "output_type": "stream",
     "text": [
      "/datasets/mamografia/CBIS-DDSM_organized/images/preprocessed/test/mask/Mass-Test_P_00230_RIGHT_MLO_MASK_1.png\n",
      "/datasets/mamografia/CBIS-DDSM_organized/images/preprocessed/test/mask/Mass-Test_P_01666_RIGHT_CC_MASK_1.png\n"
     ]
    },
    {
     "name": "stderr",
     "output_type": "stream",
     "text": [
      " 51%|█████     | 192/378 [00:15<00:28,  6.57it/s]"
     ]
    },
    {
     "name": "stdout",
     "output_type": "stream",
     "text": [
      "/datasets/mamografia/CBIS-DDSM_organized/images/preprocessed/test/mask/Mass-Test_P_00173_RIGHT_CC_MASK_1.png\n",
      "/datasets/mamografia/CBIS-DDSM_organized/images/preprocessed/test/mask/Mass-Test_P_01348_LEFT_MLO_MASK_1.png\n"
     ]
    },
    {
     "name": "stderr",
     "output_type": "stream",
     "text": [
      " 51%|█████▏    | 194/378 [00:15<00:30,  6.09it/s]"
     ]
    },
    {
     "name": "stdout",
     "output_type": "stream",
     "text": [
      "/datasets/mamografia/CBIS-DDSM_organized/images/preprocessed/test/mask/Mass-Test_P_00951_RIGHT_MLO_MASK_1.png\n",
      "/datasets/mamografia/CBIS-DDSM_organized/images/preprocessed/test/mask/Mass-Test_P_01254_RIGHT_MLO_MASK_1.png\n"
     ]
    },
    {
     "name": "stderr",
     "output_type": "stream",
     "text": [
      " 52%|█████▏    | 196/378 [00:15<00:30,  6.00it/s]"
     ]
    },
    {
     "name": "stdout",
     "output_type": "stream",
     "text": [
      "/datasets/mamografia/CBIS-DDSM_organized/images/preprocessed/test/mask/Mass-Test_P_01741_LEFT_CC_MASK_1.png\n",
      "/datasets/mamografia/CBIS-DDSM_organized/images/preprocessed/test/mask/Mass-Test_P_01716_RIGHT_MLO_MASK_1.png\n"
     ]
    },
    {
     "name": "stderr",
     "output_type": "stream",
     "text": [
      " 52%|█████▏    | 198/378 [00:16<00:29,  6.20it/s]"
     ]
    },
    {
     "name": "stdout",
     "output_type": "stream",
     "text": [
      "/datasets/mamografia/CBIS-DDSM_organized/images/preprocessed/test/mask/Mass-Test_P_00576_LEFT_CC_MASK_1.png\n",
      "/datasets/mamografia/CBIS-DDSM_organized/images/preprocessed/test/mask/Mass-Test_P_01316_RIGHT_CC_MASK_1.png\n"
     ]
    },
    {
     "name": "stderr",
     "output_type": "stream",
     "text": [
      " 53%|█████▎    | 200/378 [00:16<00:23,  7.51it/s]"
     ]
    },
    {
     "name": "stdout",
     "output_type": "stream",
     "text": [
      "/datasets/mamografia/CBIS-DDSM_organized/images/preprocessed/test/mask/Mass-Test_P_00347_LEFT_CC_MASK_1.png\n",
      "/datasets/mamografia/CBIS-DDSM_organized/images/preprocessed/test/mask/Mass-Test_P_00533_LEFT_CC_MASK_1.png\n"
     ]
    },
    {
     "name": "stderr",
     "output_type": "stream",
     "text": [
      " 53%|█████▎    | 202/378 [00:16<00:26,  6.58it/s]"
     ]
    },
    {
     "name": "stdout",
     "output_type": "stream",
     "text": [
      "/datasets/mamografia/CBIS-DDSM_organized/images/preprocessed/test/mask/Mass-Test_P_00652_LEFT_CC_MASK_1.png\n",
      "/datasets/mamografia/CBIS-DDSM_organized/images/preprocessed/test/mask/Mass-Test_P_00516_LEFT_CC_MASK_1.png\n"
     ]
    },
    {
     "name": "stderr",
     "output_type": "stream",
     "text": [
      " 54%|█████▍    | 204/378 [00:17<00:22,  7.64it/s]"
     ]
    },
    {
     "name": "stdout",
     "output_type": "stream",
     "text": [
      "/datasets/mamografia/CBIS-DDSM_organized/images/preprocessed/test/mask/Mass-Test_P_00766_LEFT_MLO_MASK_1.png\n",
      "/datasets/mamografia/CBIS-DDSM_organized/images/preprocessed/test/mask/Mass-Test_P_00947_RIGHT_MLO_MASK_1.png\n"
     ]
    },
    {
     "name": "stderr",
     "output_type": "stream",
     "text": [
      " 54%|█████▍    | 205/378 [00:17<00:24,  7.20it/s]"
     ]
    },
    {
     "name": "stdout",
     "output_type": "stream",
     "text": [
      "/datasets/mamografia/CBIS-DDSM_organized/images/preprocessed/test/mask/Mass-Test_P_01101_LEFT_CC_MASK_1.png\n"
     ]
    },
    {
     "name": "stderr",
     "output_type": "stream",
     "text": [
      " 55%|█████▍    | 207/378 [00:17<00:28,  5.97it/s]"
     ]
    },
    {
     "name": "stdout",
     "output_type": "stream",
     "text": [
      "/datasets/mamografia/CBIS-DDSM_organized/images/preprocessed/test/mask/Mass-Test_P_00980_LEFT_MLO_MASK_1.png\n",
      "/datasets/mamografia/CBIS-DDSM_organized/images/preprocessed/test/mask/Mass-Test_P_01044_LEFT_MLO_MASK_1.png\n"
     ]
    },
    {
     "name": "stderr",
     "output_type": "stream",
     "text": [
      " 55%|█████▌    | 209/378 [00:17<00:27,  6.05it/s]"
     ]
    },
    {
     "name": "stdout",
     "output_type": "stream",
     "text": [
      "/datasets/mamografia/CBIS-DDSM_organized/images/preprocessed/test/mask/Mass-Test_P_00615_RIGHT_CC_MASK_1.png\n",
      "/datasets/mamografia/CBIS-DDSM_organized/images/preprocessed/test/mask/Mass-Test_P_00924_RIGHT_CC_MASK_1.png\n"
     ]
    },
    {
     "name": "stderr",
     "output_type": "stream",
     "text": [
      " 56%|█████▌    | 211/378 [00:18<00:24,  6.83it/s]"
     ]
    },
    {
     "name": "stdout",
     "output_type": "stream",
     "text": [
      "/datasets/mamografia/CBIS-DDSM_organized/images/preprocessed/test/mask/Mass-Test_P_00177_LEFT_MLO_MASK_1.png\n",
      "/datasets/mamografia/CBIS-DDSM_organized/images/preprocessed/test/mask/Mass-Test_P_00598_LEFT_CC_MASK_1.png\n"
     ]
    },
    {
     "name": "stderr",
     "output_type": "stream",
     "text": [
      " 56%|█████▋    | 213/378 [00:18<00:24,  6.63it/s]"
     ]
    },
    {
     "name": "stdout",
     "output_type": "stream",
     "text": [
      "/datasets/mamografia/CBIS-DDSM_organized/images/preprocessed/test/mask/Mass-Test_P_01815_RIGHT_CC_MASK_1.png\n",
      "/datasets/mamografia/CBIS-DDSM_organized/images/preprocessed/test/mask/Mass-Test_P_01590_LEFT_MLO_MASK_1.png\n"
     ]
    },
    {
     "name": "stderr",
     "output_type": "stream",
     "text": [
      " 57%|█████▋    | 215/378 [00:18<00:23,  7.02it/s]"
     ]
    },
    {
     "name": "stdout",
     "output_type": "stream",
     "text": [
      "/datasets/mamografia/CBIS-DDSM_organized/images/preprocessed/test/mask/Mass-Test_P_00381_LEFT_CC_MASK_1.png\n",
      "/datasets/mamografia/CBIS-DDSM_organized/images/preprocessed/test/mask/Mass-Test_P_01331_LEFT_MLO_MASK_1.png\n"
     ]
    },
    {
     "name": "stderr",
     "output_type": "stream",
     "text": [
      " 57%|█████▋    | 217/378 [00:19<00:20,  7.81it/s]"
     ]
    },
    {
     "name": "stdout",
     "output_type": "stream",
     "text": [
      "/datasets/mamografia/CBIS-DDSM_organized/images/preprocessed/test/mask/Mass-Test_P_01566_RIGHT_MLO_MASK_3.png\n",
      "/datasets/mamografia/CBIS-DDSM_organized/images/preprocessed/test/mask/Mass-Test_P_01684_LEFT_CC_MASK_1.png\n"
     ]
    },
    {
     "name": "stderr",
     "output_type": "stream",
     "text": [
      " 58%|█████▊    | 218/378 [00:19<00:20,  7.91it/s]"
     ]
    },
    {
     "name": "stdout",
     "output_type": "stream",
     "text": [
      "/datasets/mamografia/CBIS-DDSM_organized/images/preprocessed/test/mask/Mass-Test_P_01378_RIGHT_MLO_MASK_1.png\n"
     ]
    },
    {
     "name": "stderr",
     "output_type": "stream",
     "text": [
      " 58%|█████▊    | 219/378 [00:19<00:23,  6.64it/s]"
     ]
    },
    {
     "name": "stdout",
     "output_type": "stream",
     "text": [
      "/datasets/mamografia/CBIS-DDSM_organized/images/preprocessed/test/mask/Mass-Test_P_00671_LEFT_CC_MASK_1.png\n"
     ]
    },
    {
     "name": "stderr",
     "output_type": "stream",
     "text": [
      " 58%|█████▊    | 221/378 [00:19<00:27,  5.64it/s]"
     ]
    },
    {
     "name": "stdout",
     "output_type": "stream",
     "text": [
      "/datasets/mamografia/CBIS-DDSM_organized/images/preprocessed/test/mask/Mass-Test_P_01251_LEFT_MLO_MASK_1.png\n",
      "/datasets/mamografia/CBIS-DDSM_organized/images/preprocessed/test/mask/Mass-Test_P_01590_LEFT_CC_MASK_1.png\n"
     ]
    },
    {
     "name": "stderr",
     "output_type": "stream",
     "text": [
      " 59%|█████▉    | 223/378 [00:20<00:26,  5.82it/s]"
     ]
    },
    {
     "name": "stdout",
     "output_type": "stream",
     "text": [
      "/datasets/mamografia/CBIS-DDSM_organized/images/preprocessed/test/mask/Mass-Test_P_00813_RIGHT_MLO_MASK_1.png\n",
      "/datasets/mamografia/CBIS-DDSM_organized/images/preprocessed/test/mask/Mass-Test_P_00037_RIGHT_MLO_MASK_1.png\n"
     ]
    },
    {
     "name": "stderr",
     "output_type": "stream",
     "text": [
      " 59%|█████▉    | 224/378 [00:20<00:23,  6.47it/s]"
     ]
    },
    {
     "name": "stdout",
     "output_type": "stream",
     "text": [
      "/datasets/mamografia/CBIS-DDSM_organized/images/preprocessed/test/mask/Mass-Test_P_00533_LEFT_MLO_MASK_1.png\n"
     ]
    },
    {
     "name": "stderr",
     "output_type": "stream",
     "text": [
      " 60%|█████▉    | 225/378 [00:20<00:25,  5.90it/s]"
     ]
    },
    {
     "name": "stdout",
     "output_type": "stream",
     "text": [
      "/datasets/mamografia/CBIS-DDSM_organized/images/preprocessed/test/mask/Mass-Test_P_01323_LEFT_CC_MASK_1.png\n"
     ]
    },
    {
     "name": "stderr",
     "output_type": "stream",
     "text": [
      " 60%|██████    | 227/378 [00:20<00:26,  5.75it/s]"
     ]
    },
    {
     "name": "stdout",
     "output_type": "stream",
     "text": [
      "/datasets/mamografia/CBIS-DDSM_organized/images/preprocessed/test/mask/Mass-Test_P_00278_RIGHT_MLO_MASK_1.png\n",
      "/datasets/mamografia/CBIS-DDSM_organized/images/preprocessed/test/mask/Mass-Test_P_01518_LEFT_CC_MASK_1.png\n"
     ]
    },
    {
     "name": "stderr",
     "output_type": "stream",
     "text": [
      " 61%|██████    | 229/378 [00:21<00:22,  6.71it/s]"
     ]
    },
    {
     "name": "stdout",
     "output_type": "stream",
     "text": [
      "/datasets/mamografia/CBIS-DDSM_organized/images/preprocessed/test/mask/Mass-Test_P_00699_RIGHT_CC_MASK_1.png\n",
      "/datasets/mamografia/CBIS-DDSM_organized/images/preprocessed/test/mask/Mass-Test_P_00126_RIGHT_CC_MASK_1.png\n"
     ]
    },
    {
     "name": "stderr",
     "output_type": "stream",
     "text": [
      " 61%|██████    | 231/378 [00:21<00:19,  7.60it/s]"
     ]
    },
    {
     "name": "stdout",
     "output_type": "stream",
     "text": [
      "/datasets/mamografia/CBIS-DDSM_organized/images/preprocessed/test/mask/Mass-Test_P_00699_RIGHT_MLO_MASK_1.png\n",
      "/datasets/mamografia/CBIS-DDSM_organized/images/preprocessed/test/mask/Mass-Test_P_01539_RIGHT_CC_MASK_1.png\n"
     ]
    },
    {
     "name": "stderr",
     "output_type": "stream",
     "text": [
      " 62%|██████▏   | 233/378 [00:21<00:20,  7.06it/s]"
     ]
    },
    {
     "name": "stdout",
     "output_type": "stream",
     "text": [
      "/datasets/mamografia/CBIS-DDSM_organized/images/preprocessed/test/mask/Mass-Test_P_00032_RIGHT_CC_MASK_1.png\n",
      "/datasets/mamografia/CBIS-DDSM_organized/images/preprocessed/test/mask/Mass-Test_P_00837_RIGHT_MLO_MASK_1.png\n"
     ]
    },
    {
     "name": "stderr",
     "output_type": "stream",
     "text": [
      " 62%|██████▏   | 235/378 [00:21<00:19,  7.32it/s]"
     ]
    },
    {
     "name": "stdout",
     "output_type": "stream",
     "text": [
      "/datasets/mamografia/CBIS-DDSM_organized/images/preprocessed/test/mask/Mass-Test_P_00947_RIGHT_CC_MASK_1.png\n",
      "/datasets/mamografia/CBIS-DDSM_organized/images/preprocessed/test/mask/Mass-Test_P_00490_RIGHT_MLO_MASK_1.png\n"
     ]
    },
    {
     "name": "stderr",
     "output_type": "stream",
     "text": [
      " 63%|██████▎   | 237/378 [00:22<00:19,  7.24it/s]"
     ]
    },
    {
     "name": "stdout",
     "output_type": "stream",
     "text": [
      "/datasets/mamografia/CBIS-DDSM_organized/images/preprocessed/test/mask/Mass-Test_P_00962_RIGHT_MLO_MASK_1.png\n",
      "/datasets/mamografia/CBIS-DDSM_organized/images/preprocessed/test/mask/Mass-Test_P_00932_LEFT_MLO_MASK_1.png\n"
     ]
    },
    {
     "name": "stderr",
     "output_type": "stream",
     "text": [
      " 63%|██████▎   | 239/378 [00:22<00:17,  8.01it/s]"
     ]
    },
    {
     "name": "stdout",
     "output_type": "stream",
     "text": [
      "/datasets/mamografia/CBIS-DDSM_organized/images/preprocessed/test/mask/Mass-Test_P_01800_LEFT_CC_MASK_1.png\n",
      "/datasets/mamografia/CBIS-DDSM_organized/images/preprocessed/test/mask/Mass-Test_P_01467_RIGHT_CC_MASK_2.png\n"
     ]
    },
    {
     "name": "stderr",
     "output_type": "stream",
     "text": [
      " 64%|██████▍   | 241/378 [00:22<00:19,  7.13it/s]"
     ]
    },
    {
     "name": "stdout",
     "output_type": "stream",
     "text": [
      "/datasets/mamografia/CBIS-DDSM_organized/images/preprocessed/test/mask/Mass-Test_P_00766_LEFT_CC_MASK_1.png\n",
      "/datasets/mamografia/CBIS-DDSM_organized/images/preprocessed/test/mask/Mass-Test_P_00986_LEFT_MLO_MASK_1.png\n"
     ]
    },
    {
     "name": "stderr",
     "output_type": "stream",
     "text": [
      " 64%|██████▍   | 242/378 [00:22<00:19,  6.85it/s]"
     ]
    },
    {
     "name": "stdout",
     "output_type": "stream",
     "text": [
      "/datasets/mamografia/CBIS-DDSM_organized/images/preprocessed/test/mask/Mass-Test_P_01298_LEFT_MLO_MASK_1.png\n"
     ]
    },
    {
     "name": "stderr",
     "output_type": "stream",
     "text": [
      " 65%|██████▍   | 244/378 [00:23<00:22,  6.08it/s]"
     ]
    },
    {
     "name": "stdout",
     "output_type": "stream",
     "text": [
      "/datasets/mamografia/CBIS-DDSM_organized/images/preprocessed/test/mask/Mass-Test_P_00498_LEFT_MLO_MASK_1.png\n",
      "/datasets/mamografia/CBIS-DDSM_organized/images/preprocessed/test/mask/Mass-Test_P_00173_RIGHT_CC_MASK_2.png\n"
     ]
    },
    {
     "name": "stderr",
     "output_type": "stream",
     "text": [
      " 65%|██████▌   | 246/378 [00:23<00:20,  6.29it/s]"
     ]
    },
    {
     "name": "stdout",
     "output_type": "stream",
     "text": [
      "/datasets/mamografia/CBIS-DDSM_organized/images/preprocessed/test/mask/Mass-Test_P_01119_LEFT_CC_MASK_1.png\n",
      "/datasets/mamografia/CBIS-DDSM_organized/images/preprocessed/test/mask/Mass-Test_P_00343_RIGHT_MLO_MASK_1.png\n"
     ]
    },
    {
     "name": "stderr",
     "output_type": "stream",
     "text": [
      " 66%|██████▌   | 248/378 [00:23<00:19,  6.62it/s]"
     ]
    },
    {
     "name": "stdout",
     "output_type": "stream",
     "text": [
      "/datasets/mamografia/CBIS-DDSM_organized/images/preprocessed/test/mask/Mass-Test_P_00758_LEFT_MLO_MASK_1.png\n",
      "/datasets/mamografia/CBIS-DDSM_organized/images/preprocessed/test/mask/Mass-Test_P_01294_RIGHT_CC_MASK_1.png\n"
     ]
    },
    {
     "name": "stderr",
     "output_type": "stream",
     "text": [
      " 66%|██████▌   | 250/378 [00:24<00:17,  7.17it/s]"
     ]
    },
    {
     "name": "stdout",
     "output_type": "stream",
     "text": [
      "/datasets/mamografia/CBIS-DDSM_organized/images/preprocessed/test/mask/Mass-Test_P_00922_RIGHT_CC_MASK_1.png\n",
      "/datasets/mamografia/CBIS-DDSM_organized/images/preprocessed/test/mask/Mass-Test_P_00837_RIGHT_CC_MASK_1.png\n"
     ]
    },
    {
     "name": "stderr",
     "output_type": "stream",
     "text": [
      " 67%|██████▋   | 252/378 [00:24<00:18,  6.87it/s]"
     ]
    },
    {
     "name": "stdout",
     "output_type": "stream",
     "text": [
      "/datasets/mamografia/CBIS-DDSM_organized/images/preprocessed/test/mask/Mass-Test_P_00464_RIGHT_MLO_MASK_1.png\n",
      "/datasets/mamografia/CBIS-DDSM_organized/images/preprocessed/test/mask/Mass-Test_P_00598_LEFT_MLO_MASK_1.png\n"
     ]
    },
    {
     "name": "stderr",
     "output_type": "stream",
     "text": [
      " 67%|██████▋   | 254/378 [00:24<00:17,  7.03it/s]"
     ]
    },
    {
     "name": "stdout",
     "output_type": "stream",
     "text": [
      "/datasets/mamografia/CBIS-DDSM_organized/images/preprocessed/test/mask/Mass-Test_P_00278_RIGHT_CC_MASK_1.png\n",
      "/datasets/mamografia/CBIS-DDSM_organized/images/preprocessed/test/mask/Mass-Test_P_01277_RIGHT_CC_MASK_1.png\n"
     ]
    },
    {
     "name": "stderr",
     "output_type": "stream",
     "text": [
      " 68%|██████▊   | 256/378 [00:25<00:19,  6.22it/s]"
     ]
    },
    {
     "name": "stdout",
     "output_type": "stream",
     "text": [
      "/datasets/mamografia/CBIS-DDSM_organized/images/preprocessed/test/mask/Mass-Test_P_01090_LEFT_MLO_MASK_3.png\n",
      "/datasets/mamografia/CBIS-DDSM_organized/images/preprocessed/test/mask/Mass-Test_P_00202_RIGHT_CC_MASK_1.png\n"
     ]
    },
    {
     "name": "stderr",
     "output_type": "stream",
     "text": [
      " 68%|██████▊   | 258/378 [00:25<00:16,  7.29it/s]"
     ]
    },
    {
     "name": "stdout",
     "output_type": "stream",
     "text": [
      "/datasets/mamografia/CBIS-DDSM_organized/images/preprocessed/test/mask/Mass-Test_P_00738_RIGHT_CC_MASK_1.png\n",
      "/datasets/mamografia/CBIS-DDSM_organized/images/preprocessed/test/mask/Mass-Test_P_00212_RIGHT_MLO_MASK_1.png\n"
     ]
    },
    {
     "name": "stderr",
     "output_type": "stream",
     "text": [
      " 69%|██████▉   | 260/378 [00:25<00:15,  7.62it/s]"
     ]
    },
    {
     "name": "stdout",
     "output_type": "stream",
     "text": [
      "/datasets/mamografia/CBIS-DDSM_organized/images/preprocessed/test/mask/Mass-Test_P_01815_RIGHT_MLO_MASK_1.png\n",
      "/datasets/mamografia/CBIS-DDSM_organized/images/preprocessed/test/mask/Mass-Test_P_00707_RIGHT_MLO_MASK_1.png\n"
     ]
    },
    {
     "name": "stderr",
     "output_type": "stream",
     "text": [
      " 69%|██████▉   | 261/378 [00:25<00:15,  7.78it/s]"
     ]
    },
    {
     "name": "stdout",
     "output_type": "stream",
     "text": [
      "/datasets/mamografia/CBIS-DDSM_organized/images/preprocessed/test/mask/Mass-Test_P_01595_LEFT_CC_MASK_1.png\n"
     ]
    },
    {
     "name": "stderr",
     "output_type": "stream",
     "text": [
      " 70%|██████▉   | 263/378 [00:25<00:16,  7.14it/s]"
     ]
    },
    {
     "name": "stdout",
     "output_type": "stream",
     "text": [
      "/datasets/mamografia/CBIS-DDSM_organized/images/preprocessed/test/mask/Mass-Test_P_01090_LEFT_MLO_MASK_2.png\n",
      "/datasets/mamografia/CBIS-DDSM_organized/images/preprocessed/test/mask/Mass-Test_P_00922_RIGHT_MLO_MASK_1.png\n"
     ]
    },
    {
     "name": "stderr",
     "output_type": "stream",
     "text": [
      " 70%|███████   | 265/378 [00:26<00:19,  5.79it/s]"
     ]
    },
    {
     "name": "stdout",
     "output_type": "stream",
     "text": [
      "/datasets/mamografia/CBIS-DDSM_organized/images/preprocessed/test/mask/Mass-Test_P_01716_RIGHT_CC_MASK_1.png\n",
      "/datasets/mamografia/CBIS-DDSM_organized/images/preprocessed/test/mask/Mass-Test_P_01558_RIGHT_CC_MASK_1.png\n"
     ]
    },
    {
     "name": "stderr",
     "output_type": "stream",
     "text": [
      " 71%|███████   | 267/378 [00:26<00:17,  6.22it/s]"
     ]
    },
    {
     "name": "stdout",
     "output_type": "stream",
     "text": [
      "/datasets/mamografia/CBIS-DDSM_organized/images/preprocessed/test/mask/Mass-Test_P_00409_RIGHT_CC_MASK_1.png\n",
      "/datasets/mamografia/CBIS-DDSM_organized/images/preprocessed/test/mask/Mass-Test_P_00126_RIGHT_MLO_MASK_1.png\n"
     ]
    },
    {
     "name": "stderr",
     "output_type": "stream",
     "text": [
      " 71%|███████   | 269/378 [00:26<00:14,  7.34it/s]"
     ]
    },
    {
     "name": "stdout",
     "output_type": "stream",
     "text": [
      "/datasets/mamografia/CBIS-DDSM_organized/images/preprocessed/test/mask/Mass-Test_P_01912_RIGHT_CC_MASK_1.png\n",
      "/datasets/mamografia/CBIS-DDSM_organized/images/preprocessed/test/mask/Mass-Test_P_00987_LEFT_CC_MASK_1.png\n"
     ]
    },
    {
     "name": "stderr",
     "output_type": "stream",
     "text": [
      " 72%|███████▏  | 271/378 [00:27<00:14,  7.40it/s]"
     ]
    },
    {
     "name": "stdout",
     "output_type": "stream",
     "text": [
      "/datasets/mamografia/CBIS-DDSM_organized/images/preprocessed/test/mask/Mass-Test_P_01617_LEFT_CC_MASK_1.png\n",
      "/datasets/mamografia/CBIS-DDSM_organized/images/preprocessed/test/mask/Mass-Test_P_01661_LEFT_CC_MASK_1.png\n"
     ]
    },
    {
     "name": "stderr",
     "output_type": "stream",
     "text": [
      " 72%|███████▏  | 273/378 [00:27<00:13,  7.96it/s]"
     ]
    },
    {
     "name": "stdout",
     "output_type": "stream",
     "text": [
      "/datasets/mamografia/CBIS-DDSM_organized/images/preprocessed/test/mask/Mass-Test_P_00482_LEFT_MLO_MASK_1.png\n",
      "/datasets/mamografia/CBIS-DDSM_organized/images/preprocessed/test/mask/Mass-Test_P_00066_LEFT_MLO_MASK_1.png\n"
     ]
    },
    {
     "name": "stderr",
     "output_type": "stream",
     "text": [
      " 73%|███████▎  | 275/378 [00:27<00:14,  7.16it/s]"
     ]
    },
    {
     "name": "stdout",
     "output_type": "stream",
     "text": [
      "/datasets/mamografia/CBIS-DDSM_organized/images/preprocessed/test/mask/Mass-Test_P_01599_LEFT_MLO_MASK_1.png\n",
      "/datasets/mamografia/CBIS-DDSM_organized/images/preprocessed/test/mask/Mass-Test_P_00773_LEFT_MLO_MASK_1.png\n"
     ]
    },
    {
     "name": "stderr",
     "output_type": "stream",
     "text": [
      " 73%|███████▎  | 276/378 [00:27<00:16,  6.18it/s]"
     ]
    },
    {
     "name": "stdout",
     "output_type": "stream",
     "text": [
      "/datasets/mamografia/CBIS-DDSM_organized/images/preprocessed/test/mask/Mass-Test_P_01797_LEFT_MLO_MASK_1.png\n"
     ]
    },
    {
     "name": "stderr",
     "output_type": "stream",
     "text": [
      " 74%|███████▎  | 278/378 [00:28<00:16,  6.10it/s]"
     ]
    },
    {
     "name": "stdout",
     "output_type": "stream",
     "text": [
      "/datasets/mamografia/CBIS-DDSM_organized/images/preprocessed/test/mask/Mass-Test_P_01697_LEFT_MLO_MASK_1.png\n",
      "/datasets/mamografia/CBIS-DDSM_organized/images/preprocessed/test/mask/Mass-Test_P_00343_RIGHT_MLO_MASK_2.png\n"
     ]
    },
    {
     "name": "stderr",
     "output_type": "stream",
     "text": [
      " 74%|███████▍  | 280/378 [00:28<00:13,  7.08it/s]"
     ]
    },
    {
     "name": "stdout",
     "output_type": "stream",
     "text": [
      "/datasets/mamografia/CBIS-DDSM_organized/images/preprocessed/test/mask/Mass-Test_P_00882_RIGHT_MLO_MASK_1.png\n",
      "/datasets/mamografia/CBIS-DDSM_organized/images/preprocessed/test/mask/Mass-Test_P_00493_RIGHT_CC_MASK_1.png\n"
     ]
    },
    {
     "name": "stderr",
     "output_type": "stream",
     "text": [
      " 75%|███████▍  | 282/378 [00:28<00:13,  7.37it/s]"
     ]
    },
    {
     "name": "stdout",
     "output_type": "stream",
     "text": [
      "/datasets/mamografia/CBIS-DDSM_organized/images/preprocessed/test/mask/Mass-Test_P_01277_RIGHT_MLO_MASK_1.png\n",
      "/datasets/mamografia/CBIS-DDSM_organized/images/preprocessed/test/mask/Mass-Test_P_01512_LEFT_CC_MASK_1.png\n"
     ]
    },
    {
     "name": "stderr",
     "output_type": "stream",
     "text": [
      " 75%|███████▍  | 283/378 [00:29<00:25,  3.78it/s]"
     ]
    },
    {
     "name": "stdout",
     "output_type": "stream",
     "text": [
      "/datasets/mamografia/CBIS-DDSM_organized/images/preprocessed/test/mask/Mass-Test_P_00482_LEFT_CC_MASK_1.png\n"
     ]
    },
    {
     "name": "stderr",
     "output_type": "stream",
     "text": [
      " 75%|███████▌  | 285/378 [00:29<00:21,  4.34it/s]"
     ]
    },
    {
     "name": "stdout",
     "output_type": "stream",
     "text": [
      "/datasets/mamografia/CBIS-DDSM_organized/images/preprocessed/test/mask/Mass-Test_P_01673_RIGHT_CC_MASK_1.png\n",
      "/datasets/mamografia/CBIS-DDSM_organized/images/preprocessed/test/mask/Mass-Test_P_00741_LEFT_MLO_MASK_1.png\n"
     ]
    },
    {
     "name": "stderr",
     "output_type": "stream",
     "text": [
      " 76%|███████▌  | 287/378 [00:29<00:15,  6.06it/s]"
     ]
    },
    {
     "name": "stdout",
     "output_type": "stream",
     "text": [
      "/datasets/mamografia/CBIS-DDSM_organized/images/preprocessed/test/mask/Mass-Test_P_01765_RIGHT_CC_MASK_1.png\n",
      "/datasets/mamografia/CBIS-DDSM_organized/images/preprocessed/test/mask/Mass-Test_P_00016_LEFT_MLO_MASK_1.png\n"
     ]
    },
    {
     "name": "stderr",
     "output_type": "stream",
     "text": [
      " 76%|███████▋  | 289/378 [00:30<00:13,  6.45it/s]"
     ]
    },
    {
     "name": "stdout",
     "output_type": "stream",
     "text": [
      "/datasets/mamografia/CBIS-DDSM_organized/images/preprocessed/test/mask/Mass-Test_P_00758_LEFT_CC_MASK_1.png\n",
      "/datasets/mamografia/CBIS-DDSM_organized/images/preprocessed/test/mask/Mass-Test_P_00238_RIGHT_CC_MASK_1.png\n"
     ]
    },
    {
     "name": "stderr",
     "output_type": "stream",
     "text": [
      " 77%|███████▋  | 291/378 [00:30<00:12,  6.75it/s]"
     ]
    },
    {
     "name": "stdout",
     "output_type": "stream",
     "text": [
      "/datasets/mamografia/CBIS-DDSM_organized/images/preprocessed/test/mask/Mass-Test_P_01510_RIGHT_MLO_MASK_1.png\n",
      "/datasets/mamografia/CBIS-DDSM_organized/images/preprocessed/test/mask/Mass-Test_P_01014_LEFT_MLO_MASK_1.png\n"
     ]
    },
    {
     "name": "stderr",
     "output_type": "stream",
     "text": [
      " 78%|███████▊  | 293/378 [00:30<00:14,  5.77it/s]"
     ]
    },
    {
     "name": "stdout",
     "output_type": "stream",
     "text": [
      "/datasets/mamografia/CBIS-DDSM_organized/images/preprocessed/test/mask/Mass-Test_P_00587_RIGHT_CC_MASK_1.png\n",
      "/datasets/mamografia/CBIS-DDSM_organized/images/preprocessed/test/mask/Mass-Test_P_01546_LEFT_MLO_MASK_1.png\n"
     ]
    },
    {
     "name": "stderr",
     "output_type": "stream",
     "text": [
      " 78%|███████▊  | 295/378 [00:31<00:12,  6.46it/s]"
     ]
    },
    {
     "name": "stdout",
     "output_type": "stream",
     "text": [
      "/datasets/mamografia/CBIS-DDSM_organized/images/preprocessed/test/mask/Mass-Test_P_00369_LEFT_MLO_MASK_1.png\n",
      "/datasets/mamografia/CBIS-DDSM_organized/images/preprocessed/test/mask/Mass-Test_P_00738_RIGHT_MLO_MASK_1.png\n"
     ]
    },
    {
     "name": "stderr",
     "output_type": "stream",
     "text": [
      " 78%|███████▊  | 296/378 [00:31<00:12,  6.35it/s]"
     ]
    },
    {
     "name": "stdout",
     "output_type": "stream",
     "text": [
      "/datasets/mamografia/CBIS-DDSM_organized/images/preprocessed/test/mask/Mass-Test_P_00391_RIGHT_CC_MASK_1.png\n"
     ]
    },
    {
     "name": "stderr",
     "output_type": "stream",
     "text": [
      " 79%|███████▊  | 297/378 [00:31<00:14,  5.55it/s]"
     ]
    },
    {
     "name": "stdout",
     "output_type": "stream",
     "text": [
      "/datasets/mamografia/CBIS-DDSM_organized/images/preprocessed/test/mask/Mass-Test_P_01825_RIGHT_CC_MASK_1.png\n"
     ]
    },
    {
     "name": "stderr",
     "output_type": "stream",
     "text": [
      " 79%|███████▉  | 299/378 [00:31<00:15,  5.24it/s]"
     ]
    },
    {
     "name": "stdout",
     "output_type": "stream",
     "text": [
      "/datasets/mamografia/CBIS-DDSM_organized/images/preprocessed/test/mask/Mass-Test_P_00524_LEFT_MLO_MASK_1.png\n",
      "/datasets/mamografia/CBIS-DDSM_organized/images/preprocessed/test/mask/Mass-Test_P_00017_LEFT_MLO_MASK_1.png\n"
     ]
    },
    {
     "name": "stderr",
     "output_type": "stream",
     "text": [
      " 80%|███████▉  | 301/378 [00:32<00:11,  6.52it/s]"
     ]
    },
    {
     "name": "stdout",
     "output_type": "stream",
     "text": [
      "/datasets/mamografia/CBIS-DDSM_organized/images/preprocessed/test/mask/Mass-Test_P_01566_RIGHT_MLO_MASK_2.png\n",
      "/datasets/mamografia/CBIS-DDSM_organized/images/preprocessed/test/mask/Mass-Test_P_01833_RIGHT_MLO_MASK_1.png\n"
     ]
    },
    {
     "name": "stderr",
     "output_type": "stream",
     "text": [
      " 80%|████████  | 303/378 [00:32<00:11,  6.40it/s]"
     ]
    },
    {
     "name": "stdout",
     "output_type": "stream",
     "text": [
      "/datasets/mamografia/CBIS-DDSM_organized/images/preprocessed/test/mask/Mass-Test_P_00194_RIGHT_CC_MASK_1.png\n",
      "/datasets/mamografia/CBIS-DDSM_organized/images/preprocessed/test/mask/Mass-Test_P_01666_RIGHT_MLO_MASK_1.png\n"
     ]
    },
    {
     "name": "stderr",
     "output_type": "stream",
     "text": [
      " 81%|████████  | 305/378 [00:32<00:11,  6.27it/s]"
     ]
    },
    {
     "name": "stdout",
     "output_type": "stream",
     "text": [
      "/datasets/mamografia/CBIS-DDSM_organized/images/preprocessed/test/mask/Mass-Test_P_00820_LEFT_MLO_MASK_1.png\n",
      "/datasets/mamografia/CBIS-DDSM_organized/images/preprocessed/test/mask/Mass-Test_P_00636_RIGHT_MLO_MASK_1.png\n"
     ]
    },
    {
     "name": "stderr",
     "output_type": "stream",
     "text": [
      " 81%|████████  | 307/378 [00:33<00:09,  7.40it/s]"
     ]
    },
    {
     "name": "stdout",
     "output_type": "stream",
     "text": [
      "/datasets/mamografia/CBIS-DDSM_organized/images/preprocessed/test/mask/Mass-Test_P_00343_RIGHT_CC_MASK_2.png\n",
      "/datasets/mamografia/CBIS-DDSM_organized/images/preprocessed/test/mask/Mass-Test_P_00375_RIGHT_MLO_MASK_1.png\n"
     ]
    },
    {
     "name": "stderr",
     "output_type": "stream",
     "text": [
      " 81%|████████▏ | 308/378 [00:33<00:09,  7.27it/s]"
     ]
    },
    {
     "name": "stdout",
     "output_type": "stream",
     "text": [
      "/datasets/mamografia/CBIS-DDSM_organized/images/preprocessed/test/mask/Mass-Test_P_00928_RIGHT_MLO_MASK_1.png\n",
      "/datasets/mamografia/CBIS-DDSM_organized/images/preprocessed/test/mask/Mass-Test_P_00116_RIGHT_CC_MASK_2.png\n"
     ]
    },
    {
     "name": "stderr",
     "output_type": "stream",
     "text": [
      " 82%|████████▏ | 311/378 [00:33<00:09,  6.79it/s]"
     ]
    },
    {
     "name": "stdout",
     "output_type": "stream",
     "text": [
      "/datasets/mamografia/CBIS-DDSM_organized/images/preprocessed/test/mask/Mass-Test_P_00409_RIGHT_MLO_MASK_1.png\n",
      "/datasets/mamografia/CBIS-DDSM_organized/images/preprocessed/test/mask/Mass-Test_P_01800_LEFT_MLO_MASK_1.png\n"
     ]
    },
    {
     "name": "stderr",
     "output_type": "stream",
     "text": [
      " 83%|████████▎ | 312/378 [00:33<00:09,  7.30it/s]"
     ]
    },
    {
     "name": "stdout",
     "output_type": "stream",
     "text": [
      "/datasets/mamografia/CBIS-DDSM_organized/images/preprocessed/test/mask/Mass-Test_P_00387_RIGHT_MLO_MASK_1.png\n"
     ]
    },
    {
     "name": "stderr",
     "output_type": "stream",
     "text": [
      " 83%|████████▎ | 314/378 [00:34<00:10,  6.27it/s]"
     ]
    },
    {
     "name": "stdout",
     "output_type": "stream",
     "text": [
      "/datasets/mamografia/CBIS-DDSM_organized/images/preprocessed/test/mask/Mass-Test_P_01235_RIGHT_MLO_MASK_1.png\n",
      "/datasets/mamografia/CBIS-DDSM_organized/images/preprocessed/test/mask/Mass-Test_P_01347_RIGHT_CC_MASK_1.png\n"
     ]
    },
    {
     "name": "stderr",
     "output_type": "stream",
     "text": [
      " 83%|████████▎ | 315/378 [00:34<00:10,  5.92it/s]"
     ]
    },
    {
     "name": "stdout",
     "output_type": "stream",
     "text": [
      "/datasets/mamografia/CBIS-DDSM_organized/images/preprocessed/test/mask/Mass-Test_P_00464_RIGHT_CC_MASK_1.png\n"
     ]
    },
    {
     "name": "stderr",
     "output_type": "stream",
     "text": [
      " 84%|████████▎ | 316/378 [00:34<00:11,  5.60it/s]"
     ]
    },
    {
     "name": "stdout",
     "output_type": "stream",
     "text": [
      "/datasets/mamografia/CBIS-DDSM_organized/images/preprocessed/test/mask/Mass-Test_P_01416_RIGHT_CC_MASK_1.png\n"
     ]
    },
    {
     "name": "stderr",
     "output_type": "stream",
     "text": [
      " 84%|████████▍ | 318/378 [00:34<00:10,  5.85it/s]"
     ]
    },
    {
     "name": "stdout",
     "output_type": "stream",
     "text": [
      "/datasets/mamografia/CBIS-DDSM_organized/images/preprocessed/test/mask/Mass-Test_P_00969_LEFT_CC_MASK_3.png\n",
      "/datasets/mamografia/CBIS-DDSM_organized/images/preprocessed/test/mask/Mass-Test_P_01119_LEFT_MLO_MASK_1.png\n"
     ]
    },
    {
     "name": "stderr",
     "output_type": "stream",
     "text": [
      " 85%|████████▍ | 320/378 [00:35<00:09,  6.36it/s]"
     ]
    },
    {
     "name": "stdout",
     "output_type": "stream",
     "text": [
      "/datasets/mamografia/CBIS-DDSM_organized/images/preprocessed/test/mask/Mass-Test_P_00114_LEFT_MLO_MASK_1.png\n",
      "/datasets/mamografia/CBIS-DDSM_organized/images/preprocessed/test/mask/Mass-Test_P_01623_RIGHT_CC_MASK_1.png\n"
     ]
    },
    {
     "name": "stderr",
     "output_type": "stream",
     "text": [
      " 85%|████████▌ | 322/378 [00:35<00:09,  5.95it/s]"
     ]
    },
    {
     "name": "stdout",
     "output_type": "stream",
     "text": [
      "/datasets/mamografia/CBIS-DDSM_organized/images/preprocessed/test/mask/Mass-Test_P_01183_LEFT_MLO_MASK_1.png\n",
      "/datasets/mamografia/CBIS-DDSM_organized/images/preprocessed/test/mask/Mass-Test_P_01534_RIGHT_CC_MASK_1.png\n"
     ]
    },
    {
     "name": "stderr",
     "output_type": "stream",
     "text": [
      " 86%|████████▌ | 324/378 [00:35<00:08,  6.13it/s]"
     ]
    },
    {
     "name": "stdout",
     "output_type": "stream",
     "text": [
      "/datasets/mamografia/CBIS-DDSM_organized/images/preprocessed/test/mask/Mass-Test_P_01294_RIGHT_MLO_MASK_1.png\n",
      "/datasets/mamografia/CBIS-DDSM_organized/images/preprocessed/test/mask/Mass-Test_P_00636_RIGHT_CC_MASK_1.png\n"
     ]
    },
    {
     "name": "stderr",
     "output_type": "stream",
     "text": [
      " 86%|████████▌ | 326/378 [00:36<00:07,  7.18it/s]"
     ]
    },
    {
     "name": "stdout",
     "output_type": "stream",
     "text": [
      "/datasets/mamografia/CBIS-DDSM_organized/images/preprocessed/test/mask/Mass-Test_P_00544_LEFT_CC_MASK_1.png\n",
      "/datasets/mamografia/CBIS-DDSM_organized/images/preprocessed/test/mask/Mass-Test_P_01651_RIGHT_CC_MASK_1.png\n"
     ]
    },
    {
     "name": "stderr",
     "output_type": "stream",
     "text": [
      " 87%|████████▋ | 327/378 [00:36<00:07,  7.00it/s]"
     ]
    },
    {
     "name": "stdout",
     "output_type": "stream",
     "text": [
      "/datasets/mamografia/CBIS-DDSM_organized/images/preprocessed/test/mask/Mass-Test_P_00671_LEFT_MLO_MASK_1.png\n"
     ]
    },
    {
     "name": "stderr",
     "output_type": "stream",
     "text": [
      " 87%|████████▋ | 328/378 [00:36<00:08,  6.05it/s]"
     ]
    },
    {
     "name": "stdout",
     "output_type": "stream",
     "text": [
      "/datasets/mamografia/CBIS-DDSM_organized/images/preprocessed/test/mask/Mass-Test_P_01673_RIGHT_MLO_MASK_1.png\n"
     ]
    },
    {
     "name": "stderr",
     "output_type": "stream",
     "text": [
      " 87%|████████▋ | 330/378 [00:36<00:09,  5.05it/s]"
     ]
    },
    {
     "name": "stdout",
     "output_type": "stream",
     "text": [
      "/datasets/mamografia/CBIS-DDSM_organized/images/preprocessed/test/mask/Mass-Test_P_00656_RIGHT_MLO_MASK_1.png\n",
      "/datasets/mamografia/CBIS-DDSM_organized/images/preprocessed/test/mask/Mass-Test_P_01558_RIGHT_MLO_MASK_1.png\n"
     ]
    },
    {
     "name": "stderr",
     "output_type": "stream",
     "text": [
      " 88%|████████▊ | 332/378 [00:37<00:07,  5.92it/s]"
     ]
    },
    {
     "name": "stdout",
     "output_type": "stream",
     "text": [
      "/datasets/mamografia/CBIS-DDSM_organized/images/preprocessed/test/mask/Mass-Test_P_01800_RIGHT_CC_MASK_1.png\n",
      "/datasets/mamografia/CBIS-DDSM_organized/images/preprocessed/test/mask/Mass-Test_P_01605_LEFT_CC_MASK_2.png\n"
     ]
    },
    {
     "name": "stderr",
     "output_type": "stream",
     "text": [
      " 88%|████████▊ | 334/378 [00:37<00:06,  6.74it/s]"
     ]
    },
    {
     "name": "stdout",
     "output_type": "stream",
     "text": [
      "/datasets/mamografia/CBIS-DDSM_organized/images/preprocessed/test/mask/Mass-Test_P_00375_RIGHT_CC_MASK_1.png\n",
      "/datasets/mamografia/CBIS-DDSM_organized/images/preprocessed/test/mask/Mass-Test_P_00623_LEFT_MLO_MASK_1.png\n"
     ]
    },
    {
     "name": "stderr",
     "output_type": "stream",
     "text": [
      " 89%|████████▉ | 336/378 [00:37<00:05,  7.72it/s]"
     ]
    },
    {
     "name": "stdout",
     "output_type": "stream",
     "text": [
      "/datasets/mamografia/CBIS-DDSM_organized/images/preprocessed/test/mask/Mass-Test_P_00942_LEFT_CC_MASK_1.png\n",
      "/datasets/mamografia/CBIS-DDSM_organized/images/preprocessed/test/mask/Mass-Test_P_00985_RIGHT_CC_MASK_1.png\n"
     ]
    },
    {
     "name": "stderr",
     "output_type": "stream",
     "text": [
      " 89%|████████▉ | 338/378 [00:37<00:05,  7.77it/s]"
     ]
    },
    {
     "name": "stdout",
     "output_type": "stream",
     "text": [
      "/datasets/mamografia/CBIS-DDSM_organized/images/preprocessed/test/mask/Mass-Test_P_01307_RIGHT_MLO_MASK_1.png\n",
      "/datasets/mamografia/CBIS-DDSM_organized/images/preprocessed/test/mask/Mass-Test_P_01257_RIGHT_MLO_MASK_1.png\n"
     ]
    },
    {
     "name": "stderr",
     "output_type": "stream",
     "text": [
      " 90%|████████▉ | 339/378 [00:38<00:05,  7.11it/s]"
     ]
    },
    {
     "name": "stdout",
     "output_type": "stream",
     "text": [
      "/datasets/mamografia/CBIS-DDSM_organized/images/preprocessed/test/mask/Mass-Test_P_01726_RIGHT_MLO_MASK_1.png\n"
     ]
    },
    {
     "name": "stderr",
     "output_type": "stream",
     "text": [
      " 90%|█████████ | 341/378 [00:38<00:05,  6.59it/s]"
     ]
    },
    {
     "name": "stdout",
     "output_type": "stream",
     "text": [
      "/datasets/mamografia/CBIS-DDSM_organized/images/preprocessed/test/mask/Mass-Test_P_00576_LEFT_MLO_MASK_1.png\n",
      "/datasets/mamografia/CBIS-DDSM_organized/images/preprocessed/test/mask/Mass-Test_P_00429_LEFT_CC_MASK_1.png\n"
     ]
    },
    {
     "name": "stderr",
     "output_type": "stream",
     "text": [
      " 91%|█████████ | 343/378 [00:38<00:05,  6.54it/s]"
     ]
    },
    {
     "name": "stdout",
     "output_type": "stream",
     "text": [
      "/datasets/mamografia/CBIS-DDSM_organized/images/preprocessed/test/mask/Mass-Test_P_00379_LEFT_CC_MASK_1.png\n",
      "/datasets/mamografia/CBIS-DDSM_organized/images/preprocessed/test/mask/Mass-Test_P_00966_RIGHT_MLO_MASK_1.png\n"
     ]
    },
    {
     "name": "stderr",
     "output_type": "stream",
     "text": [
      " 91%|█████████▏| 345/378 [00:39<00:04,  6.69it/s]"
     ]
    },
    {
     "name": "stdout",
     "output_type": "stream",
     "text": [
      "/datasets/mamografia/CBIS-DDSM_organized/images/preprocessed/test/mask/Mass-Test_P_00820_RIGHT_MLO_MASK_1.png\n",
      "/datasets/mamografia/CBIS-DDSM_organized/images/preprocessed/test/mask/Mass-Test_P_01108_RIGHT_MLO_MASK_1.png\n"
     ]
    },
    {
     "name": "stderr",
     "output_type": "stream",
     "text": [
      " 92%|█████████▏| 346/378 [00:39<00:04,  6.97it/s]"
     ]
    },
    {
     "name": "stdout",
     "output_type": "stream",
     "text": [
      "/datasets/mamografia/CBIS-DDSM_organized/images/preprocessed/test/mask/Mass-Test_P_01204_RIGHT_CC_MASK_1.png\n"
     ]
    },
    {
     "name": "stderr",
     "output_type": "stream",
     "text": [
      " 92%|█████████▏| 348/378 [00:39<00:05,  5.45it/s]"
     ]
    },
    {
     "name": "stdout",
     "output_type": "stream",
     "text": [
      "/datasets/mamografia/CBIS-DDSM_organized/images/preprocessed/test/mask/Mass-Test_P_01578_LEFT_MLO_MASK_1.png\n",
      "/datasets/mamografia/CBIS-DDSM_organized/images/preprocessed/test/mask/Mass-Test_P_01726_RIGHT_CC_MASK_1.png\n"
     ]
    },
    {
     "name": "stderr",
     "output_type": "stream",
     "text": [
      " 93%|█████████▎| 350/378 [00:39<00:04,  5.90it/s]"
     ]
    },
    {
     "name": "stdout",
     "output_type": "stream",
     "text": [
      "/datasets/mamografia/CBIS-DDSM_organized/images/preprocessed/test/mask/Mass-Test_P_01617_LEFT_MLO_MASK_1.png\n",
      "/datasets/mamografia/CBIS-DDSM_organized/images/preprocessed/test/mask/Mass-Test_P_01192_LEFT_MLO_MASK_1.png\n"
     ]
    },
    {
     "name": "stderr",
     "output_type": "stream",
     "text": [
      " 93%|█████████▎| 351/378 [00:40<00:04,  5.51it/s]"
     ]
    },
    {
     "name": "stdout",
     "output_type": "stream",
     "text": [
      "/datasets/mamografia/CBIS-DDSM_organized/images/preprocessed/test/mask/Mass-Test_P_00969_LEFT_MLO_MASK_4.png\n"
     ]
    },
    {
     "name": "stderr",
     "output_type": "stream",
     "text": [
      " 93%|█████████▎| 352/378 [00:40<00:05,  4.75it/s]"
     ]
    },
    {
     "name": "stdout",
     "output_type": "stream",
     "text": [
      "/datasets/mamografia/CBIS-DDSM_organized/images/preprocessed/test/mask/Mass-Test_P_00969_LEFT_MLO_MASK_1.png\n"
     ]
    },
    {
     "name": "stderr",
     "output_type": "stream",
     "text": [
      " 94%|█████████▎| 354/378 [00:40<00:04,  4.84it/s]"
     ]
    },
    {
     "name": "stdout",
     "output_type": "stream",
     "text": [
      "/datasets/mamografia/CBIS-DDSM_organized/images/preprocessed/test/mask/Mass-Test_P_01551_LEFT_MLO_MASK_1.png\n",
      "/datasets/mamografia/CBIS-DDSM_organized/images/preprocessed/test/mask/Mass-Test_P_00173_LEFT_MLO_MASK_1.png\n"
     ]
    },
    {
     "name": "stderr",
     "output_type": "stream",
     "text": [
      " 94%|█████████▍| 355/378 [00:41<00:04,  4.79it/s]"
     ]
    },
    {
     "name": "stdout",
     "output_type": "stream",
     "text": [
      "/datasets/mamografia/CBIS-DDSM_organized/images/preprocessed/test/mask/Mass-Test_P_00099_LEFT_MLO_MASK_1.png\n"
     ]
    },
    {
     "name": "stderr",
     "output_type": "stream",
     "text": [
      " 94%|█████████▍| 357/378 [00:41<00:03,  5.29it/s]"
     ]
    },
    {
     "name": "stdout",
     "output_type": "stream",
     "text": [
      "/datasets/mamografia/CBIS-DDSM_organized/images/preprocessed/test/mask/Mass-Test_P_00641_RIGHT_CC_MASK_1.png\n",
      "/datasets/mamografia/CBIS-DDSM_organized/images/preprocessed/test/mask/Mass-Test_P_00358_RIGHT_MLO_MASK_1.png\n"
     ]
    },
    {
     "name": "stderr",
     "output_type": "stream",
     "text": [
      " 95%|█████████▍| 358/378 [00:41<00:03,  5.35it/s]"
     ]
    },
    {
     "name": "stdout",
     "output_type": "stream",
     "text": [
      "/datasets/mamografia/CBIS-DDSM_organized/images/preprocessed/test/mask/Mass-Test_P_01365_LEFT_CC_MASK_2.png\n"
     ]
    },
    {
     "name": "stderr",
     "output_type": "stream",
     "text": [
      " 95%|█████████▍| 359/378 [00:41<00:03,  5.08it/s]"
     ]
    },
    {
     "name": "stdout",
     "output_type": "stream",
     "text": [
      "/datasets/mamografia/CBIS-DDSM_organized/images/preprocessed/test/mask/Mass-Test_P_01787_LEFT_MLO_MASK_1.png\n"
     ]
    },
    {
     "name": "stderr",
     "output_type": "stream",
     "text": [
      " 95%|█████████▌| 360/378 [00:42<00:03,  4.68it/s]"
     ]
    },
    {
     "name": "stdout",
     "output_type": "stream",
     "text": [
      "/datasets/mamografia/CBIS-DDSM_organized/images/preprocessed/test/mask/Mass-Test_P_00524_LEFT_CC_MASK_1.png\n"
     ]
    },
    {
     "name": "stderr",
     "output_type": "stream",
     "text": [
      " 96%|█████████▌| 362/378 [00:42<00:03,  4.88it/s]"
     ]
    },
    {
     "name": "stdout",
     "output_type": "stream",
     "text": [
      "/datasets/mamografia/CBIS-DDSM_organized/images/preprocessed/test/mask/Mass-Test_P_01090_LEFT_MLO_MASK_4.png\n",
      "/datasets/mamografia/CBIS-DDSM_organized/images/preprocessed/test/mask/Mass-Test_P_00820_RIGHT_CC_MASK_1.png\n"
     ]
    },
    {
     "name": "stderr",
     "output_type": "stream",
     "text": [
      " 96%|█████████▌| 363/378 [00:42<00:03,  4.86it/s]"
     ]
    },
    {
     "name": "stdout",
     "output_type": "stream",
     "text": [
      "/datasets/mamografia/CBIS-DDSM_organized/images/preprocessed/test/mask/Mass-Test_P_01512_LEFT_MLO_MASK_1.png\n"
     ]
    },
    {
     "name": "stderr",
     "output_type": "stream",
     "text": [
      " 96%|█████████▋| 364/378 [00:42<00:03,  4.66it/s]"
     ]
    },
    {
     "name": "stdout",
     "output_type": "stream",
     "text": [
      "/datasets/mamografia/CBIS-DDSM_organized/images/preprocessed/test/mask/Mass-Test_P_00230_RIGHT_CC_MASK_1.png\n"
     ]
    },
    {
     "name": "stderr",
     "output_type": "stream",
     "text": [
      " 97%|█████████▋| 366/378 [00:43<00:02,  4.84it/s]"
     ]
    },
    {
     "name": "stdout",
     "output_type": "stream",
     "text": [
      "/datasets/mamografia/CBIS-DDSM_organized/images/preprocessed/test/mask/Mass-Test_P_01210_RIGHT_MLO_MASK_1.png\n",
      "/datasets/mamografia/CBIS-DDSM_organized/images/preprocessed/test/mask/Mass-Test_P_00481_RIGHT_CC_MASK_1.png\n"
     ]
    },
    {
     "name": "stderr",
     "output_type": "stream",
     "text": [
      " 97%|█████████▋| 368/378 [00:43<00:01,  5.41it/s]"
     ]
    },
    {
     "name": "stdout",
     "output_type": "stream",
     "text": [
      "/datasets/mamografia/CBIS-DDSM_organized/images/preprocessed/test/mask/Mass-Test_P_00343_RIGHT_CC_MASK_1.png\n",
      "/datasets/mamografia/CBIS-DDSM_organized/images/preprocessed/test/mask/Mass-Test_P_00928_RIGHT_CC_MASK_1.png\n"
     ]
    },
    {
     "name": "stderr",
     "output_type": "stream",
     "text": [
      " 98%|█████████▊| 369/378 [00:43<00:01,  5.69it/s]"
     ]
    },
    {
     "name": "stdout",
     "output_type": "stream",
     "text": [
      "/datasets/mamografia/CBIS-DDSM_organized/images/preprocessed/test/mask/Mass-Test_P_01510_RIGHT_CC_MASK_1.png\n"
     ]
    },
    {
     "name": "stderr",
     "output_type": "stream",
     "text": [
      " 98%|█████████▊| 370/378 [00:44<00:01,  5.24it/s]"
     ]
    },
    {
     "name": "stdout",
     "output_type": "stream",
     "text": [
      "/datasets/mamografia/CBIS-DDSM_organized/images/preprocessed/test/mask/Mass-Test_P_00639_LEFT_MLO_MASK_1.png\n"
     ]
    },
    {
     "name": "stderr",
     "output_type": "stream",
     "text": [
      " 98%|█████████▊| 372/378 [00:44<00:01,  5.26it/s]"
     ]
    },
    {
     "name": "stdout",
     "output_type": "stream",
     "text": [
      "/datasets/mamografia/CBIS-DDSM_organized/images/preprocessed/test/mask/Mass-Test_P_00514_LEFT_MLO_MASK_1.png\n",
      "/datasets/mamografia/CBIS-DDSM_organized/images/preprocessed/test/mask/Mass-Test_P_00156_RIGHT_MLO_MASK_1.png\n"
     ]
    },
    {
     "name": "stderr",
     "output_type": "stream",
     "text": [
      " 99%|█████████▉| 374/378 [00:44<00:00,  5.62it/s]"
     ]
    },
    {
     "name": "stdout",
     "output_type": "stream",
     "text": [
      "/datasets/mamografia/CBIS-DDSM_organized/images/preprocessed/test/mask/Mass-Test_P_00677_RIGHT_MLO_MASK_1.png\n",
      "/datasets/mamografia/CBIS-DDSM_organized/images/preprocessed/test/mask/Mass-Test_P_01865_LEFT_MLO_MASK_1.png\n"
     ]
    },
    {
     "name": "stderr",
     "output_type": "stream",
     "text": [
      " 99%|█████████▉| 375/378 [00:44<00:00,  6.45it/s]"
     ]
    },
    {
     "name": "stdout",
     "output_type": "stream",
     "text": [
      "/datasets/mamografia/CBIS-DDSM_organized/images/preprocessed/test/mask/Mass-Test_P_00056_LEFT_MLO_MASK_1.png\n",
      "/datasets/mamografia/CBIS-DDSM_organized/images/preprocessed/test/mask/Mass-Test_P_01546_LEFT_CC_MASK_1.png\n"
     ]
    },
    {
     "name": "stderr",
     "output_type": "stream",
     "text": [
      "100%|█████████▉| 377/378 [00:45<00:00,  5.78it/s]"
     ]
    },
    {
     "name": "stdout",
     "output_type": "stream",
     "text": [
      "/datasets/mamografia/CBIS-DDSM_organized/images/preprocessed/test/mask/Mass-Test_P_01534_RIGHT_MLO_MASK_1.png\n"
     ]
    },
    {
     "name": "stderr",
     "output_type": "stream",
     "text": [
      "100%|██████████| 378/378 [00:45<00:00,  8.30it/s]"
     ]
    },
    {
     "name": "stdout",
     "output_type": "stream",
     "text": [
      "/datasets/mamografia/CBIS-DDSM_organized/images/preprocessed/test/mask/Mass-Test_P_01322_RIGHT_CC_MASK_1.png\n"
     ]
    },
    {
     "name": "stderr",
     "output_type": "stream",
     "text": [
      "\n"
     ]
    }
   ],
   "source": [
    "#Preprocess MASK TEST images\n",
    "\n",
    "\n",
    "sample_initial = []\n",
    "sample_final  = []\n",
    "\n",
    "count=0\n",
    "\n",
    "# for fullmamm_path in fullmamm_paths_train:\n",
    "#for fullmamm_path in sample_original:\n",
    "for mask_mamm_path in tqdm(mask_paths_test):\n",
    "    # Read full mammogram .dcm file.\n",
    "    ds = pydicom.dcmread(mask_mamm_path)\n",
    "\n",
    "    # Get relevant metadata from .dcm file.\n",
    "    patient_id = ds.PatientID\n",
    "    \n",
    "    maksmamm = ds.pixel_array\n",
    "    \n",
    "    # =========================\n",
    "    # Preprocess Full Mammogram\n",
    "    # =========================\n",
    "    \n",
    "    # Step 1: Initial crop.\n",
    "    \n",
    "    cropped_img = cropBorders(img=maksmamm)\n",
    "    \n",
    "    # # Step 2: Remove artefacts.\n",
    "    # binarised_img = OwnGlobalBinarise(img=cropped_img, thresh=0.1, maxval=1.0)\n",
    "    # edited_mask = editMask(mask=binarised_img, ksize=(23, 23), operation=\"open\")\n",
    "    # _, xlargest_mask = xLargestBlobs(mask=edited_mask, top_x=1)\n",
    "    # masked_img =applyMask(img=cropped_img, mask=xlargest_mask)\n",
    "    \n",
    "    mamm_pre = cropped_img\n",
    "    \n",
    "    # Save preprocessed full mammogram image.\n",
    "    # save_filename = (\n",
    "    #     os.path.basename(fullmamm_path).replace(\".dcm\", \"\")\n",
    "    #     + \"_PRE\"\n",
    "    #     + output_format\n",
    "    # )\n",
    "    save_filename = mask_mamm_path.split(\"/\")[-1].replace(\"dcm\",output_format)\n",
    "    # print(\">>\"+output_train_full_path+\"\\n\")\n",
    "    save_path = os.path.join(output_test_mask_path, save_filename)\n",
    "    cv2.imwrite(save_path, mamm_pre)\n",
    "    # print(f\"DONE FULL: {mask_mamm_path}\")\n",
    "    print(save_path)"
   ]
  },
  {
   "cell_type": "code",
   "execution_count": 168,
   "id": "f507d758-2972-45e9-9b1b-26f0f59cec3a",
   "metadata": {},
   "outputs": [
    {
     "data": {
      "text/plain": [
       "'/datasets/mamografia/CBIS-DDSM_organized/images/preprocessed/test/mask/Mass-Test_P_00524_LEFT_CC_FULL.png'"
      ]
     },
     "execution_count": 168,
     "metadata": {},
     "output_type": "execute_result"
    }
   ],
   "source": [
    "save_path"
   ]
  },
  {
   "cell_type": "code",
   "execution_count": null,
   "id": "376d9c97-8ed7-45a5-8886-11938394389b",
   "metadata": {},
   "outputs": [],
   "source": []
  }
 ],
 "metadata": {
  "kernelspec": {
   "display_name": "Python 3",
   "language": "python",
   "name": "python3"
  },
  "language_info": {
   "codemirror_mode": {
    "name": "ipython",
    "version": 3
   },
   "file_extension": ".py",
   "mimetype": "text/x-python",
   "name": "python",
   "nbconvert_exporter": "python",
   "pygments_lexer": "ipython3",
   "version": "3.6.13"
  },
  "toc-autonumbering": false,
  "toc-showcode": true,
  "toc-showmarkdowntxt": false
 },
 "nbformat": 4,
 "nbformat_minor": 5
}
