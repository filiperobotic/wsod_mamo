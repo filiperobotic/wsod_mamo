{
 "cells": [
  {
   "cell_type": "code",
   "execution_count": 73,
   "id": "f1ae8138-780d-4880-b1d0-ae7b1326e081",
   "metadata": {},
   "outputs": [],
   "source": [
    "import torch\n",
    "import torchvision\n",
    "import torch.nn as nn\n",
    "from utils import compute_iou\n",
    "from data.cbis_ddsm import CBIS_DDSM, get_loaders\n",
    "import torch.optim as optim\n",
    "from torch.optim import lr_scheduler\n",
    "import time\n",
    "from collections import defaultdict\n",
    "from tqdm import tqdm\n",
    "from sklearn.metrics import roc_auc_score\n",
    "import pandas as pd\n",
    "import os\n",
    "import matplotlib.pyplot as plt"
   ]
  },
  {
   "cell_type": "code",
   "execution_count": 8,
   "id": "076940ab-fc9a-45a5-b45f-793473228fe8",
   "metadata": {},
   "outputs": [
    {
     "name": "stdout",
     "output_type": "stream",
     "text": [
      "device name NVIDIA GeForce GTX 1080 Ti\n",
      "device cuda\n"
     ]
    }
   ],
   "source": [
    "# Check if gpu is available\n",
    "\n",
    "if not torch.cuda.is_available():\n",
    "  raise Exception(\"GPU not availalbe. CPU training will be too slow.\")\n",
    "\n",
    "print(\"device name\", torch.cuda.get_device_name(0))\n",
    "\n",
    "device = torch.device('cuda' if torch.cuda.is_available() else 'cpu')\n",
    "print('device', device)\n",
    "\n",
    "CUDA_LAUNCH_BLOCKING=1"
   ]
  },
  {
   "cell_type": "code",
   "execution_count": 9,
   "id": "3ef3ee83-19f8-49ef-83d3-c0765925f4f4",
   "metadata": {},
   "outputs": [],
   "source": [
    "def print_metrics(metrics, epoch_samples):\n",
    "    outputs = []\n",
    "    for k in metrics.keys():\n",
    "        outputs.append(\"{}: {:4f}\".format(k, metrics[k] / epoch_samples))\n",
    "\n",
    "    print(\"Metrics: {}\".format(\", \".join(outputs)))"
   ]
  },
  {
   "cell_type": "code",
   "execution_count": 10,
   "id": "caa8fea9-9578-4a71-a680-1f5f3d7aac62",
   "metadata": {},
   "outputs": [],
   "source": [
    "def calc_metrics(outputs, target, metrics, bce_weight=0.5):\n",
    "    # bce = F.binary_cross_entropy_with_logits(pred, target)\n",
    "\n",
    "    pred = torch.sigmoid(outputs)\n",
    "    # dice = dice_loss(pred, target)\n",
    "\n",
    "    # loss = bce * bce_weight + dice * (1 - bce_weight)\n",
    "\n",
    "    metrics['bce'] += bce.data.cpu().numpy() * target.size(0)\n",
    "    # metrics['dice'] += dice.data.cpu().numpy() * target.size(0)\n",
    "    metrics['loss'] += loss.data.cpu().numpy() * target.size(0)\n",
    "    \n",
    "    \n",
    "    \n",
    "\n",
    "    # return loss"
   ]
  },
  {
   "cell_type": "code",
   "execution_count": 33,
   "id": "97c977b8-4d90-4a18-992f-e6298539fedc",
   "metadata": {},
   "outputs": [],
   "source": [
    "def test_model(model, testloader):\n",
    "    \n",
    "    model.eval()\n",
    "    \n",
    "    correct = 0\n",
    "    total = 0\n",
    "    y_true = []\n",
    "    y_pred = []\n",
    "    with torch.no_grad():\n",
    "        \n",
    "        for i, batch in enumerate(tqdm(testloader)):\n",
    "\n",
    "            inputs, target = batch['image'], batch['target']\n",
    "            y_true.extend(target.numpy())\n",
    "            # mask = mask.mean(1,keepdim=True)  #transform from [batch_size, 3, size, size] to [batch,size, 1, size, size]\n",
    "            inputs = inputs.to(device)\n",
    "            target = target.to(device)\n",
    "            \n",
    "            outputs = model(inputs)\n",
    "            \n",
    "            # the class with the highest energy is what we choose as prediction\n",
    "            _, predicted = torch.max(outputs.data, 1)\n",
    "            total += target.size(0)\n",
    "            correct += (predicted == target).sum().item()\n",
    "            y_pred.extend(predicted.cpu().numpy())\n",
    "    auc = roc_auc_score(y_true, y_pred)\n",
    "    test_acc = 100 * correct // total\n",
    "    print(f'Test Acc: {100 * correct // total} % \\t AUC: {auc}')\n",
    "    return test_acc, auc"
   ]
  },
  {
   "cell_type": "code",
   "execution_count": 83,
   "id": "8f471ab6-848f-4f3c-b894-ec995744b520",
   "metadata": {},
   "outputs": [],
   "source": [
    "### Parameters\n",
    "\n",
    "num_epochs = 30\n",
    "lr = 1e-5\n",
    "\n",
    "num_class = 2 #binary problem  \n",
    "# model = ResNetUNet(num_class).to(device)\n",
    "model = torchvision.models.resnet18(pretrained=True)\n",
    "\n",
    "# Freeze model weights\n",
    "# for param in model.parameters():\n",
    "#     param.requires_grad = False\n",
    "\n",
    "num_ftrs = model.fc.in_features\n",
    "# Here the size of each output sample is set to 2.\n",
    "# Alternatively, it can be generalized to nn.Linear(num_ftrs, len(class_names)).\n",
    "model.fc = nn.Linear(num_ftrs, num_class)\n",
    "model = model.to(device)\n",
    "\n",
    "criterion = nn.CrossEntropyLoss()\n",
    "\n",
    "\n",
    "# freeze backbone layers\n",
    "# for l in model.base_layers:\n",
    "#     for param in l.parameters():\n",
    "#         param.requires_grad = False\n",
    "        \n",
    "        \n",
    "optimizer = optim.Adam(filter(lambda p: p.requires_grad, model.parameters()), lr=lr)\n",
    "# optimizer = optim.SGD(model.parameters(), lr=0.0005, momentum=0.9)\n",
    "scheduler = lr_scheduler.StepLR(optimizer, step_size=8, gamma=0.1)\n",
    "\n",
    "#dataloader parameters\n",
    "\n",
    "args={\n",
    "    'data_path': \"/datasets/mamografia/CBIS-DDSM_organized/images/preprocessed\",\n",
    "    \"batch_size\": 64,\n",
    "    \"size1\": 270,\n",
    "    \"size\": 256\n",
    "}\n",
    "\n",
    "# save_log_file = \"classification_bs{}_size{}_ep{}_lr{}_log.csv\".format(args[\"batch_size\"], args[\"size\"],num_epochs, lr)\n",
    "save_log_path = \"output/classification/bs{}_size{}_ep{}_lr{}/\".format(args[\"batch_size\"], args[\"size\"],num_epochs, lr)\n",
    "os.makedirs(save_log_path, exist_ok=True)\n",
    "\n",
    "train_loader, test_loader = get_loaders(args)"
   ]
  },
  {
   "cell_type": "code",
   "execution_count": 84,
   "id": "702e2dff-5cab-4529-af7e-ab3f034e18c7",
   "metadata": {},
   "outputs": [
    {
     "name": "stdout",
     "output_type": "stream",
     "text": [
      "Epoch 0/29\n",
      "----------\n",
      "Epoch 0 - Training...\n",
      "\n"
     ]
    },
    {
     "name": "stderr",
     "output_type": "stream",
     "text": [
      "100%|██████████| 20/20 [14:04<00:00, 42.22s/it]  \n"
     ]
    },
    {
     "name": "stdout",
     "output_type": "stream",
     "text": [
      "Train Acc: 54 %\n",
      "Testing...\n"
     ]
    },
    {
     "name": "stderr",
     "output_type": "stream",
     "text": [
      "100%|██████████| 6/6 [03:32<00:00, 35.45s/it] \n"
     ]
    },
    {
     "name": "stdout",
     "output_type": "stream",
     "text": [
      "Test Acc: 53 % \t AUC: 0.5076185282607302\n",
      "17m 38s\n",
      "Epoch 1/29\n",
      "----------\n",
      "Epoch 1 - Training...\n",
      "\n"
     ]
    },
    {
     "name": "stderr",
     "output_type": "stream",
     "text": [
      "100%|██████████| 20/20 [12:07<00:00, 36.37s/it]\n"
     ]
    },
    {
     "name": "stdout",
     "output_type": "stream",
     "text": [
      "Train Acc: 56 %\n",
      "Testing...\n"
     ]
    },
    {
     "name": "stderr",
     "output_type": "stream",
     "text": [
      "100%|██████████| 6/6 [04:20<00:00, 43.47s/it] \n"
     ]
    },
    {
     "name": "stdout",
     "output_type": "stream",
     "text": [
      "Test Acc: 54 % \t AUC: 0.5000641560274588\n",
      "16m 30s\n",
      "Epoch 2/29\n",
      "----------\n",
      "Epoch 2 - Training...\n",
      "\n"
     ]
    },
    {
     "name": "stderr",
     "output_type": "stream",
     "text": [
      "100%|██████████| 20/20 [11:42<00:00, 35.10s/it]\n"
     ]
    },
    {
     "name": "stdout",
     "output_type": "stream",
     "text": [
      "Train Acc: 61 %\n",
      "Testing...\n"
     ]
    },
    {
     "name": "stderr",
     "output_type": "stream",
     "text": [
      "100%|██████████| 6/6 [04:49<00:00, 48.22s/it] \n"
     ]
    },
    {
     "name": "stdout",
     "output_type": "stream",
     "text": [
      "Test Acc: 57 % \t AUC: 0.5542759992301276\n",
      "16m 33s\n",
      "Epoch 3/29\n",
      "----------\n",
      "Epoch 3 - Training...\n",
      "\n"
     ]
    },
    {
     "name": "stderr",
     "output_type": "stream",
     "text": [
      "100%|██████████| 20/20 [13:55<00:00, 41.78s/it]\n"
     ]
    },
    {
     "name": "stdout",
     "output_type": "stream",
     "text": [
      "Train Acc: 62 %\n",
      "Testing...\n"
     ]
    },
    {
     "name": "stderr",
     "output_type": "stream",
     "text": [
      "100%|██████████| 6/6 [05:24<00:00, 54.13s/it] \n"
     ]
    },
    {
     "name": "stdout",
     "output_type": "stream",
     "text": [
      "Test Acc: 61 % \t AUC: 0.6005966510553666\n",
      "19m 21s\n",
      "Epoch 4/29\n",
      "----------\n",
      "Epoch 4 - Training...\n",
      "\n"
     ]
    },
    {
     "name": "stderr",
     "output_type": "stream",
     "text": [
      "100%|██████████| 20/20 [13:18<00:00, 39.94s/it]\n"
     ]
    },
    {
     "name": "stdout",
     "output_type": "stream",
     "text": [
      "Train Acc: 63 %\n",
      "Testing...\n"
     ]
    },
    {
     "name": "stderr",
     "output_type": "stream",
     "text": [
      "100%|██████████| 6/6 [05:06<00:00, 51.02s/it] \n"
     ]
    },
    {
     "name": "stdout",
     "output_type": "stream",
     "text": [
      "Test Acc: 63 % \t AUC: 0.6118399948675178\n",
      "18m 26s\n",
      "Epoch 5/29\n",
      "----------\n",
      "Epoch 5 - Training...\n",
      "\n"
     ]
    },
    {
     "name": "stderr",
     "output_type": "stream",
     "text": [
      "100%|██████████| 20/20 [13:36<00:00, 40.82s/it]\n"
     ]
    },
    {
     "name": "stdout",
     "output_type": "stream",
     "text": [
      "Train Acc: 66 %\n",
      "Testing...\n"
     ]
    },
    {
     "name": "stderr",
     "output_type": "stream",
     "text": [
      "100%|██████████| 6/6 [04:46<00:00, 47.81s/it] \n"
     ]
    },
    {
     "name": "stdout",
     "output_type": "stream",
     "text": [
      "Test Acc: 63 % \t AUC: 0.6155610444601269\n",
      "18m 25s\n",
      "Epoch 6/29\n",
      "----------\n",
      "Epoch 6 - Training...\n",
      "\n"
     ]
    },
    {
     "name": "stderr",
     "output_type": "stream",
     "text": [
      "100%|██████████| 20/20 [12:53<00:00, 38.67s/it]\n"
     ]
    },
    {
     "name": "stdout",
     "output_type": "stream",
     "text": [
      "Train Acc: 67 %\n",
      "Testing...\n"
     ]
    },
    {
     "name": "stderr",
     "output_type": "stream",
     "text": [
      "100%|██████████| 6/6 [05:29<00:00, 54.90s/it] \n"
     ]
    },
    {
     "name": "stdout",
     "output_type": "stream",
     "text": [
      "Test Acc: 63 % \t AUC: 0.6202604734714827\n",
      "18m 24s\n",
      "Epoch 7/29\n",
      "----------\n",
      "Epoch 7 - Training...\n",
      "\n"
     ]
    },
    {
     "name": "stderr",
     "output_type": "stream",
     "text": [
      "100%|██████████| 20/20 [11:24<00:00, 34.24s/it]\n"
     ]
    },
    {
     "name": "stdout",
     "output_type": "stream",
     "text": [
      "Train Acc: 67 %\n",
      "Testing...\n"
     ]
    },
    {
     "name": "stderr",
     "output_type": "stream",
     "text": [
      "100%|██████████| 6/6 [03:42<00:00, 37.06s/it] \n"
     ]
    },
    {
     "name": "stdout",
     "output_type": "stream",
     "text": [
      "Test Acc: 62 % \t AUC: 0.6350323987938667\n",
      "15m 8s\n",
      "Epoch 8/29\n",
      "----------\n",
      "Epoch 8 - Training...\n",
      "\n"
     ]
    },
    {
     "name": "stderr",
     "output_type": "stream",
     "text": [
      "100%|██████████| 20/20 [11:01<00:00, 33.10s/it]\n"
     ]
    },
    {
     "name": "stdout",
     "output_type": "stream",
     "text": [
      "Train Acc: 69 %\n",
      "Testing...\n"
     ]
    },
    {
     "name": "stderr",
     "output_type": "stream",
     "text": [
      "100%|██████████| 6/6 [04:23<00:00, 44.00s/it] \n"
     ]
    },
    {
     "name": "stdout",
     "output_type": "stream",
     "text": [
      "Test Acc: 63 % \t AUC: 0.6348078526977609\n",
      "15m 28s\n",
      "Epoch 9/29\n",
      "----------\n",
      "Epoch 9 - Training...\n",
      "\n"
     ]
    },
    {
     "name": "stderr",
     "output_type": "stream",
     "text": [
      "100%|██████████| 20/20 [11:58<00:00, 35.94s/it]\n"
     ]
    },
    {
     "name": "stdout",
     "output_type": "stream",
     "text": [
      "Train Acc: 71 %\n",
      "Testing...\n"
     ]
    },
    {
     "name": "stderr",
     "output_type": "stream",
     "text": [
      "100%|██████████| 6/6 [04:23<00:00, 43.94s/it] \n"
     ]
    },
    {
     "name": "stdout",
     "output_type": "stream",
     "text": [
      "Test Acc: 63 % \t AUC: 0.6368768845833066\n",
      "16m 23s\n",
      "Epoch 10/29\n",
      "----------\n",
      "Epoch 10 - Training...\n",
      "\n"
     ]
    },
    {
     "name": "stderr",
     "output_type": "stream",
     "text": [
      "100%|██████████| 20/20 [10:46<00:00, 32.35s/it]\n"
     ]
    },
    {
     "name": "stdout",
     "output_type": "stream",
     "text": [
      "Train Acc: 69 %\n",
      "Testing...\n"
     ]
    },
    {
     "name": "stderr",
     "output_type": "stream",
     "text": [
      "100%|██████████| 6/6 [04:21<00:00, 43.50s/it] \n"
     ]
    },
    {
     "name": "stdout",
     "output_type": "stream",
     "text": [
      "Test Acc: 63 % \t AUC: 0.6310868031051518\n",
      "15m 9s\n",
      "Epoch 11/29\n",
      "----------\n",
      "Epoch 11 - Training...\n",
      "\n"
     ]
    },
    {
     "name": "stderr",
     "output_type": "stream",
     "text": [
      "100%|██████████| 20/20 [10:51<00:00, 32.55s/it]\n"
     ]
    },
    {
     "name": "stdout",
     "output_type": "stream",
     "text": [
      "Train Acc: 71 %\n",
      "Testing...\n"
     ]
    },
    {
     "name": "stderr",
     "output_type": "stream",
     "text": [
      "100%|██████████| 6/6 [04:16<00:00, 42.77s/it] \n"
     ]
    },
    {
     "name": "stdout",
     "output_type": "stream",
     "text": [
      "Test Acc: 63 % \t AUC: 0.634695579649708\n",
      "15m 9s\n",
      "Epoch 12/29\n",
      "----------\n",
      "Epoch 12 - Training...\n",
      "\n"
     ]
    },
    {
     "name": "stderr",
     "output_type": "stream",
     "text": [
      "100%|██████████| 20/20 [10:49<00:00, 32.48s/it]\n"
     ]
    },
    {
     "name": "stdout",
     "output_type": "stream",
     "text": [
      "Train Acc: 69 %\n",
      "Testing...\n"
     ]
    },
    {
     "name": "stderr",
     "output_type": "stream",
     "text": [
      "100%|██████████| 6/6 [04:18<00:00, 43.00s/it] \n"
     ]
    },
    {
     "name": "stdout",
     "output_type": "stream",
     "text": [
      "Test Acc: 63 % \t AUC: 0.6299961506383526\n",
      "15m 8s\n",
      "Epoch 13/29\n",
      "----------\n",
      "Epoch 13 - Training...\n",
      "\n"
     ]
    },
    {
     "name": "stderr",
     "output_type": "stream",
     "text": [
      "100%|██████████| 20/20 [11:09<00:00, 33.46s/it]\n"
     ]
    },
    {
     "name": "stdout",
     "output_type": "stream",
     "text": [
      "Train Acc: 70 %\n",
      "Testing...\n"
     ]
    },
    {
     "name": "stderr",
     "output_type": "stream",
     "text": [
      "100%|██████████| 6/6 [04:10<00:00, 41.76s/it] \n"
     ]
    },
    {
     "name": "stdout",
     "output_type": "stream",
     "text": [
      "Test Acc: 62 % \t AUC: 0.6169885160710848\n",
      "15m 21s\n",
      "Epoch 14/29\n",
      "----------\n",
      "Epoch 14 - Training...\n",
      "\n"
     ]
    },
    {
     "name": "stderr",
     "output_type": "stream",
     "text": [
      "100%|██████████| 20/20 [11:28<00:00, 34.42s/it]\n"
     ]
    },
    {
     "name": "stdout",
     "output_type": "stream",
     "text": [
      "Train Acc: 71 %\n",
      "Testing...\n"
     ]
    },
    {
     "name": "stderr",
     "output_type": "stream",
     "text": [
      "100%|██████████| 6/6 [03:28<00:00, 34.71s/it] \n"
     ]
    },
    {
     "name": "stdout",
     "output_type": "stream",
     "text": [
      "Test Acc: 63 % \t AUC: 0.6322897286200038\n",
      "14m 57s\n",
      "Epoch 15/29\n",
      "----------\n",
      "Epoch 15 - Training...\n",
      "\n"
     ]
    },
    {
     "name": "stderr",
     "output_type": "stream",
     "text": [
      "100%|██████████| 20/20 [11:28<00:00, 34.43s/it]\n"
     ]
    },
    {
     "name": "stdout",
     "output_type": "stream",
     "text": [
      "Train Acc: 70 %\n",
      "Testing...\n"
     ]
    },
    {
     "name": "stderr",
     "output_type": "stream",
     "text": [
      "100%|██████████| 6/6 [03:40<00:00, 36.68s/it]\n"
     ]
    },
    {
     "name": "stdout",
     "output_type": "stream",
     "text": [
      "Test Acc: 63 % \t AUC: 0.6275902996086482\n",
      "15m 9s\n",
      "Epoch 16/29\n",
      "----------\n",
      "Epoch 16 - Training...\n",
      "\n"
     ]
    },
    {
     "name": "stderr",
     "output_type": "stream",
     "text": [
      "100%|██████████| 20/20 [10:59<00:00, 32.99s/it]\n"
     ]
    },
    {
     "name": "stdout",
     "output_type": "stream",
     "text": [
      "Train Acc: 70 %\n",
      "Testing...\n"
     ]
    },
    {
     "name": "stderr",
     "output_type": "stream",
     "text": [
      "100%|██████████| 6/6 [04:03<00:00, 40.62s/it] \n"
     ]
    },
    {
     "name": "stdout",
     "output_type": "stream",
     "text": [
      "Test Acc: 63 % \t AUC: 0.6345833066016553\n",
      "15m 5s\n",
      "Epoch 17/29\n",
      "----------\n",
      "Epoch 17 - Training...\n",
      "\n"
     ]
    },
    {
     "name": "stderr",
     "output_type": "stream",
     "text": [
      "100%|██████████| 20/20 [10:57<00:00, 32.89s/it]\n"
     ]
    },
    {
     "name": "stdout",
     "output_type": "stream",
     "text": [
      "Train Acc: 69 %\n",
      "Testing...\n"
     ]
    },
    {
     "name": "stderr",
     "output_type": "stream",
     "text": [
      "100%|██████████| 6/6 [04:20<00:00, 43.36s/it] \n"
     ]
    },
    {
     "name": "stdout",
     "output_type": "stream",
     "text": [
      "Test Acc: 63 % \t AUC: 0.625184448578944\n",
      "15m 19s\n",
      "Epoch 18/29\n",
      "----------\n",
      "Epoch 18 - Training...\n",
      "\n"
     ]
    },
    {
     "name": "stderr",
     "output_type": "stream",
     "text": [
      "100%|██████████| 20/20 [11:27<00:00, 34.36s/it]\n"
     ]
    },
    {
     "name": "stdout",
     "output_type": "stream",
     "text": [
      "Train Acc: 71 %\n",
      "Testing...\n"
     ]
    },
    {
     "name": "stderr",
     "output_type": "stream",
     "text": [
      "100%|██████████| 6/6 [04:55<00:00, 49.17s/it] \n"
     ]
    },
    {
     "name": "stdout",
     "output_type": "stream",
     "text": [
      "Test Acc: 63 % \t AUC: 0.6333803810868031\n",
      "16m 23s\n",
      "Epoch 19/29\n",
      "----------\n",
      "Epoch 19 - Training...\n",
      "\n"
     ]
    },
    {
     "name": "stderr",
     "output_type": "stream",
     "text": [
      "100%|██████████| 20/20 [11:11<00:00, 33.59s/it]\n"
     ]
    },
    {
     "name": "stdout",
     "output_type": "stream",
     "text": [
      "Train Acc: 70 %\n",
      "Testing...\n"
     ]
    },
    {
     "name": "stderr",
     "output_type": "stream",
     "text": [
      "100%|██████████| 6/6 [04:25<00:00, 44.26s/it] \n"
     ]
    },
    {
     "name": "stdout",
     "output_type": "stream",
     "text": [
      "Test Acc: 63 % \t AUC: 0.6299961506383526\n",
      "15m 38s\n",
      "Epoch 20/29\n",
      "----------\n",
      "Epoch 20 - Training...\n",
      "\n"
     ]
    },
    {
     "name": "stderr",
     "output_type": "stream",
     "text": [
      "100%|██████████| 20/20 [11:19<00:00, 34.00s/it]\n"
     ]
    },
    {
     "name": "stdout",
     "output_type": "stream",
     "text": [
      "Train Acc: 70 %\n",
      "Testing...\n"
     ]
    },
    {
     "name": "stderr",
     "output_type": "stream",
     "text": [
      "100%|██████████| 6/6 [04:02<00:00, 40.47s/it] \n"
     ]
    },
    {
     "name": "stdout",
     "output_type": "stream",
     "text": [
      "Test Acc: 62 % \t AUC: 0.6252967216269968\n",
      "15m 24s\n",
      "Epoch 21/29\n",
      "----------\n",
      "Epoch 21 - Training...\n",
      "\n"
     ]
    },
    {
     "name": "stderr",
     "output_type": "stream",
     "text": [
      "100%|██████████| 20/20 [11:08<00:00, 33.44s/it]\n"
     ]
    },
    {
     "name": "stdout",
     "output_type": "stream",
     "text": [
      "Train Acc: 70 %\n",
      "Testing...\n"
     ]
    },
    {
     "name": "stderr",
     "output_type": "stream",
     "text": [
      "100%|██████████| 6/6 [02:34<00:00, 25.72s/it]\n"
     ]
    },
    {
     "name": "stdout",
     "output_type": "stream",
     "text": [
      "Test Acc: 63 % \t AUC: 0.6287932251235003\n",
      "13m 44s\n",
      "Epoch 22/29\n",
      "----------\n",
      "Epoch 22 - Training...\n",
      "\n"
     ]
    },
    {
     "name": "stderr",
     "output_type": "stream",
     "text": [
      "100%|██████████| 20/20 [11:06<00:00, 33.34s/it]\n"
     ]
    },
    {
     "name": "stdout",
     "output_type": "stream",
     "text": [
      "Train Acc: 71 %\n",
      "Testing...\n"
     ]
    },
    {
     "name": "stderr",
     "output_type": "stream",
     "text": [
      "100%|██████████| 6/6 [04:11<00:00, 41.99s/it] \n"
     ]
    },
    {
     "name": "stdout",
     "output_type": "stream",
     "text": [
      "Test Acc: 63 % \t AUC: 0.633492654134856\n",
      "15m 20s\n",
      "Epoch 23/29\n",
      "----------\n",
      "Epoch 23 - Training...\n",
      "\n"
     ]
    },
    {
     "name": "stderr",
     "output_type": "stream",
     "text": [
      "100%|██████████| 20/20 [11:05<00:00, 33.25s/it]\n"
     ]
    },
    {
     "name": "stdout",
     "output_type": "stream",
     "text": [
      "Train Acc: 70 %\n",
      "Testing...\n"
     ]
    },
    {
     "name": "stderr",
     "output_type": "stream",
     "text": [
      "100%|██████████| 6/6 [04:24<00:00, 44.03s/it] \n"
     ]
    },
    {
     "name": "stdout",
     "output_type": "stream",
     "text": [
      "Test Acc: 63 % \t AUC: 0.6321774555719509\n",
      "15m 31s\n",
      "Epoch 24/29\n",
      "----------\n",
      "Epoch 24 - Training...\n",
      "\n"
     ]
    },
    {
     "name": "stderr",
     "output_type": "stream",
     "text": [
      "100%|██████████| 20/20 [11:04<00:00, 33.25s/it]\n"
     ]
    },
    {
     "name": "stdout",
     "output_type": "stream",
     "text": [
      "Train Acc: 70 %\n",
      "Testing...\n"
     ]
    },
    {
     "name": "stderr",
     "output_type": "stream",
     "text": [
      "100%|██████████| 6/6 [04:26<00:00, 44.49s/it] \n"
     ]
    },
    {
     "name": "stdout",
     "output_type": "stream",
     "text": [
      "Test Acc: 63 % \t AUC: 0.6286809520754474\n",
      "15m 33s\n",
      "Epoch 25/29\n",
      "----------\n",
      "Epoch 25 - Training...\n",
      "\n"
     ]
    },
    {
     "name": "stderr",
     "output_type": "stream",
     "text": [
      "100%|██████████| 20/20 [11:04<00:00, 33.24s/it]\n"
     ]
    },
    {
     "name": "stdout",
     "output_type": "stream",
     "text": [
      "Train Acc: 69 %\n",
      "Testing...\n"
     ]
    },
    {
     "name": "stderr",
     "output_type": "stream",
     "text": [
      "100%|██████████| 6/6 [04:30<00:00, 45.04s/it] \n"
     ]
    },
    {
     "name": "stdout",
     "output_type": "stream",
     "text": [
      "Test Acc: 62 % \t AUC: 0.6228908705972926\n",
      "15m 36s\n",
      "Epoch 26/29\n",
      "----------\n",
      "Epoch 26 - Training...\n",
      "\n"
     ]
    },
    {
     "name": "stderr",
     "output_type": "stream",
     "text": [
      "100%|██████████| 20/20 [10:34<00:00, 31.71s/it]\n"
     ]
    },
    {
     "name": "stdout",
     "output_type": "stream",
     "text": [
      "Train Acc: 71 %\n",
      "Testing...\n"
     ]
    },
    {
     "name": "stderr",
     "output_type": "stream",
     "text": [
      "100%|██████████| 6/6 [03:36<00:00, 36.10s/it] \n"
     ]
    },
    {
     "name": "stdout",
     "output_type": "stream",
     "text": [
      "Test Acc: 63 % \t AUC: 0.6263873740937961\n",
      "14m 11s\n",
      "Epoch 27/29\n",
      "----------\n",
      "Epoch 27 - Training...\n",
      "\n"
     ]
    },
    {
     "name": "stderr",
     "output_type": "stream",
     "text": [
      "100%|██████████| 20/20 [10:24<00:00, 31.22s/it]\n"
     ]
    },
    {
     "name": "stdout",
     "output_type": "stream",
     "text": [
      "Train Acc: 71 %\n",
      "Testing...\n"
     ]
    },
    {
     "name": "stderr",
     "output_type": "stream",
     "text": [
      "100%|██████████| 6/6 [04:26<00:00, 44.41s/it] \n"
     ]
    },
    {
     "name": "stdout",
     "output_type": "stream",
     "text": [
      "Test Acc: 63 % \t AUC: 0.6311990761532045\n",
      "14m 51s\n",
      "Epoch 28/29\n",
      "----------\n",
      "Epoch 28 - Training...\n",
      "\n"
     ]
    },
    {
     "name": "stderr",
     "output_type": "stream",
     "text": [
      "100%|██████████| 20/20 [12:03<00:00, 36.17s/it]\n"
     ]
    },
    {
     "name": "stdout",
     "output_type": "stream",
     "text": [
      "Train Acc: 70 %\n",
      "Testing...\n"
     ]
    },
    {
     "name": "stderr",
     "output_type": "stream",
     "text": [
      "100%|██████████| 6/6 [04:09<00:00, 41.59s/it] \n"
     ]
    },
    {
     "name": "stdout",
     "output_type": "stream",
     "text": [
      "Test Acc: 63 % \t AUC: 0.640485661127863\n",
      "16m 13s\n",
      "Epoch 29/29\n",
      "----------\n",
      "Epoch 29 - Training...\n",
      "\n"
     ]
    },
    {
     "name": "stderr",
     "output_type": "stream",
     "text": [
      "100%|██████████| 20/20 [11:51<00:00, 35.59s/it]\n"
     ]
    },
    {
     "name": "stdout",
     "output_type": "stream",
     "text": [
      "Train Acc: 69 %\n",
      "Testing...\n"
     ]
    },
    {
     "name": "stderr",
     "output_type": "stream",
     "text": [
      "100%|██████████| 6/6 [04:15<00:00, 42.62s/it] \n"
     ]
    },
    {
     "name": "stdout",
     "output_type": "stream",
     "text": [
      "Test Acc: 63 % \t AUC: 0.6287932251235003\n",
      "16m 8s\n"
     ]
    }
   ],
   "source": [
    "\n",
    "\n",
    "## Training Loop\n",
    "best_loss = 1e10\n",
    "log_dict = {'acc_train':[],\n",
    "           'acc_test':[],\n",
    "            'auc_test':[],\n",
    "            # 'loss_train':[],\n",
    "            'epoch':[]\n",
    "           }\n",
    "for epoch in range(num_epochs):\n",
    "    print('Epoch {}/{}'.format(epoch, num_epochs - 1))\n",
    "    print('-' * 10)\n",
    "\n",
    "    since = time.time()\n",
    "    model.train()\n",
    "    \n",
    "    metrics = defaultdict(float)\n",
    "    epoch_samples = 0\n",
    "    total = 0\n",
    "    correct = 0\n",
    "\n",
    "    print(f\"Epoch {epoch} - Training...\\n\")\n",
    "    # for inputs, labels in dataloaders[phase]:\n",
    "    for i, batch in enumerate(tqdm(train_loader)):\n",
    "        \n",
    "        inputs, target = batch['image'], batch['target']\n",
    "        \n",
    "        # mask = mask.mean(1,keepdim=True)  #transform from [batch_size, 3, size, size] to [batch,size, 1, size, size]\n",
    "        \n",
    "        inputs = inputs.to(device)\n",
    "        target = target.to(device)\n",
    "        # mask = mask.to(device)\n",
    "\n",
    "        # zero the parameter gradients\n",
    "        optimizer.zero_grad()\n",
    "\n",
    "        # forward\n",
    "        # track history if only in train\n",
    "        # with torch.set_grad_enabled(phase == 'train'):\n",
    "        outputs = model(inputs)\n",
    "        \n",
    "        # loss = calc_loss(outputs, mask, metrics, bce_weight=1)\n",
    "        \n",
    "        loss = criterion(outputs, target)\n",
    "\n",
    "        loss.backward()\n",
    "        optimizer.step()\n",
    "\n",
    "        # statistics\n",
    "        epoch_samples += inputs.size(0)\n",
    "        \n",
    "        # print statistics\n",
    "        running_loss = loss.item()\n",
    "        \n",
    "        _, predicted = torch.max(outputs.data, 1)\n",
    "        total += target.size(0)\n",
    "        correct += (predicted == target).sum().item()\n",
    "        \n",
    "        # print(f'[{epoch + 1}, {i + 1:5d}] loss: {running_loss:.3f}')\n",
    "        # running_loss = 0.0\n",
    "\n",
    "    scheduler.step()\n",
    "    print(f'Train Acc: {100 * correct // total} %')\n",
    "    \n",
    "    #test\n",
    "    print(\"Testing...\")\n",
    "    test_acc, auc = test_model(model, test_loader)\n",
    "    \n",
    "    log_dict['epoch'].append(epoch)\n",
    "    log_dict['acc_train'].append(100 * correct // total)\n",
    "    # log_dict['loss_train'] = \n",
    "    log_dict['acc_test'].append(test_acc)\n",
    "    log_dict['auc_test'].append(auc)\n",
    "\n",
    "    time_elapsed = time.time() - since\n",
    "    print('{:.0f}m {:.0f}s'.format(time_elapsed // 60, time_elapsed % 60))\n",
    "\n",
    "# torch.save(model.state_dict(), \"trained_model.pth\")\n",
    "\n",
    "training_df = pd.DataFrame.from_dict(data=log_dict)\n",
    "training_df.to_csv(os.path.join(save_log_path, 'train_log.csv'),index=\"False\")\n",
    "\n"
   ]
  },
  {
   "cell_type": "code",
   "execution_count": 64,
   "id": "5c7b555b-b7cf-4ddc-8345-ad5775736078",
   "metadata": {},
   "outputs": [],
   "source": [
    "import numpy as np\n",
    "a = np.array([3,4])"
   ]
  },
  {
   "cell_type": "code",
   "execution_count": 20,
   "id": "5fc965eb-c9a1-4bc0-a2e5-aa249ccd11db",
   "metadata": {},
   "outputs": [],
   "source": [
    "b = []\n",
    "b.extend(a)"
   ]
  },
  {
   "cell_type": "code",
   "execution_count": 21,
   "id": "3e5d9c68-3cc4-4df0-9acc-8931f47598c2",
   "metadata": {},
   "outputs": [
    {
     "data": {
      "text/plain": [
       "[3, 4]"
      ]
     },
     "execution_count": 21,
     "metadata": {},
     "output_type": "execute_result"
    }
   ],
   "source": [
    "b"
   ]
  },
  {
   "cell_type": "code",
   "execution_count": 22,
   "id": "09dc4576-8869-41c6-a787-ab2f079e1b89",
   "metadata": {},
   "outputs": [
    {
     "name": "stdout",
     "output_type": "stream",
     "text": [
      "[3, 4, 13, 41]\n"
     ]
    }
   ],
   "source": [
    "c = np.array([13,41])\n",
    "b.extend(c)\n",
    "print(b)"
   ]
  },
  {
   "cell_type": "markdown",
   "id": "bf61eab4-4991-48c1-a456-5ee5e8cad259",
   "metadata": {},
   "source": [
    "# Training log"
   ]
  },
  {
   "cell_type": "code",
   "execution_count": 85,
   "id": "bdbf4bbe-8d23-40b5-851e-ff0a15af420f",
   "metadata": {},
   "outputs": [],
   "source": [
    "df = pd.read_csv(\"output/classification/bs64_size256_ep30_lr1e-05/train_log.csv\")\n"
   ]
  },
  {
   "cell_type": "code",
   "execution_count": 86,
   "id": "fd1fbee7-da4a-4e4c-b7bd-c24ed00ed873",
   "metadata": {},
   "outputs": [
    {
     "data": {
      "text/html": [
       "<div>\n",
       "<style scoped>\n",
       "    .dataframe tbody tr th:only-of-type {\n",
       "        vertical-align: middle;\n",
       "    }\n",
       "\n",
       "    .dataframe tbody tr th {\n",
       "        vertical-align: top;\n",
       "    }\n",
       "\n",
       "    .dataframe thead th {\n",
       "        text-align: right;\n",
       "    }\n",
       "</style>\n",
       "<table border=\"1\" class=\"dataframe\">\n",
       "  <thead>\n",
       "    <tr style=\"text-align: right;\">\n",
       "      <th></th>\n",
       "      <th>Unnamed: 0</th>\n",
       "      <th>acc_train</th>\n",
       "      <th>acc_test</th>\n",
       "      <th>auc_test</th>\n",
       "      <th>epoch</th>\n",
       "    </tr>\n",
       "  </thead>\n",
       "  <tbody>\n",
       "    <tr>\n",
       "      <th>0</th>\n",
       "      <td>0</td>\n",
       "      <td>54</td>\n",
       "      <td>53</td>\n",
       "      <td>0.507619</td>\n",
       "      <td>0</td>\n",
       "    </tr>\n",
       "    <tr>\n",
       "      <th>1</th>\n",
       "      <td>1</td>\n",
       "      <td>56</td>\n",
       "      <td>54</td>\n",
       "      <td>0.500064</td>\n",
       "      <td>1</td>\n",
       "    </tr>\n",
       "    <tr>\n",
       "      <th>2</th>\n",
       "      <td>2</td>\n",
       "      <td>61</td>\n",
       "      <td>57</td>\n",
       "      <td>0.554276</td>\n",
       "      <td>2</td>\n",
       "    </tr>\n",
       "    <tr>\n",
       "      <th>3</th>\n",
       "      <td>3</td>\n",
       "      <td>62</td>\n",
       "      <td>61</td>\n",
       "      <td>0.600597</td>\n",
       "      <td>3</td>\n",
       "    </tr>\n",
       "    <tr>\n",
       "      <th>4</th>\n",
       "      <td>4</td>\n",
       "      <td>63</td>\n",
       "      <td>63</td>\n",
       "      <td>0.611840</td>\n",
       "      <td>4</td>\n",
       "    </tr>\n",
       "    <tr>\n",
       "      <th>5</th>\n",
       "      <td>5</td>\n",
       "      <td>66</td>\n",
       "      <td>63</td>\n",
       "      <td>0.615561</td>\n",
       "      <td>5</td>\n",
       "    </tr>\n",
       "    <tr>\n",
       "      <th>6</th>\n",
       "      <td>6</td>\n",
       "      <td>67</td>\n",
       "      <td>63</td>\n",
       "      <td>0.620260</td>\n",
       "      <td>6</td>\n",
       "    </tr>\n",
       "    <tr>\n",
       "      <th>7</th>\n",
       "      <td>7</td>\n",
       "      <td>67</td>\n",
       "      <td>62</td>\n",
       "      <td>0.635032</td>\n",
       "      <td>7</td>\n",
       "    </tr>\n",
       "    <tr>\n",
       "      <th>8</th>\n",
       "      <td>8</td>\n",
       "      <td>69</td>\n",
       "      <td>63</td>\n",
       "      <td>0.634808</td>\n",
       "      <td>8</td>\n",
       "    </tr>\n",
       "    <tr>\n",
       "      <th>9</th>\n",
       "      <td>9</td>\n",
       "      <td>71</td>\n",
       "      <td>63</td>\n",
       "      <td>0.636877</td>\n",
       "      <td>9</td>\n",
       "    </tr>\n",
       "  </tbody>\n",
       "</table>\n",
       "</div>"
      ],
      "text/plain": [
       "   Unnamed: 0  acc_train  acc_test  auc_test  epoch\n",
       "0           0         54        53  0.507619      0\n",
       "1           1         56        54  0.500064      1\n",
       "2           2         61        57  0.554276      2\n",
       "3           3         62        61  0.600597      3\n",
       "4           4         63        63  0.611840      4\n",
       "5           5         66        63  0.615561      5\n",
       "6           6         67        63  0.620260      6\n",
       "7           7         67        62  0.635032      7\n",
       "8           8         69        63  0.634808      8\n",
       "9           9         71        63  0.636877      9"
      ]
     },
     "execution_count": 86,
     "metadata": {},
     "output_type": "execute_result"
    }
   ],
   "source": [
    "df.head(10)"
   ]
  },
  {
   "cell_type": "code",
   "execution_count": 87,
   "id": "bb2bc9f7-ef46-481e-acac-135e86c22bd8",
   "metadata": {},
   "outputs": [
    {
     "data": {
      "image/png": "[encoded data removed]",
      "text/plain": [
       "<Figure size 648x432 with 1 Axes>"
      ]
     },
     "metadata": {
      "needs_background": "light"
     },
     "output_type": "display_data"
    }
   ],
   "source": [
    "fig, ax = plt.subplots(nrows=1, ncols=1, figsize=(9, 6))\n",
    "\n",
    "line1 = ax.plot(df['epoch'], df['acc_train'], color=\"blue\", label=\"acc_train\")\n",
    "line2 = ax.plot(df['epoch'], df['acc_test'], color=\"red\", label=\"acc_test\")\n",
    "# line2 = ax.plot(x, y_val, color=\"red\", label=\"val\")\n",
    "\n",
    "# Nicer visuals.\n",
    "# ax.set_title('')\n",
    "ax.spines['right'].set_visible(False)\n",
    "ax.spines['top'].set_visible(False)\n",
    "ax.grid(b=True, which=\"major\", axis=\"both\", color=\"#d3d3d3\", linestyle=\"-\")\n",
    "ax.grid(b=True, which=\"minor\", axis=\"both\", color=\"#e7e7e7\", linestyle=\"dashed\")\n",
    "ax.set_xlabel(\"Epoch\")\n",
    "ax.set_ylabel(\"Acc\")\n",
    "# ax.xaxis.set_ticks(np.arange(xtick_range[0], xtick_range[1], xtick_range[2]))\n",
    "# ax.xaxis.set_minor_locator(MultipleLocator(5))\n",
    "ax.set_xlim(left=0)\n",
    "# ax.yaxis.set_ticks(np.arange(ytick_range[0], ytick_range[1], ytick_range[2]))\n",
    "# ax.yaxis.set_minor_locator(MultipleLocator(0.01))\n",
    "ax.patch.set_alpha(0)\n",
    "\n",
    "handles, labels = ax.get_legend_handles_labels()\n",
    "ax.legend(handles=handles, labels=labels, loc=\"best\")\n",
    "\n",
    "# Save graph\n",
    "save_path = True\n",
    "plt.tight_layout()\n",
    "if save_path:\n",
    "    # plt.savefig(fname=save_path, dpi=300)\n",
    "    plt.savefig(fname=os.path.join(save_log_path, 'acc.png'), dpi=300)\n",
    "    \n"
   ]
  },
  {
   "cell_type": "code",
   "execution_count": 88,
   "id": "efb6312b-07eb-4eef-b4f0-0fe1edf03054",
   "metadata": {},
   "outputs": [
    {
     "data": {
      "image/png": "[encoded data removed]",
      "text/plain": [
       "<Figure size 648x432 with 1 Axes>"
      ]
     },
     "metadata": {
      "needs_background": "light"
     },
     "output_type": "display_data"
    }
   ],
   "source": [
    "fig, ax = plt.subplots(nrows=1, ncols=1, figsize=(9, 6))\n",
    "\n",
    "line1 = ax.plot(df['epoch'], df['auc_test'], color=\"blue\", label=\"auc\")\n",
    "# line2 = ax.plot(df['epoch'], df['acc_test'], color=\"red\", label=\"acc_test\")\n",
    "# line2 = ax.plot(x, y_val, color=\"red\", label=\"val\")\n",
    "\n",
    "# Nicer visuals.\n",
    "# ax.set_title('')\n",
    "ax.spines['right'].set_visible(False)\n",
    "ax.spines['top'].set_visible(False)\n",
    "ax.grid(b=True, which=\"major\", axis=\"both\", color=\"#d3d3d3\", linestyle=\"-\")\n",
    "ax.grid(b=True, which=\"minor\", axis=\"both\", color=\"#e7e7e7\", linestyle=\"dashed\")\n",
    "ax.set_xlabel(\"Epoch\")\n",
    "ax.set_ylabel(\"auc\")\n",
    "# ax.xaxis.set_ticks(np.arange(xtick_range[0], xtick_range[1], xtick_range[2]))\n",
    "# ax.xaxis.set_minor_locator(MultipleLocator(5))\n",
    "ax.set_xlim(left=0)\n",
    "# ax.yaxis.set_ticks(np.arange(ytick_range[0], ytick_range[1], ytick_range[2]))\n",
    "# ax.yaxis.set_minor_locator(MultipleLocator(0.01))\n",
    "ax.patch.set_alpha(0)\n",
    "\n",
    "handles, labels = ax.get_legend_handles_labels()\n",
    "ax.legend(handles=handles, labels=labels, loc=\"best\")\n",
    "\n",
    "# Save graph\n",
    "save_path = True\n",
    "plt.tight_layout()\n",
    "if save_path:\n",
    "    # plt.savefig(fname=save_path, dpi=300)\n",
    "    plt.savefig(fname=os.path.join(save_log_path, 'loss.png'), dpi=300)\n"
   ]
  },
  {
   "cell_type": "markdown",
   "id": "9fb7d353-f4b7-43ce-8059-267971b86e2b",
   "metadata": {},
   "source": [
    "## CAM"
   ]
  },
  {
   "cell_type": "code",
   "execution_count": 1,
   "id": "2a9e49f7-a3a1-4135-ad42-e298773c5fd9",
   "metadata": {},
   "outputs": [],
   "source": [
    "# Define your model\n",
    "from torchvision.models import resnet18\n",
    "model = resnet18(pretrained=True).eval()\n",
    "\n"
   ]
  },
  {
   "cell_type": "code",
   "execution_count": 4,
   "id": "2ac5cce1-a7da-4ca3-806d-a00b09807cc6",
   "metadata": {},
   "outputs": [
    {
     "ename": "ImportError",
     "evalue": "cannot import name 'methods'",
     "output_type": "error",
     "traceback": [
      "\u001b[0;31m---------------------------------------------------------------------------\u001b[0m",
      "\u001b[0;31mImportError\u001b[0m                               Traceback (most recent call last)",
      "\u001b[0;32m<ipython-input-4-f83184fa0e65>\u001b[0m in \u001b[0;36m<module>\u001b[0;34m\u001b[0m\n\u001b[1;32m      1\u001b[0m \u001b[0;31m# Set your CAM extractor\u001b[0m\u001b[0;34m\u001b[0m\u001b[0;34m\u001b[0m\u001b[0;34m\u001b[0m\u001b[0m\n\u001b[0;32m----> 2\u001b[0;31m \u001b[0;32mfrom\u001b[0m \u001b[0mtorchcam\u001b[0m\u001b[0;34m.\u001b[0m\u001b[0mtorchcam\u001b[0m\u001b[0;34m.\u001b[0m\u001b[0mmethods\u001b[0m \u001b[0;32mimport\u001b[0m \u001b[0mSmoothGradCAMpp\u001b[0m\u001b[0;34m\u001b[0m\u001b[0;34m\u001b[0m\u001b[0m\n\u001b[0m\u001b[1;32m      3\u001b[0m \u001b[0mcam_extractor\u001b[0m \u001b[0;34m=\u001b[0m \u001b[0mSmoothGradCAMpp\u001b[0m\u001b[0;34m(\u001b[0m\u001b[0mmodel\u001b[0m\u001b[0;34m)\u001b[0m\u001b[0;34m\u001b[0m\u001b[0;34m\u001b[0m\u001b[0m\n",
      "\u001b[0;32m~/codes/WSOD/mamo_wsms/notebooks/torchcam/torchcam/__init__.py\u001b[0m in \u001b[0;36m<module>\u001b[0;34m\u001b[0m\n\u001b[0;32m----> 1\u001b[0;31m \u001b[0;32mfrom\u001b[0m \u001b[0mtorchcam\u001b[0m \u001b[0;32mimport\u001b[0m \u001b[0mmethods\u001b[0m\u001b[0;34m,\u001b[0m \u001b[0mutils\u001b[0m\u001b[0;34m\u001b[0m\u001b[0;34m\u001b[0m\u001b[0m\n\u001b[0m\u001b[1;32m      2\u001b[0m \u001b[0;34m\u001b[0m\u001b[0m\n\u001b[1;32m      3\u001b[0m \u001b[0;32mtry\u001b[0m\u001b[0;34m:\u001b[0m\u001b[0;34m\u001b[0m\u001b[0;34m\u001b[0m\u001b[0m\n\u001b[1;32m      4\u001b[0m     \u001b[0;32mfrom\u001b[0m \u001b[0;34m.\u001b[0m\u001b[0mversion\u001b[0m \u001b[0;32mimport\u001b[0m \u001b[0m__version__\u001b[0m  \u001b[0;31m# noqa: F401\u001b[0m\u001b[0;34m\u001b[0m\u001b[0;34m\u001b[0m\u001b[0m\n\u001b[1;32m      5\u001b[0m \u001b[0;32mexcept\u001b[0m \u001b[0mImportError\u001b[0m\u001b[0;34m:\u001b[0m\u001b[0;34m\u001b[0m\u001b[0;34m\u001b[0m\u001b[0m\n",
      "\u001b[0;31mImportError\u001b[0m: cannot import name 'methods'"
     ]
    }
   ],
   "source": [
    "# Set your CAM extractor\n",
    "from torchcam.torchcam.methods import SmoothGradCAMpp\n",
    "cam_extractor = SmoothGradCAMpp(model)"
   ]
  },
  {
   "cell_type": "code",
   "execution_count": null,
   "id": "1ff3d1ce-2f98-430e-bff2-b02a6cf46ed7",
   "metadata": {},
   "outputs": [],
   "source": []
  }
 ],
 "metadata": {
  "kernelspec": {
   "display_name": "Python 3",
   "language": "python",
   "name": "python3"
  },
  "language_info": {
   "codemirror_mode": {
    "name": "ipython",
    "version": 3
   },
   "file_extension": ".py",
   "mimetype": "text/x-python",
   "name": "python",
   "nbconvert_exporter": "python",
   "pygments_lexer": "ipython3",
   "version": "3.6.13"
  }
 },
 "nbformat": 4,
 "nbformat_minor": 5
}
